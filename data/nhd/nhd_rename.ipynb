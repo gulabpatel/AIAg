{
 "cells": [
  {
   "cell_type": "code",
   "execution_count": null,
   "id": "34380022-e10c-451f-8a7f-65869a55fbc6",
   "metadata": {},
   "outputs": [],
   "source": [
    "import os\n",
    "import pandas as pd\n",
    "import geopandas as gpd"
   ]
  },
  {
   "cell_type": "code",
   "execution_count": null,
   "id": "f01a58f3-6fbc-4c9e-a9cf-eea96d9bc0cc",
   "metadata": {},
   "outputs": [],
   "source": [
    "in_dir = os.path.expanduser('~/Downloads/NHD')\n",
    "out_dir = os.path.expanduser('~/Downloads/Output')"
   ]
  },
  {
   "cell_type": "code",
   "execution_count": null,
   "id": "aa31aabb-0225-45f2-ab2b-b91df0bf672a",
   "metadata": {},
   "outputs": [],
   "source": [
    "url = 'https://raw.githubusercontent.com/giswqs/data/main/nhd/nhd_by_state.csv'"
   ]
  },
  {
   "cell_type": "code",
   "execution_count": null,
   "id": "e85d6255-adfe-4bb2-9807-d0830347abd0",
   "metadata": {},
   "outputs": [],
   "source": [
    "df = pd.read_csv(url)"
   ]
  },
  {
   "cell_type": "code",
   "execution_count": null,
   "id": "4a509de2-b81f-453a-856d-869e2cd638b0",
   "metadata": {},
   "outputs": [],
   "source": [
    "states = [line.split('/')[-1][:-4] for line in df['URL']]"
   ]
  },
  {
   "cell_type": "code",
   "execution_count": null,
   "id": "c88d6c19-7958-4e1b-9608-d8980db963ca",
   "metadata": {},
   "outputs": [],
   "source": [
    "states"
   ]
  },
  {
   "cell_type": "code",
   "execution_count": null,
   "id": "e01042bb-a920-4f3c-9920-a81c9792efa3",
   "metadata": {},
   "outputs": [],
   "source": [
    "for index, state in enumerate(states):\n",
    "    # print(f'Procesing {index+1}/{len(states)}: {state}')\n",
    "    in_file = f'{in_dir}/{state}/Shape/NHDWaterbody.shp'\n",
    "    out_file = f'{out_dir}/{state}/Shape/NHDWaterbody.shp'\n",
    "    \n",
    "    if not os.path.exists(os.path.dirname(out_file)):\n",
    "        os.makedirs(os.path.dirname(out_file))\n",
    "    # if os.path.exists(in_file):\n",
    "    #     print(in_file)\n",
    "    #     gdf = gpd.read_file(in_file)\n",
    "    #     print(gdf)\n",
    "    try:\n",
    "        gdf = gpd.read_file(in_file)\n",
    "        gdf['permanent'] = gdf['permanent_']\n",
    "        gdf.drop('permanent_', inplace=True)\n",
    "        gdf.to_file(out_file)\n",
    "        \n",
    "        print(in_file)\n",
    "    except:\n",
    "        # print(f\"{state} does not exist.\")    \n",
    "        pass"
   ]
  },
  {
   "cell_type": "code",
   "execution_count": null,
   "id": "96f3d8d1-01b2-41e2-8b4e-010660d4dd53",
   "metadata": {},
   "outputs": [],
   "source": []
  }
 ],
 "metadata": {
  "kernelspec": {
   "display_name": "Python 3",
   "language": "python",
   "name": "python3"
  },
  "language_info": {
   "codemirror_mode": {
    "name": "ipython",
    "version": 3
   },
   "file_extension": ".py",
   "mimetype": "text/x-python",
   "name": "python",
   "nbconvert_exporter": "python",
   "pygments_lexer": "ipython3",
   "version": "3.9.12"
  }
 },
 "nbformat": 4,
 "nbformat_minor": 5
}
