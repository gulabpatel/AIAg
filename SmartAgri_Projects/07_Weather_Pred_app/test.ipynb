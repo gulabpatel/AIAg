{
 "cells": [
  {
   "cell_type": "code",
   "execution_count": 1,
   "metadata": {},
   "outputs": [
    {
     "data": {
      "text/plain": [
       "False"
      ]
     },
     "execution_count": 1,
     "metadata": {},
     "output_type": "execute_result"
    }
   ],
   "source": [
    "import os\n",
    "import json\n",
    "import docx\n",
    "import geopy\n",
    "import requests\n",
    "from PIL import Image\n",
    "import streamlit as st\n",
    "from geopy.geocoders import Nominatim\n",
    "from streamlit_chat import message\n",
    "from string import Template\n",
    "from embedchain import App\n",
    "from embedchain.config import LlmConfig\n",
    "from dotenv import load_dotenv\n",
    "load_dotenv()"
   ]
  },
  {
   "cell_type": "code",
   "execution_count": 2,
   "metadata": {},
   "outputs": [],
   "source": [
    "def getcoordinate(city):\n",
    "    # Initialize Nominatim API\n",
    "    geolocator = Nominatim(user_agent=\"MyApp\")\n",
    "    location = geolocator.geocode(city)\n",
    "    return (location.latitude, location.longitude)"
   ]
  },
  {
   "cell_type": "code",
   "execution_count": 5,
   "metadata": {},
   "outputs": [
    {
     "name": "stdout",
     "output_type": "stream",
     "text": [
      "lat, lon  6.4267193 7.5375722 c8c794a6fab776675956450eb9967efa\n",
      "res:  {'cod': 401, 'message': 'Invalid API key. Please see https://openweathermap.org/faq#error401 for more info.'}\n"
     ]
    }
   ],
   "source": [
    "Api_key = open('openweather_api_key.txt', 'r').read()\n",
    "city = 'Portharcourt, Nigeria'\n",
    "lat, lon = getcoordinate(city)\n",
    "print(\"lat, lon \",lat, lon, Api_key)\n",
    " \n",
    "# url = f\"https://api.openweathermap.org/data/2.5/weather?q={city}&appid={Api_key}&units=metric\"\n",
    "forecast_url = f\"https://api.openweathermap.org/data/2.5/forecast?lat={lat}&lon={lon}&appid={Api_key}&units=metric\"\n",
    "\n",
    "res = requests.get(forecast_url).json()\n",
    "print(\"res: \", res)"
   ]
  }
 ],
 "metadata": {
  "kernelspec": {
   "display_name": "Python 3",
   "language": "python",
   "name": "python3"
  },
  "language_info": {
   "codemirror_mode": {
    "name": "ipython",
    "version": 3
   },
   "file_extension": ".py",
   "mimetype": "text/x-python",
   "name": "python",
   "nbconvert_exporter": "python",
   "pygments_lexer": "ipython3",
   "version": "3.10.13"
  }
 },
 "nbformat": 4,
 "nbformat_minor": 2
}
