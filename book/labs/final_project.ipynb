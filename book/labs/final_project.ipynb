{
 "cells": [
  {
   "cell_type": "markdown",
   "metadata": {},
   "source": [
    "# Final Project\n",
    "\n",
    "## Introduction\n",
    "\n",
    "Welcome to the final project for GEOG-414! This project provides you with an opportunity to apply the knowledge and skills you have acquired throughout the course to solve real-world problems. The final project is worth 100 points, which accounts for 10% of your total grade. The project report (Jupyter notebook) and the project presentation carry equal weightage, with each being worth 50 points. To generate ideas, you are encouraged to explore internet and library resources, ensuring that you properly cite any sources you use. While this is an individual project, you can discuss your ideas with your classmates and the instructor.\n",
    "\n",
    "## Project Components\n",
    "\n",
    "The project report, presented in Jupyter notebook format, should comprise the following four components:\n",
    "\n",
    "1. **Problem Statement:** Clearly define the real-world problem you aim to solve.\n",
    "2. **Datasets:** Specify the datasets you utilized for your project. Include relevant details such as data sources, links, metadata, and any other pertinent information.\n",
    "3. **Analysis:** Describe the spatial analysis techniques you employed and explain the reasons behind your choices.\n",
    "4. **Results:** Present and interpret the results you obtained from your analysis. Utilize maps, images, figures, diagrams, or any other appropriate visual aids to support your findings.\n",
    "\n",
    "## Submission Requirements\n",
    "\n",
    "You are required to submit a link to your Colab notebook by 11:59 PM on December 3.\n",
    "\n",
    "The final project presentations will be conducted on December 4 and 6, during the lecture sections. Each presentation should not exceed 10 minutes. The order of presentations will be determined alphabetically based on the participants' last names. Make sure to submit the link to your Colab notebook by the aforementioned deadline. You can use your own laptop for the presentation. Please refer to the syllabus for the late submission policy.\n",
    "\n",
    "## Sources for Project Ideas\n",
    "\n",
    "To help you generate project ideas, consider exploring the following resources:\n",
    "\n",
    "* [Cloud-Based Remote Sensing with Google Earth Engine](https://link.springer.com/book/10.1007/978-3-031-26588-4)\n",
    "* [Awesome Earth Engine](https://github.com/giswqs/Awesome-GEE)\n",
    "* [Geo for Good Summit 2023](https://earthoutreachonair.withgoogle.com/events/geoforgood23)\n",
    "* [Geo for Good Summit 2022 - YouTube Videos](https://www.youtube.com/playlist?list=PLLW-qoCMKQsxtBLPK-_I8HFRa9SKSuorW)\n",
    "* [Earth Engine User Meetup](https://www.youtube.com/c/EarthEngineUserMeetup)\n",
    "\n",
    "Good luck with your final project, and feel free to reach out to your classmates and instructor for assistance and guidance along the way!\n"
   ]
  }
 ],
 "metadata": {
  "language_info": {
   "name": "python"
  }
 },
 "nbformat": 4,
 "nbformat_minor": 2
}
