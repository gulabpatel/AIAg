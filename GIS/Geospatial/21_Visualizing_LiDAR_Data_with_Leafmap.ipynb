{
  "cells": [
    {
      "cell_type": "markdown",
      "metadata": {
        "id": "view-in-github",
        "colab_type": "text"
      },
      "source": [
        "<a href=\"https://colab.research.google.com/github/gulabpatel/AIAg/blob/main/GIS/Geospatial/21_Visualizing_LiDAR_Data_with_Leafmap.ipynb\" target=\"_parent\"><img src=\"https://colab.research.google.com/assets/colab-badge.svg\" alt=\"Open In Colab\"/></a>"
      ]
    },
    {
      "cell_type": "markdown",
      "metadata": {
        "id": "IRNmUNps9e1D"
      },
      "source": [
        "[![image](https://studiolab.sagemaker.aws/studiolab.svg)](https://studiolab.sagemaker.aws/import/github/opengeos/geoai/blob/main/docs/examples/dataviz/lidar_viz.ipynb)\n",
        "[![image](https://img.shields.io/badge/Open-Planetary%20Computer-black?style=flat&logo=microsoft)](https://pccompute.westeurope.cloudapp.azure.com/compute/hub/user-redirect/git-pull?repo=https://github.com/opengeos/geoai&urlpath=lab/tree/geoai/docs/examples/dataviz/lidar_viz.ipynb&branch=main)\n",
        "[![image](https://colab.research.google.com/assets/colab-badge.svg)](https://githubtocolab.com/opengeos/geoai/blob/main/docs/examples/dataviz/lidar_viz.ipynb)\n",
        "\n",
        "# Visualizing LiDAR Data with Leafmap\n",
        "\n",
        "This notebook demonstrates how to visualize LiDAR data using [leafmap](https://leafmap.org).\n",
        "\n",
        "## Installation\n",
        "\n",
        "Uncomment and run the following cell to install the required Python packages."
      ],
      "id": "IRNmUNps9e1D"
    },
    {
      "cell_type": "code",
      "execution_count": 1,
      "metadata": {
        "id": "AlfdOWWR9e1I",
        "colab": {
          "base_uri": "https://localhost:8080/"
        },
        "outputId": "9c8b2b3f-2ba0-4630-c092-987e0ef2fe3c"
      },
      "outputs": [
        {
          "output_type": "stream",
          "name": "stdout",
          "text": [
            "Collecting leafmap[lidar]\n",
            "  Downloading leafmap-0.29.2-py2.py3-none-any.whl (1.8 MB)\n",
            "\u001b[2K     \u001b[90m━━━━━━━━━━━━━━━━━━━━━━━━━━━━━━━━━━━━━━━━\u001b[0m \u001b[32m1.8/1.8 MB\u001b[0m \u001b[31m10.7 MB/s\u001b[0m eta \u001b[36m0:00:00\u001b[0m\n",
            "\u001b[?25hCollecting open3d\n",
            "  Downloading open3d-0.17.0-cp310-cp310-manylinux_2_27_x86_64.whl (420.5 MB)\n",
            "\u001b[2K     \u001b[90m━━━━━━━━━━━━━━━━━━━━━━━━━━━━━━━━━━━━━━━━\u001b[0m \u001b[32m420.5/420.5 MB\u001b[0m \u001b[31m2.0 MB/s\u001b[0m eta \u001b[36m0:00:00\u001b[0m\n",
            "\u001b[?25hRequirement already satisfied: bqplot in /usr/local/lib/python3.10/dist-packages (from leafmap[lidar]) (0.12.42)\n",
            "Requirement already satisfied: colour in /usr/local/lib/python3.10/dist-packages (from leafmap[lidar]) (0.1.5)\n",
            "Requirement already satisfied: duckdb in /usr/local/lib/python3.10/dist-packages (from leafmap[lidar]) (0.9.2)\n",
            "Requirement already satisfied: folium in /usr/local/lib/python3.10/dist-packages (from leafmap[lidar]) (0.14.0)\n",
            "Requirement already satisfied: gdown in /usr/local/lib/python3.10/dist-packages (from leafmap[lidar]) (4.6.6)\n",
            "Collecting geojson (from leafmap[lidar])\n",
            "  Downloading geojson-3.1.0-py3-none-any.whl (15 kB)\n",
            "Requirement already satisfied: ipyevents in /usr/local/lib/python3.10/dist-packages (from leafmap[lidar]) (2.0.2)\n",
            "Requirement already satisfied: ipyfilechooser in /usr/local/lib/python3.10/dist-packages (from leafmap[lidar]) (0.6.0)\n",
            "Requirement already satisfied: ipyleaflet in /usr/local/lib/python3.10/dist-packages (from leafmap[lidar]) (0.17.4)\n",
            "Requirement already satisfied: ipywidgets in /usr/local/lib/python3.10/dist-packages (from leafmap[lidar]) (7.7.1)\n",
            "Requirement already satisfied: matplotlib in /usr/local/lib/python3.10/dist-packages (from leafmap[lidar]) (3.7.1)\n",
            "Requirement already satisfied: numpy in /usr/local/lib/python3.10/dist-packages (from leafmap[lidar]) (1.23.5)\n",
            "Requirement already satisfied: pandas in /usr/local/lib/python3.10/dist-packages (from leafmap[lidar]) (1.5.3)\n",
            "Requirement already satisfied: plotly in /usr/local/lib/python3.10/dist-packages (from leafmap[lidar]) (5.15.0)\n",
            "Requirement already satisfied: pyshp in /usr/local/lib/python3.10/dist-packages (from leafmap[lidar]) (2.3.1)\n",
            "Collecting pystac-client (from leafmap[lidar])\n",
            "  Downloading pystac_client-0.7.5-py3-none-any.whl (33 kB)\n",
            "Requirement already satisfied: python-box in /usr/local/lib/python3.10/dist-packages (from leafmap[lidar]) (7.1.1)\n",
            "Requirement already satisfied: scooby in /usr/local/lib/python3.10/dist-packages (from leafmap[lidar]) (0.9.2)\n",
            "Collecting whiteboxgui (from leafmap[lidar])\n",
            "  Downloading whiteboxgui-2.3.0-py2.py3-none-any.whl (108 kB)\n",
            "\u001b[2K     \u001b[90m━━━━━━━━━━━━━━━━━━━━━━━━━━━━━━━━━━━━━━━━\u001b[0m \u001b[32m108.6/108.6 kB\u001b[0m \u001b[31m13.7 MB/s\u001b[0m eta \u001b[36m0:00:00\u001b[0m\n",
            "\u001b[?25hRequirement already satisfied: xyzservices in /usr/local/lib/python3.10/dist-packages (from leafmap[lidar]) (2023.10.1)\n",
            "Collecting ipygany (from leafmap[lidar])\n",
            "  Downloading ipygany-0.5.0-py2.py3-none-any.whl (2.9 MB)\n",
            "\u001b[2K     \u001b[90m━━━━━━━━━━━━━━━━━━━━━━━━━━━━━━━━━━━━━━━━\u001b[0m \u001b[32m2.9/2.9 MB\u001b[0m \u001b[31m28.5 MB/s\u001b[0m eta \u001b[36m0:00:00\u001b[0m\n",
            "\u001b[?25hCollecting ipyvtklink (from leafmap[lidar])\n",
            "  Downloading ipyvtklink-0.2.3-py3-none-any.whl (9.4 kB)\n",
            "Collecting laspy (from leafmap[lidar])\n",
            "  Downloading laspy-2.5.1.tar.gz (1.6 MB)\n",
            "\u001b[2K     \u001b[90m━━━━━━━━━━━━━━━━━━━━━━━━━━━━━━━━━━━━━━━━\u001b[0m \u001b[32m1.6/1.6 MB\u001b[0m \u001b[31m79.5 MB/s\u001b[0m eta \u001b[36m0:00:00\u001b[0m\n",
            "\u001b[?25h  Installing build dependencies ... \u001b[?25l\u001b[?25hdone\n",
            "  Getting requirements to build wheel ... \u001b[?25l\u001b[?25hdone\n",
            "  Preparing metadata (pyproject.toml) ... \u001b[?25l\u001b[?25hdone\n",
            "Requirement already satisfied: panel in /usr/local/lib/python3.10/dist-packages (from leafmap[lidar]) (1.3.1)\n",
            "Collecting pyntcloud[las] (from leafmap[lidar])\n",
            "  Downloading pyntcloud-0.3.1-py2.py3-none-any.whl (346 kB)\n",
            "\u001b[2K     \u001b[90m━━━━━━━━━━━━━━━━━━━━━━━━━━━━━━━━━━━━━━━━\u001b[0m \u001b[32m346.3/346.3 kB\u001b[0m \u001b[31m31.0 MB/s\u001b[0m eta \u001b[36m0:00:00\u001b[0m\n",
            "\u001b[?25hCollecting pyvista (from leafmap[lidar])\n",
            "  Downloading pyvista-0.42.3-py3-none-any.whl (1.6 MB)\n",
            "\u001b[2K     \u001b[90m━━━━━━━━━━━━━━━━━━━━━━━━━━━━━━━━━━━━━━━━\u001b[0m \u001b[32m1.6/1.6 MB\u001b[0m \u001b[31m66.8 MB/s\u001b[0m eta \u001b[36m0:00:00\u001b[0m\n",
            "\u001b[?25hCollecting dash>=2.6.0 (from open3d)\n",
            "  Downloading dash-2.14.1-py3-none-any.whl (10.4 MB)\n",
            "\u001b[2K     \u001b[90m━━━━━━━━━━━━━━━━━━━━━━━━━━━━━━━━━━━━━━━━\u001b[0m \u001b[32m10.4/10.4 MB\u001b[0m \u001b[31m63.1 MB/s\u001b[0m eta \u001b[36m0:00:00\u001b[0m\n",
            "\u001b[?25hRequirement already satisfied: werkzeug>=2.2.3 in /usr/local/lib/python3.10/dist-packages (from open3d) (3.0.1)\n",
            "Collecting nbformat==5.7.0 (from open3d)\n",
            "  Downloading nbformat-5.7.0-py3-none-any.whl (77 kB)\n",
            "\u001b[2K     \u001b[90m━━━━━━━━━━━━━━━━━━━━━━━━━━━━━━━━━━━━━━━━\u001b[0m \u001b[32m77.1/77.1 kB\u001b[0m \u001b[31m9.5 MB/s\u001b[0m eta \u001b[36m0:00:00\u001b[0m\n",
            "\u001b[?25hCollecting configargparse (from open3d)\n",
            "  Downloading ConfigArgParse-1.7-py3-none-any.whl (25 kB)\n",
            "Collecting ipywidgets (from leafmap[lidar])\n",
            "  Downloading ipywidgets-8.1.1-py3-none-any.whl (139 kB)\n",
            "\u001b[2K     \u001b[90m━━━━━━━━━━━━━━━━━━━━━━━━━━━━━━━━━━━━━━━━\u001b[0m \u001b[32m139.4/139.4 kB\u001b[0m \u001b[31m13.8 MB/s\u001b[0m eta \u001b[36m0:00:00\u001b[0m\n",
            "\u001b[?25hCollecting addict (from open3d)\n",
            "  Downloading addict-2.4.0-py3-none-any.whl (3.8 kB)\n",
            "Requirement already satisfied: pillow>=9.3.0 in /usr/local/lib/python3.10/dist-packages (from open3d) (9.4.0)\n",
            "Requirement already satisfied: pyyaml>=5.4.1 in /usr/local/lib/python3.10/dist-packages (from open3d) (6.0.1)\n",
            "Requirement already satisfied: scikit-learn>=0.21 in /usr/local/lib/python3.10/dist-packages (from open3d) (1.2.2)\n",
            "Requirement already satisfied: tqdm in /usr/local/lib/python3.10/dist-packages (from open3d) (4.66.1)\n",
            "Collecting pyquaternion (from open3d)\n",
            "  Downloading pyquaternion-0.9.9-py3-none-any.whl (14 kB)\n",
            "Requirement already satisfied: fastjsonschema in /usr/local/lib/python3.10/dist-packages (from nbformat==5.7.0->open3d) (2.19.0)\n",
            "Requirement already satisfied: jsonschema>=2.6 in /usr/local/lib/python3.10/dist-packages (from nbformat==5.7.0->open3d) (4.19.2)\n",
            "Requirement already satisfied: jupyter-core in /usr/local/lib/python3.10/dist-packages (from nbformat==5.7.0->open3d) (5.5.0)\n",
            "Requirement already satisfied: traitlets>=5.1 in /usr/local/lib/python3.10/dist-packages (from nbformat==5.7.0->open3d) (5.7.1)\n",
            "Requirement already satisfied: Flask<3.1,>=1.0.4 in /usr/local/lib/python3.10/dist-packages (from dash>=2.6.0->open3d) (2.2.5)\n",
            "Collecting dash-html-components==2.0.0 (from dash>=2.6.0->open3d)\n",
            "  Downloading dash_html_components-2.0.0-py3-none-any.whl (4.1 kB)\n",
            "Collecting dash-core-components==2.0.0 (from dash>=2.6.0->open3d)\n",
            "  Downloading dash_core_components-2.0.0-py3-none-any.whl (3.8 kB)\n",
            "Collecting dash-table==5.0.0 (from dash>=2.6.0->open3d)\n",
            "  Downloading dash_table-5.0.0-py3-none-any.whl (3.9 kB)\n",
            "Requirement already satisfied: typing-extensions>=4.1.1 in /usr/local/lib/python3.10/dist-packages (from dash>=2.6.0->open3d) (4.5.0)\n",
            "Requirement already satisfied: requests in /usr/local/lib/python3.10/dist-packages (from dash>=2.6.0->open3d) (2.31.0)\n",
            "Collecting retrying (from dash>=2.6.0->open3d)\n",
            "  Downloading retrying-1.3.4-py3-none-any.whl (11 kB)\n",
            "Collecting ansi2html (from dash>=2.6.0->open3d)\n",
            "  Downloading ansi2html-1.8.0-py3-none-any.whl (16 kB)\n",
            "Requirement already satisfied: nest-asyncio in /usr/local/lib/python3.10/dist-packages (from dash>=2.6.0->open3d) (1.5.8)\n",
            "Requirement already satisfied: setuptools in /usr/local/lib/python3.10/dist-packages (from dash>=2.6.0->open3d) (67.7.2)\n",
            "Requirement already satisfied: importlib-metadata in /usr/local/lib/python3.10/dist-packages (from dash>=2.6.0->open3d) (6.8.0)\n",
            "Collecting comm>=0.1.3 (from ipywidgets->leafmap[lidar])\n",
            "  Downloading comm-0.2.0-py3-none-any.whl (7.0 kB)\n",
            "Requirement already satisfied: ipython>=6.1.0 in /usr/local/lib/python3.10/dist-packages (from ipywidgets->leafmap[lidar]) (7.34.0)\n",
            "Collecting widgetsnbextension~=4.0.9 (from ipywidgets->leafmap[lidar])\n",
            "  Downloading widgetsnbextension-4.0.9-py3-none-any.whl (2.3 MB)\n",
            "\u001b[2K     \u001b[90m━━━━━━━━━━━━━━━━━━━━━━━━━━━━━━━━━━━━━━━━\u001b[0m \u001b[32m2.3/2.3 MB\u001b[0m \u001b[31m41.2 MB/s\u001b[0m eta \u001b[36m0:00:00\u001b[0m\n",
            "\u001b[?25hRequirement already satisfied: jupyterlab-widgets~=3.0.9 in /usr/local/lib/python3.10/dist-packages (from ipywidgets->leafmap[lidar]) (3.0.9)\n",
            "Requirement already satisfied: contourpy>=1.0.1 in /usr/local/lib/python3.10/dist-packages (from matplotlib->leafmap[lidar]) (1.2.0)\n",
            "Requirement already satisfied: cycler>=0.10 in /usr/local/lib/python3.10/dist-packages (from matplotlib->leafmap[lidar]) (0.12.1)\n",
            "Requirement already satisfied: fonttools>=4.22.0 in /usr/local/lib/python3.10/dist-packages (from matplotlib->leafmap[lidar]) (4.44.3)\n",
            "Requirement already satisfied: kiwisolver>=1.0.1 in /usr/local/lib/python3.10/dist-packages (from matplotlib->leafmap[lidar]) (1.4.5)\n",
            "Requirement already satisfied: packaging>=20.0 in /usr/local/lib/python3.10/dist-packages (from matplotlib->leafmap[lidar]) (23.2)\n",
            "Requirement already satisfied: pyparsing>=2.3.1 in /usr/local/lib/python3.10/dist-packages (from matplotlib->leafmap[lidar]) (3.1.1)\n",
            "Requirement already satisfied: python-dateutil>=2.7 in /usr/local/lib/python3.10/dist-packages (from matplotlib->leafmap[lidar]) (2.8.2)\n",
            "Requirement already satisfied: pytz>=2020.1 in /usr/local/lib/python3.10/dist-packages (from pandas->leafmap[lidar]) (2023.3.post1)\n",
            "Requirement already satisfied: tenacity>=6.2.0 in /usr/local/lib/python3.10/dist-packages (from plotly->leafmap[lidar]) (8.2.3)\n",
            "Requirement already satisfied: scipy>=1.3.2 in /usr/local/lib/python3.10/dist-packages (from scikit-learn>=0.21->open3d) (1.11.3)\n",
            "Requirement already satisfied: joblib>=1.1.1 in /usr/local/lib/python3.10/dist-packages (from scikit-learn>=0.21->open3d) (1.3.2)\n",
            "Requirement already satisfied: threadpoolctl>=2.0.0 in /usr/local/lib/python3.10/dist-packages (from scikit-learn>=0.21->open3d) (3.2.0)\n",
            "Requirement already satisfied: MarkupSafe>=2.1.1 in /usr/local/lib/python3.10/dist-packages (from werkzeug>=2.2.3->open3d) (2.1.3)\n",
            "Requirement already satisfied: traittypes>=0.0.6 in /usr/local/lib/python3.10/dist-packages (from bqplot->leafmap[lidar]) (0.2.1)\n",
            "Requirement already satisfied: branca>=0.6.0 in /usr/local/lib/python3.10/dist-packages (from folium->leafmap[lidar]) (0.7.0)\n",
            "Requirement already satisfied: jinja2>=2.9 in /usr/local/lib/python3.10/dist-packages (from folium->leafmap[lidar]) (3.1.2)\n",
            "Requirement already satisfied: filelock in /usr/local/lib/python3.10/dist-packages (from gdown->leafmap[lidar]) (3.13.1)\n",
            "Requirement already satisfied: six in /usr/local/lib/python3.10/dist-packages (from gdown->leafmap[lidar]) (1.16.0)\n",
            "Requirement already satisfied: beautifulsoup4 in /usr/local/lib/python3.10/dist-packages (from gdown->leafmap[lidar]) (4.11.2)\n",
            "Collecting ipycanvas>=0.5.0 (from ipyvtklink->leafmap[lidar])\n",
            "  Downloading ipycanvas-0.13.1-py2.py3-none-any.whl (255 kB)\n",
            "\u001b[2K     \u001b[90m━━━━━━━━━━━━━━━━━━━━━━━━━━━━━━━━━━━━━━━━\u001b[0m \u001b[32m255.7/255.7 kB\u001b[0m \u001b[31m24.1 MB/s\u001b[0m eta \u001b[36m0:00:00\u001b[0m\n",
            "\u001b[?25hINFO: pip is looking at multiple versions of ipyvtklink to determine which version is compatible with other requirements. This could take a while.\n",
            "Collecting ipyvtklink (from leafmap[lidar])\n",
            "  Downloading ipyvtklink-0.2.2-py3-none-any.whl (9.4 kB)\n",
            "Requirement already satisfied: bokeh<3.4.0,>=3.2.0 in /usr/local/lib/python3.10/dist-packages (from panel->leafmap[lidar]) (3.3.1)\n",
            "Requirement already satisfied: param<3.0,>=2.0.0 in /usr/local/lib/python3.10/dist-packages (from panel->leafmap[lidar]) (2.0.1)\n",
            "Requirement already satisfied: pyviz-comms>=0.7.4 in /usr/local/lib/python3.10/dist-packages (from panel->leafmap[lidar]) (3.0.0)\n",
            "Requirement already satisfied: markdown in /usr/local/lib/python3.10/dist-packages (from panel->leafmap[lidar]) (3.5.1)\n",
            "Requirement already satisfied: markdown-it-py in /usr/local/lib/python3.10/dist-packages (from panel->leafmap[lidar]) (3.0.0)\n",
            "Requirement already satisfied: linkify-it-py in /usr/local/lib/python3.10/dist-packages (from panel->leafmap[lidar]) (2.0.2)\n",
            "Requirement already satisfied: mdit-py-plugins in /usr/local/lib/python3.10/dist-packages (from panel->leafmap[lidar]) (0.4.0)\n",
            "Requirement already satisfied: bleach in /usr/local/lib/python3.10/dist-packages (from panel->leafmap[lidar]) (6.1.0)\n",
            "Collecting lazrs (from pyntcloud[las]->leafmap[lidar])\n",
            "  Downloading lazrs-0.5.3-cp310-cp310-manylinux_2_17_x86_64.manylinux2014_x86_64.whl (1.5 MB)\n",
            "\u001b[2K     \u001b[90m━━━━━━━━━━━━━━━━━━━━━━━━━━━━━━━━━━━━━━━━\u001b[0m \u001b[32m1.5/1.5 MB\u001b[0m \u001b[31m62.9 MB/s\u001b[0m eta \u001b[36m0:00:00\u001b[0m\n",
            "\u001b[?25hCollecting pystac[validation]>=1.8.2 (from pystac-client->leafmap[lidar])\n",
            "  Downloading pystac-1.9.0-py3-none-any.whl (181 kB)\n",
            "\u001b[2K     \u001b[90m━━━━━━━━━━━━━━━━━━━━━━━━━━━━━━━━━━━━━━━━\u001b[0m \u001b[32m181.6/181.6 kB\u001b[0m \u001b[31m18.7 MB/s\u001b[0m eta \u001b[36m0:00:00\u001b[0m\n",
            "\u001b[?25hRequirement already satisfied: pooch in /usr/local/lib/python3.10/dist-packages (from pyvista->leafmap[lidar]) (1.8.0)\n",
            "Collecting vtk (from pyvista->leafmap[lidar])\n",
            "  Downloading vtk-9.3.0-cp310-cp310-manylinux_2_17_x86_64.manylinux2014_x86_64.whl (92.0 MB)\n",
            "\u001b[2K     \u001b[90m━━━━━━━━━━━━━━━━━━━━━━━━━━━━━━━━━━━━━━━━\u001b[0m \u001b[32m92.0/92.0 MB\u001b[0m \u001b[31m8.0 MB/s\u001b[0m eta \u001b[36m0:00:00\u001b[0m\n",
            "\u001b[?25hRequirement already satisfied: ipytree in /usr/local/lib/python3.10/dist-packages (from whiteboxgui->leafmap[lidar]) (0.2.2)\n",
            "Collecting whitebox (from whiteboxgui->leafmap[lidar])\n",
            "  Downloading whitebox-2.3.1-py2.py3-none-any.whl (72 kB)\n",
            "\u001b[2K     \u001b[90m━━━━━━━━━━━━━━━━━━━━━━━━━━━━━━━━━━━━━━━━\u001b[0m \u001b[32m72.1/72.1 kB\u001b[0m \u001b[31m10.8 MB/s\u001b[0m eta \u001b[36m0:00:00\u001b[0m\n",
            "\u001b[?25hRequirement already satisfied: tornado>=5.1 in /usr/local/lib/python3.10/dist-packages (from bokeh<3.4.0,>=3.2.0->panel->leafmap[lidar]) (6.3.2)\n",
            "Requirement already satisfied: itsdangerous>=2.0 in /usr/local/lib/python3.10/dist-packages (from Flask<3.1,>=1.0.4->dash>=2.6.0->open3d) (2.1.2)\n",
            "Requirement already satisfied: click>=8.0 in /usr/local/lib/python3.10/dist-packages (from Flask<3.1,>=1.0.4->dash>=2.6.0->open3d) (8.1.7)\n",
            "Collecting jedi>=0.16 (from ipython>=6.1.0->ipywidgets->leafmap[lidar])\n",
            "  Downloading jedi-0.19.1-py2.py3-none-any.whl (1.6 MB)\n",
            "\u001b[2K     \u001b[90m━━━━━━━━━━━━━━━━━━━━━━━━━━━━━━━━━━━━━━━━\u001b[0m \u001b[32m1.6/1.6 MB\u001b[0m \u001b[31m86.6 MB/s\u001b[0m eta \u001b[36m0:00:00\u001b[0m\n",
            "\u001b[?25hRequirement already satisfied: decorator in /usr/local/lib/python3.10/dist-packages (from ipython>=6.1.0->ipywidgets->leafmap[lidar]) (4.4.2)\n",
            "Requirement already satisfied: pickleshare in /usr/local/lib/python3.10/dist-packages (from ipython>=6.1.0->ipywidgets->leafmap[lidar]) (0.7.5)\n",
            "Requirement already satisfied: prompt-toolkit!=3.0.0,!=3.0.1,<3.1.0,>=2.0.0 in /usr/local/lib/python3.10/dist-packages (from ipython>=6.1.0->ipywidgets->leafmap[lidar]) (3.0.41)\n",
            "Requirement already satisfied: pygments in /usr/local/lib/python3.10/dist-packages (from ipython>=6.1.0->ipywidgets->leafmap[lidar]) (2.16.1)\n",
            "Requirement already satisfied: backcall in /usr/local/lib/python3.10/dist-packages (from ipython>=6.1.0->ipywidgets->leafmap[lidar]) (0.2.0)\n",
            "Requirement already satisfied: matplotlib-inline in /usr/local/lib/python3.10/dist-packages (from ipython>=6.1.0->ipywidgets->leafmap[lidar]) (0.1.6)\n",
            "Requirement already satisfied: pexpect>4.3 in /usr/local/lib/python3.10/dist-packages (from ipython>=6.1.0->ipywidgets->leafmap[lidar]) (4.8.0)\n",
            "Requirement already satisfied: attrs>=22.2.0 in /usr/local/lib/python3.10/dist-packages (from jsonschema>=2.6->nbformat==5.7.0->open3d) (23.1.0)\n",
            "Requirement already satisfied: jsonschema-specifications>=2023.03.6 in /usr/local/lib/python3.10/dist-packages (from jsonschema>=2.6->nbformat==5.7.0->open3d) (2023.11.1)\n",
            "Requirement already satisfied: referencing>=0.28.4 in /usr/local/lib/python3.10/dist-packages (from jsonschema>=2.6->nbformat==5.7.0->open3d) (0.31.0)\n",
            "Requirement already satisfied: rpds-py>=0.7.1 in /usr/local/lib/python3.10/dist-packages (from jsonschema>=2.6->nbformat==5.7.0->open3d) (0.13.0)\n",
            "Requirement already satisfied: charset-normalizer<4,>=2 in /usr/local/lib/python3.10/dist-packages (from requests->dash>=2.6.0->open3d) (3.3.2)\n",
            "Requirement already satisfied: idna<4,>=2.5 in /usr/local/lib/python3.10/dist-packages (from requests->dash>=2.6.0->open3d) (3.4)\n",
            "Requirement already satisfied: urllib3<3,>=1.21.1 in /usr/local/lib/python3.10/dist-packages (from requests->dash>=2.6.0->open3d) (2.0.7)\n",
            "Requirement already satisfied: certifi>=2017.4.17 in /usr/local/lib/python3.10/dist-packages (from requests->dash>=2.6.0->open3d) (2023.7.22)\n",
            "Requirement already satisfied: soupsieve>1.2 in /usr/local/lib/python3.10/dist-packages (from beautifulsoup4->gdown->leafmap[lidar]) (2.5)\n",
            "Requirement already satisfied: webencodings in /usr/local/lib/python3.10/dist-packages (from bleach->panel->leafmap[lidar]) (0.5.1)\n",
            "Requirement already satisfied: zipp>=0.5 in /usr/local/lib/python3.10/dist-packages (from importlib-metadata->dash>=2.6.0->open3d) (3.17.0)\n",
            "Requirement already satisfied: platformdirs>=2.5 in /usr/local/lib/python3.10/dist-packages (from jupyter-core->nbformat==5.7.0->open3d) (4.0.0)\n",
            "Requirement already satisfied: uc-micro-py in /usr/local/lib/python3.10/dist-packages (from linkify-it-py->panel->leafmap[lidar]) (1.0.2)\n",
            "Requirement already satisfied: mdurl~=0.1 in /usr/local/lib/python3.10/dist-packages (from markdown-it-py->panel->leafmap[lidar]) (0.1.2)\n",
            "Requirement already satisfied: PySocks!=1.5.7,>=1.5.6 in /usr/local/lib/python3.10/dist-packages (from requests->dash>=2.6.0->open3d) (1.7.1)\n",
            "Requirement already satisfied: parso<0.9.0,>=0.8.3 in /usr/local/lib/python3.10/dist-packages (from jedi>=0.16->ipython>=6.1.0->ipywidgets->leafmap[lidar]) (0.8.3)\n",
            "Requirement already satisfied: ptyprocess>=0.5 in /usr/local/lib/python3.10/dist-packages (from pexpect>4.3->ipython>=6.1.0->ipywidgets->leafmap[lidar]) (0.7.0)\n",
            "Requirement already satisfied: wcwidth in /usr/local/lib/python3.10/dist-packages (from prompt-toolkit!=3.0.0,!=3.0.1,<3.1.0,>=2.0.0->ipython>=6.1.0->ipywidgets->leafmap[lidar]) (0.2.10)\n",
            "Building wheels for collected packages: laspy\n",
            "  Building wheel for laspy (pyproject.toml) ... \u001b[?25l\u001b[?25hdone\n",
            "  Created wheel for laspy: filename=laspy-2.5.1-py3-none-any.whl size=74908 sha256=c3525a325bfebaa1c8e69c85a50be04b30ee4eff78386109ce58a8b3d4ecb37f\n",
            "  Stored in directory: /root/.cache/pip/wheels/04/ac/59/c76552f21ad08a44341a9cf0f7d0a7b1f5cebcfb0bb8d32265\n",
            "Successfully built laspy\n",
            "Installing collected packages: lazrs, dash-table, dash-html-components, dash-core-components, addict, widgetsnbextension, whitebox, retrying, pyquaternion, laspy, jedi, geojson, configargparse, comm, ansi2html, pystac, vtk, pyntcloud, ipywidgets, dash, pyvista, nbformat, ipygany, ipycanvas, whiteboxgui, pystac-client, open3d, ipyvtklink, leafmap\n",
            "  Attempting uninstall: widgetsnbextension\n",
            "    Found existing installation: widgetsnbextension 3.6.6\n",
            "    Uninstalling widgetsnbextension-3.6.6:\n",
            "      Successfully uninstalled widgetsnbextension-3.6.6\n",
            "  Attempting uninstall: ipywidgets\n",
            "    Found existing installation: ipywidgets 7.7.1\n",
            "    Uninstalling ipywidgets-7.7.1:\n",
            "      Successfully uninstalled ipywidgets-7.7.1\n",
            "  Attempting uninstall: nbformat\n",
            "    Found existing installation: nbformat 5.9.2\n",
            "    Uninstalling nbformat-5.9.2:\n",
            "      Successfully uninstalled nbformat-5.9.2\n",
            "Successfully installed addict-2.4.0 ansi2html-1.8.0 comm-0.2.0 configargparse-1.7 dash-2.14.1 dash-core-components-2.0.0 dash-html-components-2.0.0 dash-table-5.0.0 geojson-3.1.0 ipycanvas-0.13.1 ipygany-0.5.0 ipyvtklink-0.2.2 ipywidgets-8.1.1 jedi-0.19.1 laspy-2.5.1 lazrs-0.5.3 leafmap-0.29.2 nbformat-5.7.0 open3d-0.17.0 pyntcloud-0.3.1 pyquaternion-0.9.9 pystac-1.9.0 pystac-client-0.7.5 pyvista-0.42.3 retrying-1.3.4 vtk-9.3.0 whitebox-2.3.1 whiteboxgui-2.3.0 widgetsnbextension-4.0.9\n"
          ]
        }
      ],
      "source": [
        "%pip install \"leafmap[lidar]\" open3d"
      ],
      "id": "AlfdOWWR9e1I"
    },
    {
      "cell_type": "markdown",
      "metadata": {
        "id": "FjMKUP0N9e1K"
      },
      "source": [
        "## Import libraries"
      ],
      "id": "FjMKUP0N9e1K"
    },
    {
      "cell_type": "code",
      "execution_count": 2,
      "metadata": {
        "id": "t4umaVr-9e1K"
      },
      "outputs": [],
      "source": [
        "import leafmap"
      ],
      "id": "t4umaVr-9e1K"
    },
    {
      "cell_type": "markdown",
      "metadata": {
        "id": "2N2PGe7i9e1L"
      },
      "source": [
        "## Download data"
      ],
      "id": "2N2PGe7i9e1L"
    },
    {
      "cell_type": "markdown",
      "metadata": {
        "id": "tc1u-aM09e1L"
      },
      "source": [
        "Download a [sample LiDAR dataset](https://drive.google.com/file/d/1H_X1190vL63BoFYa_cVBDxtIa8rG-Usb/view?usp=sharing) from Google Drive. The zip file is 52.1 MB and the uncompressed LAS file is 109 MB."
      ],
      "id": "tc1u-aM09e1L"
    },
    {
      "cell_type": "code",
      "execution_count": 3,
      "metadata": {
        "id": "sOpx5hwm9e1M"
      },
      "outputs": [],
      "source": [
        "url = 'https://open.gishub.org/data/lidar/madison.zip'\n",
        "filename = 'madison.las'"
      ],
      "id": "sOpx5hwm9e1M"
    },
    {
      "cell_type": "code",
      "execution_count": 4,
      "metadata": {
        "id": "ezzW1jK99e1N",
        "colab": {
          "base_uri": "https://localhost:8080/",
          "height": 122
        },
        "outputId": "13e7bae8-e1f4-45fc-ae73-d372bfc2996e"
      },
      "outputs": [
        {
          "output_type": "stream",
          "name": "stderr",
          "text": [
            "Downloading...\n",
            "From: https://open.gishub.org/data/lidar/madison.zip\n",
            "To: /content/madison.zip\n",
            "100%|██████████| 54.7M/54.7M [00:00<00:00, 80.3MB/s]\n"
          ]
        },
        {
          "output_type": "stream",
          "name": "stdout",
          "text": [
            "Extracting files...\n"
          ]
        },
        {
          "output_type": "execute_result",
          "data": {
            "text/plain": [
              "'/content/madison.zip'"
            ],
            "application/vnd.google.colaboratory.intrinsic+json": {
              "type": "string"
            }
          },
          "metadata": {},
          "execution_count": 4
        }
      ],
      "source": [
        "leafmap.download_file(url, 'madison.zip', unzip=True)"
      ],
      "id": "ezzW1jK99e1N"
    },
    {
      "cell_type": "markdown",
      "metadata": {
        "id": "8YPr5q7H9e1N"
      },
      "source": [
        "## Metadata"
      ],
      "id": "8YPr5q7H9e1N"
    },
    {
      "cell_type": "markdown",
      "metadata": {
        "id": "1xkh8EHU9e1O"
      },
      "source": [
        "Read the LiDAR data"
      ],
      "id": "1xkh8EHU9e1O"
    },
    {
      "cell_type": "code",
      "execution_count": 5,
      "metadata": {
        "id": "mKPLP37u9e1O"
      },
      "outputs": [],
      "source": [
        "las = leafmap.read_lidar(filename)"
      ],
      "id": "mKPLP37u9e1O"
    },
    {
      "cell_type": "markdown",
      "metadata": {
        "id": "ZEMUgM0M9e1O"
      },
      "source": [
        "The LAS header."
      ],
      "id": "ZEMUgM0M9e1O"
    },
    {
      "cell_type": "code",
      "execution_count": 6,
      "metadata": {
        "id": "cejAFrkn9e1O",
        "colab": {
          "base_uri": "https://localhost:8080/"
        },
        "outputId": "a0b5e6cd-8124-479a-aa38-a59146729c8b"
      },
      "outputs": [
        {
          "output_type": "execute_result",
          "data": {
            "text/plain": [
              "<LasHeader(1.3, <PointFormat(1, 0 bytes of extra dims)>)>"
            ]
          },
          "metadata": {},
          "execution_count": 6
        }
      ],
      "source": [
        "las.header"
      ],
      "id": "cejAFrkn9e1O"
    },
    {
      "cell_type": "markdown",
      "metadata": {
        "id": "LqAvEaIj9e1P"
      },
      "source": [
        "The number of points."
      ],
      "id": "LqAvEaIj9e1P"
    },
    {
      "cell_type": "code",
      "execution_count": 7,
      "metadata": {
        "id": "JKo-25bQ9e1P",
        "colab": {
          "base_uri": "https://localhost:8080/"
        },
        "outputId": "affc1939-321c-4b0b-cd46-1933dae9b896"
      },
      "outputs": [
        {
          "output_type": "execute_result",
          "data": {
            "text/plain": [
              "4068294"
            ]
          },
          "metadata": {},
          "execution_count": 7
        }
      ],
      "source": [
        "las.header.point_count"
      ],
      "id": "JKo-25bQ9e1P"
    },
    {
      "cell_type": "markdown",
      "metadata": {
        "id": "3IFPd2jk9e1P"
      },
      "source": [
        "The list of features."
      ],
      "id": "3IFPd2jk9e1P"
    },
    {
      "cell_type": "code",
      "execution_count": 8,
      "metadata": {
        "id": "OXzHEoJL9e1P",
        "colab": {
          "base_uri": "https://localhost:8080/"
        },
        "outputId": "2dca7caf-fee0-4f54-d80c-6e1d97f37b00"
      },
      "outputs": [
        {
          "output_type": "execute_result",
          "data": {
            "text/plain": [
              "['X',\n",
              " 'Y',\n",
              " 'Z',\n",
              " 'intensity',\n",
              " 'return_number',\n",
              " 'number_of_returns',\n",
              " 'scan_direction_flag',\n",
              " 'edge_of_flight_line',\n",
              " 'classification',\n",
              " 'synthetic',\n",
              " 'key_point',\n",
              " 'withheld',\n",
              " 'scan_angle_rank',\n",
              " 'user_data',\n",
              " 'point_source_id',\n",
              " 'gps_time']"
            ]
          },
          "metadata": {},
          "execution_count": 8
        }
      ],
      "source": [
        "list(las.point_format.dimension_names)"
      ],
      "id": "OXzHEoJL9e1P"
    },
    {
      "cell_type": "markdown",
      "metadata": {
        "id": "uYzPVncp9e1Q"
      },
      "source": [
        "## Read data"
      ],
      "id": "uYzPVncp9e1Q"
    },
    {
      "cell_type": "markdown",
      "metadata": {
        "id": "QWrMqEgb9e1Q"
      },
      "source": [
        "Inspect data."
      ],
      "id": "QWrMqEgb9e1Q"
    },
    {
      "cell_type": "code",
      "execution_count": 9,
      "metadata": {
        "id": "6de2y6S59e1Q",
        "colab": {
          "base_uri": "https://localhost:8080/"
        },
        "outputId": "7cd1f7d4-598b-44ac-9ecb-6773960959cf"
      },
      "outputs": [
        {
          "output_type": "execute_result",
          "data": {
            "text/plain": [
              "array([5324343, 5324296, 5323993, ..., 5784049, 5784359, 5784667],\n",
              "      dtype=int32)"
            ]
          },
          "metadata": {},
          "execution_count": 9
        }
      ],
      "source": [
        "las.X"
      ],
      "id": "6de2y6S59e1Q"
    },
    {
      "cell_type": "code",
      "execution_count": 10,
      "metadata": {
        "id": "Z1cdrofk9e1Q",
        "colab": {
          "base_uri": "https://localhost:8080/"
        },
        "outputId": "aa1c0f62-94ed-4e64-9261-878419ad47a4"
      },
      "outputs": [
        {
          "output_type": "execute_result",
          "data": {
            "text/plain": [
              "array([8035264, 8035347, 8035296, ..., 7550110, 7550066, 7550026],\n",
              "      dtype=int32)"
            ]
          },
          "metadata": {},
          "execution_count": 10
        }
      ],
      "source": [
        "las.Y"
      ],
      "id": "Z1cdrofk9e1Q"
    },
    {
      "cell_type": "code",
      "execution_count": 11,
      "metadata": {
        "id": "u-3CStoE9e1R",
        "colab": {
          "base_uri": "https://localhost:8080/"
        },
        "outputId": "518e9626-4dc3-4168-8fd8-5bee22bf83fb"
      },
      "outputs": [
        {
          "output_type": "execute_result",
          "data": {
            "text/plain": [
              "array([36696, 34835, 34826, ..., 36839, 36858, 36842], dtype=int32)"
            ]
          },
          "metadata": {},
          "execution_count": 11
        }
      ],
      "source": [
        "las.Z"
      ],
      "id": "u-3CStoE9e1R"
    },
    {
      "cell_type": "code",
      "execution_count": 12,
      "metadata": {
        "id": "alI5al0w9e1R",
        "colab": {
          "base_uri": "https://localhost:8080/"
        },
        "outputId": "cf76a75f-e1b1-41e0-f1fd-4f05f39b92b5"
      },
      "outputs": [
        {
          "output_type": "execute_result",
          "data": {
            "text/plain": [
              "array([ 9, 41, 24, ..., 87, 80, 95], dtype=uint16)"
            ]
          },
          "metadata": {},
          "execution_count": 12
        }
      ],
      "source": [
        "las.intensity"
      ],
      "id": "alI5al0w9e1R"
    },
    {
      "cell_type": "markdown",
      "metadata": {
        "id": "SzRGzbVO9e1R"
      },
      "source": [
        "## PyVista\n",
        "\n",
        "Visualize LiDAR data using the [pyvista](https://github.com/pyvista/pyvista) backend."
      ],
      "id": "SzRGzbVO9e1R"
    },
    {
      "cell_type": "code",
      "execution_count": 13,
      "metadata": {
        "id": "TIarvJEd9e1R",
        "colab": {
          "base_uri": "https://localhost:8080/"
        },
        "outputId": "88a4bfbc-52e5-4f95-a0ae-1eee688b39a5"
      },
      "outputs": [
        {
          "output_type": "stream",
          "name": "stdout",
          "text": [
            "This function is not supported in Google Colab.\n"
          ]
        }
      ],
      "source": [
        "leafmap.view_lidar(filename, cmap='terrain', backend='pyvista')"
      ],
      "id": "TIarvJEd9e1R"
    },
    {
      "cell_type": "markdown",
      "metadata": {
        "id": "MN7DGQw69e1R"
      },
      "source": [
        "![](https://i.imgur.com/xezcgMP.gif)"
      ],
      "id": "MN7DGQw69e1R"
    },
    {
      "cell_type": "markdown",
      "metadata": {
        "id": "Us4vn0fi9e1R"
      },
      "source": [
        "## ipygany\n",
        "\n",
        "Visualize LiDAR data using the [ipygany](https://github.com/QuantStack/ipygany) backend."
      ],
      "id": "Us4vn0fi9e1R"
    },
    {
      "cell_type": "code",
      "execution_count": 14,
      "metadata": {
        "id": "dh1Y2MXZ9e1R",
        "colab": {
          "base_uri": "https://localhost:8080/"
        },
        "outputId": "3ff8b84e-81dc-4474-d5ac-ba592adc471c"
      },
      "outputs": [
        {
          "output_type": "stream",
          "name": "stdout",
          "text": [
            "This function is not supported in Google Colab.\n"
          ]
        }
      ],
      "source": [
        "leafmap.view_lidar(filename, backend='ipygany', background='white')"
      ],
      "id": "dh1Y2MXZ9e1R"
    },
    {
      "cell_type": "markdown",
      "metadata": {
        "id": "iGk118nh9e1S"
      },
      "source": [
        "![](https://i.imgur.com/MyMWW4I.gif)"
      ],
      "id": "iGk118nh9e1S"
    },
    {
      "cell_type": "markdown",
      "metadata": {
        "id": "IaSyV7Id9e1S"
      },
      "source": [
        "## Panel\n",
        "\n",
        "Visualize LiDAR data using the [panel](https://github.com/holoviz/panel) backend."
      ],
      "id": "IaSyV7Id9e1S"
    },
    {
      "cell_type": "code",
      "execution_count": 15,
      "metadata": {
        "id": "sqkM4TjP9e1S",
        "colab": {
          "base_uri": "https://localhost:8080/"
        },
        "outputId": "8f684d86-9a3c-4cc6-d961-2a9054b6dc4a"
      },
      "outputs": [
        {
          "output_type": "stream",
          "name": "stdout",
          "text": [
            "This function is not supported in Google Colab.\n"
          ]
        }
      ],
      "source": [
        "leafmap.view_lidar(filename, cmap='terrain', backend='panel', background='white')"
      ],
      "id": "sqkM4TjP9e1S"
    },
    {
      "cell_type": "markdown",
      "metadata": {
        "id": "c3zBDn8m9e1S"
      },
      "source": [
        "![](https://i.imgur.com/XQGWbJk.gif)"
      ],
      "id": "c3zBDn8m9e1S"
    },
    {
      "cell_type": "markdown",
      "metadata": {
        "id": "YBpAFOW39e1S"
      },
      "source": [
        "## Open3D\n",
        "\n",
        "Visualize LiDAR data using the [open3d](http://www.open3d.org) backend."
      ],
      "id": "YBpAFOW39e1S"
    },
    {
      "cell_type": "code",
      "execution_count": 16,
      "metadata": {
        "id": "8BCBi4E29e1T",
        "colab": {
          "base_uri": "https://localhost:8080/"
        },
        "outputId": "98a894c8-952e-4bf9-c96e-04e93d38739b"
      },
      "outputs": [
        {
          "output_type": "stream",
          "name": "stdout",
          "text": [
            "This function is not supported in Google Colab.\n"
          ]
        }
      ],
      "source": [
        "leafmap.view_lidar(filename, backend='open3d')"
      ],
      "id": "8BCBi4E29e1T"
    },
    {
      "cell_type": "markdown",
      "metadata": {
        "id": "r0SfaaPO9e1T"
      },
      "source": [
        "![](https://i.imgur.com/rL85fbl.gif)"
      ],
      "id": "r0SfaaPO9e1T"
    }
  ],
  "metadata": {
    "kernelspec": {
      "display_name": "geo",
      "language": "python",
      "name": "python3"
    },
    "language_info": {
      "codemirror_mode": {
        "name": "ipython",
        "version": 3
      },
      "file_extension": ".py",
      "mimetype": "text/x-python",
      "name": "python",
      "nbconvert_exporter": "python",
      "pygments_lexer": "ipython3",
      "version": "3.11.6"
    },
    "colab": {
      "provenance": [],
      "include_colab_link": true
    }
  },
  "nbformat": 4,
  "nbformat_minor": 5
}