{
  "cells": [
    {
      "cell_type": "markdown",
      "metadata": {
        "id": "view-in-github",
        "colab_type": "text"
      },
      "source": [
        "<a href=\"https://colab.research.google.com/github/gulabpatel/AIAg/blob/main/GIS/Geospatial/G4G_2023.ipynb\" target=\"_parent\"><img src=\"https://colab.research.google.com/assets/colab-badge.svg\" alt=\"Open In Colab\"/></a>"
      ]
    },
    {
      "cell_type": "markdown",
      "metadata": {
        "id": "0zwF2S_Yr6CZ"
      },
      "source": [
        "[![image](https://colab.research.google.com/assets/colab-badge.svg)](https://colab.research.google.com/github/gee-community/geemap/blob/master/docs/workshops/G4G_2023.ipynb)\n",
        "\n",
        "**Introduction to Google Earth Engine in Python**\n",
        "\n",
        "-   Notebook: <https://geemap.org/workshops/G4G_2023>\n",
        "-   Earth Engine: <https://earthengine.google.com>\n",
        "-   Geemap: <https://geemap.org>\n",
        "\n",
        "## Introduction (10 mins)\n",
        "\n",
        "This notebook is for the workshop presented at the [Geo for Good Summit 2023](https://earthoutreachonair.withgoogle.com/events/geoforgood23). Check out [this link](https://earthoutreachonair.withgoogle.com/events/geoforgood23?tab=g4gagenda&expand=module:agenda) for more information about the workshop.\n",
        "\n",
        "### Abstract\n",
        "\n",
        "This workshop provides an introduction to cloud-based geospatial analysis using the Earth Engine Python API. Attendees will learn the basics of Earth Engine data types and how to visualize, analyze, and export Earth Engine data in a Jupyter environment with geemap. In addition, attendees will learn how to develop and deploy interactive Earth Engine web apps with Python. Through practical examples and hands-on exercises, attendees will enhance their learning experience. During each hands-on session, attendees will walk through Jupyter Notebook examples on Google Colab with the instructors. At the end of each session, they will complete a hands-on exercise to apply the knowledge they have learned.\n",
        "\n",
        "### Prerequisites\n",
        "\n",
        "-   To use geemap and the Earth Engine Python API, you must [register](https://code.earthengine.google.com/register) for an Earth Engine account and follow the instructions [here](https://docs.google.com/document/d/1ZGSmrNm6_baqd8CHt33kIBWOlvkh-HLr46bODgJN1h0/edit?usp=sharing) to create a Cloud Project. Earth Engine is free for [noncommercial and research use](https://earthengine.google.com/noncommercial). To test whether you can use authenticate the Earth Engine Python API, please run [this notebook](https://colab.research.google.com/github/giswqs/geemap/blob/master/examples/notebooks/geemap_colab.ipynb) on Google Colab.\n",
        "\n",
        "-   It is recommended that attendees have a basic understanding of Python and Jupyter Notebook.\n",
        "-   Familiarity with the Earth Engine JavaScript API is not required but will be helpful.\n",
        "-   Attendees can use Google Colab to follow this workshop without installing anything on their computer.\n",
        "\n",
        "## Introduction to Earth Engine and geemap (15 mins)\n",
        "\n",
        "Earth Engine is free for [noncommercial and research use](https://earthengine.google.com/noncommercial). For more than a decade, Earth Engine has enabled planetary-scale Earth data science and analysis by nonprofit organizations, research scientists, and other impact users.\n",
        "\n",
        "With the launch of Earth Engine for [commercial use](https://earthengine.google.com/commercial), commercial customers will be charged for Earth Engine services. However, Earth Engine will remain free of charge for noncommercial use and research projects. Nonprofit organizations, academic institutions, educators, news media, Indigenous governments, and government researchers are eligible to use Earth Engine free of charge, just as they have done for over a decade.\n",
        "\n",
        "The geemap Python package is built upon the Earth Engine Python API and open-source mapping libraries. It allows Earth Engine users to interactively manipulate, analyze, and visualize geospatial big data in a Jupyter environment. Since its creation in April 2020, geemap has received over 2,900 GitHub stars and is being used by over 1,000 projects on GitHub.\n",
        "\n",
        "## Google Colab and Earth Engine Python API authentication (5 mins)\n",
        "\n",
        "[![image](https://colab.research.google.com/assets/colab-badge.svg)](https://colab.research.google.com/github/gee-community/geemap/blob/master/docs/workshops/G4G_2023.ipynb)\n",
        "\n",
        "### Change Colab dark theme\n",
        "\n",
        "Currently, ipywidgets does not work well with Colab dark theme. Some of the geemap widgets may not display properly in Colab dark theme.It is recommended that you change Colab to the light theme.\n",
        "\n",
        "![](https://i.imgur.com/EJ0GDP8.png)\n",
        "\n",
        "\n",
        "### Install geemap\n",
        "\n",
        "The geemap package is pre-installed in Google Colab and is updated to the latest minor or major release every few weeks. Some optional dependencies of geemap being used by this notebook are not pre-installed in Colab. Uncomment the following line to install geemap and some optional dependencies."
      ],
      "id": "0zwF2S_Yr6CZ"
    },
    {
      "cell_type": "code",
      "execution_count": null,
      "metadata": {
        "id": "IVoEt888r6Cl",
        "colab": {
          "base_uri": "https://localhost:8080/",
          "height": 1000
        },
        "outputId": "781640db-d18e-457f-feb0-1d6442cf0cda"
      },
      "outputs": [
        {
          "output_type": "display_data",
          "data": {
            "text/plain": [
              "<IPython.core.display.HTML object>"
            ],
            "text/html": [
              "\n",
              "            <style>\n",
              "                .geemap-dark {\n",
              "                    --jp-widgets-color: white;\n",
              "                    --jp-widgets-label-color: white;\n",
              "                    --jp-ui-font-color1: white;\n",
              "                    --jp-layout-color2: #454545;\n",
              "                    background-color: #383838;\n",
              "                }\n",
              "                    \n",
              "                .geemap-dark .jupyter-button {\n",
              "                    --jp-layout-color3: #383838;\n",
              "                }\n",
              "                \n",
              "                .geemap-colab {\n",
              "                    background-color: var(--colab-primary-surface-color, white);\n",
              "                }\n",
              "                    \n",
              "                .geemap-colab .jupyter-button {\n",
              "                    --jp-layout-color3: var(--colab-primary-surface-color, white);\n",
              "                }\n",
              "            </style>\n",
              "            "
            ]
          },
          "metadata": {}
        },
        {
          "output_type": "stream",
          "name": "stdout",
          "text": [
            "Requirement already satisfied: geemap[workshop] in /usr/local/lib/python3.10/dist-packages (0.29.6)\n",
            "Collecting geemap[workshop]\n",
            "  Downloading geemap-0.30.0-py2.py3-none-any.whl (2.2 MB)\n",
            "\u001b[2K     \u001b[90m━━━━━━━━━━━━━━━━━━━━━━━━━━━━━━━━━━━━━━━━\u001b[0m \u001b[32m2.2/2.2 MB\u001b[0m \u001b[31m8.3 MB/s\u001b[0m eta \u001b[36m0:00:00\u001b[0m\n",
            "\u001b[?25hRequirement already satisfied: bqplot in /usr/local/lib/python3.10/dist-packages (from geemap[workshop]) (0.12.42)\n",
            "Requirement already satisfied: colour in /usr/local/lib/python3.10/dist-packages (from geemap[workshop]) (0.1.5)\n",
            "Requirement already satisfied: earthengine-api>=0.1.347 in /usr/local/lib/python3.10/dist-packages (from geemap[workshop]) (0.1.384)\n",
            "Requirement already satisfied: eerepr>=0.0.4 in /usr/local/lib/python3.10/dist-packages (from geemap[workshop]) (0.0.4)\n",
            "Requirement already satisfied: folium>=0.13.0 in /usr/local/lib/python3.10/dist-packages (from geemap[workshop]) (0.14.0)\n",
            "Requirement already satisfied: geocoder in /usr/local/lib/python3.10/dist-packages (from geemap[workshop]) (1.38.1)\n",
            "Requirement already satisfied: ipyevents in /usr/local/lib/python3.10/dist-packages (from geemap[workshop]) (2.0.2)\n",
            "Requirement already satisfied: ipyfilechooser>=0.6.0 in /usr/local/lib/python3.10/dist-packages (from geemap[workshop]) (0.6.0)\n",
            "Requirement already satisfied: ipyleaflet>=0.17.0 in /usr/local/lib/python3.10/dist-packages (from geemap[workshop]) (0.18.1)\n",
            "Requirement already satisfied: ipytree in /usr/local/lib/python3.10/dist-packages (from geemap[workshop]) (0.2.2)\n",
            "Requirement already satisfied: matplotlib in /usr/local/lib/python3.10/dist-packages (from geemap[workshop]) (3.7.1)\n",
            "Requirement already satisfied: numpy in /usr/local/lib/python3.10/dist-packages (from geemap[workshop]) (1.23.5)\n",
            "Requirement already satisfied: pandas in /usr/local/lib/python3.10/dist-packages (from geemap[workshop]) (1.5.3)\n",
            "Requirement already satisfied: plotly in /usr/local/lib/python3.10/dist-packages (from geemap[workshop]) (5.15.0)\n",
            "Requirement already satisfied: pyperclip in /usr/local/lib/python3.10/dist-packages (from geemap[workshop]) (1.8.2)\n",
            "Requirement already satisfied: pyshp>=2.1.3 in /usr/local/lib/python3.10/dist-packages (from geemap[workshop]) (2.3.1)\n",
            "Requirement already satisfied: python-box in /usr/local/lib/python3.10/dist-packages (from geemap[workshop]) (7.1.1)\n",
            "Requirement already satisfied: scooby in /usr/local/lib/python3.10/dist-packages (from geemap[workshop]) (0.9.2)\n",
            "Requirement already satisfied: geopandas in /usr/local/lib/python3.10/dist-packages (from geemap[workshop]) (0.13.2)\n",
            "Collecting geedim (from geemap[workshop])\n",
            "  Downloading geedim-1.7.2-py3-none-any.whl (73 kB)\n",
            "\u001b[2K     \u001b[90m━━━━━━━━━━━━━━━━━━━━━━━━━━━━━━━━━━━━━━━━\u001b[0m \u001b[32m73.5/73.5 kB\u001b[0m \u001b[31m8.7 MB/s\u001b[0m eta \u001b[36m0:00:00\u001b[0m\n",
            "\u001b[?25hCollecting ffmpeg-python (from geemap[workshop])\n",
            "  Downloading ffmpeg_python-0.2.0-py3-none-any.whl (25 kB)\n",
            "Requirement already satisfied: gdown in /usr/local/lib/python3.10/dist-packages (from geemap[workshop]) (4.6.6)\n",
            "Requirement already satisfied: google-cloud-storage in /usr/local/lib/python3.10/dist-packages (from earthengine-api>=0.1.347->geemap[workshop]) (2.8.0)\n",
            "Requirement already satisfied: google-api-python-client>=1.12.1 in /usr/local/lib/python3.10/dist-packages (from earthengine-api>=0.1.347->geemap[workshop]) (2.84.0)\n",
            "Requirement already satisfied: google-auth>=1.4.1 in /usr/local/lib/python3.10/dist-packages (from earthengine-api>=0.1.347->geemap[workshop]) (2.17.3)\n",
            "Requirement already satisfied: google-auth-httplib2>=0.0.3 in /usr/local/lib/python3.10/dist-packages (from earthengine-api>=0.1.347->geemap[workshop]) (0.1.1)\n",
            "Requirement already satisfied: httplib2<1dev,>=0.9.2 in /usr/local/lib/python3.10/dist-packages (from earthengine-api>=0.1.347->geemap[workshop]) (0.22.0)\n",
            "Requirement already satisfied: requests in /usr/local/lib/python3.10/dist-packages (from earthengine-api>=0.1.347->geemap[workshop]) (2.31.0)\n",
            "Requirement already satisfied: branca>=0.6.0 in /usr/local/lib/python3.10/dist-packages (from folium>=0.13.0->geemap[workshop]) (0.7.0)\n",
            "Requirement already satisfied: jinja2>=2.9 in /usr/local/lib/python3.10/dist-packages (from folium>=0.13.0->geemap[workshop]) (3.1.2)\n",
            "Requirement already satisfied: ipywidgets in /usr/local/lib/python3.10/dist-packages (from ipyfilechooser>=0.6.0->geemap[workshop]) (7.7.1)\n",
            "Requirement already satisfied: traittypes<3,>=0.2.1 in /usr/local/lib/python3.10/dist-packages (from ipyleaflet>=0.17.0->geemap[workshop]) (0.2.1)\n",
            "Requirement already satisfied: xyzservices>=2021.8.1 in /usr/local/lib/python3.10/dist-packages (from ipyleaflet>=0.17.0->geemap[workshop]) (2023.10.1)\n",
            "Requirement already satisfied: traitlets>=4.3.0 in /usr/local/lib/python3.10/dist-packages (from bqplot->geemap[workshop]) (5.7.1)\n",
            "Requirement already satisfied: python-dateutil>=2.8.1 in /usr/local/lib/python3.10/dist-packages (from pandas->geemap[workshop]) (2.8.2)\n",
            "Requirement already satisfied: pytz>=2020.1 in /usr/local/lib/python3.10/dist-packages (from pandas->geemap[workshop]) (2023.3.post1)\n",
            "Requirement already satisfied: future in /usr/local/lib/python3.10/dist-packages (from ffmpeg-python->geemap[workshop]) (0.18.3)\n",
            "Requirement already satisfied: filelock in /usr/local/lib/python3.10/dist-packages (from gdown->geemap[workshop]) (3.13.1)\n",
            "Requirement already satisfied: six in /usr/local/lib/python3.10/dist-packages (from gdown->geemap[workshop]) (1.16.0)\n",
            "Requirement already satisfied: tqdm in /usr/local/lib/python3.10/dist-packages (from gdown->geemap[workshop]) (4.66.1)\n",
            "Requirement already satisfied: beautifulsoup4 in /usr/local/lib/python3.10/dist-packages (from gdown->geemap[workshop]) (4.11.2)\n",
            "Collecting rasterio>=1.1 (from geedim->geemap[workshop])\n",
            "  Downloading rasterio-1.3.9-cp310-cp310-manylinux2014_x86_64.whl (20.6 MB)\n",
            "\u001b[2K     \u001b[90m━━━━━━━━━━━━━━━━━━━━━━━━━━━━━━━━━━━━━━━━\u001b[0m \u001b[32m20.6/20.6 MB\u001b[0m \u001b[31m33.3 MB/s\u001b[0m eta \u001b[36m0:00:00\u001b[0m\n",
            "\u001b[?25hRequirement already satisfied: click>=8 in /usr/local/lib/python3.10/dist-packages (from geedim->geemap[workshop]) (8.1.7)\n",
            "Requirement already satisfied: tabulate>=0.8 in /usr/local/lib/python3.10/dist-packages (from geedim->geemap[workshop]) (0.9.0)\n",
            "Requirement already satisfied: ratelim in /usr/local/lib/python3.10/dist-packages (from geocoder->geemap[workshop]) (0.1.6)\n",
            "Requirement already satisfied: fiona>=1.8.19 in /usr/local/lib/python3.10/dist-packages (from geopandas->geemap[workshop]) (1.9.5)\n",
            "Requirement already satisfied: packaging in /usr/local/lib/python3.10/dist-packages (from geopandas->geemap[workshop]) (23.2)\n",
            "Requirement already satisfied: pyproj>=3.0.1 in /usr/local/lib/python3.10/dist-packages (from geopandas->geemap[workshop]) (3.6.1)\n",
            "Requirement already satisfied: shapely>=1.7.1 in /usr/local/lib/python3.10/dist-packages (from geopandas->geemap[workshop]) (2.0.2)\n",
            "Requirement already satisfied: contourpy>=1.0.1 in /usr/local/lib/python3.10/dist-packages (from matplotlib->geemap[workshop]) (1.2.0)\n",
            "Requirement already satisfied: cycler>=0.10 in /usr/local/lib/python3.10/dist-packages (from matplotlib->geemap[workshop]) (0.12.1)\n",
            "Requirement already satisfied: fonttools>=4.22.0 in /usr/local/lib/python3.10/dist-packages (from matplotlib->geemap[workshop]) (4.46.0)\n",
            "Requirement already satisfied: kiwisolver>=1.0.1 in /usr/local/lib/python3.10/dist-packages (from matplotlib->geemap[workshop]) (1.4.5)\n",
            "Requirement already satisfied: pillow>=6.2.0 in /usr/local/lib/python3.10/dist-packages (from matplotlib->geemap[workshop]) (9.4.0)\n",
            "Requirement already satisfied: pyparsing>=2.3.1 in /usr/local/lib/python3.10/dist-packages (from matplotlib->geemap[workshop]) (3.1.1)\n",
            "Requirement already satisfied: tenacity>=6.2.0 in /usr/local/lib/python3.10/dist-packages (from plotly->geemap[workshop]) (8.2.3)\n",
            "Requirement already satisfied: attrs>=19.2.0 in /usr/local/lib/python3.10/dist-packages (from fiona>=1.8.19->geopandas->geemap[workshop]) (23.1.0)\n",
            "Requirement already satisfied: certifi in /usr/local/lib/python3.10/dist-packages (from fiona>=1.8.19->geopandas->geemap[workshop]) (2023.11.17)\n",
            "Requirement already satisfied: click-plugins>=1.0 in /usr/local/lib/python3.10/dist-packages (from fiona>=1.8.19->geopandas->geemap[workshop]) (1.1.1)\n",
            "Requirement already satisfied: cligj>=0.5 in /usr/local/lib/python3.10/dist-packages (from fiona>=1.8.19->geopandas->geemap[workshop]) (0.7.2)\n",
            "Requirement already satisfied: setuptools in /usr/local/lib/python3.10/dist-packages (from fiona>=1.8.19->geopandas->geemap[workshop]) (67.7.2)\n",
            "Requirement already satisfied: google-api-core!=2.0.*,!=2.1.*,!=2.2.*,!=2.3.0,<3.0.0dev,>=1.31.5 in /usr/local/lib/python3.10/dist-packages (from google-api-python-client>=1.12.1->earthengine-api>=0.1.347->geemap[workshop]) (2.11.1)\n",
            "Requirement already satisfied: uritemplate<5,>=3.0.1 in /usr/local/lib/python3.10/dist-packages (from google-api-python-client>=1.12.1->earthengine-api>=0.1.347->geemap[workshop]) (4.1.1)\n",
            "Requirement already satisfied: cachetools<6.0,>=2.0.0 in /usr/local/lib/python3.10/dist-packages (from google-auth>=1.4.1->earthengine-api>=0.1.347->geemap[workshop]) (5.3.2)\n",
            "Requirement already satisfied: pyasn1-modules>=0.2.1 in /usr/local/lib/python3.10/dist-packages (from google-auth>=1.4.1->earthengine-api>=0.1.347->geemap[workshop]) (0.3.0)\n",
            "Requirement already satisfied: rsa<5,>=3.1.4 in /usr/local/lib/python3.10/dist-packages (from google-auth>=1.4.1->earthengine-api>=0.1.347->geemap[workshop]) (4.9)\n",
            "Requirement already satisfied: ipykernel>=4.5.1 in /usr/local/lib/python3.10/dist-packages (from ipywidgets->ipyfilechooser>=0.6.0->geemap[workshop]) (5.5.6)\n",
            "Requirement already satisfied: ipython-genutils~=0.2.0 in /usr/local/lib/python3.10/dist-packages (from ipywidgets->ipyfilechooser>=0.6.0->geemap[workshop]) (0.2.0)\n",
            "Requirement already satisfied: widgetsnbextension~=3.6.0 in /usr/local/lib/python3.10/dist-packages (from ipywidgets->ipyfilechooser>=0.6.0->geemap[workshop]) (3.6.6)\n",
            "Requirement already satisfied: ipython>=4.0.0 in /usr/local/lib/python3.10/dist-packages (from ipywidgets->ipyfilechooser>=0.6.0->geemap[workshop]) (7.34.0)\n",
            "Requirement already satisfied: jupyterlab-widgets>=1.0.0 in /usr/local/lib/python3.10/dist-packages (from ipywidgets->ipyfilechooser>=0.6.0->geemap[workshop]) (3.0.9)\n",
            "Requirement already satisfied: MarkupSafe>=2.0 in /usr/local/lib/python3.10/dist-packages (from jinja2>=2.9->folium>=0.13.0->geemap[workshop]) (2.1.3)\n",
            "Collecting affine (from rasterio>=1.1->geedim->geemap[workshop])\n",
            "  Downloading affine-2.4.0-py3-none-any.whl (15 kB)\n",
            "Collecting snuggs>=1.4.1 (from rasterio>=1.1->geedim->geemap[workshop])\n",
            "  Downloading snuggs-1.4.7-py3-none-any.whl (5.4 kB)\n",
            "Requirement already satisfied: charset-normalizer<4,>=2 in /usr/local/lib/python3.10/dist-packages (from requests->earthengine-api>=0.1.347->geemap[workshop]) (3.3.2)\n",
            "Requirement already satisfied: idna<4,>=2.5 in /usr/local/lib/python3.10/dist-packages (from requests->earthengine-api>=0.1.347->geemap[workshop]) (3.6)\n",
            "Requirement already satisfied: urllib3<3,>=1.21.1 in /usr/local/lib/python3.10/dist-packages (from requests->earthengine-api>=0.1.347->geemap[workshop]) (2.0.7)\n",
            "Requirement already satisfied: soupsieve>1.2 in /usr/local/lib/python3.10/dist-packages (from beautifulsoup4->gdown->geemap[workshop]) (2.5)\n",
            "Requirement already satisfied: google-cloud-core<3.0dev,>=2.3.0 in /usr/local/lib/python3.10/dist-packages (from google-cloud-storage->earthengine-api>=0.1.347->geemap[workshop]) (2.3.3)\n",
            "Requirement already satisfied: google-resumable-media>=2.3.2 in /usr/local/lib/python3.10/dist-packages (from google-cloud-storage->earthengine-api>=0.1.347->geemap[workshop]) (2.7.0)\n",
            "Requirement already satisfied: decorator in /usr/local/lib/python3.10/dist-packages (from ratelim->geocoder->geemap[workshop]) (4.4.2)\n",
            "Requirement already satisfied: PySocks!=1.5.7,>=1.5.6 in /usr/local/lib/python3.10/dist-packages (from requests->earthengine-api>=0.1.347->geemap[workshop]) (1.7.1)\n",
            "Requirement already satisfied: googleapis-common-protos<2.0.dev0,>=1.56.2 in /usr/local/lib/python3.10/dist-packages (from google-api-core!=2.0.*,!=2.1.*,!=2.2.*,!=2.3.0,<3.0.0dev,>=1.31.5->google-api-python-client>=1.12.1->earthengine-api>=0.1.347->geemap[workshop]) (1.62.0)\n",
            "Requirement already satisfied: protobuf!=3.20.0,!=3.20.1,!=4.21.0,!=4.21.1,!=4.21.2,!=4.21.3,!=4.21.4,!=4.21.5,<5.0.0.dev0,>=3.19.5 in /usr/local/lib/python3.10/dist-packages (from google-api-core!=2.0.*,!=2.1.*,!=2.2.*,!=2.3.0,<3.0.0dev,>=1.31.5->google-api-python-client>=1.12.1->earthengine-api>=0.1.347->geemap[workshop]) (3.20.3)\n",
            "Requirement already satisfied: google-crc32c<2.0dev,>=1.0 in /usr/local/lib/python3.10/dist-packages (from google-resumable-media>=2.3.2->google-cloud-storage->earthengine-api>=0.1.347->geemap[workshop]) (1.5.0)\n",
            "Requirement already satisfied: jupyter-client in /usr/local/lib/python3.10/dist-packages (from ipykernel>=4.5.1->ipywidgets->ipyfilechooser>=0.6.0->geemap[workshop]) (6.1.12)\n",
            "Requirement already satisfied: tornado>=4.2 in /usr/local/lib/python3.10/dist-packages (from ipykernel>=4.5.1->ipywidgets->ipyfilechooser>=0.6.0->geemap[workshop]) (6.3.2)\n",
            "Collecting jedi>=0.16 (from ipython>=4.0.0->ipywidgets->ipyfilechooser>=0.6.0->geemap[workshop])\n",
            "  Downloading jedi-0.19.1-py2.py3-none-any.whl (1.6 MB)\n",
            "\u001b[2K     \u001b[90m━━━━━━━━━━━━━━━━━━━━━━━━━━━━━━━━━━━━━━━━\u001b[0m \u001b[32m1.6/1.6 MB\u001b[0m \u001b[31m53.6 MB/s\u001b[0m eta \u001b[36m0:00:00\u001b[0m\n",
            "\u001b[?25hRequirement already satisfied: pickleshare in /usr/local/lib/python3.10/dist-packages (from ipython>=4.0.0->ipywidgets->ipyfilechooser>=0.6.0->geemap[workshop]) (0.7.5)\n",
            "Requirement already satisfied: prompt-toolkit!=3.0.0,!=3.0.1,<3.1.0,>=2.0.0 in /usr/local/lib/python3.10/dist-packages (from ipython>=4.0.0->ipywidgets->ipyfilechooser>=0.6.0->geemap[workshop]) (3.0.43)\n",
            "Requirement already satisfied: pygments in /usr/local/lib/python3.10/dist-packages (from ipython>=4.0.0->ipywidgets->ipyfilechooser>=0.6.0->geemap[workshop]) (2.16.1)\n",
            "Requirement already satisfied: backcall in /usr/local/lib/python3.10/dist-packages (from ipython>=4.0.0->ipywidgets->ipyfilechooser>=0.6.0->geemap[workshop]) (0.2.0)\n",
            "Requirement already satisfied: matplotlib-inline in /usr/local/lib/python3.10/dist-packages (from ipython>=4.0.0->ipywidgets->ipyfilechooser>=0.6.0->geemap[workshop]) (0.1.6)\n",
            "Requirement already satisfied: pexpect>4.3 in /usr/local/lib/python3.10/dist-packages (from ipython>=4.0.0->ipywidgets->ipyfilechooser>=0.6.0->geemap[workshop]) (4.9.0)\n",
            "Requirement already satisfied: pyasn1<0.6.0,>=0.4.6 in /usr/local/lib/python3.10/dist-packages (from pyasn1-modules>=0.2.1->google-auth>=1.4.1->earthengine-api>=0.1.347->geemap[workshop]) (0.5.1)\n",
            "Requirement already satisfied: notebook>=4.4.1 in /usr/local/lib/python3.10/dist-packages (from widgetsnbextension~=3.6.0->ipywidgets->ipyfilechooser>=0.6.0->geemap[workshop]) (6.5.5)\n",
            "Requirement already satisfied: parso<0.9.0,>=0.8.3 in /usr/local/lib/python3.10/dist-packages (from jedi>=0.16->ipython>=4.0.0->ipywidgets->ipyfilechooser>=0.6.0->geemap[workshop]) (0.8.3)\n",
            "Requirement already satisfied: pyzmq<25,>=17 in /usr/local/lib/python3.10/dist-packages (from notebook>=4.4.1->widgetsnbextension~=3.6.0->ipywidgets->ipyfilechooser>=0.6.0->geemap[workshop]) (23.2.1)\n",
            "Requirement already satisfied: argon2-cffi in /usr/local/lib/python3.10/dist-packages (from notebook>=4.4.1->widgetsnbextension~=3.6.0->ipywidgets->ipyfilechooser>=0.6.0->geemap[workshop]) (23.1.0)\n",
            "Requirement already satisfied: jupyter-core>=4.6.1 in /usr/local/lib/python3.10/dist-packages (from notebook>=4.4.1->widgetsnbextension~=3.6.0->ipywidgets->ipyfilechooser>=0.6.0->geemap[workshop]) (5.5.1)\n",
            "Requirement already satisfied: nbformat in /usr/local/lib/python3.10/dist-packages (from notebook>=4.4.1->widgetsnbextension~=3.6.0->ipywidgets->ipyfilechooser>=0.6.0->geemap[workshop]) (5.9.2)\n",
            "Requirement already satisfied: nbconvert>=5 in /usr/local/lib/python3.10/dist-packages (from notebook>=4.4.1->widgetsnbextension~=3.6.0->ipywidgets->ipyfilechooser>=0.6.0->geemap[workshop]) (6.5.4)\n",
            "Requirement already satisfied: nest-asyncio>=1.5 in /usr/local/lib/python3.10/dist-packages (from notebook>=4.4.1->widgetsnbextension~=3.6.0->ipywidgets->ipyfilechooser>=0.6.0->geemap[workshop]) (1.5.8)\n",
            "Requirement already satisfied: Send2Trash>=1.8.0 in /usr/local/lib/python3.10/dist-packages (from notebook>=4.4.1->widgetsnbextension~=3.6.0->ipywidgets->ipyfilechooser>=0.6.0->geemap[workshop]) (1.8.2)\n",
            "Requirement already satisfied: terminado>=0.8.3 in /usr/local/lib/python3.10/dist-packages (from notebook>=4.4.1->widgetsnbextension~=3.6.0->ipywidgets->ipyfilechooser>=0.6.0->geemap[workshop]) (0.18.0)\n",
            "Requirement already satisfied: prometheus-client in /usr/local/lib/python3.10/dist-packages (from notebook>=4.4.1->widgetsnbextension~=3.6.0->ipywidgets->ipyfilechooser>=0.6.0->geemap[workshop]) (0.19.0)\n",
            "Requirement already satisfied: nbclassic>=0.4.7 in /usr/local/lib/python3.10/dist-packages (from notebook>=4.4.1->widgetsnbextension~=3.6.0->ipywidgets->ipyfilechooser>=0.6.0->geemap[workshop]) (1.0.0)\n",
            "Requirement already satisfied: ptyprocess>=0.5 in /usr/local/lib/python3.10/dist-packages (from pexpect>4.3->ipython>=4.0.0->ipywidgets->ipyfilechooser>=0.6.0->geemap[workshop]) (0.7.0)\n",
            "Requirement already satisfied: wcwidth in /usr/local/lib/python3.10/dist-packages (from prompt-toolkit!=3.0.0,!=3.0.1,<3.1.0,>=2.0.0->ipython>=4.0.0->ipywidgets->ipyfilechooser>=0.6.0->geemap[workshop]) (0.2.12)\n",
            "Requirement already satisfied: platformdirs>=2.5 in /usr/local/lib/python3.10/dist-packages (from jupyter-core>=4.6.1->notebook>=4.4.1->widgetsnbextension~=3.6.0->ipywidgets->ipyfilechooser>=0.6.0->geemap[workshop]) (4.1.0)\n",
            "Requirement already satisfied: jupyter-server>=1.8 in /usr/local/lib/python3.10/dist-packages (from nbclassic>=0.4.7->notebook>=4.4.1->widgetsnbextension~=3.6.0->ipywidgets->ipyfilechooser>=0.6.0->geemap[workshop]) (1.24.0)\n",
            "Requirement already satisfied: notebook-shim>=0.2.3 in /usr/local/lib/python3.10/dist-packages (from nbclassic>=0.4.7->notebook>=4.4.1->widgetsnbextension~=3.6.0->ipywidgets->ipyfilechooser>=0.6.0->geemap[workshop]) (0.2.3)\n",
            "Requirement already satisfied: lxml in /usr/local/lib/python3.10/dist-packages (from nbconvert>=5->notebook>=4.4.1->widgetsnbextension~=3.6.0->ipywidgets->ipyfilechooser>=0.6.0->geemap[workshop]) (4.9.3)\n",
            "Requirement already satisfied: bleach in /usr/local/lib/python3.10/dist-packages (from nbconvert>=5->notebook>=4.4.1->widgetsnbextension~=3.6.0->ipywidgets->ipyfilechooser>=0.6.0->geemap[workshop]) (6.1.0)\n",
            "Requirement already satisfied: defusedxml in /usr/local/lib/python3.10/dist-packages (from nbconvert>=5->notebook>=4.4.1->widgetsnbextension~=3.6.0->ipywidgets->ipyfilechooser>=0.6.0->geemap[workshop]) (0.7.1)\n",
            "Requirement already satisfied: entrypoints>=0.2.2 in /usr/local/lib/python3.10/dist-packages (from nbconvert>=5->notebook>=4.4.1->widgetsnbextension~=3.6.0->ipywidgets->ipyfilechooser>=0.6.0->geemap[workshop]) (0.4)\n",
            "Requirement already satisfied: jupyterlab-pygments in /usr/local/lib/python3.10/dist-packages (from nbconvert>=5->notebook>=4.4.1->widgetsnbextension~=3.6.0->ipywidgets->ipyfilechooser>=0.6.0->geemap[workshop]) (0.3.0)\n",
            "Requirement already satisfied: mistune<2,>=0.8.1 in /usr/local/lib/python3.10/dist-packages (from nbconvert>=5->notebook>=4.4.1->widgetsnbextension~=3.6.0->ipywidgets->ipyfilechooser>=0.6.0->geemap[workshop]) (0.8.4)\n",
            "Requirement already satisfied: nbclient>=0.5.0 in /usr/local/lib/python3.10/dist-packages (from nbconvert>=5->notebook>=4.4.1->widgetsnbextension~=3.6.0->ipywidgets->ipyfilechooser>=0.6.0->geemap[workshop]) (0.9.0)\n",
            "Requirement already satisfied: pandocfilters>=1.4.1 in /usr/local/lib/python3.10/dist-packages (from nbconvert>=5->notebook>=4.4.1->widgetsnbextension~=3.6.0->ipywidgets->ipyfilechooser>=0.6.0->geemap[workshop]) (1.5.0)\n",
            "Requirement already satisfied: tinycss2 in /usr/local/lib/python3.10/dist-packages (from nbconvert>=5->notebook>=4.4.1->widgetsnbextension~=3.6.0->ipywidgets->ipyfilechooser>=0.6.0->geemap[workshop]) (1.2.1)\n",
            "Requirement already satisfied: fastjsonschema in /usr/local/lib/python3.10/dist-packages (from nbformat->notebook>=4.4.1->widgetsnbextension~=3.6.0->ipywidgets->ipyfilechooser>=0.6.0->geemap[workshop]) (2.19.0)\n",
            "Requirement already satisfied: jsonschema>=2.6 in /usr/local/lib/python3.10/dist-packages (from nbformat->notebook>=4.4.1->widgetsnbextension~=3.6.0->ipywidgets->ipyfilechooser>=0.6.0->geemap[workshop]) (4.19.2)\n",
            "Requirement already satisfied: argon2-cffi-bindings in /usr/local/lib/python3.10/dist-packages (from argon2-cffi->notebook>=4.4.1->widgetsnbextension~=3.6.0->ipywidgets->ipyfilechooser>=0.6.0->geemap[workshop]) (21.2.0)\n",
            "Requirement already satisfied: jsonschema-specifications>=2023.03.6 in /usr/local/lib/python3.10/dist-packages (from jsonschema>=2.6->nbformat->notebook>=4.4.1->widgetsnbextension~=3.6.0->ipywidgets->ipyfilechooser>=0.6.0->geemap[workshop]) (2023.11.2)\n",
            "Requirement already satisfied: referencing>=0.28.4 in /usr/local/lib/python3.10/dist-packages (from jsonschema>=2.6->nbformat->notebook>=4.4.1->widgetsnbextension~=3.6.0->ipywidgets->ipyfilechooser>=0.6.0->geemap[workshop]) (0.32.0)\n",
            "Requirement already satisfied: rpds-py>=0.7.1 in /usr/local/lib/python3.10/dist-packages (from jsonschema>=2.6->nbformat->notebook>=4.4.1->widgetsnbextension~=3.6.0->ipywidgets->ipyfilechooser>=0.6.0->geemap[workshop]) (0.15.2)\n",
            "Requirement already satisfied: anyio<4,>=3.1.0 in /usr/local/lib/python3.10/dist-packages (from jupyter-server>=1.8->nbclassic>=0.4.7->notebook>=4.4.1->widgetsnbextension~=3.6.0->ipywidgets->ipyfilechooser>=0.6.0->geemap[workshop]) (3.7.1)\n",
            "Requirement already satisfied: websocket-client in /usr/local/lib/python3.10/dist-packages (from jupyter-server>=1.8->nbclassic>=0.4.7->notebook>=4.4.1->widgetsnbextension~=3.6.0->ipywidgets->ipyfilechooser>=0.6.0->geemap[workshop]) (1.7.0)\n",
            "Requirement already satisfied: cffi>=1.0.1 in /usr/local/lib/python3.10/dist-packages (from argon2-cffi-bindings->argon2-cffi->notebook>=4.4.1->widgetsnbextension~=3.6.0->ipywidgets->ipyfilechooser>=0.6.0->geemap[workshop]) (1.16.0)\n",
            "Requirement already satisfied: webencodings in /usr/local/lib/python3.10/dist-packages (from bleach->nbconvert>=5->notebook>=4.4.1->widgetsnbextension~=3.6.0->ipywidgets->ipyfilechooser>=0.6.0->geemap[workshop]) (0.5.1)\n",
            "Requirement already satisfied: sniffio>=1.1 in /usr/local/lib/python3.10/dist-packages (from anyio<4,>=3.1.0->jupyter-server>=1.8->nbclassic>=0.4.7->notebook>=4.4.1->widgetsnbextension~=3.6.0->ipywidgets->ipyfilechooser>=0.6.0->geemap[workshop]) (1.3.0)\n",
            "Requirement already satisfied: exceptiongroup in /usr/local/lib/python3.10/dist-packages (from anyio<4,>=3.1.0->jupyter-server>=1.8->nbclassic>=0.4.7->notebook>=4.4.1->widgetsnbextension~=3.6.0->ipywidgets->ipyfilechooser>=0.6.0->geemap[workshop]) (1.2.0)\n",
            "Requirement already satisfied: pycparser in /usr/local/lib/python3.10/dist-packages (from cffi>=1.0.1->argon2-cffi-bindings->argon2-cffi->notebook>=4.4.1->widgetsnbextension~=3.6.0->ipywidgets->ipyfilechooser>=0.6.0->geemap[workshop]) (2.21)\n",
            "Installing collected packages: snuggs, jedi, ffmpeg-python, affine, rasterio, geedim, geemap\n",
            "  Attempting uninstall: geemap\n",
            "    Found existing installation: geemap 0.29.6\n",
            "    Uninstalling geemap-0.29.6:\n",
            "      Successfully uninstalled geemap-0.29.6\n",
            "Successfully installed affine-2.4.0 ffmpeg-python-0.2.0 geedim-1.7.2 geemap-0.30.0 jedi-0.19.1 rasterio-1.3.9 snuggs-1.4.7\n"
          ]
        },
        {
          "output_type": "display_data",
          "data": {
            "application/vnd.colab-display-data+json": {
              "pip_warning": {
                "packages": [
                  "geemap"
                ]
              }
            }
          },
          "metadata": {}
        }
      ],
      "source": [
        "%pip install -U \"geemap[workshop]\""
      ],
      "id": "IVoEt888r6Cl"
    },
    {
      "cell_type": "markdown",
      "metadata": {
        "id": "x9Pfs-ber6Co"
      },
      "source": [
        "Note that some geemap features do not work properly with Google Colab. If you are familiar with [Anaconda](https://www.anaconda.com/distribution/#download-section) or [Miniconda](https://docs.conda.io/en/latest/miniconda.html), it is recommended to create a new conda environment to install geemap and its optional dependencies on your local computer.\n",
        "\n",
        "```bash\n",
        "conda create -n gee python=3.11\n",
        "conda activate gee\n",
        "conda install -c conda-forge mamba\n",
        "mamba install -c conda-forge geemap pygis\n",
        "```"
      ],
      "id": "x9Pfs-ber6Co"
    },
    {
      "cell_type": "markdown",
      "metadata": {
        "id": "sg5w51CBr6Cp"
      },
      "source": [
        "### Import libraries\n",
        "\n",
        "Import the earthengine-api and geemap."
      ],
      "id": "sg5w51CBr6Cp"
    },
    {
      "cell_type": "code",
      "execution_count": null,
      "metadata": {
        "id": "hNuV8-mSr6Cr",
        "colab": {
          "base_uri": "https://localhost:8080/",
          "height": 17
        },
        "outputId": "95b28484-a272-462c-c1fc-a4c2f6f71df5"
      },
      "outputs": [
        {
          "output_type": "display_data",
          "data": {
            "text/plain": [
              "<IPython.core.display.HTML object>"
            ],
            "text/html": [
              "\n",
              "            <style>\n",
              "                .geemap-dark {\n",
              "                    --jp-widgets-color: white;\n",
              "                    --jp-widgets-label-color: white;\n",
              "                    --jp-ui-font-color1: white;\n",
              "                    --jp-layout-color2: #454545;\n",
              "                    background-color: #383838;\n",
              "                }\n",
              "                    \n",
              "                .geemap-dark .jupyter-button {\n",
              "                    --jp-layout-color3: #383838;\n",
              "                }\n",
              "                \n",
              "                .geemap-colab {\n",
              "                    background-color: var(--colab-primary-surface-color, white);\n",
              "                }\n",
              "                    \n",
              "                .geemap-colab .jupyter-button {\n",
              "                    --jp-layout-color3: var(--colab-primary-surface-color, white);\n",
              "                }\n",
              "            </style>\n",
              "            "
            ]
          },
          "metadata": {}
        }
      ],
      "source": [
        "import ee\n",
        "import geemap"
      ],
      "id": "hNuV8-mSr6Cr"
    },
    {
      "cell_type": "markdown",
      "metadata": {
        "id": "0Vmu1IFUr6Cs"
      },
      "source": [
        "### Authenticate and initialize Earth Engine\n",
        "\n",
        "You will need to create a [Google Cloud Project](https://console.cloud.google.com/projectcreate) and enable the [Earth Engine API](https://console.cloud.google.com/apis/api/earthengine.googleapis.com) for the project. You can find detailed instructions [here](https://book.geemap.org/chapters/01_introduction.html#earth-engine-authentication)."
      ],
      "id": "0Vmu1IFUr6Cs"
    },
    {
      "cell_type": "code",
      "execution_count": null,
      "metadata": {
        "id": "raPYdhojr6Ct",
        "colab": {
          "base_uri": "https://localhost:8080/",
          "height": 34
        },
        "outputId": "748a101e-eeb1-4b46-f9af-34c8cd944616"
      },
      "outputs": [
        {
          "output_type": "display_data",
          "data": {
            "text/plain": [
              "<IPython.core.display.HTML object>"
            ],
            "text/html": [
              "\n",
              "            <style>\n",
              "                .geemap-dark {\n",
              "                    --jp-widgets-color: white;\n",
              "                    --jp-widgets-label-color: white;\n",
              "                    --jp-ui-font-color1: white;\n",
              "                    --jp-layout-color2: #454545;\n",
              "                    background-color: #383838;\n",
              "                }\n",
              "                    \n",
              "                .geemap-dark .jupyter-button {\n",
              "                    --jp-layout-color3: #383838;\n",
              "                }\n",
              "                \n",
              "                .geemap-colab {\n",
              "                    background-color: var(--colab-primary-surface-color, white);\n",
              "                }\n",
              "                    \n",
              "                .geemap-colab .jupyter-button {\n",
              "                    --jp-layout-color3: var(--colab-primary-surface-color, white);\n",
              "                }\n",
              "            </style>\n",
              "            "
            ]
          },
          "metadata": {}
        },
        {
          "output_type": "execute_result",
          "data": {
            "text/plain": [
              "True"
            ]
          },
          "metadata": {},
          "execution_count": 9
        }
      ],
      "source": [
        "ee.Authenticate()"
      ],
      "id": "raPYdhojr6Ct"
    },
    {
      "cell_type": "code",
      "execution_count": null,
      "metadata": {
        "id": "IdlLA1m3r6Cv",
        "colab": {
          "base_uri": "https://localhost:8080/",
          "height": 668
        },
        "outputId": "26eb90e5-5c22-4b7e-9223-ea5bf5fc3f1b"
      },
      "outputs": [
        {
          "output_type": "display_data",
          "data": {
            "text/plain": [
              "<IPython.core.display.HTML object>"
            ],
            "text/html": [
              "\n",
              "            <style>\n",
              "                .geemap-dark {\n",
              "                    --jp-widgets-color: white;\n",
              "                    --jp-widgets-label-color: white;\n",
              "                    --jp-ui-font-color1: white;\n",
              "                    --jp-layout-color2: #454545;\n",
              "                    background-color: #383838;\n",
              "                }\n",
              "                    \n",
              "                .geemap-dark .jupyter-button {\n",
              "                    --jp-layout-color3: #383838;\n",
              "                }\n",
              "                \n",
              "                .geemap-colab {\n",
              "                    background-color: var(--colab-primary-surface-color, white);\n",
              "                }\n",
              "                    \n",
              "                .geemap-colab .jupyter-button {\n",
              "                    --jp-layout-color3: var(--colab-primary-surface-color, white);\n",
              "                }\n",
              "            </style>\n",
              "            "
            ]
          },
          "metadata": {}
        },
        {
          "output_type": "stream",
          "name": "stderr",
          "text": [
            "WARNING:googleapiclient.http:Encountered 403 Forbidden with reason \"PERMISSION_DENIED\"\n"
          ]
        },
        {
          "output_type": "error",
          "ename": "EEException",
          "evalue": "ignored",
          "traceback": [
            "\u001b[0;31m---------------------------------------------------------------------------\u001b[0m",
            "\u001b[0;31mHttpError\u001b[0m                                 Traceback (most recent call last)",
            "\u001b[0;32m/usr/local/lib/python3.10/dist-packages/ee/data.py\u001b[0m in \u001b[0;36m_execute_cloud_call\u001b[0;34m(call, num_retries)\u001b[0m\n\u001b[1;32m    382\u001b[0m   \u001b[0;32mtry\u001b[0m\u001b[0;34m:\u001b[0m\u001b[0;34m\u001b[0m\u001b[0;34m\u001b[0m\u001b[0m\n\u001b[0;32m--> 383\u001b[0;31m     \u001b[0;32mreturn\u001b[0m \u001b[0mcall\u001b[0m\u001b[0;34m.\u001b[0m\u001b[0mexecute\u001b[0m\u001b[0;34m(\u001b[0m\u001b[0mnum_retries\u001b[0m\u001b[0;34m=\u001b[0m\u001b[0mnum_retries\u001b[0m\u001b[0;34m)\u001b[0m\u001b[0;34m\u001b[0m\u001b[0;34m\u001b[0m\u001b[0m\n\u001b[0m\u001b[1;32m    384\u001b[0m   \u001b[0;32mexcept\u001b[0m \u001b[0mgoogleapiclient\u001b[0m\u001b[0;34m.\u001b[0m\u001b[0merrors\u001b[0m\u001b[0;34m.\u001b[0m\u001b[0mHttpError\u001b[0m \u001b[0;32mas\u001b[0m \u001b[0me\u001b[0m\u001b[0;34m:\u001b[0m\u001b[0;34m\u001b[0m\u001b[0;34m\u001b[0m\u001b[0m\n",
            "\u001b[0;32m/usr/local/lib/python3.10/dist-packages/googleapiclient/_helpers.py\u001b[0m in \u001b[0;36mpositional_wrapper\u001b[0;34m(*args, **kwargs)\u001b[0m\n\u001b[1;32m    129\u001b[0m                     \u001b[0mlogger\u001b[0m\u001b[0;34m.\u001b[0m\u001b[0mwarning\u001b[0m\u001b[0;34m(\u001b[0m\u001b[0mmessage\u001b[0m\u001b[0;34m)\u001b[0m\u001b[0;34m\u001b[0m\u001b[0;34m\u001b[0m\u001b[0m\n\u001b[0;32m--> 130\u001b[0;31m             \u001b[0;32mreturn\u001b[0m \u001b[0mwrapped\u001b[0m\u001b[0;34m(\u001b[0m\u001b[0;34m*\u001b[0m\u001b[0margs\u001b[0m\u001b[0;34m,\u001b[0m \u001b[0;34m**\u001b[0m\u001b[0mkwargs\u001b[0m\u001b[0;34m)\u001b[0m\u001b[0;34m\u001b[0m\u001b[0;34m\u001b[0m\u001b[0m\n\u001b[0m\u001b[1;32m    131\u001b[0m \u001b[0;34m\u001b[0m\u001b[0m\n",
            "\u001b[0;32m/usr/local/lib/python3.10/dist-packages/googleapiclient/http.py\u001b[0m in \u001b[0;36mexecute\u001b[0;34m(self, http, num_retries)\u001b[0m\n\u001b[1;32m    937\u001b[0m         \u001b[0;32mif\u001b[0m \u001b[0mresp\u001b[0m\u001b[0;34m.\u001b[0m\u001b[0mstatus\u001b[0m \u001b[0;34m>=\u001b[0m \u001b[0;36m300\u001b[0m\u001b[0;34m:\u001b[0m\u001b[0;34m\u001b[0m\u001b[0;34m\u001b[0m\u001b[0m\n\u001b[0;32m--> 938\u001b[0;31m             \u001b[0;32mraise\u001b[0m \u001b[0mHttpError\u001b[0m\u001b[0;34m(\u001b[0m\u001b[0mresp\u001b[0m\u001b[0;34m,\u001b[0m \u001b[0mcontent\u001b[0m\u001b[0;34m,\u001b[0m \u001b[0muri\u001b[0m\u001b[0;34m=\u001b[0m\u001b[0mself\u001b[0m\u001b[0;34m.\u001b[0m\u001b[0muri\u001b[0m\u001b[0;34m)\u001b[0m\u001b[0;34m\u001b[0m\u001b[0;34m\u001b[0m\u001b[0m\n\u001b[0m\u001b[1;32m    939\u001b[0m         \u001b[0;32mreturn\u001b[0m \u001b[0mself\u001b[0m\u001b[0;34m.\u001b[0m\u001b[0mpostproc\u001b[0m\u001b[0;34m(\u001b[0m\u001b[0mresp\u001b[0m\u001b[0;34m,\u001b[0m \u001b[0mcontent\u001b[0m\u001b[0;34m)\u001b[0m\u001b[0;34m\u001b[0m\u001b[0;34m\u001b[0m\u001b[0m\n",
            "\u001b[0;31mHttpError\u001b[0m: <HttpError 403 when requesting https://earthengine.googleapis.com/v1/projects/earthengine-legacy/algorithms?prettyPrint=false&alt=json returned \"Google Earth Engine API has not been used in project 522309567947 before or it is disabled. Enable it by visiting https://console.developers.google.com/apis/api/earthengine.googleapis.com/overview?project=522309567947 then retry. If you enabled this API recently, wait a few minutes for the action to propagate to our systems and retry.\". Details: \"[{'@type': 'type.googleapis.com/google.rpc.Help', 'links': [{'description': 'Google developers console API activation', 'url': 'https://console.developers.google.com/apis/api/earthengine.googleapis.com/overview?project=522309567947'}]}, {'@type': 'type.googleapis.com/google.rpc.ErrorInfo', 'reason': 'SERVICE_DISABLED', 'domain': 'googleapis.com', 'metadata': {'service': 'earthengine.googleapis.com', 'consumer': 'projects/522309567947'}}]\">",
            "\nDuring handling of the above exception, another exception occurred:\n",
            "\u001b[0;31mEEException\u001b[0m                               Traceback (most recent call last)",
            "\u001b[0;32m<ipython-input-11-99e03d56abd3>\u001b[0m in \u001b[0;36m<cell line: 1>\u001b[0;34m()\u001b[0m\n\u001b[0;32m----> 1\u001b[0;31m \u001b[0mee\u001b[0m\u001b[0;34m.\u001b[0m\u001b[0mInitialize\u001b[0m\u001b[0;34m(\u001b[0m\u001b[0;34m)\u001b[0m\u001b[0;34m\u001b[0m\u001b[0;34m\u001b[0m\u001b[0m\n\u001b[0m",
            "\u001b[0;32m/usr/local/lib/python3.10/dist-packages/ee/_utils.py\u001b[0m in \u001b[0;36mwrapper\u001b[0;34m(*args, **kwargs)\u001b[0m\n\u001b[1;32m     37\u001b[0m           \u001b[0;32mif\u001b[0m \u001b[0mnew_key\u001b[0m \u001b[0;32mnot\u001b[0m \u001b[0;32min\u001b[0m \u001b[0mkwargs\u001b[0m\u001b[0;34m:\u001b[0m\u001b[0;34m\u001b[0m\u001b[0;34m\u001b[0m\u001b[0m\n\u001b[1;32m     38\u001b[0m             \u001b[0mkwargs\u001b[0m\u001b[0;34m[\u001b[0m\u001b[0mnew_key\u001b[0m\u001b[0;34m]\u001b[0m \u001b[0;34m=\u001b[0m \u001b[0mold_key_val\u001b[0m\u001b[0;34m\u001b[0m\u001b[0;34m\u001b[0m\u001b[0m\n\u001b[0;32m---> 39\u001b[0;31m       \u001b[0;32mreturn\u001b[0m \u001b[0mfunc\u001b[0m\u001b[0;34m(\u001b[0m\u001b[0;34m*\u001b[0m\u001b[0margs\u001b[0m\u001b[0;34m,\u001b[0m \u001b[0;34m**\u001b[0m\u001b[0mkwargs\u001b[0m\u001b[0;34m)\u001b[0m\u001b[0;34m\u001b[0m\u001b[0;34m\u001b[0m\u001b[0m\n\u001b[0m\u001b[1;32m     40\u001b[0m \u001b[0;34m\u001b[0m\u001b[0m\n\u001b[1;32m     41\u001b[0m     \u001b[0;32mreturn\u001b[0m \u001b[0mwrapper\u001b[0m\u001b[0;34m\u001b[0m\u001b[0;34m\u001b[0m\u001b[0m\n",
            "\u001b[0;32m/usr/local/lib/python3.10/dist-packages/ee/__init__.py\u001b[0m in \u001b[0;36mInitialize\u001b[0;34m(credentials, url, cloud_api_key, http_transport, project)\u001b[0m\n\u001b[1;32m    149\u001b[0m \u001b[0;34m\u001b[0m\u001b[0m\n\u001b[1;32m    150\u001b[0m   \u001b[0;31m# Initialize the dynamically loaded functions on the objects that want them.\u001b[0m\u001b[0;34m\u001b[0m\u001b[0;34m\u001b[0m\u001b[0m\n\u001b[0;32m--> 151\u001b[0;31m   \u001b[0mApiFunction\u001b[0m\u001b[0;34m.\u001b[0m\u001b[0minitialize\u001b[0m\u001b[0;34m(\u001b[0m\u001b[0;34m)\u001b[0m\u001b[0;34m\u001b[0m\u001b[0;34m\u001b[0m\u001b[0m\n\u001b[0m\u001b[1;32m    152\u001b[0m   \u001b[0mBlob\u001b[0m\u001b[0;34m.\u001b[0m\u001b[0minitialize\u001b[0m\u001b[0;34m(\u001b[0m\u001b[0;34m)\u001b[0m\u001b[0;34m\u001b[0m\u001b[0;34m\u001b[0m\u001b[0m\n\u001b[1;32m    153\u001b[0m   \u001b[0mCollection\u001b[0m\u001b[0;34m.\u001b[0m\u001b[0minitialize\u001b[0m\u001b[0;34m(\u001b[0m\u001b[0;34m)\u001b[0m\u001b[0;34m\u001b[0m\u001b[0;34m\u001b[0m\u001b[0m\n",
            "\u001b[0;32m/usr/local/lib/python3.10/dist-packages/ee/apifunction.py\u001b[0m in \u001b[0;36minitialize\u001b[0;34m(cls)\u001b[0m\n\u001b[1;32m    160\u001b[0m     \u001b[0;34m\"\"\"Initializes the list of signatures from the Earth Engine front-end.\"\"\"\u001b[0m\u001b[0;34m\u001b[0m\u001b[0;34m\u001b[0m\u001b[0m\n\u001b[1;32m    161\u001b[0m     \u001b[0;32mif\u001b[0m \u001b[0;32mnot\u001b[0m \u001b[0mcls\u001b[0m\u001b[0;34m.\u001b[0m\u001b[0m_api\u001b[0m\u001b[0;34m:\u001b[0m\u001b[0;34m\u001b[0m\u001b[0;34m\u001b[0m\u001b[0m\n\u001b[0;32m--> 162\u001b[0;31m       \u001b[0msignatures\u001b[0m \u001b[0;34m=\u001b[0m \u001b[0mdata\u001b[0m\u001b[0;34m.\u001b[0m\u001b[0mgetAlgorithms\u001b[0m\u001b[0;34m(\u001b[0m\u001b[0;34m)\u001b[0m\u001b[0;34m\u001b[0m\u001b[0;34m\u001b[0m\u001b[0m\n\u001b[0m\u001b[1;32m    163\u001b[0m       \u001b[0mapi\u001b[0m \u001b[0;34m=\u001b[0m \u001b[0;34m{\u001b[0m\u001b[0;34m}\u001b[0m\u001b[0;34m\u001b[0m\u001b[0;34m\u001b[0m\u001b[0m\n\u001b[1;32m    164\u001b[0m       \u001b[0;32mfor\u001b[0m \u001b[0mname\u001b[0m\u001b[0;34m,\u001b[0m \u001b[0msig\u001b[0m \u001b[0;32min\u001b[0m \u001b[0msignatures\u001b[0m\u001b[0;34m.\u001b[0m\u001b[0mitems\u001b[0m\u001b[0;34m(\u001b[0m\u001b[0;34m)\u001b[0m\u001b[0;34m:\u001b[0m\u001b[0;34m\u001b[0m\u001b[0;34m\u001b[0m\u001b[0m\n",
            "\u001b[0;32m/usr/local/lib/python3.10/dist-packages/ee/data.py\u001b[0m in \u001b[0;36mgetAlgorithms\u001b[0;34m()\u001b[0m\n\u001b[1;32m   1447\u001b[0m           file=sys.stderr)\n\u001b[1;32m   1448\u001b[0m   \u001b[0mcall\u001b[0m\u001b[0;34m.\u001b[0m\u001b[0madd_response_callback\u001b[0m\u001b[0;34m(\u001b[0m\u001b[0minspect\u001b[0m\u001b[0;34m)\u001b[0m\u001b[0;34m\u001b[0m\u001b[0;34m\u001b[0m\u001b[0m\n\u001b[0;32m-> 1449\u001b[0;31m   \u001b[0;32mreturn\u001b[0m \u001b[0m_cloud_api_utils\u001b[0m\u001b[0;34m.\u001b[0m\u001b[0mconvert_algorithms\u001b[0m\u001b[0;34m(\u001b[0m\u001b[0m_execute_cloud_call\u001b[0m\u001b[0;34m(\u001b[0m\u001b[0mcall\u001b[0m\u001b[0;34m)\u001b[0m\u001b[0;34m)\u001b[0m\u001b[0;34m\u001b[0m\u001b[0;34m\u001b[0m\u001b[0m\n\u001b[0m\u001b[1;32m   1450\u001b[0m \u001b[0;34m\u001b[0m\u001b[0m\n\u001b[1;32m   1451\u001b[0m \u001b[0;34m\u001b[0m\u001b[0m\n",
            "\u001b[0;32m/usr/local/lib/python3.10/dist-packages/ee/data.py\u001b[0m in \u001b[0;36m_execute_cloud_call\u001b[0;34m(call, num_retries)\u001b[0m\n\u001b[1;32m    383\u001b[0m     \u001b[0;32mreturn\u001b[0m \u001b[0mcall\u001b[0m\u001b[0;34m.\u001b[0m\u001b[0mexecute\u001b[0m\u001b[0;34m(\u001b[0m\u001b[0mnum_retries\u001b[0m\u001b[0;34m=\u001b[0m\u001b[0mnum_retries\u001b[0m\u001b[0;34m)\u001b[0m\u001b[0;34m\u001b[0m\u001b[0;34m\u001b[0m\u001b[0m\n\u001b[1;32m    384\u001b[0m   \u001b[0;32mexcept\u001b[0m \u001b[0mgoogleapiclient\u001b[0m\u001b[0;34m.\u001b[0m\u001b[0merrors\u001b[0m\u001b[0;34m.\u001b[0m\u001b[0mHttpError\u001b[0m \u001b[0;32mas\u001b[0m \u001b[0me\u001b[0m\u001b[0;34m:\u001b[0m\u001b[0;34m\u001b[0m\u001b[0;34m\u001b[0m\u001b[0m\n\u001b[0;32m--> 385\u001b[0;31m     \u001b[0;32mraise\u001b[0m \u001b[0m_translate_cloud_exception\u001b[0m\u001b[0;34m(\u001b[0m\u001b[0me\u001b[0m\u001b[0;34m)\u001b[0m  \u001b[0;31m# pylint: disable=raise-missing-from\u001b[0m\u001b[0;34m\u001b[0m\u001b[0;34m\u001b[0m\u001b[0m\n\u001b[0m\u001b[1;32m    386\u001b[0m \u001b[0;34m\u001b[0m\u001b[0m\n\u001b[1;32m    387\u001b[0m \u001b[0;34m\u001b[0m\u001b[0m\n",
            "\u001b[0;31mEEException\u001b[0m: Google Earth Engine API has not been used in project 522309567947 before or it is disabled. Enable it by visiting https://console.developers.google.com/apis/api/earthengine.googleapis.com/overview?project=522309567947 then retry. If you enabled this API recently, wait a few minutes for the action to propagate to our systems and retry."
          ]
        }
      ],
      "source": [
        "ee.Initialize()"
      ],
      "id": "IdlLA1m3r6Cv"
    },
    {
      "cell_type": "markdown",
      "metadata": {
        "id": "wPGzc0gtr6Cw"
      },
      "source": [
        "## Creating interactive maps\n",
        "\n",
        "Let's create an interactive map using the `ipyleaflet` plotting backend. The [`geemap.Map`](https://geemap.org/geemap/#geemap.geemap.m) class inherits the [`ipyleaflet.Map`](https://ipyleaflet.readthedocs.io/en/latest/map_and_basemaps/map.html) class. Therefore, you can use the same syntax to create an interactive map as you would with `ipyleaflet.Map`."
      ],
      "id": "wPGzc0gtr6Cw"
    },
    {
      "cell_type": "code",
      "execution_count": null,
      "metadata": {
        "id": "J0AVjRGGr6Cy"
      },
      "outputs": [],
      "source": [
        "m = geemap.Map()"
      ],
      "id": "J0AVjRGGr6Cy"
    },
    {
      "cell_type": "markdown",
      "metadata": {
        "id": "_slmXctzr6Cz"
      },
      "source": [
        "To display it in a Jupyter notebook, simply ask for the object representation:"
      ],
      "id": "_slmXctzr6Cz"
    },
    {
      "cell_type": "code",
      "execution_count": null,
      "metadata": {
        "id": "DglOAUgCr6Cz"
      },
      "outputs": [],
      "source": [
        "m"
      ],
      "id": "DglOAUgCr6Cz"
    },
    {
      "cell_type": "markdown",
      "metadata": {
        "id": "oqei9QN3r6C0"
      },
      "source": [
        "To customize the map, you can specify various keyword arguments, such as `center` ([lat, lon]), `zoom`, `width`, and `height`. The default `width` is `100%`, which takes up the entire cell width of the Jupyter notebook. The `height` argument accepts a number or a string. If a number is provided, it represents the height of the map in pixels. If a string is provided, the string must be in the format of a number followed by `px`, e.g., `600px`."
      ],
      "id": "oqei9QN3r6C0"
    },
    {
      "cell_type": "code",
      "execution_count": null,
      "metadata": {
        "id": "R7KZLdG_r6C0"
      },
      "outputs": [],
      "source": [
        "m = geemap.Map(center=[40, -100], zoom=4, height=600)\n",
        "m"
      ],
      "id": "R7KZLdG_r6C0"
    },
    {
      "cell_type": "markdown",
      "metadata": {
        "id": "SRwaXzJzr6C1"
      },
      "source": [
        "To hide a control, set `control_name` to `False`, e.g., `draw_ctrl=False`."
      ],
      "id": "SRwaXzJzr6C1"
    },
    {
      "cell_type": "code",
      "execution_count": null,
      "metadata": {
        "id": "uDhTlDyjr6C1"
      },
      "outputs": [],
      "source": [
        "m = geemap.Map(data_ctrl=False, toolbar_ctrl=False, draw_ctrl=False)\n",
        "m"
      ],
      "id": "uDhTlDyjr6C1"
    },
    {
      "cell_type": "markdown",
      "metadata": {
        "id": "sQTpvkUhr6C1"
      },
      "source": [
        "### Adding basemaps\n",
        "\n",
        "There are several ways to add basemaps to a map. You can specify the basemap to use in the `basemap` keyword argument when creating the map. Alternatively, you can add basemap layers to the map using the `add_basemap` method. Geemap has hundreds of built-in basemaps available that can be easily added to the map with only one line of code.\n",
        "\n",
        "Create a map by specifying the basemap to use as follows. For example, the `Esri.WorldImagery` basemap represents the Esri world imagery basemap."
      ],
      "id": "sQTpvkUhr6C1"
    },
    {
      "cell_type": "code",
      "execution_count": null,
      "metadata": {
        "id": "kbWEOjHur6C2"
      },
      "outputs": [],
      "source": [
        "m = geemap.Map(basemap='Esri.WorldImagery')\n",
        "m"
      ],
      "id": "kbWEOjHur6C2"
    },
    {
      "cell_type": "markdown",
      "metadata": {
        "id": "D17LHjGYr6C3"
      },
      "source": [
        "You can add as many basemaps as you like to the map. For example, the following code adds the `OpenTopoMap` basemap to the map above:"
      ],
      "id": "D17LHjGYr6C3"
    },
    {
      "cell_type": "code",
      "execution_count": null,
      "metadata": {
        "id": "IpYdGXIMr6C3"
      },
      "outputs": [],
      "source": [
        "m.add_basemap('Esri.WorldTopoMap')"
      ],
      "id": "IpYdGXIMr6C3"
    },
    {
      "cell_type": "code",
      "execution_count": null,
      "metadata": {
        "id": "mCc__wk7r6C3"
      },
      "outputs": [],
      "source": [
        "m.add_basemap('OpenTopoMap')"
      ],
      "id": "mCc__wk7r6C3"
    },
    {
      "cell_type": "markdown",
      "metadata": {
        "id": "FXALPptPr6C4"
      },
      "source": [
        "Print out the first 10 basemaps:"
      ],
      "id": "FXALPptPr6C4"
    },
    {
      "cell_type": "code",
      "execution_count": null,
      "metadata": {
        "id": "b6cXaNtor6C4"
      },
      "outputs": [],
      "source": [
        "basemaps = list(geemap.basemaps.keys())\n",
        "len(geemap.basemaps)"
      ],
      "id": "b6cXaNtor6C4"
    },
    {
      "cell_type": "code",
      "execution_count": null,
      "metadata": {
        "id": "B7xyxd6Qr6C4"
      },
      "outputs": [],
      "source": [
        "basemaps[:10]"
      ],
      "id": "B7xyxd6Qr6C4"
    },
    {
      "cell_type": "markdown",
      "metadata": {
        "id": "kODSeBZzr6C5"
      },
      "source": [
        "You can also change basemaps interactively using the basemap GUI."
      ],
      "id": "kODSeBZzr6C5"
    },
    {
      "cell_type": "markdown",
      "metadata": {
        "id": "5DTaW2Ovr6C5"
      },
      "source": [
        "## Using Earth Engine data (30 mins)\n",
        "\n",
        "### Earth Engine data types (Image, ImageCollection, Geometry, Feature, FeatureCollection)\n",
        "\n",
        "Earth Engine objects are server-side objects rather than client-side objects, which means that they are not stored locally on your computer. Similar to video streaming services (e.g., YouTube, Netflix, and Hulu), which store videos/movies on their servers, Earth Engine data are stored on the Earth Engine servers. We can stream geospatial data from Earth Engine on-the-fly without having to download the data just like we can watch videos from streaming services using a web browser without having to download the entire video to your computer.\n",
        "\n",
        "-   **Image**: the fundamental raster data type in Earth Engine.\n",
        "-   **ImageCollection**: a stack or time-series of images.\n",
        "-   **Geometry**: the fundamental vector data type in Earth Engine.\n",
        "-   **Feature**: a Geometry with attributes.\n",
        "-   **FeatureCollection**: a set of features.\n",
        "\n",
        "### Image\n",
        "\n",
        "Raster data in Earth Engine are represented as **Image** objects. Images are composed of one or more bands and each band has its own name, data type, scale, mask and projection. Each image has metadata stored as a set of properties.\n",
        "\n",
        "#### Loading Earth Engine images"
      ],
      "id": "5DTaW2Ovr6C5"
    },
    {
      "cell_type": "code",
      "execution_count": null,
      "metadata": {
        "id": "Q2yEksHQr6C5"
      },
      "outputs": [],
      "source": [
        "image = ee.Image('USGS/SRTMGL1_003')\n",
        "image"
      ],
      "id": "Q2yEksHQr6C5"
    },
    {
      "cell_type": "markdown",
      "metadata": {
        "id": "kHzosLAmr6C6"
      },
      "source": [
        "#### Visualizing Earth Engine images"
      ],
      "id": "kHzosLAmr6C6"
    },
    {
      "cell_type": "code",
      "execution_count": null,
      "metadata": {
        "id": "DLl630ISr6C6"
      },
      "outputs": [],
      "source": [
        "m = geemap.Map(center=[21.79, 70.87], zoom=3)\n",
        "image = ee.Image('USGS/SRTMGL1_003')\n",
        "vis_params = {\n",
        "    'min': 0,\n",
        "    'max': 6000,\n",
        "    'palette': ['006633', 'E5FFCC', '662A00', 'D8D8D8', 'F5F5F5'], # 'terrain'\n",
        "}\n",
        "m.add_layer(image, vis_params, 'SRTM')\n",
        "m"
      ],
      "id": "DLl630ISr6C6"
    },
    {
      "cell_type": "markdown",
      "metadata": {
        "id": "RDWSv6a4r6C6"
      },
      "source": [
        "### ImageCollection\n",
        "\n",
        "An `ImageCollection` is a stack or sequence of images. An `ImageCollection` can be loaded by passing an Earth Engine asset ID into the `ImageCollection` constructor. You can find `ImageCollection` IDs in the [Earth Engine Data Catalog](https://developers.google.com/earth-engine/datasets).\n",
        "\n",
        "#### Loading image collections\n",
        "\n",
        "For example, to load the image collection of the [Sentinel-2 surface reflectance](https://developers.google.com/earth-engine/datasets/catalog/COPERNICUS_S2_SR):"
      ],
      "id": "RDWSv6a4r6C6"
    },
    {
      "cell_type": "code",
      "execution_count": null,
      "metadata": {
        "id": "UxnUl_51r6C7"
      },
      "outputs": [],
      "source": [
        "collection = ee.ImageCollection('COPERNICUS/S2_SR')"
      ],
      "id": "UxnUl_51r6C7"
    },
    {
      "cell_type": "markdown",
      "metadata": {
        "id": "FsNb-glur6C7"
      },
      "source": [
        "#### Visualizing image collections\n",
        "\n",
        "To visualize an Earth Engine **ImageCollection**, we need to convert an **ImageCollection** to an **Image** by compositing all the images in the collection to a single image representing, for example, the min, max, median, mean or standard deviation of the images. For example, to create a median value image from a collection, use the `collection.median()` method. Let's create a median image from the Sentinel-2 surface reflectance collection:"
      ],
      "id": "FsNb-glur6C7"
    },
    {
      "cell_type": "code",
      "execution_count": null,
      "metadata": {
        "id": "WbSe_Iihr6C8"
      },
      "outputs": [],
      "source": [
        "m = geemap.Map()\n",
        "collection = ee.ImageCollection('COPERNICUS/S2_SR')\n",
        "image = collection.median()\n",
        "\n",
        "vis = {\n",
        "    'min': 0.0,\n",
        "    'max': 3000,\n",
        "    'bands': ['B4', 'B3', 'B2'],\n",
        "}\n",
        "\n",
        "m.set_center(83.277, 17.7009, 12)\n",
        "m.add_layer(image, vis, 'Sentinel-2')\n",
        "m"
      ],
      "id": "WbSe_Iihr6C8"
    },
    {
      "cell_type": "markdown",
      "metadata": {
        "id": "6PHoHQwVr6C9"
      },
      "source": [
        "#### Filtering image collections"
      ],
      "id": "6PHoHQwVr6C9"
    },
    {
      "cell_type": "code",
      "execution_count": null,
      "metadata": {
        "id": "WTuacvv5r6C9"
      },
      "outputs": [],
      "source": [
        "m = geemap.Map()\n",
        "collection = (\n",
        "    ee.ImageCollection('COPERNICUS/S2_SR')\n",
        "    .filterDate('2021-01-01', '2022-01-01')\n",
        "    .filter(ee.Filter.lt('CLOUDY_PIXEL_PERCENTAGE', 5))\n",
        ")\n",
        "image = collection.median()\n",
        "\n",
        "vis = {\n",
        "    'min': 0.0,\n",
        "    'max': 3000,\n",
        "    'bands': ['B4', 'B3', 'B2'],\n",
        "}\n",
        "\n",
        "m.set_center(83.277, 17.7009, 12)\n",
        "m.add_layer(image, vis, 'Sentinel-2')\n",
        "m"
      ],
      "id": "WTuacvv5r6C9"
    },
    {
      "cell_type": "markdown",
      "metadata": {
        "id": "jhbtAJPAr6C9"
      },
      "source": [
        "### FeatureCollection\n",
        "\n",
        "A **FeatureCollection** is a collection of Features. A FeatureCollection is analogous to a GeoJSON FeatureCollection object, i.e., a collection of features with associated properties/attributes. Data contained in a shapefile can be represented as a FeatureCollection.\n",
        "\n",
        "#### Loading feature collections\n",
        "\n",
        "The [Earth Engine Data Catalog](https://developers.google.com/earth-engine/datasets) hosts a variety of vector datasets (e.g,, US Census data, country boundaries, and more) as feature collections. You can find feature collection IDs by searching the data catalog. For example, to load the [TIGER roads data](https://developers.google.com/earth-engine/datasets/catalog/TIGER_2016_Roads) by the U.S. Census Bureau:"
      ],
      "id": "jhbtAJPAr6C9"
    },
    {
      "cell_type": "code",
      "execution_count": null,
      "metadata": {
        "id": "6eHuJWfur6C-"
      },
      "outputs": [],
      "source": [
        "m = geemap.Map()\n",
        "fc = ee.FeatureCollection('TIGER/2016/Roads')\n",
        "m.set_center(-73.9596, 40.7688, 12)\n",
        "m.add_layer(fc, {}, 'Census roads')\n",
        "m"
      ],
      "id": "6eHuJWfur6C-"
    },
    {
      "cell_type": "markdown",
      "metadata": {
        "id": "2xvFvKWIr6C-"
      },
      "source": [
        "#### Filtering feature collections"
      ],
      "id": "2xvFvKWIr6C-"
    },
    {
      "cell_type": "code",
      "execution_count": null,
      "metadata": {
        "id": "DDq4cwN-r6C-"
      },
      "outputs": [],
      "source": [
        "m = geemap.Map()\n",
        "states = ee.FeatureCollection('TIGER/2018/States')\n",
        "fc = states.filter(ee.Filter.eq('NAME', 'Louisiana'))\n",
        "m.add_layer(fc, {}, 'Louisiana')\n",
        "m.center_object(fc, 7)\n",
        "m"
      ],
      "id": "DDq4cwN-r6C-"
    },
    {
      "cell_type": "code",
      "execution_count": null,
      "metadata": {
        "id": "NsGBtuxLr6DJ"
      },
      "outputs": [],
      "source": [
        "feat = fc.first()\n",
        "feat.toDictionary()"
      ],
      "id": "NsGBtuxLr6DJ"
    },
    {
      "cell_type": "code",
      "execution_count": null,
      "metadata": {
        "id": "W1Crq3Z4r6DJ"
      },
      "outputs": [],
      "source": [
        "m = geemap.Map()\n",
        "states = ee.FeatureCollection('TIGER/2018/States')\n",
        "fc = states.filter(ee.Filter.inList('NAME', ['California', 'Oregon', 'Washington']))\n",
        "m.add_layer(fc, {}, 'West Coast')\n",
        "m.center_object(fc, 5)\n",
        "m"
      ],
      "id": "W1Crq3Z4r6DJ"
    },
    {
      "cell_type": "code",
      "execution_count": null,
      "metadata": {
        "id": "KzfViocRr6DK"
      },
      "outputs": [],
      "source": [
        "region = m.user_roi\n",
        "if region is None:\n",
        "    region = ee.Geometry.BBox(-88.40, 29.88, -77.90, 35.39)\n",
        "\n",
        "fc = ee.FeatureCollection('TIGER/2018/States').filterBounds(region)\n",
        "m.add_layer(fc, {}, 'Southeastern U.S.')\n",
        "m.center_object(fc, 6)"
      ],
      "id": "KzfViocRr6DK"
    },
    {
      "cell_type": "markdown",
      "metadata": {
        "id": "r6TQZfkTr6DK"
      },
      "source": [
        "#### Visualizing feature collections"
      ],
      "id": "r6TQZfkTr6DK"
    },
    {
      "cell_type": "code",
      "execution_count": null,
      "metadata": {
        "id": "3Y6Zv2L_r6DK"
      },
      "outputs": [],
      "source": [
        "m = geemap.Map(center=[40, -100], zoom=4)\n",
        "states = ee.FeatureCollection(\"TIGER/2018/States\")\n",
        "m.add_layer(states, {}, \"US States\")\n",
        "m"
      ],
      "id": "3Y6Zv2L_r6DK"
    },
    {
      "cell_type": "code",
      "execution_count": null,
      "metadata": {
        "id": "H6J8dq7Vr6DL"
      },
      "outputs": [],
      "source": [
        "m = geemap.Map(center=[40, -100], zoom=4)\n",
        "states = ee.FeatureCollection(\"TIGER/2018/States\")\n",
        "style = {'color': '0000ffff', 'width': 2, 'lineType': 'solid', 'fillColor': 'FF000080'}\n",
        "m.add_layer(states.style(**style), {}, \"US States\")\n",
        "m"
      ],
      "id": "H6J8dq7Vr6DL"
    },
    {
      "cell_type": "code",
      "execution_count": null,
      "metadata": {
        "id": "Lnx_jPnUr6DL"
      },
      "outputs": [],
      "source": [
        "m = geemap.Map(center=[40, -100], zoom=4)\n",
        "states = ee.FeatureCollection(\"TIGER/2018/States\")\n",
        "vis_params = {\n",
        "    'color': '000000',\n",
        "    'colorOpacity': 1,\n",
        "    'pointSize': 3,\n",
        "    'pointShape': 'circle',\n",
        "    'width': 2,\n",
        "    'lineType': 'solid',\n",
        "    'fillColorOpacity': 0.66,\n",
        "}\n",
        "palette = ['006633', 'E5FFCC', '662A00', 'D8D8D8', 'F5F5F5']\n",
        "m.add_styled_vector(\n",
        "    states, column=\"NAME\", palette=palette, layer_name=\"Styled vector\", **vis_params\n",
        ")\n",
        "m"
      ],
      "id": "Lnx_jPnUr6DL"
    },
    {
      "cell_type": "markdown",
      "metadata": {
        "id": "yOZ1zR62r6DM"
      },
      "source": [
        "### Earth Engine Data Catalog\n",
        "\n",
        "The [Earth Engine Data Catalog](https://developers.google.com/earth-engine/datasets) hosts a variety of geospatial datasets. As of October 2023, the catalog contains over [1,000 datasets](https://github.com/opengeos/Earth-Engine-Catalog/blob/master/gee_catalog.tsv) with a total size of over 80 petabytes. Some notable datasets include: Landsat, Sentinel, MODIS, NAIP, etc. For a complete list of datasets in CSV or JSON formats, see the [Earth Engine Datasets List](https://github.com/giswqs/Earth-Engine-Catalog/blob/master/gee_catalog.tsv).\n",
        "\n",
        "#### Searching for datasets\n",
        "\n",
        "The [Earth Engine Data Catalog](https://developers.google.com/earth-engine/datasets/catalog) is searchable. You can search datasets by name, keyword, or tag. For example, enter \"elevation\" in the search box will filter the catalog to show only datasets containing \"elevation\" in their name, description, or tags. 52 datasets are returned for this search query. Scroll down the list to find the [NASA SRTM Digital Elevation 30m](https://developers.google.com/earth-engine/datasets/catalog/USGS_SRTMGL1_003#description) dataset. On each dataset page, you can find the following information, including Dataset Availability, Dataset Provider, Earth Engine Snippet, Tags, Description, Code Example, and more (see {numref}`ch03_gee_srtm`). One important piece of information is the Image/ImageCollection/FeatureCollection ID of each dataset, which is essential for accessing the dataset through the Earth Engine JavaScript or Python APIs.\n",
        "\n",
        "![](https://i.imgur.com/B3rf4QN.jpg)"
      ],
      "id": "yOZ1zR62r6DM"
    },
    {
      "cell_type": "code",
      "execution_count": null,
      "metadata": {
        "id": "a4qRgh_Tr6DM"
      },
      "outputs": [],
      "source": [
        "m = geemap.Map()\n",
        "m"
      ],
      "id": "a4qRgh_Tr6DM"
    },
    {
      "cell_type": "code",
      "execution_count": null,
      "metadata": {
        "id": "_Ly1-I5br6DN"
      },
      "outputs": [],
      "source": [
        "dataset_xyz = ee.Image('USGS/SRTMGL1_003')\n",
        "m.add_layer(dataset_xyz, {}, \"USGS/SRTMGL1_003\")"
      ],
      "id": "_Ly1-I5br6DN"
    },
    {
      "cell_type": "code",
      "execution_count": null,
      "metadata": {
        "id": "YCWUz6Bir6DN"
      },
      "outputs": [],
      "source": [
        "m = geemap.Map()\n",
        "dem = ee.Image('USGS/SRTMGL1_003')\n",
        "vis_params = {\n",
        "    'min': 0,\n",
        "    'max': 4000,\n",
        "    'palette': ['006633', 'E5FFCC', '662A00', 'D8D8D8', 'F5F5F5'],\n",
        "}\n",
        "m.add_layer(dem, vis_params, 'SRTM DEM')\n",
        "m"
      ],
      "id": "YCWUz6Bir6DN"
    },
    {
      "cell_type": "markdown",
      "metadata": {
        "id": "xKMtu5F1r6DO"
      },
      "source": [
        "#### Using the datasets module"
      ],
      "id": "xKMtu5F1r6DO"
    },
    {
      "cell_type": "code",
      "execution_count": null,
      "metadata": {
        "id": "4WbiiWDpr6DO"
      },
      "outputs": [],
      "source": [
        "from geemap.datasets import DATA"
      ],
      "id": "4WbiiWDpr6DO"
    },
    {
      "cell_type": "code",
      "execution_count": null,
      "metadata": {
        "id": "rhF6sCOhr6DP"
      },
      "outputs": [],
      "source": [
        "m = geemap.Map(center=[40, -100], zoom=4)\n",
        "dataset = ee.Image(DATA.USGS_GAP_CONUS_2011)\n",
        "m.add_layer(dataset, {}, 'GAP CONUS')\n",
        "m"
      ],
      "id": "rhF6sCOhr6DP"
    },
    {
      "cell_type": "code",
      "execution_count": null,
      "metadata": {
        "id": "6EOy8UsJr6DP"
      },
      "outputs": [],
      "source": [
        "from geemap.datasets import get_metadata\n",
        "\n",
        "get_metadata(DATA.USGS_GAP_CONUS_2011)"
      ],
      "id": "6EOy8UsJr6DP"
    },
    {
      "cell_type": "markdown",
      "metadata": {
        "id": "7o7bfr14r6DQ"
      },
      "source": [
        "### Converting Earth Engine JavaScripts to Python\n",
        "\n",
        "Find some Earth Engine JavaScript code that you want to convert to Python. For example, you can grab some sample code from the [Earth Engine Documentation](https://developers.google.com/earth-engine/guides/image_visualization)."
      ],
      "id": "7o7bfr14r6DQ"
    },
    {
      "cell_type": "code",
      "execution_count": null,
      "metadata": {
        "id": "6RwPBfRqr6DQ"
      },
      "outputs": [],
      "source": [
        "m = geemap.Map()\n",
        "m"
      ],
      "id": "6RwPBfRqr6DQ"
    },
    {
      "cell_type": "code",
      "execution_count": null,
      "metadata": {
        "id": "Pj2EGWi2r6DR"
      },
      "outputs": [],
      "source": [
        "# Load an image.\n",
        "image = ee.Image('LANDSAT/LC08/C02/T1_TOA/LC08_044034_20140318')\n",
        "\n",
        "# Define the visualization parameters.\n",
        "vizParams = {'bands': ['B5', 'B4', 'B3'], 'min': 0, 'max': 0.5, 'gamma': [0.95, 1.1, 1]}\n",
        "\n",
        "# Center the map and display the image.\n",
        "m.set_center(-122.1899, 37.5010, 10)\n",
        "# San Francisco Bay\n",
        "m.add_layer(image, vizParams, 'False color composite')"
      ],
      "id": "Pj2EGWi2r6DR"
    },
    {
      "cell_type": "markdown",
      "metadata": {
        "id": "zu56JEgEr6DR"
      },
      "source": [
        "### Exercise 1 - Creating cloud-free imagery\n",
        "\n",
        "Create a cloud-free imagery of Texas for the year of 2022. You can use either Landsat 9 or Sentinel-2 imagery. Relevant Earth Engine assets:\n",
        "\n",
        "-   [ee.FeatureCollection(\"TIGER/2018/States\")](https://developers.google.com/earth-engine/datasets/catalog/TIGER_2018_States)\n",
        "-   [ee.ImageCollection(\"COPERNICUS/S2_SR\")](https://developers.google.com/earth-engine/datasets/catalog/COPERNICUS_S2_SR)\n",
        "-   [ee.ImageCollection(\"LANDSAT/LC09/C02/T1_L2\")](https://developers.google.com/earth-engine/datasets/catalog/LANDSAT_LC09_C02_T1_L2)\n",
        "\n",
        "![](https://i.imgur.com/i3IT0lF.png)"
      ],
      "id": "zu56JEgEr6DR"
    },
    {
      "cell_type": "code",
      "execution_count": null,
      "metadata": {
        "id": "fEsGIdxKr6DR"
      },
      "outputs": [],
      "source": [],
      "id": "fEsGIdxKr6DR"
    },
    {
      "cell_type": "markdown",
      "metadata": {
        "id": "hgLgbhDjr6DS"
      },
      "source": [
        "## Break 1 (10 mins)\n",
        "\n",
        "## Visualizing Earth Engine data (30 mins)\n",
        "\n",
        "### Geemap Inspector tool, plotting tool, interactive GUI for data visualization\n",
        "\n",
        "### Using the inspector tool"
      ],
      "id": "hgLgbhDjr6DS"
    },
    {
      "cell_type": "code",
      "execution_count": null,
      "metadata": {
        "id": "gCorQgwVr6DS"
      },
      "outputs": [],
      "source": [
        "m = geemap.Map(center=(40, -100), zoom=4)\n",
        "\n",
        "dem = ee.Image('USGS/SRTMGL1_003')\n",
        "landsat7 = ee.Image('LANDSAT/LE7_TOA_5YEAR/1999_2003').select(\n",
        "    ['B1', 'B2', 'B3', 'B4', 'B5', 'B7']\n",
        ")\n",
        "states = ee.FeatureCollection(\"TIGER/2018/States\")\n",
        "\n",
        "vis_params = {\n",
        "    'min': 0,\n",
        "    'max': 4000,\n",
        "    'palette': ['006633', 'E5FFCC', '662A00', 'D8D8D8', 'F5F5F5'],\n",
        "}\n",
        "\n",
        "m.add_layer(dem, vis_params, 'SRTM DEM')\n",
        "m.add_layer(\n",
        "    landsat7,\n",
        "    {'bands': ['B4', 'B3', 'B2'], 'min': 20, 'max': 200, 'gamma': 2.0},\n",
        "    'Landsat 7',\n",
        ")\n",
        "m.add_layer(states, {}, \"US States\")\n",
        "m.add('inspector')\n",
        "m"
      ],
      "id": "gCorQgwVr6DS"
    },
    {
      "cell_type": "markdown",
      "metadata": {
        "id": "dZQqUInjr6DS"
      },
      "source": [
        "### Using the plotting tool"
      ],
      "id": "dZQqUInjr6DS"
    },
    {
      "cell_type": "code",
      "execution_count": null,
      "metadata": {
        "id": "YeAiXHJMr6DT"
      },
      "outputs": [],
      "source": [
        "m = geemap.Map(center=[40, -100], zoom=4)\n",
        "\n",
        "landsat7 = ee.Image('LANDSAT/LE7_TOA_5YEAR/1999_2003').select(\n",
        "    ['B1', 'B2', 'B3', 'B4', 'B5', 'B7']\n",
        ")\n",
        "\n",
        "landsat_vis = {'bands': ['B4', 'B3', 'B2'], 'gamma': 1.4}\n",
        "m.add_layer(landsat7, landsat_vis, \"Landsat\")\n",
        "\n",
        "hyperion = ee.ImageCollection('EO1/HYPERION').filter(\n",
        "    ee.Filter.date('2016-01-01', '2017-03-01')\n",
        ")\n",
        "\n",
        "hyperion_vis = {\n",
        "    'min': 1000.0,\n",
        "    'max': 14000.0,\n",
        "    'gamma': 2.5,\n",
        "}\n",
        "m.add_layer(hyperion, hyperion_vis, 'Hyperion')\n",
        "m.add_plot_gui()\n",
        "m"
      ],
      "id": "YeAiXHJMr6DT"
    },
    {
      "cell_type": "markdown",
      "metadata": {
        "id": "0lTEEeVHr6DT"
      },
      "source": [
        "Set plotting options for Landsat."
      ],
      "id": "0lTEEeVHr6DT"
    },
    {
      "cell_type": "code",
      "execution_count": null,
      "metadata": {
        "id": "tOZAD7jWr6DU"
      },
      "outputs": [],
      "source": [
        "m.set_plot_options(add_marker_cluster=True, overlay=True)"
      ],
      "id": "tOZAD7jWr6DU"
    },
    {
      "cell_type": "markdown",
      "metadata": {
        "id": "eT9FkXQAr6DU"
      },
      "source": [
        "Set plotting options for Hyperion."
      ],
      "id": "eT9FkXQAr6DU"
    },
    {
      "cell_type": "code",
      "execution_count": null,
      "metadata": {
        "id": "cySEj6Ugr6DU"
      },
      "outputs": [],
      "source": [
        "m.set_plot_options(add_marker_cluster=True, plot_type=\"bar\")"
      ],
      "id": "cySEj6Ugr6DU"
    },
    {
      "cell_type": "markdown",
      "metadata": {
        "id": "t-5yKvDPr6DV"
      },
      "source": [
        "### Legends, color bars, and labels\n",
        "\n",
        "#### Built-in legends"
      ],
      "id": "t-5yKvDPr6DV"
    },
    {
      "cell_type": "code",
      "execution_count": null,
      "metadata": {
        "id": "a0mOPZ3Qr6DV"
      },
      "outputs": [],
      "source": [
        "from geemap.legends import builtin_legends"
      ],
      "id": "a0mOPZ3Qr6DV"
    },
    {
      "cell_type": "code",
      "execution_count": null,
      "metadata": {
        "id": "Z41BgNpSr6DV"
      },
      "outputs": [],
      "source": [
        "for legend in builtin_legends:\n",
        "    print(legend)"
      ],
      "id": "Z41BgNpSr6DV"
    },
    {
      "cell_type": "markdown",
      "metadata": {
        "id": "OueUvYGEr6DW"
      },
      "source": [
        "Add NLCD WMS layer and legend to the map."
      ],
      "id": "OueUvYGEr6DW"
    },
    {
      "cell_type": "code",
      "execution_count": null,
      "metadata": {
        "id": "0errJx2Vr6DW"
      },
      "outputs": [],
      "source": [
        "m = geemap.Map(center=[40, -100], zoom=4)\n",
        "m.add_basemap('Esri.WorldImagery')\n",
        "m.add_basemap('NLCD 2021 CONUS Land Cover')\n",
        "m.add_legend(builtin_legend='NLCD', max_width='100px', height='455px')\n",
        "m"
      ],
      "id": "0errJx2Vr6DW"
    },
    {
      "cell_type": "markdown",
      "metadata": {
        "id": "bNDT0_PQr6DW"
      },
      "source": [
        "Add NLCD Earth Engine layer and legend to the map."
      ],
      "id": "bNDT0_PQr6DW"
    },
    {
      "cell_type": "code",
      "execution_count": null,
      "metadata": {
        "id": "_95fsEH1r6DW"
      },
      "outputs": [],
      "source": [
        "m = geemap.Map(center=[40, -100], zoom=4)\n",
        "m.add_basemap('Esri.WorldImagery')\n",
        "\n",
        "nlcd = ee.Image('USGS/NLCD_RELEASES/2021_REL/NLCD/2021')\n",
        "landcover = nlcd.select('landcover')\n",
        "\n",
        "m.add_layer(landcover, {}, 'NLCD Land Cover 2021')\n",
        "m.add_legend(\n",
        "    title=\"NLCD Land Cover Classification\", builtin_legend='NLCD', height='455px'\n",
        ")\n",
        "m"
      ],
      "id": "_95fsEH1r6DW"
    },
    {
      "cell_type": "markdown",
      "metadata": {
        "id": "zFi1eZm0r6DX"
      },
      "source": [
        "#### Custom legends"
      ],
      "id": "zFi1eZm0r6DX"
    },
    {
      "cell_type": "markdown",
      "metadata": {
        "id": "96NFtBTyr6DX"
      },
      "source": [
        "Add a custom legend by specifying the colors and labels."
      ],
      "id": "96NFtBTyr6DX"
    },
    {
      "cell_type": "code",
      "execution_count": null,
      "metadata": {
        "id": "89m3WVO7r6DY"
      },
      "outputs": [],
      "source": [
        "m = geemap.Map(add_google_map=False)\n",
        "\n",
        "keys = ['One', 'Two', 'Three', 'Four', 'etc']\n",
        "\n",
        "# colors can be defined using either hex code or RGB (0-255, 0-255, 0-255)\n",
        "colors = ['#8DD3C7', '#FFFFB3', '#BEBADA', '#FB8072', '#80B1D3']\n",
        "# legend_colors = [(255, 0, 0), (127, 255, 0), (127, 18, 25), (36, 70, 180), (96, 68 123)]\n",
        "\n",
        "m.add_legend(keys=keys, colors=colors, position='bottomright')\n",
        "m"
      ],
      "id": "89m3WVO7r6DY"
    },
    {
      "cell_type": "markdown",
      "metadata": {
        "id": "ErxmlwoGr6DY"
      },
      "source": [
        "Add a custom legend by specifying a dictionary of colors and labels."
      ],
      "id": "ErxmlwoGr6DY"
    },
    {
      "cell_type": "code",
      "execution_count": null,
      "metadata": {
        "id": "UDC-HGiIr6DY"
      },
      "outputs": [],
      "source": [
        "m = geemap.Map(center=[40, -100], zoom=4)\n",
        "m.add_basemap('Esri.WorldImagery')\n",
        "\n",
        "legend_dict = {\n",
        "    '11 Open Water': '466b9f',\n",
        "    '12 Perennial Ice/Snow': 'd1def8',\n",
        "    '21 Developed, Open Space': 'dec5c5',\n",
        "    '22 Developed, Low Intensity': 'd99282',\n",
        "    '23 Developed, Medium Intensity': 'eb0000',\n",
        "    '24 Developed High Intensity': 'ab0000',\n",
        "    '31 Barren Land (Rock/Sand/Clay)': 'b3ac9f',\n",
        "    '41 Deciduous Forest': '68ab5f',\n",
        "    '42 Evergreen Forest': '1c5f2c',\n",
        "    '43 Mixed Forest': 'b5c58f',\n",
        "    '51 Dwarf Scrub': 'af963c',\n",
        "    '52 Shrub/Scrub': 'ccb879',\n",
        "    '71 Grassland/Herbaceous': 'dfdfc2',\n",
        "    '72 Sedge/Herbaceous': 'd1d182',\n",
        "    '73 Lichens': 'a3cc51',\n",
        "    '74 Moss': '82ba9e',\n",
        "    '81 Pasture/Hay': 'dcd939',\n",
        "    '82 Cultivated Crops': 'ab6c28',\n",
        "    '90 Woody Wetlands': 'b8d9eb',\n",
        "    '95 Emergent Herbaceous Wetlands': '6c9fb8',\n",
        "}\n",
        "\n",
        "nlcd = ee.Image('USGS/NLCD_RELEASES/2021_REL/NLCD/2021')\n",
        "landcover = nlcd.select('landcover')\n",
        "\n",
        "m.add_layer(landcover, {}, 'NLCD Land Cover 2021')\n",
        "m.add_legend(title=\"NLCD Land Cover Classification\", legend_dict=legend_dict)\n",
        "m"
      ],
      "id": "UDC-HGiIr6DY"
    },
    {
      "cell_type": "markdown",
      "metadata": {
        "id": "zHdinf9dr6DZ"
      },
      "source": [
        "#### Creating color bars\n",
        "\n",
        "Add a horizontal color bar."
      ],
      "id": "zHdinf9dr6DZ"
    },
    {
      "cell_type": "code",
      "execution_count": null,
      "metadata": {
        "id": "G_Bj18uer6DZ"
      },
      "outputs": [],
      "source": [
        "m = geemap.Map()\n",
        "\n",
        "dem = ee.Image('USGS/SRTMGL1_003')\n",
        "vis_params = {\n",
        "    'min': 0,\n",
        "    'max': 4000,\n",
        "    'palette': ['006633', 'E5FFCC', '662A00', 'D8D8D8', 'F5F5F5'],\n",
        "}\n",
        "\n",
        "m.add_layer(dem, vis_params, 'SRTM DEM')\n",
        "m.add_colorbar(vis_params, label=\"Elevation (m)\", layer_name=\"SRTM DEM\")\n",
        "m"
      ],
      "id": "G_Bj18uer6DZ"
    },
    {
      "cell_type": "markdown",
      "metadata": {
        "id": "27Q2z_OGr6DZ"
      },
      "source": [
        "Add a vertical color bar."
      ],
      "id": "27Q2z_OGr6DZ"
    },
    {
      "cell_type": "code",
      "execution_count": null,
      "metadata": {
        "id": "dwnOFhkir6Da"
      },
      "outputs": [],
      "source": [
        "m.add_colorbar(\n",
        "    vis_params,\n",
        "    label=\"Elevation (m)\",\n",
        "    layer_name=\"SRTM DEM\",\n",
        "    orientation=\"vertical\",\n",
        "    max_width=\"100px\"\n",
        ")"
      ],
      "id": "dwnOFhkir6Da"
    },
    {
      "cell_type": "markdown",
      "metadata": {
        "id": "Zrohfqeur6Da"
      },
      "source": [
        "Make the color bar background transparent."
      ],
      "id": "Zrohfqeur6Da"
    },
    {
      "cell_type": "code",
      "execution_count": null,
      "metadata": {
        "id": "7SHtKWvAr6Da"
      },
      "outputs": [],
      "source": [
        "m.add_colorbar(\n",
        "    vis_params,\n",
        "    label=\"Elevation (m)\",\n",
        "    layer_name=\"SRTM DEM\",\n",
        "    orientation=\"vertical\",\n",
        "    max_width=\"100px\",\n",
        "    transparent_bg=True\n",
        ")"
      ],
      "id": "7SHtKWvAr6Da"
    },
    {
      "cell_type": "markdown",
      "metadata": {
        "id": "PhUrGzscr6Db"
      },
      "source": [
        "### Split-panel map and linked maps\n",
        "\n",
        "### Split-panel maps\n",
        "\n",
        "Create a split map with basemaps. Note that ipyleaflet has a bug with the SplitControl. You can't pan the map, which should be resolved in the next ipyleaflet release."
      ],
      "id": "PhUrGzscr6Db"
    },
    {
      "cell_type": "code",
      "execution_count": null,
      "metadata": {
        "id": "noflWsbwr6Db"
      },
      "outputs": [],
      "source": [
        "m = geemap.Map()\n",
        "m.split_map(left_layer='Esri.WorldTopoMap', right_layer='OpenTopoMap')\n",
        "m"
      ],
      "id": "noflWsbwr6Db"
    },
    {
      "cell_type": "markdown",
      "metadata": {
        "id": "e2Mj8rJRr6Db"
      },
      "source": [
        "Create a split map with Earth Engine layers."
      ],
      "id": "e2Mj8rJRr6Db"
    },
    {
      "cell_type": "code",
      "execution_count": null,
      "metadata": {
        "id": "MITCkTE7r6Db"
      },
      "outputs": [],
      "source": [
        "m = geemap.Map(center=(40, -100), zoom=4, height=600)\n",
        "\n",
        "nlcd_2001 = ee.Image('USGS/NLCD_RELEASES/2019_REL/NLCD/2001').select('landcover')\n",
        "nlcd_2019 = ee.Image('USGS/NLCD_RELEASES/2021_REL/NLCD/2021').select('landcover')\n",
        "\n",
        "left_layer = geemap.ee_tile_layer(nlcd_2001, {}, 'NLCD 2001')\n",
        "right_layer = geemap.ee_tile_layer(nlcd_2019, {}, 'NLCD 2021')\n",
        "\n",
        "m.split_map(left_layer, right_layer)\n",
        "m"
      ],
      "id": "MITCkTE7r6Db"
    },
    {
      "cell_type": "markdown",
      "metadata": {
        "id": "uDBLJQCmr6Dc"
      },
      "source": [
        "### Linked maps\n",
        "\n",
        "Create a 2x2 linked map for visualizing Sentinel-2 imagery with different band combinations. Note that this feature does not work properly with Colab. Panning one map would not pan other maps."
      ],
      "id": "uDBLJQCmr6Dc"
    },
    {
      "cell_type": "code",
      "execution_count": null,
      "metadata": {
        "id": "Rir2jJEUr6Dc"
      },
      "outputs": [],
      "source": [
        "image = (\n",
        "    ee.ImageCollection('COPERNICUS/S2')\n",
        "    .filterDate('2018-09-01', '2018-09-30')\n",
        "    .map(lambda img: img.divide(10000))\n",
        "    .median()\n",
        ")\n",
        "\n",
        "vis_params = [\n",
        "    {'bands': ['B4', 'B3', 'B2'], 'min': 0, 'max': 0.3, 'gamma': 1.3},\n",
        "    {'bands': ['B8', 'B11', 'B4'], 'min': 0, 'max': 0.3, 'gamma': 1.3},\n",
        "    {'bands': ['B8', 'B4', 'B3'], 'min': 0, 'max': 0.3, 'gamma': 1.3},\n",
        "    {'bands': ['B12', 'B12', 'B4'], 'min': 0, 'max': 0.3, 'gamma': 1.3},\n",
        "]\n",
        "\n",
        "labels = [\n",
        "    'Natural Color (B4/B3/B2)',\n",
        "    'Land/Water (B8/B11/B4)',\n",
        "    'Color Infrared (B8/B4/B3)',\n",
        "    'Vegetation (B12/B11/B4)',\n",
        "]\n",
        "\n",
        "geemap.linked_maps(\n",
        "    rows=2,\n",
        "    cols=2,\n",
        "    height=\"300px\",\n",
        "    center=[38.4151, 21.2712],\n",
        "    zoom=12,\n",
        "    ee_objects=[image],\n",
        "    vis_params=vis_params,\n",
        "    labels=labels,\n",
        "    label_position=\"topright\",\n",
        ")"
      ],
      "id": "Rir2jJEUr6Dc"
    },
    {
      "cell_type": "markdown",
      "metadata": {
        "id": "_qBbbbqPr6Dc"
      },
      "source": [
        "### Timeseries inspector and time slider\n",
        "\n",
        "#### Timeseries inspector\n",
        "\n",
        "Check the available years of NLCD."
      ],
      "id": "_qBbbbqPr6Dc"
    },
    {
      "cell_type": "code",
      "execution_count": null,
      "metadata": {
        "id": "VRQxALb0r6Dc"
      },
      "outputs": [],
      "source": [
        "m = geemap.Map(center=[40, -100], zoom=4)\n",
        "collection = ee.ImageCollection('USGS/NLCD_RELEASES/2019_REL/NLCD').select('landcover')\n",
        "vis_params = {'bands': ['landcover']}\n",
        "years = collection.aggregate_array('system:index').getInfo()\n",
        "years"
      ],
      "id": "VRQxALb0r6Dc"
    },
    {
      "cell_type": "markdown",
      "metadata": {
        "id": "WKSW5Cmor6Dd"
      },
      "source": [
        "Create a timeseries inspector for NLCD. Note that ipyleaflet has a bug with the SplitControl. You can't pan the map, which should be resolved in the next ipyleaflet release."
      ],
      "id": "WKSW5Cmor6Dd"
    },
    {
      "cell_type": "code",
      "execution_count": null,
      "metadata": {
        "id": "vq5KWipqr6Dd"
      },
      "outputs": [],
      "source": [
        "m.ts_inspector(\n",
        "    left_ts=collection,\n",
        "    right_ts=collection,\n",
        "    left_names=years,\n",
        "    right_names=years,\n",
        "    left_vis=vis_params,\n",
        "    right_vis=vis_params,\n",
        "    width='80px',\n",
        ")\n",
        "m"
      ],
      "id": "vq5KWipqr6Dd"
    },
    {
      "cell_type": "markdown",
      "metadata": {
        "id": "lTOiVy32r6Dd"
      },
      "source": [
        "#### Time slider\n",
        "\n",
        "Note that this feature may not work properly with Colab. Restart Colab runtime if the time slider does not work.\n",
        "\n",
        "Create a map for visualizing MODIS vegetation data."
      ],
      "id": "lTOiVy32r6Dd"
    },
    {
      "cell_type": "code",
      "execution_count": null,
      "metadata": {
        "id": "LE5ceW-Br6De"
      },
      "outputs": [],
      "source": [
        "m = geemap.Map()\n",
        "\n",
        "collection = (\n",
        "    ee.ImageCollection('MODIS/MCD43A4_006_NDVI')\n",
        "    .filter(ee.Filter.date('2018-06-01', '2018-07-01'))\n",
        "    .select(\"NDVI\")\n",
        ")\n",
        "vis_params = {\n",
        "    'min': 0.0,\n",
        "    'max': 1.0,\n",
        "    'palette': 'ndvi',\n",
        "}\n",
        "\n",
        "m.add_time_slider(collection, vis_params, time_interval=2)\n",
        "m"
      ],
      "id": "LE5ceW-Br6De"
    },
    {
      "cell_type": "markdown",
      "metadata": {
        "id": "3ua8Q_bJr6De"
      },
      "source": [
        "Create a map for visualizing weather data."
      ],
      "id": "3ua8Q_bJr6De"
    },
    {
      "cell_type": "code",
      "execution_count": null,
      "metadata": {
        "id": "fCCre9hYr6De"
      },
      "outputs": [],
      "source": [
        "m = geemap.Map()\n",
        "\n",
        "collection = (\n",
        "    ee.ImageCollection('NOAA/GFS0P25')\n",
        "    .filterDate('2018-12-22', '2018-12-23')\n",
        "    .limit(24)\n",
        "    .select('temperature_2m_above_ground')\n",
        ")\n",
        "\n",
        "vis_params = {\n",
        "    'min': -40.0,\n",
        "    'max': 35.0,\n",
        "    'palette': ['blue', 'purple', 'cyan', 'green', 'yellow', 'red'],\n",
        "}\n",
        "\n",
        "labels = [str(n).zfill(2) + \":00\" for n in range(0, 24)]\n",
        "m.add_time_slider(collection, vis_params, labels=labels, time_interval=1, opacity=0.8)\n",
        "m"
      ],
      "id": "fCCre9hYr6De"
    },
    {
      "cell_type": "markdown",
      "metadata": {
        "id": "Uz-cx5Vir6Df"
      },
      "source": [
        "Visualizing Sentinel-2 imagery"
      ],
      "id": "Uz-cx5Vir6Df"
    },
    {
      "cell_type": "code",
      "execution_count": null,
      "metadata": {
        "id": "bw9dJ-7Ur6Df"
      },
      "outputs": [],
      "source": [
        "m = geemap.Map(center=[37.75, -122.45], zoom=12)\n",
        "\n",
        "collection = (\n",
        "    ee.ImageCollection('COPERNICUS/S2_SR')\n",
        "    .filterBounds(ee.Geometry.Point([-122.45, 37.75]))\n",
        "    .filterMetadata('CLOUDY_PIXEL_PERCENTAGE', 'less_than', 10)\n",
        ")\n",
        "\n",
        "vis_params = {\"min\": 0, \"max\": 4000, \"bands\": [\"B8\", \"B4\", \"B3\"]}\n",
        "\n",
        "m.add_time_slider(collection, vis_params)\n",
        "m"
      ],
      "id": "bw9dJ-7Ur6Df"
    },
    {
      "cell_type": "markdown",
      "metadata": {
        "id": "MRxDNhUer6Df"
      },
      "source": [
        "### Exercise 2 - Creating land cover maps with a legend\n",
        "\n",
        "Create a split map for visualizing NLCD land cover change in Texas between 2001 and 2019. Add the NLCD legend to the map. Relevant Earth Engine assets:\n",
        "\n",
        "-   [ee.FeatureCollection(\"TIGER/2018/States\")](https://developers.google.com/earth-engine/datasets/catalog/TIGER_2018_States)\n",
        "-   [ee.ImageCollection(\"USGS/NLCD_RELEASES/2019_REL/NLCD\")](https://developers.google.com/earth-engine/datasets/catalog/USGS_NLCD_RELEASES_2019_REL_NLCD)\n",
        "\n",
        "![](https://i.imgur.com/1b62CeI.jpg)"
      ],
      "id": "MRxDNhUer6Df"
    },
    {
      "cell_type": "code",
      "execution_count": null,
      "metadata": {
        "id": "01QCBU-Dr6Df"
      },
      "outputs": [],
      "source": [],
      "id": "01QCBU-Dr6Df"
    },
    {
      "cell_type": "markdown",
      "metadata": {
        "id": "h4Dlq1CEr6Dg"
      },
      "source": [
        "## Analyzing Earth Engine data (30 mins)\n",
        "\n",
        "### Image descriptive statistics\n",
        "\n",
        "Use a sample Landsat image."
      ],
      "id": "h4Dlq1CEr6Dg"
    },
    {
      "cell_type": "code",
      "execution_count": null,
      "metadata": {
        "id": "Bcpv_xlxr6Dg"
      },
      "outputs": [],
      "source": [
        "import geemap"
      ],
      "id": "Bcpv_xlxr6Dg"
    },
    {
      "cell_type": "code",
      "execution_count": null,
      "metadata": {
        "id": "6uz4vSWRr6Dg"
      },
      "outputs": [],
      "source": [
        "m = geemap.Map()\n",
        "m"
      ],
      "id": "6uz4vSWRr6Dg"
    },
    {
      "cell_type": "code",
      "execution_count": null,
      "metadata": {
        "id": "0IGwDoJqr6Dg"
      },
      "outputs": [],
      "source": [
        "m = geemap.Map()\n",
        "\n",
        "centroid = ee.Geometry.Point([-122.4439, 37.7538])\n",
        "image = ee.ImageCollection('LANDSAT/LC08/C01/T1_SR').filterBounds(centroid).first()\n",
        "vis = {'min': 0, 'max': 3000, 'bands': ['B5', 'B4', 'B3']}\n",
        "\n",
        "m.center_object(centroid, 8)\n",
        "m.add_layer(image, vis, \"Landsat-8\")\n",
        "m.add_layer(centroid, {}, 'Centroid')\n",
        "m"
      ],
      "id": "0IGwDoJqr6Dg"
    },
    {
      "cell_type": "markdown",
      "metadata": {
        "id": "pfbfjKXlr6Dh"
      },
      "source": [
        "Check image properties."
      ],
      "id": "pfbfjKXlr6Dh"
    },
    {
      "cell_type": "code",
      "execution_count": null,
      "metadata": {
        "id": "P8hx3_Mor6Dh"
      },
      "outputs": [],
      "source": [
        "image.propertyNames()"
      ],
      "id": "P8hx3_Mor6Dh"
    },
    {
      "cell_type": "markdown",
      "metadata": {
        "id": "6OJQv5Ewr6Dh"
      },
      "source": [
        "Check image property values."
      ],
      "id": "6OJQv5Ewr6Dh"
    },
    {
      "cell_type": "code",
      "execution_count": null,
      "metadata": {
        "id": "cKYfUuWjr6Di"
      },
      "outputs": [],
      "source": [
        "image.toDictionary()"
      ],
      "id": "cKYfUuWjr6Di"
    },
    {
      "cell_type": "markdown",
      "metadata": {
        "id": "z5tJzGerr6Di"
      },
      "source": [
        "Get specific image properties."
      ],
      "id": "z5tJzGerr6Di"
    },
    {
      "cell_type": "code",
      "execution_count": null,
      "metadata": {
        "id": "8ZXnX6qpr6Di"
      },
      "outputs": [],
      "source": [
        "image.get('CLOUD_COVER')  # 0.05"
      ],
      "id": "8ZXnX6qpr6Di"
    },
    {
      "cell_type": "markdown",
      "metadata": {
        "id": "fc7JCkLSr6Di"
      },
      "source": [
        "Get image properties with easy-to-read time format."
      ],
      "id": "fc7JCkLSr6Di"
    },
    {
      "cell_type": "code",
      "execution_count": null,
      "metadata": {
        "id": "YG4xk_NZr6Dj"
      },
      "outputs": [],
      "source": [
        "props = geemap.image_props(image)\n",
        "props"
      ],
      "id": "YG4xk_NZr6Dj"
    },
    {
      "cell_type": "markdown",
      "metadata": {
        "id": "gzlVgfRHr6Dj"
      },
      "source": [
        "Compute image descriptive statistics."
      ],
      "id": "gzlVgfRHr6Dj"
    },
    {
      "cell_type": "code",
      "execution_count": null,
      "metadata": {
        "id": "8qyFHNbSr6Dj"
      },
      "outputs": [],
      "source": [
        "stats = geemap.image_stats(image, scale=30)\n",
        "stats"
      ],
      "id": "8qyFHNbSr6Dj"
    },
    {
      "cell_type": "markdown",
      "metadata": {
        "id": "4Ky_H1Syr6Dj"
      },
      "source": [
        "### Zonal statistics\n",
        "\n",
        "#### Zonal statistics\n",
        "\n",
        "Add Earth Engine data to the map."
      ],
      "id": "4Ky_H1Syr6Dj"
    },
    {
      "cell_type": "code",
      "execution_count": null,
      "metadata": {
        "id": "ILdZ-HFMr6Dj"
      },
      "outputs": [],
      "source": [
        "m = geemap.Map(center=[40, -100], zoom=4)\n",
        "\n",
        "# Add NASA SRTM\n",
        "dem = ee.Image('USGS/SRTMGL1_003')\n",
        "dem_vis = {\n",
        "    'min': 0,\n",
        "    'max': 4000,\n",
        "    'palette': ['006633', 'E5FFCC', '662A00', 'D8D8D8', 'F5F5F5'],\n",
        "}\n",
        "m.add_layer(dem, dem_vis, 'SRTM DEM')\n",
        "\n",
        "# Add 5-year Landsat TOA composite\n",
        "landsat = ee.Image('LANDSAT/LE7_TOA_5YEAR/1999_2003')\n",
        "landsat_vis = {'bands': ['B4', 'B3', 'B2'], 'gamma': 1.4}\n",
        "m.add_layer(landsat, landsat_vis, \"Landsat\", False)\n",
        "\n",
        "# Add US Census States\n",
        "states = ee.FeatureCollection(\"TIGER/2018/States\")\n",
        "style = {'fillColor': '00000000'}\n",
        "m.add_layer(states.style(**style), {}, 'US States')\n",
        "m"
      ],
      "id": "ILdZ-HFMr6Dj"
    },
    {
      "cell_type": "markdown",
      "metadata": {
        "id": "5REguBtrr6Dk"
      },
      "source": [
        "Compute zonal statistics. In this case, we compute the mean elevation of each state and export the results to a CSV file."
      ],
      "id": "5REguBtrr6Dk"
    },
    {
      "cell_type": "code",
      "execution_count": null,
      "metadata": {
        "id": "HnEGy3LKr6Dk"
      },
      "outputs": [],
      "source": [
        "out_dem_stats = 'dem_stats.csv'\n",
        "geemap.zonal_stats(\n",
        "    dem, states, out_dem_stats, stat_type='MEAN', scale=1000, return_fc=False\n",
        ")"
      ],
      "id": "HnEGy3LKr6Dk"
    },
    {
      "cell_type": "markdown",
      "metadata": {
        "id": "bCQkVrfGr6Dk"
      },
      "source": [
        "Display the csv file as a table."
      ],
      "id": "bCQkVrfGr6Dk"
    },
    {
      "cell_type": "code",
      "execution_count": null,
      "metadata": {
        "id": "1JEXN3z_r6Dk"
      },
      "outputs": [],
      "source": [
        "geemap.csv_to_df(out_dem_stats).sort_values(by=['mean'], ascending=True)"
      ],
      "id": "1JEXN3z_r6Dk"
    },
    {
      "cell_type": "markdown",
      "metadata": {
        "id": "uVwtXd2Vr6Dk"
      },
      "source": [
        "Compute zonal statistics of mean spectral values of each state."
      ],
      "id": "uVwtXd2Vr6Dk"
    },
    {
      "cell_type": "code",
      "execution_count": null,
      "metadata": {
        "id": "W2SLfG03r6Dl"
      },
      "outputs": [],
      "source": [
        "out_landsat_stats = 'landsat_stats.csv'\n",
        "geemap.zonal_stats(\n",
        "    landsat,\n",
        "    states,\n",
        "    out_landsat_stats,\n",
        "    stat_type='MEAN',\n",
        "    scale=1000,\n",
        "    return_fc=False,\n",
        ")"
      ],
      "id": "W2SLfG03r6Dl"
    },
    {
      "cell_type": "code",
      "execution_count": null,
      "metadata": {
        "id": "UhKsihrbr6Dl"
      },
      "outputs": [],
      "source": [
        "geemap.csv_to_df(out_landsat_stats)"
      ],
      "id": "UhKsihrbr6Dl"
    },
    {
      "cell_type": "markdown",
      "metadata": {
        "id": "ma36gd_Yr6Dl"
      },
      "source": [
        "#### Zonal statistics by group\n",
        "\n",
        "Compute zonal statistics by group. In this case, we compute the area of each land cover type in each state and export the results to a CSV file."
      ],
      "id": "ma36gd_Yr6Dl"
    },
    {
      "cell_type": "code",
      "execution_count": null,
      "metadata": {
        "id": "GzEbDbNer6Dl"
      },
      "outputs": [],
      "source": [
        "m = geemap.Map(center=[40, -100], zoom=4)\n",
        "\n",
        "# Add NLCD data\n",
        "dataset = ee.Image('USGS/NLCD_RELEASES/2021_REL/NLCD/2021')\n",
        "landcover = dataset.select('landcover')\n",
        "m.add_layer(landcover, {}, 'NLCD 2021')\n",
        "\n",
        "# Add US census states\n",
        "states = ee.FeatureCollection(\"TIGER/2018/States\")\n",
        "style = {'fillColor': '00000000'}\n",
        "m.add_layer(states.style(**style), {}, 'US States')\n",
        "\n",
        "# Add NLCD legend\n",
        "m.add_legend(title='NLCD Land Cover', builtin_legend='NLCD')\n",
        "m"
      ],
      "id": "GzEbDbNer6Dl"
    },
    {
      "cell_type": "markdown",
      "metadata": {
        "id": "j7mY8zK_r6Dm"
      },
      "source": [
        "Compute zonal statistics by group and convert the area unit from square meters to square kilometers."
      ],
      "id": "j7mY8zK_r6Dm"
    },
    {
      "cell_type": "code",
      "execution_count": null,
      "metadata": {
        "id": "9kUEdtCXr6Dm"
      },
      "outputs": [],
      "source": [
        "nlcd_stats = 'nlcd_stats.csv'\n",
        "\n",
        "geemap.zonal_stats_by_group(\n",
        "    landcover,\n",
        "    states,\n",
        "    nlcd_stats,\n",
        "    stat_type='SUM',\n",
        "    denominator=1e6,\n",
        "    decimal_places=2,\n",
        ")"
      ],
      "id": "9kUEdtCXr6Dm"
    },
    {
      "cell_type": "code",
      "execution_count": null,
      "metadata": {
        "id": "hq0KxEUBr6Dm"
      },
      "outputs": [],
      "source": [
        "geemap.csv_to_df(nlcd_stats)"
      ],
      "id": "hq0KxEUBr6Dm"
    },
    {
      "cell_type": "markdown",
      "metadata": {
        "id": "obM6gZ4zr6Dm"
      },
      "source": [
        "Calculate the percentage of each land cover type in each state."
      ],
      "id": "obM6gZ4zr6Dm"
    },
    {
      "cell_type": "code",
      "execution_count": null,
      "metadata": {
        "id": "h-I5yfX6r6Dm"
      },
      "outputs": [],
      "source": [
        "nlcd_stats = 'nlcd_stats_pct.csv'\n",
        "\n",
        "geemap.zonal_stats_by_group(\n",
        "    landcover,\n",
        "    states,\n",
        "    nlcd_stats,\n",
        "    stat_type='PERCENTAGE',\n",
        "    denominator=1e6,\n",
        "    decimal_places=2,\n",
        ")"
      ],
      "id": "h-I5yfX6r6Dm"
    },
    {
      "cell_type": "code",
      "execution_count": null,
      "metadata": {
        "id": "1kE-vMwJr6Dn"
      },
      "outputs": [],
      "source": [
        "geemap.csv_to_df(nlcd_stats)"
      ],
      "id": "1kE-vMwJr6Dn"
    },
    {
      "cell_type": "markdown",
      "metadata": {
        "id": "w8865V8Fr6Dn"
      },
      "source": [
        "#### Zonal statistics with two images"
      ],
      "id": "w8865V8Fr6Dn"
    },
    {
      "cell_type": "markdown",
      "metadata": {
        "id": "dqo7GRtZr6Dn"
      },
      "source": [
        "The zonal statistics by zone algorithm is similar to the zonal statistics by group algorithm, but it takes an image as the zone input instead of a feature collection."
      ],
      "id": "dqo7GRtZr6Dn"
    },
    {
      "cell_type": "code",
      "execution_count": null,
      "metadata": {
        "id": "XpZwWXwWr6Dn"
      },
      "outputs": [],
      "source": [
        "m = geemap.Map(center=[40, -100], zoom=4)\n",
        "dem = ee.Image('USGS/3DEP/10m')\n",
        "vis = {'min': 0, 'max': 4000, 'palette': 'terrain'}\n",
        "m.add_layer(dem, vis, 'DEM')\n",
        "m"
      ],
      "id": "XpZwWXwWr6Dn"
    },
    {
      "cell_type": "code",
      "execution_count": null,
      "metadata": {
        "id": "7_c6fIfyr6Dn"
      },
      "outputs": [],
      "source": [
        "landcover = ee.Image(\"USGS/NLCD_RELEASES/2021_REL/NLCD/2021\").select('landcover')\n",
        "m.add_layer(landcover, {}, 'NLCD 2021')\n",
        "m.add_legend(title='NLCD Land Cover Classification', builtin_legend='NLCD')"
      ],
      "id": "7_c6fIfyr6Dn"
    },
    {
      "cell_type": "markdown",
      "metadata": {
        "id": "UTZUuTm3r6Dn"
      },
      "source": [
        "Computer the mean elevation of each land cover type."
      ],
      "id": "UTZUuTm3r6Dn"
    },
    {
      "cell_type": "code",
      "execution_count": null,
      "metadata": {
        "id": "YyJCxxAir6Do"
      },
      "outputs": [],
      "source": [
        "stats = geemap.image_stats_by_zone(dem, landcover, reducer='MEAN')\n",
        "stats"
      ],
      "id": "YyJCxxAir6Do"
    },
    {
      "cell_type": "code",
      "execution_count": null,
      "metadata": {
        "id": "c9u9uISdr6Do"
      },
      "outputs": [],
      "source": [
        "stats.to_csv('mean.csv', index=False)"
      ],
      "id": "c9u9uISdr6Do"
    },
    {
      "cell_type": "markdown",
      "metadata": {
        "id": "co6eGkPZr6Do"
      },
      "source": [
        "Compute the standard deviation of each land cover type."
      ],
      "id": "co6eGkPZr6Do"
    },
    {
      "cell_type": "code",
      "execution_count": null,
      "metadata": {
        "id": "CjpMVMbQr6Do"
      },
      "outputs": [],
      "source": [
        "geemap.image_stats_by_zone(dem, landcover, out_csv=\"std.csv\", reducer='STD')"
      ],
      "id": "CjpMVMbQr6Do"
    },
    {
      "cell_type": "code",
      "execution_count": null,
      "metadata": {
        "id": "wBwZ6xL5r6Do"
      },
      "outputs": [],
      "source": [
        "geemap.csv_to_df('std.csv')"
      ],
      "id": "wBwZ6xL5r6Do"
    },
    {
      "cell_type": "markdown",
      "metadata": {
        "id": "GuCLlJPtr6Dp"
      },
      "source": [
        "### Exercise 3 - Zonal statistics\n",
        "\n",
        "Find out which state has the highest mean temperature on in the United States on June 28, 2023. Relevant Earth Engine assets:\n",
        "\n",
        "-   [ee.FeatureCollection(\"TIGER/2018/States\")](https://developers.google.com/earth-engine/datasets/catalog/TIGER_2018_States)\n",
        "-   [ee.ImageCollection(\"NOAA/GFS0P25\")](https://developers.google.com/earth-engine/datasets/catalog/NOAA_GFS0P25)\n",
        "\n",
        "![](https://i.imgur.com/GZCHHz3.png)"
      ],
      "id": "GuCLlJPtr6Dp"
    },
    {
      "cell_type": "code",
      "execution_count": null,
      "metadata": {
        "id": "9Ku-mFs6r6Dp"
      },
      "outputs": [],
      "source": [],
      "id": "9Ku-mFs6r6Dp"
    },
    {
      "cell_type": "markdown",
      "metadata": {
        "id": "-Oh3VHaQr6Dp"
      },
      "source": [
        "### Coordinate grids and fishnets\n",
        "\n",
        "#### Creating coordinate grids\n",
        "\n",
        "Create a latitudinal grid with a 5-degree interval."
      ],
      "id": "-Oh3VHaQr6Dp"
    },
    {
      "cell_type": "code",
      "execution_count": null,
      "metadata": {
        "id": "Cb47ls20r6Dp"
      },
      "outputs": [],
      "source": [
        "lat_grid = geemap.latitude_grid(step=5.0, west=-180, east=180, south=-85, north=85)"
      ],
      "id": "Cb47ls20r6Dp"
    },
    {
      "cell_type": "code",
      "execution_count": null,
      "metadata": {
        "id": "NbwQ1lM3r6Dp"
      },
      "outputs": [],
      "source": [
        "m = geemap.Map()\n",
        "style = {'fillColor': '00000000'}\n",
        "m.add_layer(lat_grid.style(**style), {}, 'Latitude Grid')\n",
        "m"
      ],
      "id": "NbwQ1lM3r6Dp"
    },
    {
      "cell_type": "code",
      "execution_count": null,
      "metadata": {
        "id": "SYHlG2tBr6Dq"
      },
      "outputs": [],
      "source": [
        "df = geemap.ee_to_df(lat_grid)\n",
        "df.head()"
      ],
      "id": "SYHlG2tBr6Dq"
    },
    {
      "cell_type": "markdown",
      "metadata": {
        "id": "seLQ7OLor6Dq"
      },
      "source": [
        "Create a longitudinal grid with a 5-degree interval."
      ],
      "id": "seLQ7OLor6Dq"
    },
    {
      "cell_type": "code",
      "execution_count": null,
      "metadata": {
        "id": "PtXqWidbr6Dq"
      },
      "outputs": [],
      "source": [
        "lon_grid = geemap.longitude_grid(step=5.0, west=-180, east=180, south=-85, north=85)"
      ],
      "id": "PtXqWidbr6Dq"
    },
    {
      "cell_type": "code",
      "execution_count": null,
      "metadata": {
        "id": "ygoDa3kir6Dq"
      },
      "outputs": [],
      "source": [
        "m = geemap.Map()\n",
        "style = {'fillColor': '00000000'}\n",
        "m.add_layer(lon_grid.style(**style), {}, 'Longitude Grid')\n",
        "m"
      ],
      "id": "ygoDa3kir6Dq"
    },
    {
      "cell_type": "markdown",
      "metadata": {
        "id": "jV9wIy1Sr6Dq"
      },
      "source": [
        "Create a rectangular grid with a 10-degree interval."
      ],
      "id": "jV9wIy1Sr6Dq"
    },
    {
      "cell_type": "code",
      "execution_count": null,
      "metadata": {
        "id": "SG3MFhu2r6Dq"
      },
      "outputs": [],
      "source": [
        "grid = geemap.latlon_grid(\n",
        "    lat_step=10, lon_step=10, west=-180, east=180, south=-85, north=85\n",
        ")"
      ],
      "id": "SG3MFhu2r6Dq"
    },
    {
      "cell_type": "code",
      "execution_count": null,
      "metadata": {
        "id": "8p2r443Jr6Dr"
      },
      "outputs": [],
      "source": [
        "m = geemap.Map()\n",
        "style = {'fillColor': '00000000'}\n",
        "m.add_layer(grid.style(**style), {}, 'Coordinate Grid')\n",
        "m"
      ],
      "id": "8p2r443Jr6Dr"
    },
    {
      "cell_type": "markdown",
      "metadata": {
        "id": "BkvgSz7nr6Dr"
      },
      "source": [
        "#### Creating fishnets\n",
        "\n",
        "Create a fishnet based on an Earth Engine geometry."
      ],
      "id": "BkvgSz7nr6Dr"
    },
    {
      "cell_type": "code",
      "execution_count": null,
      "metadata": {
        "id": "MmGgzvwDr6Dr"
      },
      "outputs": [],
      "source": [
        "m = geemap.Map()\n",
        "m"
      ],
      "id": "MmGgzvwDr6Dr"
    },
    {
      "cell_type": "markdown",
      "metadata": {
        "id": "0_EW29Aar6Dr"
      },
      "source": [
        "Use the drawing tools to draw a polygon on the map above. If no polygon is drawn, the default polygon will be used."
      ],
      "id": "0_EW29Aar6Dr"
    },
    {
      "cell_type": "code",
      "execution_count": null,
      "metadata": {
        "id": "1E5bJpCYr6Dr"
      },
      "outputs": [],
      "source": [
        "roi = m.user_roi\n",
        "\n",
        "if roi is None:\n",
        "    roi = ee.Geometry.BBox(-112.8089, 33.7306, -88.5951, 46.6244)\n",
        "    m.add_layer(roi, {}, 'ROI')\n",
        "\n",
        "m.center_object(roi)"
      ],
      "id": "1E5bJpCYr6Dr"
    },
    {
      "cell_type": "markdown",
      "metadata": {
        "id": "3njmRXDcr6Ds"
      },
      "source": [
        "Create a fishnet based on a user-drawn polygon with a 2-degree interval."
      ],
      "id": "3njmRXDcr6Ds"
    },
    {
      "cell_type": "code",
      "execution_count": null,
      "metadata": {
        "id": "hoSR8jClr6Ds"
      },
      "outputs": [],
      "source": [
        "fishnet = geemap.fishnet(roi, h_interval=2.0, v_interval=2.0, delta=1)\n",
        "style = {'color': 'blue', 'fillColor': '00000000'}\n",
        "m.add_layer(fishnet.style(**style), {}, 'Fishnet')"
      ],
      "id": "hoSR8jClr6Ds"
    },
    {
      "cell_type": "markdown",
      "metadata": {
        "id": "-NgT4mper6Ds"
      },
      "source": [
        "Create a new map."
      ],
      "id": "-NgT4mper6Ds"
    },
    {
      "cell_type": "code",
      "execution_count": null,
      "metadata": {
        "id": "Gi3t9bUMr6Ds"
      },
      "outputs": [],
      "source": [
        "m = geemap.Map()\n",
        "m"
      ],
      "id": "Gi3t9bUMr6Ds"
    },
    {
      "cell_type": "markdown",
      "metadata": {
        "id": "o_CPyp4kr6Ds"
      },
      "source": [
        "Draw a polygon on the map."
      ],
      "id": "o_CPyp4kr6Ds"
    },
    {
      "cell_type": "code",
      "execution_count": null,
      "metadata": {
        "id": "SnQM-1qSr6Dt"
      },
      "outputs": [],
      "source": [
        "roi = m.user_roi\n",
        "\n",
        "if roi is None:\n",
        "    roi = ee.Geometry.Polygon(\n",
        "        [\n",
        "            [\n",
        "                [-64.602356, -1.127399],\n",
        "                [-68.821106, -12.625598],\n",
        "                [-60.647278, -22.498601],\n",
        "                [-47.815247, -21.111406],\n",
        "                [-43.860168, -8.913564],\n",
        "                [-54.582825, -0.775886],\n",
        "                [-60.823059, 0.454555],\n",
        "                [-64.602356, -1.127399],\n",
        "            ]\n",
        "        ]\n",
        "    )\n",
        "    m.add_layer(roi, {}, 'ROI')\n",
        "\n",
        "m.center_object(roi)\n",
        "m"
      ],
      "id": "SnQM-1qSr6Dt"
    },
    {
      "cell_type": "markdown",
      "metadata": {
        "id": "iKKCtT6wr6Dt"
      },
      "source": [
        "Create a fishnet based on a user-drawn polygon with specified number of rows and columns."
      ],
      "id": "iKKCtT6wr6Dt"
    },
    {
      "cell_type": "code",
      "execution_count": null,
      "metadata": {
        "id": "j08isumrr6Dt"
      },
      "outputs": [],
      "source": [
        "fishnet = geemap.fishnet(roi, rows=6, cols=8, delta=1)\n",
        "style = {'color': 'blue', 'fillColor': '00000000'}\n",
        "m.add_layer(fishnet.style(**style), {}, 'Fishnet')"
      ],
      "id": "j08isumrr6Dt"
    },
    {
      "cell_type": "markdown",
      "metadata": {
        "id": "60-l2N4rr6Dt"
      },
      "source": [
        "### Land use and land cover change analysis\n",
        "\n",
        "#### Forest cover mapping\n",
        "\n",
        "We will use the [Hansen Global Forest Change v1.10 (2000-2022) dataset](https://developers.google.com/earth-engine/datasets/catalog/UMD_hansen_global_forest_change_2022_v1_10)."
      ],
      "id": "60-l2N4rr6Dt"
    },
    {
      "cell_type": "code",
      "execution_count": null,
      "metadata": {
        "id": "7k5O8G6er6Dt"
      },
      "outputs": [],
      "source": [
        "dataset = ee.Image('UMD/hansen/global_forest_change_2022_v1_10')\n",
        "dataset.bandNames()"
      ],
      "id": "7k5O8G6er6Dt"
    },
    {
      "cell_type": "markdown",
      "metadata": {
        "id": "L3XRwZqFr6Du"
      },
      "source": [
        "Select the imagery for 2000."
      ],
      "id": "L3XRwZqFr6Du"
    },
    {
      "cell_type": "code",
      "execution_count": null,
      "metadata": {
        "id": "REJrgW3qr6Du"
      },
      "outputs": [],
      "source": [
        "m = geemap.Map()\n",
        "first_bands = ['first_b50', 'first_b40', 'first_b30']\n",
        "first_image = dataset.select(first_bands)\n",
        "m.add_layer(first_image, {'bands': first_bands, 'gamma': 1.5}, 'Landsat 2000')"
      ],
      "id": "REJrgW3qr6Du"
    },
    {
      "cell_type": "markdown",
      "metadata": {
        "id": "ymPGGRUHr6Du"
      },
      "source": [
        "Select the imagery for 2022."
      ],
      "id": "ymPGGRUHr6Du"
    },
    {
      "cell_type": "code",
      "execution_count": null,
      "metadata": {
        "id": "4Zc-CBJyr6Dv"
      },
      "outputs": [],
      "source": [
        "last_bands = ['last_b50', 'last_b40', 'last_b30']\n",
        "last_image = dataset.select(last_bands)\n",
        "m.add_layer(last_image, {'bands': last_bands, 'gamma': 1.5}, 'Landsat 2022')"
      ],
      "id": "4Zc-CBJyr6Dv"
    },
    {
      "cell_type": "markdown",
      "metadata": {
        "id": "ZLhRnx3ir6Dv"
      },
      "source": [
        "Select the tree cover imagery for 2000."
      ],
      "id": "ZLhRnx3ir6Dv"
    },
    {
      "cell_type": "code",
      "execution_count": null,
      "metadata": {
        "id": "44hifKhcr6Dw"
      },
      "outputs": [],
      "source": [
        "treecover = dataset.select(['treecover2000'])\n",
        "treeCoverVisParam = {'min': 0, 'max': 100, 'palette': ['black', 'green']}\n",
        "name = 'Tree cover (%)'\n",
        "m.add_layer(treecover, treeCoverVisParam, name)\n",
        "m.add_colorbar(treeCoverVisParam, label=name, layer_name=name)\n",
        "m.add('layer_manager')\n",
        "m"
      ],
      "id": "44hifKhcr6Dw"
    },
    {
      "cell_type": "markdown",
      "metadata": {
        "id": "ldoQW6Qxr6Dw"
      },
      "source": [
        "Extract tree cover 2000 by using the threshold of 10%."
      ],
      "id": "ldoQW6Qxr6Dw"
    },
    {
      "cell_type": "code",
      "execution_count": null,
      "metadata": {
        "id": "-jvYdpG5r6Dw"
      },
      "outputs": [],
      "source": [
        "threshold = 10\n",
        "treecover_bin = treecover.gte(threshold).selfMask()\n",
        "treeVisParam = {'palette': ['green']}\n",
        "m.add_layer(treecover_bin, treeVisParam, 'Tree cover bin')"
      ],
      "id": "-jvYdpG5r6Dw"
    },
    {
      "cell_type": "markdown",
      "metadata": {
        "id": "At16Vl9Pr6Dw"
      },
      "source": [
        "#### Forest loss and gain mapping\n",
        "\n",
        "Visualize forest loss."
      ],
      "id": "At16Vl9Pr6Dw"
    },
    {
      "cell_type": "code",
      "execution_count": null,
      "metadata": {
        "id": "uE084Z9vr6Dw"
      },
      "outputs": [],
      "source": [
        "m = geemap.Map()\n",
        "m.add_basemap('Esri.WorldImagery')\n",
        "treeloss_year = dataset.select(['lossyear'])\n",
        "treeLossVisParam = {'min': 0, 'max': 22, 'palette': ['yellow', 'red']}\n",
        "layer_name = 'Tree loss year'\n",
        "m.add_layer(treeloss_year, treeLossVisParam, layer_name)\n",
        "m.add_colorbar(treeLossVisParam, label=layer_name, layer_name=layer_name)\n",
        "m.add('layer_manager')\n",
        "m"
      ],
      "id": "uE084Z9vr6Dw"
    },
    {
      "cell_type": "markdown",
      "metadata": {
        "id": "WQtzmjjUr6Dx"
      },
      "source": [
        "Compare forest loss and gain."
      ],
      "id": "WQtzmjjUr6Dx"
    },
    {
      "cell_type": "code",
      "execution_count": null,
      "metadata": {
        "id": "2pVjODXlr6Dx"
      },
      "outputs": [],
      "source": [
        "m = geemap.Map()\n",
        "m.add_basemap('Esri.WorldImagery')\n",
        "treeloss = dataset.select(['loss']).selfMask()\n",
        "treegain = dataset.select(['gain']).selfMask()\n",
        "m.add_layer(treeloss, {'palette': 'red'}, 'Tree loss')\n",
        "m.add_layer(treegain, {'palette': 'yellow'}, 'Tree gain')\n",
        "m.add('layer_manager')\n",
        "m"
      ],
      "id": "2pVjODXlr6Dx"
    },
    {
      "cell_type": "markdown",
      "metadata": {
        "id": "iwYy2tSBr6Dx"
      },
      "source": [
        "#### Zonal statistics by country\n",
        "\n",
        "Compute zonal statistics to find out which country has the largest forest area in 2000.\n",
        "\n",
        "Add a country boundary layer to the map."
      ],
      "id": "iwYy2tSBr6Dx"
    },
    {
      "cell_type": "code",
      "execution_count": null,
      "metadata": {
        "id": "0VacijERr6Dx"
      },
      "outputs": [],
      "source": [
        "m = geemap.Map()\n",
        "countries = ee.FeatureCollection(geemap.examples.get_ee_path('countries'))\n",
        "style = {'color': '#000000ff', 'fillColor': '#00000000'}\n",
        "m.add_layer(countries.style(**style), {}, 'Countries')\n",
        "m"
      ],
      "id": "0VacijERr6Dx"
    },
    {
      "cell_type": "markdown",
      "metadata": {
        "id": "qS31FUkQr6Dx"
      },
      "source": [
        "Compute zonal statistics by country."
      ],
      "id": "qS31FUkQr6Dx"
    },
    {
      "cell_type": "code",
      "execution_count": null,
      "metadata": {
        "id": "eC9TyKvNr6Dy"
      },
      "outputs": [],
      "source": [
        "geemap.zonal_stats(\n",
        "    treecover_bin,\n",
        "    countries,\n",
        "    'forest_cover.csv',\n",
        "    stat_type='SUM',\n",
        "    denominator=1e6,\n",
        "    scale=1000,\n",
        ")"
      ],
      "id": "eC9TyKvNr6Dy"
    },
    {
      "cell_type": "markdown",
      "metadata": {
        "id": "zb1TSkGwr6Dy"
      },
      "source": [
        "Create a pie chart to visualize the forest area by country."
      ],
      "id": "zb1TSkGwr6Dy"
    },
    {
      "cell_type": "code",
      "execution_count": null,
      "metadata": {
        "id": "2Nz0p3CBr6Dy"
      },
      "outputs": [],
      "source": [
        "geemap.pie_chart(\n",
        "    'forest_cover.csv', names='NAME', values='sum', max_rows=20, height=400\n",
        ")"
      ],
      "id": "2Nz0p3CBr6Dy"
    },
    {
      "cell_type": "markdown",
      "metadata": {
        "id": "4VQQHkyqr6Dy"
      },
      "source": [
        "Create a bar chart to visualize the forest area by country."
      ],
      "id": "4VQQHkyqr6Dy"
    },
    {
      "cell_type": "code",
      "execution_count": null,
      "metadata": {
        "id": "p9Fp1oe2r6Dy"
      },
      "outputs": [],
      "source": [
        "geemap.bar_chart(\n",
        "    'forest_cover.csv',\n",
        "    x='NAME',\n",
        "    y='sum',\n",
        "    max_rows=20,\n",
        "    x_label='Country',\n",
        "    y_label='Forest area (km2)',\n",
        ")"
      ],
      "id": "p9Fp1oe2r6Dy"
    },
    {
      "cell_type": "markdown",
      "metadata": {
        "id": "zHKKneqlr6Dz"
      },
      "source": [
        "Calculate the forest loss area by country."
      ],
      "id": "zHKKneqlr6Dz"
    },
    {
      "cell_type": "code",
      "execution_count": null,
      "metadata": {
        "id": "OcncBxCYr6Dz"
      },
      "outputs": [],
      "source": [
        "geemap.zonal_stats(\n",
        "    treeloss.gt(0),\n",
        "    countries,\n",
        "    'treeloss.csv',\n",
        "    stat_type='SUM',\n",
        "    denominator=1e6,\n",
        "    scale=1000,\n",
        ")"
      ],
      "id": "OcncBxCYr6Dz"
    },
    {
      "cell_type": "markdown",
      "metadata": {
        "id": "iXkhp9_lr6Dz"
      },
      "source": [
        "Create a bar chart to visualize the forest loss area by country."
      ],
      "id": "iXkhp9_lr6Dz"
    },
    {
      "cell_type": "code",
      "execution_count": null,
      "metadata": {
        "id": "AxZ_5Jc8r6Dz"
      },
      "outputs": [],
      "source": [
        "geemap.pie_chart('treeloss.csv', names='NAME', values='sum', max_rows=20, height=600)"
      ],
      "id": "AxZ_5Jc8r6Dz"
    },
    {
      "cell_type": "markdown",
      "metadata": {
        "id": "AKyQZXCir6Dz"
      },
      "source": [
        "Create a bar chart to visualize the forest loss area by country."
      ],
      "id": "AKyQZXCir6Dz"
    },
    {
      "cell_type": "code",
      "execution_count": null,
      "metadata": {
        "id": "tUgRfqzor6D0"
      },
      "outputs": [],
      "source": [
        "geemap.bar_chart(\n",
        "    'treeloss.csv',\n",
        "    x='NAME',\n",
        "    y='sum',\n",
        "    max_rows=20,\n",
        "    x_label='Country',\n",
        "    y_label='Forest loss area (km2)',\n",
        ")"
      ],
      "id": "tUgRfqzor6D0"
    },
    {
      "cell_type": "markdown",
      "metadata": {
        "id": "fxJ9h4cir6D0"
      },
      "source": [
        "### Exercise 4 - Analyzing forest cover gain and loss\n",
        "\n",
        "Find out which US state has the largest forest gain and loss between 2000 and 2022. Create pie charts and bar charts to show the results. Relevant Earth Engine assets:\n",
        "\n",
        "-   [ee.FeatureCollection(\"TIGER/2018/States\")](https://developers.google.com/earth-engine/datasets/catalog/TIGER_2018_States)\n",
        "-   [ee.Image(\"UMD/hansen/global_forest_change_2022_v1_10\")](https://developers.google.com/earth-engine/datasets/catalog/UMD_hansen_global_forest_change_2022_v1_10)\n",
        "\n",
        "![](https://i.imgur.com/NQ4UUnj.png)"
      ],
      "id": "fxJ9h4cir6D0"
    },
    {
      "cell_type": "code",
      "execution_count": null,
      "metadata": {
        "id": "-vy0Zk1hr6D0"
      },
      "outputs": [],
      "source": [],
      "id": "-vy0Zk1hr6D0"
    },
    {
      "cell_type": "markdown",
      "metadata": {
        "id": "Fl2jS3TLr6D0"
      },
      "source": [
        "## Break 2 (10 mins)\n",
        "\n",
        "## Exporting Earth Engine data (30 mins)\n",
        "\n",
        "### Exporting images\n",
        "\n",
        "Add a Landsat image to the map."
      ],
      "id": "Fl2jS3TLr6D0"
    },
    {
      "cell_type": "code",
      "execution_count": null,
      "metadata": {
        "id": "nPMkohVbr6D0"
      },
      "outputs": [],
      "source": [
        "m = geemap.Map()\n",
        "\n",
        "image = ee.Image('LANDSAT/LC08/C02/T1_TOA/LC08_044034_20140318').select(\n",
        "    ['B5', 'B4', 'B3']\n",
        ")\n",
        "\n",
        "vis_params = {'min': 0, 'max': 0.5, 'gamma': [0.95, 1.1, 1]}\n",
        "\n",
        "m.center_object(image)\n",
        "m.add_layer(image, vis_params, 'Landsat')\n",
        "m"
      ],
      "id": "nPMkohVbr6D0"
    },
    {
      "cell_type": "markdown",
      "metadata": {
        "id": "xgXkdNeJr6D1"
      },
      "source": [
        "Add a rectangle to the map."
      ],
      "id": "xgXkdNeJr6D1"
    },
    {
      "cell_type": "code",
      "execution_count": null,
      "metadata": {
        "id": "kwDctuKdr6D1"
      },
      "outputs": [],
      "source": [
        "region = ee.Geometry.BBox(-122.5955, 37.5339, -122.0982, 37.8252)\n",
        "fc = ee.FeatureCollection(region)\n",
        "style = {'color': 'ffff00ff', 'fillColor': '00000000'}\n",
        "m.add_layer(fc.style(**style), {}, 'ROI')"
      ],
      "id": "kwDctuKdr6D1"
    },
    {
      "cell_type": "markdown",
      "metadata": {
        "id": "AB_SxgcQr6D1"
      },
      "source": [
        "To local drive"
      ],
      "id": "AB_SxgcQr6D1"
    },
    {
      "cell_type": "code",
      "execution_count": null,
      "metadata": {
        "id": "3JqrxJFQr6D1"
      },
      "outputs": [],
      "source": [
        "geemap.ee_export_image(image, filename=\"landsat.tif\", scale=30, region=region)"
      ],
      "id": "3JqrxJFQr6D1"
    },
    {
      "cell_type": "markdown",
      "metadata": {
        "id": "bTg-ezE4r6D1"
      },
      "source": [
        "Check image projection."
      ],
      "id": "bTg-ezE4r6D1"
    },
    {
      "cell_type": "code",
      "execution_count": null,
      "metadata": {
        "id": "BpOQx5cQr6D2"
      },
      "outputs": [],
      "source": [
        "projection = image.select(0).projection().getInfo()\n",
        "projection"
      ],
      "id": "BpOQx5cQr6D2"
    },
    {
      "cell_type": "code",
      "execution_count": null,
      "metadata": {
        "id": "C_4I5GWBr6D2"
      },
      "outputs": [],
      "source": [
        "crs = projection['crs']\n",
        "crs_transform = projection['transform']"
      ],
      "id": "C_4I5GWBr6D2"
    },
    {
      "cell_type": "markdown",
      "metadata": {
        "id": "OC7VCcoWr6D2"
      },
      "source": [
        "Specify region, crs, and crs_transform."
      ],
      "id": "OC7VCcoWr6D2"
    },
    {
      "cell_type": "code",
      "execution_count": null,
      "metadata": {
        "id": "LEiohM7nr6D2"
      },
      "outputs": [],
      "source": [
        "geemap.ee_export_image(\n",
        "    image,\n",
        "    filename=\"landsat_crs.tif\",\n",
        "    crs=crs,\n",
        "    crs_transform=crs_transform,\n",
        "    region=region,\n",
        ")"
      ],
      "id": "LEiohM7nr6D2"
    },
    {
      "cell_type": "markdown",
      "metadata": {
        "id": "lacdyMMgr6D2"
      },
      "source": [
        "To Google Drive"
      ],
      "id": "lacdyMMgr6D2"
    },
    {
      "cell_type": "code",
      "execution_count": null,
      "metadata": {
        "id": "_OS5Jj9or6D2"
      },
      "outputs": [],
      "source": [
        "geemap.ee_export_image_to_drive(\n",
        "    image, description='landsat', folder='export', region=region, scale=30\n",
        ")"
      ],
      "id": "_OS5Jj9or6D2"
    },
    {
      "cell_type": "markdown",
      "metadata": {
        "id": "bvQHQiP9r6D2"
      },
      "source": [
        "### Exporting image collections"
      ],
      "id": "bvQHQiP9r6D2"
    },
    {
      "cell_type": "code",
      "execution_count": null,
      "metadata": {
        "id": "RRZKiw3rr6D3"
      },
      "outputs": [],
      "source": [
        "point = ee.Geometry.Point(-99.2222, 46.7816)\n",
        "collection = (\n",
        "    ee.ImageCollection('USDA/NAIP/DOQQ')\n",
        "    .filterBounds(point)\n",
        "    .filterDate('2008-01-01', '2018-01-01')\n",
        "    .filter(ee.Filter.listContains(\"system:band_names\", \"N\"))\n",
        ")"
      ],
      "id": "RRZKiw3rr6D3"
    },
    {
      "cell_type": "code",
      "execution_count": null,
      "metadata": {
        "id": "PubtpE_qr6D3"
      },
      "outputs": [],
      "source": [
        "collection.aggregate_array('system:index')"
      ],
      "id": "PubtpE_qr6D3"
    },
    {
      "cell_type": "markdown",
      "metadata": {
        "id": "TZNFOaDDr6D3"
      },
      "source": [
        "To local drive"
      ],
      "id": "TZNFOaDDr6D3"
    },
    {
      "cell_type": "code",
      "execution_count": null,
      "metadata": {
        "id": "cE8qDj_ar6D3"
      },
      "outputs": [],
      "source": [
        "geemap.ee_export_image_collection(collection, out_dir='.', scale=10)"
      ],
      "id": "cE8qDj_ar6D3"
    },
    {
      "cell_type": "markdown",
      "metadata": {
        "id": "_x1S_kNUr6D3"
      },
      "source": [
        "To Google Drive"
      ],
      "id": "_x1S_kNUr6D3"
    },
    {
      "cell_type": "code",
      "execution_count": null,
      "metadata": {
        "id": "kbhz9LwTr6D3"
      },
      "outputs": [],
      "source": [
        "geemap.ee_export_image_collection_to_drive(collection, folder='export', scale=10)"
      ],
      "id": "kbhz9LwTr6D3"
    },
    {
      "cell_type": "markdown",
      "metadata": {
        "id": "5IEgmu4Jr6D4"
      },
      "source": [
        "### Exporting feature collections"
      ],
      "id": "5IEgmu4Jr6D4"
    },
    {
      "cell_type": "code",
      "execution_count": null,
      "metadata": {
        "id": "CzwJua_Tr6D4"
      },
      "outputs": [],
      "source": [
        "m = geemap.Map()\n",
        "fc = ee.FeatureCollection('USDOS/LSIB_SIMPLE/2017').filter(\n",
        "    ee.Filter.eq('country_na', 'Germany')\n",
        ")\n",
        "m.add_layer(fc, {}, \"Germany\")\n",
        "m.center_object(fc)\n",
        "m"
      ],
      "id": "CzwJua_Tr6D4"
    },
    {
      "cell_type": "markdown",
      "metadata": {
        "id": "zCa3245cr6D4"
      },
      "source": [
        "To local drive"
      ],
      "id": "zCa3245cr6D4"
    },
    {
      "cell_type": "code",
      "execution_count": null,
      "metadata": {
        "id": "DNTTRQatr6D4"
      },
      "outputs": [],
      "source": [
        "geemap.ee_to_shp(fc, filename='Germany.shp', selectors=None)"
      ],
      "id": "DNTTRQatr6D4"
    },
    {
      "cell_type": "code",
      "execution_count": null,
      "metadata": {
        "id": "Zm-H6awsr6D4"
      },
      "outputs": [],
      "source": [
        "geemap.ee_export_vector(fc, filename='Germany2.shp')"
      ],
      "id": "Zm-H6awsr6D4"
    },
    {
      "cell_type": "code",
      "execution_count": null,
      "metadata": {
        "id": "HNsFjlZKr6D4"
      },
      "outputs": [],
      "source": [
        "geemap.ee_to_geojson(fc, filename='Germany.geojson')"
      ],
      "id": "HNsFjlZKr6D4"
    },
    {
      "cell_type": "code",
      "execution_count": null,
      "metadata": {
        "id": "pBzJOVZVr6D5"
      },
      "outputs": [],
      "source": [
        "geemap.ee_to_csv(fc, filename='Germany.csv')"
      ],
      "id": "pBzJOVZVr6D5"
    },
    {
      "cell_type": "code",
      "execution_count": null,
      "metadata": {
        "id": "n2gGzDgur6D5"
      },
      "outputs": [],
      "source": [
        "gdf = geemap.ee_to_gdf(fc)\n",
        "gdf"
      ],
      "id": "n2gGzDgur6D5"
    },
    {
      "cell_type": "code",
      "execution_count": null,
      "metadata": {
        "id": "bv59jTV5r6D5"
      },
      "outputs": [],
      "source": [
        "df = geemap.ee_to_df(fc)\n",
        "df"
      ],
      "id": "bv59jTV5r6D5"
    },
    {
      "cell_type": "markdown",
      "metadata": {
        "id": "69xSH90jr6D5"
      },
      "source": [
        "To Google Drive"
      ],
      "id": "69xSH90jr6D5"
    },
    {
      "cell_type": "code",
      "execution_count": null,
      "metadata": {
        "id": "cA7rxKccr6D5"
      },
      "outputs": [],
      "source": [
        "geemap.ee_export_vector_to_drive(\n",
        "    fc, description=\"germany\", fileFormat='SHP', folder=\"export\"\n",
        ")"
      ],
      "id": "cA7rxKccr6D5"
    },
    {
      "cell_type": "markdown",
      "metadata": {
        "id": "r1Nup3I9r6D5"
      },
      "source": [
        "### Exercise 5 - Exporting images by a fishnet\n",
        "\n",
        "Create a fishnet with a 4-degree interval based on the extent of `[-112.5439, 34.0891, -85.0342, 49.6858]`. Use the fishnet to download the Landsat 7 image tiles by the fishnet using the `geemap.download_ee_image_tiles()` and `geemap.download_ee_image_tiles_parallel()` functions. Relevant Earth Engine assets:\n",
        "\n",
        "-   `ee.Image('LANDSAT/LE7_TOA_5YEAR/1999_2003')`\n",
        "\n",
        "![](https://i.imgur.com/L1IH3fq.png)"
      ],
      "id": "r1Nup3I9r6D5"
    },
    {
      "cell_type": "code",
      "execution_count": null,
      "metadata": {
        "id": "UNpUAccfr6D5"
      },
      "outputs": [],
      "source": [
        "m = geemap.Map(center=[40, -100], zoom=4)\n",
        "image = ee.Image('LANDSAT/LE7_TOA_5YEAR/1999_2003').select(['B4', 'B3', 'B2'])\n",
        "m.add_layer(image, {'min': 20, 'max': 200, 'gamma': 2.0}, 'Landsat')\n",
        "region = ee.Geometry.BBox(-112.5439, 34.0891, -85.0342, 49.6858)\n",
        "m.add_layer(region, {}, 'ROI')\n",
        "m.center_object(region)\n",
        "m"
      ],
      "id": "UNpUAccfr6D5"
    },
    {
      "cell_type": "code",
      "execution_count": null,
      "metadata": {
        "id": "-vWI8fg_r6D6"
      },
      "outputs": [],
      "source": [],
      "id": "-vWI8fg_r6D6"
    },
    {
      "cell_type": "markdown",
      "metadata": {
        "id": "u3fwvZlDr6D6"
      },
      "source": [
        "## Creating satellite timelapse animations (30 mins)\n",
        "\n",
        "### Creating satellite timeseries\n",
        "\n",
        "Use the [Harmonized Sentinel-2 MSI](https://developers.google.com/earth-engine/datasets/catalog/COPERNICUS_S2_HARMONIZED) dataset to create a timeseries for a given location."
      ],
      "id": "u3fwvZlDr6D6"
    },
    {
      "cell_type": "code",
      "execution_count": null,
      "metadata": {
        "id": "Vxj40muYr6D6"
      },
      "outputs": [],
      "source": [
        "collection = ee.ImageCollection(\"COPERNICUS/S2_HARMONIZED\").filterMetadata(\n",
        "    'CLOUDY_PIXEL_PERCENTAGE', 'less_than', 10\n",
        ")"
      ],
      "id": "Vxj40muYr6D6"
    },
    {
      "cell_type": "markdown",
      "metadata": {
        "id": "njFDzZ5Gr6D6"
      },
      "source": [
        "Specify the location of interest and date range."
      ],
      "id": "njFDzZ5Gr6D6"
    },
    {
      "cell_type": "code",
      "execution_count": null,
      "metadata": {
        "id": "VIJnaKEwr6D6"
      },
      "outputs": [],
      "source": [
        "start_date = '2016-01-01'\n",
        "end_date = '2022-12-31'\n",
        "region = ee.Geometry.BBox(-122.5549, 37.6968, -122.3446, 37.8111)"
      ],
      "id": "VIJnaKEwr6D6"
    },
    {
      "cell_type": "markdown",
      "metadata": {
        "id": "EwtUYKFYr6D6"
      },
      "source": [
        "Create an annual composite."
      ],
      "id": "EwtUYKFYr6D6"
    },
    {
      "cell_type": "code",
      "execution_count": null,
      "metadata": {
        "id": "HwsKwdeOr6D7"
      },
      "outputs": [],
      "source": [
        "images = geemap.create_timeseries(\n",
        "    collection, start_date, end_date, region, frequency='year', reducer='median'\n",
        ")\n",
        "images"
      ],
      "id": "HwsKwdeOr6D7"
    },
    {
      "cell_type": "markdown",
      "metadata": {
        "id": "8QJ3B9ZZr6D7"
      },
      "source": [
        "Display the timeseries."
      ],
      "id": "8QJ3B9ZZr6D7"
    },
    {
      "cell_type": "code",
      "execution_count": null,
      "metadata": {
        "id": "wFSJkIjbr6D7"
      },
      "outputs": [],
      "source": [
        "m = geemap.Map()\n",
        "vis_params = {\"min\": 0, \"max\": 4000, \"bands\": [\"B8\", \"B4\", \"B3\"]}\n",
        "labels = [str(y) for y in range(2016, 2023)]\n",
        "m.add_layer(images, vis_params, \"Sentinel-2\", False)\n",
        "m.add_time_slider(images, vis_params, time_interval=2, labels=labels)\n",
        "m.center_object(region)\n",
        "m"
      ],
      "id": "wFSJkIjbr6D7"
    },
    {
      "cell_type": "markdown",
      "metadata": {
        "id": "RwO1dE7rr6D7"
      },
      "source": [
        "### Creating satellite timelapse animations\n",
        "\n",
        "#### NAIP timelapse"
      ],
      "id": "RwO1dE7rr6D7"
    },
    {
      "cell_type": "code",
      "execution_count": null,
      "metadata": {
        "id": "rpukBV-_r6D7"
      },
      "outputs": [],
      "source": [
        "m = geemap.Map(center=[40, -100], zoom=4)\n",
        "m"
      ],
      "id": "rpukBV-_r6D7"
    },
    {
      "cell_type": "code",
      "execution_count": null,
      "metadata": {
        "id": "6Yi0eE6Gr6D7"
      },
      "outputs": [],
      "source": [
        "roi = m.user_roi\n",
        "if roi is None:\n",
        "    roi = ee.Geometry.BBox(-99.1019, 47.1274, -99.0334, 47.1562)\n",
        "    m.add_layer(roi, {}, 'ROI')\n",
        "    m.center_object(roi)"
      ],
      "id": "6Yi0eE6Gr6D7"
    },
    {
      "cell_type": "code",
      "execution_count": null,
      "metadata": {
        "id": "pu9yFRVLr6D8"
      },
      "outputs": [],
      "source": [
        "collection = geemap.naip_timeseries(roi, start_year=2009, end_year=2022, RGBN=True)"
      ],
      "id": "pu9yFRVLr6D8"
    },
    {
      "cell_type": "code",
      "execution_count": null,
      "metadata": {
        "id": "ulx6NsXAr6D8"
      },
      "outputs": [],
      "source": [
        "years = geemap.image_dates(collection, date_format='YYYY').getInfo()\n",
        "print(years)"
      ],
      "id": "ulx6NsXAr6D8"
    },
    {
      "cell_type": "code",
      "execution_count": null,
      "metadata": {
        "id": "p364lYq0r6D8"
      },
      "outputs": [],
      "source": [
        "size = len(years)\n",
        "images = collection.toList(size)\n",
        "for i in range(size):\n",
        "    image = ee.Image(images.get(i))\n",
        "    m.add_layer(image, {'bands': ['N', 'R', 'G']}, years[i])\n",
        "m"
      ],
      "id": "p364lYq0r6D8"
    },
    {
      "cell_type": "code",
      "execution_count": null,
      "metadata": {
        "id": "9qSCc6Wvr6D8"
      },
      "outputs": [],
      "source": [
        "timelapse = geemap.naip_timelapse(\n",
        "    roi,\n",
        "    out_gif=\"naip.gif\",\n",
        "    bands=['N', 'R', 'G'],\n",
        "    frames_per_second=3,\n",
        "    title='NAIP Timelapse',\n",
        ")\n",
        "geemap.show_image(timelapse)"
      ],
      "id": "9qSCc6Wvr6D8"
    },
    {
      "cell_type": "markdown",
      "metadata": {
        "id": "kTlGGGEHr6D8"
      },
      "source": [
        "#### Landsat timelapse"
      ],
      "id": "kTlGGGEHr6D8"
    },
    {
      "cell_type": "code",
      "execution_count": null,
      "metadata": {
        "id": "wNXZb1O3r6D8"
      },
      "outputs": [],
      "source": [
        "m = geemap.Map()\n",
        "m"
      ],
      "id": "wNXZb1O3r6D8"
    },
    {
      "cell_type": "markdown",
      "metadata": {
        "id": "tspfT-2Kr6D9"
      },
      "source": [
        "Pan and zoom the map to an area of interest. Use the drawing tools to draw a rectangle on the map. If no rectangle is drawn, the default rectangle shown below will be used."
      ],
      "id": "tspfT-2Kr6D9"
    },
    {
      "cell_type": "code",
      "execution_count": null,
      "metadata": {
        "id": "04bpLKlgr6D9"
      },
      "outputs": [],
      "source": [
        "roi = m.user_roi\n",
        "if roi is None:\n",
        "    roi = ee.Geometry.BBox(-74.7222, -8.5867, -74.1596, -8.2824)\n",
        "    m.add_layer(roi)\n",
        "    m.center_object(roi)"
      ],
      "id": "04bpLKlgr6D9"
    },
    {
      "cell_type": "code",
      "execution_count": null,
      "metadata": {
        "id": "tBT4qKM3r6D9"
      },
      "outputs": [],
      "source": [
        "timelapse = geemap.landsat_timelapse(\n",
        "    roi,\n",
        "    out_gif='landsat.gif',\n",
        "    start_year=1984,\n",
        "    end_year=2022,\n",
        "    start_date='01-01',\n",
        "    end_date='12-31',\n",
        "    bands=['SWIR1', 'NIR', 'Red'],\n",
        "    frames_per_second=5,\n",
        "    title='Landsat Timelapse',\n",
        "    progress_bar_color='blue',\n",
        "    mp4=True,\n",
        ")\n",
        "geemap.show_image(timelapse)"
      ],
      "id": "tBT4qKM3r6D9"
    },
    {
      "cell_type": "code",
      "execution_count": null,
      "metadata": {
        "id": "vF2sAGCHr6D9"
      },
      "outputs": [],
      "source": [
        "m = geemap.Map()\n",
        "roi = ee.Geometry.BBox(-115.5541, 35.8044, -113.9035, 36.5581)\n",
        "m.add_layer(roi)\n",
        "m.center_object(roi)\n",
        "m"
      ],
      "id": "vF2sAGCHr6D9"
    },
    {
      "cell_type": "code",
      "execution_count": null,
      "metadata": {
        "id": "kNlv8WYvr6D9"
      },
      "outputs": [],
      "source": [
        "timelapse = geemap.landsat_timelapse(\n",
        "    roi,\n",
        "    out_gif='las_vegas.gif',\n",
        "    start_year=1984,\n",
        "    end_year=2022,\n",
        "    bands=['NIR', 'Red', 'Green'],\n",
        "    frames_per_second=5,\n",
        "    title='Las Vegas, NV',\n",
        "    font_color='blue',\n",
        ")\n",
        "geemap.show_image(timelapse)"
      ],
      "id": "kNlv8WYvr6D9"
    },
    {
      "cell_type": "code",
      "execution_count": null,
      "metadata": {
        "id": "WRGDmIZ1r6D-"
      },
      "outputs": [],
      "source": [
        "m = geemap.Map()\n",
        "roi = ee.Geometry.BBox(113.8252, 22.1988, 114.0851, 22.3497)\n",
        "m.add_layer(roi)\n",
        "m.center_object(roi)\n",
        "m"
      ],
      "id": "WRGDmIZ1r6D-"
    },
    {
      "cell_type": "code",
      "execution_count": null,
      "metadata": {
        "id": "4BHgfbmXr6D-"
      },
      "outputs": [],
      "source": [
        "timelapse = geemap.landsat_timelapse(\n",
        "    roi,\n",
        "    out_gif='hong_kong.gif',\n",
        "    start_year=1990,\n",
        "    end_year=2022,\n",
        "    start_date='01-01',\n",
        "    end_date='12-31',\n",
        "    bands=['SWIR1', 'NIR', 'Red'],\n",
        "    frames_per_second=3,\n",
        "    title='Hong Kong',\n",
        ")\n",
        "geemap.show_image(timelapse)"
      ],
      "id": "4BHgfbmXr6D-"
    },
    {
      "cell_type": "markdown",
      "metadata": {
        "id": "-zboQHkKr6D-"
      },
      "source": [
        "#### Sentinel-2 timelapse"
      ],
      "id": "-zboQHkKr6D-"
    },
    {
      "cell_type": "code",
      "execution_count": null,
      "metadata": {
        "id": "FlPQ8Isnr6D-"
      },
      "outputs": [],
      "source": [
        "m = geemap.Map()\n",
        "m"
      ],
      "id": "FlPQ8Isnr6D-"
    },
    {
      "cell_type": "markdown",
      "metadata": {
        "id": "h4v1vdOpr6D_"
      },
      "source": [
        "Pan and zoom the map to an area of interest. Use the drawing tools to draw a rectangle on the map. If no rectangle is drawn, the default rectangle shown below will be used."
      ],
      "id": "h4v1vdOpr6D_"
    },
    {
      "cell_type": "code",
      "execution_count": null,
      "metadata": {
        "id": "l6ZgTLoVr6D_"
      },
      "outputs": [],
      "source": [
        "roi = m.user_roi\n",
        "if roi is None:\n",
        "    roi = ee.Geometry.BBox(-74.7222, -8.5867, -74.1596, -8.2824)\n",
        "    m.add_layer(roi)\n",
        "    m.center_object(roi)"
      ],
      "id": "l6ZgTLoVr6D_"
    },
    {
      "cell_type": "code",
      "execution_count": null,
      "metadata": {
        "id": "lFlDAYdQr6EA"
      },
      "outputs": [],
      "source": [
        "timelapse = geemap.sentinel2_timelapse(\n",
        "    roi,\n",
        "    out_gif='sentinel2.gif',\n",
        "    start_year=2016,\n",
        "    end_year=2021,\n",
        "    start_date='01-01',\n",
        "    end_date='12-31',\n",
        "    frequency='year',\n",
        "    bands=['SWIR1', 'NIR', 'Red'],\n",
        "    frames_per_second=3,\n",
        "    title='Sentinel-2 Timelapse',\n",
        ")\n",
        "geemap.show_image(timelapse)"
      ],
      "id": "lFlDAYdQr6EA"
    },
    {
      "cell_type": "markdown",
      "metadata": {
        "id": "foddzkhjr6EA"
      },
      "source": [
        "#### MODIS timelapse\n",
        "\n",
        "MODIS vegetation indices"
      ],
      "id": "foddzkhjr6EA"
    },
    {
      "cell_type": "code",
      "execution_count": null,
      "metadata": {
        "id": "pZ61Kf1-r6EA"
      },
      "outputs": [],
      "source": [
        "m = geemap.Map()\n",
        "m"
      ],
      "id": "pZ61Kf1-r6EA"
    },
    {
      "cell_type": "code",
      "execution_count": null,
      "metadata": {
        "id": "9xUpFKJQr6EA"
      },
      "outputs": [],
      "source": [
        "roi = m.user_roi\n",
        "if roi is None:\n",
        "    roi = ee.Geometry.BBox(-18.6983, -36.1630, 52.2293, 38.1446)\n",
        "    m.add_layer(roi)\n",
        "    m.center_object(roi)"
      ],
      "id": "9xUpFKJQr6EA"
    },
    {
      "cell_type": "code",
      "execution_count": null,
      "metadata": {
        "id": "-yqv2_rwr6EA"
      },
      "outputs": [],
      "source": [
        "timelapse = geemap.modis_ndvi_timelapse(\n",
        "    roi,\n",
        "    out_gif='ndvi.gif',\n",
        "    data='Terra',\n",
        "    band='NDVI',\n",
        "    start_date='2000-01-01',\n",
        "    end_date='2022-12-31',\n",
        "    frames_per_second=3,\n",
        "    title='MODIS NDVI Timelapse',\n",
        "    overlay_data='countries',\n",
        ")\n",
        "geemap.show_image(timelapse)"
      ],
      "id": "-yqv2_rwr6EA"
    },
    {
      "cell_type": "markdown",
      "metadata": {
        "id": "GNSCYRFqr6EA"
      },
      "source": [
        "MODIS temperature"
      ],
      "id": "GNSCYRFqr6EA"
    },
    {
      "cell_type": "code",
      "execution_count": null,
      "metadata": {
        "id": "mbzWvu9br6EB"
      },
      "outputs": [],
      "source": [
        "m = geemap.Map()\n",
        "m"
      ],
      "id": "mbzWvu9br6EB"
    },
    {
      "cell_type": "code",
      "execution_count": null,
      "metadata": {
        "id": "a3tDWiWlr6EB"
      },
      "outputs": [],
      "source": [
        "roi = m.user_roi\n",
        "if roi is None:\n",
        "    roi = ee.Geometry.BBox(-171.21, -57.13, 177.53, 79.99)\n",
        "    m.add_layer(roi)\n",
        "    m.center_object(roi)"
      ],
      "id": "a3tDWiWlr6EB"
    },
    {
      "cell_type": "code",
      "execution_count": null,
      "metadata": {
        "id": "-BEclL8Pr6EB"
      },
      "outputs": [],
      "source": [
        "timelapse = geemap.modis_ocean_color_timelapse(\n",
        "    satellite='Aqua',\n",
        "    start_date='2018-01-01',\n",
        "    end_date='2020-12-31',\n",
        "    roi=roi,\n",
        "    frequency='month',\n",
        "    out_gif='temperature.gif',\n",
        "    overlay_data='continents',\n",
        "    overlay_color='yellow',\n",
        "    overlay_opacity=0.5,\n",
        ")\n",
        "geemap.show_image(timelapse)"
      ],
      "id": "-BEclL8Pr6EB"
    },
    {
      "cell_type": "markdown",
      "metadata": {
        "id": "z_k_93sur6EB"
      },
      "source": [
        "#### GOES timelapse"
      ],
      "id": "z_k_93sur6EB"
    },
    {
      "cell_type": "code",
      "execution_count": null,
      "metadata": {
        "id": "KRzms8vKr6EB"
      },
      "outputs": [],
      "source": [
        "roi = ee.Geometry.BBox(167.1898, -28.5757, 202.6258, -12.4411)\n",
        "start_date = \"2022-01-15T03:00:00\"\n",
        "end_date = \"2022-01-15T07:00:00\"\n",
        "data = \"GOES-17\"\n",
        "scan = \"full_disk\""
      ],
      "id": "KRzms8vKr6EB"
    },
    {
      "cell_type": "code",
      "execution_count": null,
      "metadata": {
        "id": "iOgit6H4r6EB"
      },
      "outputs": [],
      "source": [
        "timelapse = geemap.goes_timelapse(\n",
        "    roi, \"goes.gif\", start_date, end_date, data, scan, framesPerSecond=5\n",
        ")\n",
        "geemap.show_image(timelapse)"
      ],
      "id": "iOgit6H4r6EB"
    },
    {
      "cell_type": "code",
      "execution_count": null,
      "metadata": {
        "id": "EJmAFlZ-r6EC"
      },
      "outputs": [],
      "source": [
        "roi = ee.Geometry.BBox(-159.5954, 24.5178, -114.2438, 60.4088)\n",
        "start_date = \"2021-10-24T14:00:00\"\n",
        "end_date = \"2021-10-25T01:00:00\"\n",
        "data = \"GOES-17\"\n",
        "scan = \"full_disk\""
      ],
      "id": "EJmAFlZ-r6EC"
    },
    {
      "cell_type": "code",
      "execution_count": null,
      "metadata": {
        "id": "7-c15cSUr6EC"
      },
      "outputs": [],
      "source": [
        "timelapse = geemap.goes_timelapse(\n",
        "    roi, \"hurricane.gif\", start_date, end_date, data, scan, framesPerSecond=5\n",
        ")\n",
        "geemap.show_image(timelapse)"
      ],
      "id": "7-c15cSUr6EC"
    },
    {
      "cell_type": "code",
      "execution_count": null,
      "metadata": {
        "id": "WpreDK1Br6EC"
      },
      "outputs": [],
      "source": [
        "roi = ee.Geometry.BBox(-121.0034, 36.8488, -117.9052, 39.0490)\n",
        "start_date = \"2020-09-05T15:00:00\"\n",
        "end_date = \"2020-09-06T02:00:00\"\n",
        "data = \"GOES-17\"\n",
        "scan = \"full_disk\""
      ],
      "id": "WpreDK1Br6EC"
    },
    {
      "cell_type": "code",
      "execution_count": null,
      "metadata": {
        "id": "1vj6skKEr6EC"
      },
      "outputs": [],
      "source": [
        "timelapse = geemap.goes_fire_timelapse(\n",
        "    roi, \"fire.gif\", start_date, end_date, data, scan, framesPerSecond=5\n",
        ")\n",
        "geemap.show_image(timelapse)"
      ],
      "id": "1vj6skKEr6EC"
    },
    {
      "cell_type": "markdown",
      "metadata": {
        "id": "07vSqRbzr6EC"
      },
      "source": [
        "### Exercise 6 - Creating timelapse animations\n",
        "\n",
        "Use the geemap timelapse GUI to create a timelapse animation for any location of your choice. Share the timelapse on social media and use the hashtagd such as #EarthEngine and #geemap. See [this](https://i.imgur.com/YaCHvKC.gif) example.\n",
        "\n",
        "![](https://i.imgur.com/ohrXeFC.png)"
      ],
      "id": "07vSqRbzr6EC"
    },
    {
      "cell_type": "code",
      "execution_count": null,
      "metadata": {
        "id": "EHYmQsekr6ED"
      },
      "outputs": [],
      "source": [
        "m = geemap.Map()\n",
        "m.add_gui(\"timelapse\")\n",
        "m"
      ],
      "id": "EHYmQsekr6ED"
    },
    {
      "cell_type": "markdown",
      "metadata": {
        "id": "KCr-UBqAr6ED"
      },
      "source": [
        "## Break 3 (10 mins)\n",
        "\n",
        "## Building interactive web apps (30 mins)\n",
        "\n",
        "This section is optional. We might not have enough time to cover this section.\n",
        "\n",
        "Follow the instructions [here](https://huggingface.co/spaces/giswqs/solara-geemap) to build an interactive Earth Engine web app with [Solara](https://github.com/widgetti/solara) and geemap. You need to [sign up](https://huggingface.co/join) for a free Hugging Face account to create the web app. It is free and easy to sign up.\n",
        "\n",
        "### Exercise 7 - Building an interactive web app for visualizing land cover change\n",
        "\n",
        "After following the instructions above, you should have a web app that looks like this:\n",
        "\n",
        "![](https://i.imgur.com/X3ZFyRr.png)\n",
        "\n",
        "The web app URL should look like this: https://giswqs-solara-geemap.hf.space/split-map."
      ],
      "id": "KCr-UBqAr6ED"
    },
    {
      "cell_type": "code",
      "execution_count": null,
      "metadata": {
        "id": "Zo67ylXmr6ED"
      },
      "outputs": [],
      "source": [],
      "id": "Zo67ylXmr6ED"
    }
  ],
  "metadata": {
    "kernelspec": {
      "display_name": "Python 3 (ipykernel)",
      "language": "python",
      "name": "python3"
    },
    "language_info": {
      "codemirror_mode": {
        "name": "ipython",
        "version": 3
      },
      "file_extension": ".py",
      "mimetype": "text/x-python",
      "name": "python",
      "nbconvert_exporter": "python",
      "pygments_lexer": "ipython3",
      "version": "3.11.5"
    },
    "colab": {
      "provenance": [],
      "toc_visible": true,
      "include_colab_link": true
    }
  },
  "nbformat": 4,
  "nbformat_minor": 5
}