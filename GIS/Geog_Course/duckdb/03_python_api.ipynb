{
 "cells": [
  {
   "cell_type": "markdown",
   "metadata": {},
   "source": [
    "# Python API\n",
    "\n",
    "## Introduction\n",
    "\n",
    "There are various client APIs for DuckDB. DuckDB’s “native” API is C++, with “official” wrappers available for C, Python, R, Java, Node.js, WebAssembly/Wasm, ODBC API, Julia, and a Command Line Interface (CLI).\n",
    "\n",
    "In this notebook, we will explore the [DuckDB Python API](https://duckdb.org/docs/api/python/overview).\n",
    "\n",
    "## Datasets\n",
    "\n",
    "The following datasets are used in this notebook. You don't need to download them, they can be accessed directly from the notebook.\n",
    "\n",
    "- [cities.csv](https://open.gishub.org/data/duckdb/cities.csv)\n",
    "- [countries.csv](https://open.gishub.org/data/duckdb/countries.csv)\n",
    "\n",
    "## Installation\n",
    "\n",
    "Uncomment the following cell to install the required packages if needed."
   ]
  },
  {
   "cell_type": "code",
   "execution_count": 38,
   "metadata": {},
   "outputs": [],
   "source": [
    "# %pip install duckdb"
   ]
  },
  {
   "cell_type": "markdown",
   "metadata": {},
   "source": [
    "## Library Import"
   ]
  },
  {
   "cell_type": "code",
   "execution_count": 39,
   "metadata": {},
   "outputs": [],
   "source": [
    "import duckdb\n",
    "import pandas as pd"
   ]
  },
  {
   "cell_type": "markdown",
   "metadata": {},
   "source": [
    "## Installing Extensions\n",
    "\n",
    "DuckDB’s Python API provides functions for installing and loading extensions, which perform the equivalent operations to running the `INSTALL` and `LOAD` SQL commands, respectively. An example that installs and loads the [httpfs extension](https://duckdb.org/docs/extensions/httpfs) looks like follows:"
   ]
  },
  {
   "cell_type": "code",
   "execution_count": 40,
   "metadata": {},
   "outputs": [],
   "source": [
    "con = duckdb.connect()\n",
    "con.install_extension(\"httpfs\")\n",
    "con.load_extension(\"httpfs\")"
   ]
  },
  {
   "cell_type": "markdown",
   "metadata": {},
   "source": [
    "## Data Input\n",
    "\n",
    "DuckDB can ingest data from a wide variety of formats – both on-disk and in-memory. See the [data ingestion page](https://duckdb.org/docs/api/python/data_ingestion) for more information."
   ]
  },
  {
   "cell_type": "code",
   "execution_count": 41,
   "metadata": {},
   "outputs": [
    {
     "name": "stdout",
     "output_type": "stream",
     "text": [
      "┌───────┐\n",
      "│  42   │\n",
      "│ int32 │\n",
      "├───────┤\n",
      "│    42 │\n",
      "└───────┘\n",
      "\n"
     ]
    }
   ],
   "source": [
    "con.sql('SELECT 42').show()"
   ]
  },
  {
   "cell_type": "code",
   "execution_count": 42,
   "metadata": {},
   "outputs": [
    {
     "data": {
      "text/plain": [
       "┌───────┬──────────────────┬─────────┬───────────┬───────────┬────────────┐\n",
       "│  id   │       name       │ country │ latitude  │ longitude │ population │\n",
       "│ int64 │     varchar      │ varchar │  double   │  double   │   int64    │\n",
       "├───────┼──────────────────┼─────────┼───────────┼───────────┼────────────┤\n",
       "│     1 │ Bombo            │ UGA     │    0.5833 │   32.5333 │      75000 │\n",
       "│     2 │ Fort Portal      │ UGA     │     0.671 │    30.275 │      42670 │\n",
       "│     3 │ Potenza          │ ITA     │    40.642 │    15.799 │      69060 │\n",
       "│     4 │ Campobasso       │ ITA     │    41.563 │    14.656 │      50762 │\n",
       "│     5 │ Aosta            │ ITA     │    45.737 │     7.315 │      34062 │\n",
       "│     6 │ Mariehamn        │ ALD     │    60.097 │    19.949 │      10682 │\n",
       "│     7 │ Ramallah         │ PSE     │  31.90294 │  35.20621 │      24599 │\n",
       "│     8 │ Vatican City     │ VAT     │  41.90001 │  12.44781 │        832 │\n",
       "│     9 │ Poitier          │ FRA     │  46.58329 │   0.33328 │      85960 │\n",
       "│    10 │ Clermont-Ferrand │ FRA     │  45.77998 │   3.08001 │     233050 │\n",
       "│     · │   ·              │  ·      │      ·    │      ·    │        ·   │\n",
       "│     · │   ·              │  ·      │      ·    │      ·    │        ·   │\n",
       "│     · │   ·              │  ·      │      ·    │      ·    │        ·   │\n",
       "│  1240 │ Tokyo            │ JPN     │  35.68502 │ 139.75141 │   35676000 │\n",
       "│  1241 │ Mumbai           │ IND     │  19.01699 │  72.85699 │   18978000 │\n",
       "│  1242 │ Paris            │ FRA     │  48.86669 │   2.33334 │    9904000 │\n",
       "│  1243 │ Santiago         │ CHL     │ -33.45001 │ -70.66704 │    5720000 │\n",
       "│  1244 │ Kolkata          │ IND     │  22.49497 │  88.32468 │   14787000 │\n",
       "│  1245 │ Rio de Janeiro   │ BRA     │ -22.92502 │ -43.22502 │   11748000 │\n",
       "│  1246 │ Sao Paulo        │ BRA     │ -23.55868 │ -46.62502 │   18845000 │\n",
       "│  1247 │ Sydney           │ AUS     │ -33.92001 │ 151.18518 │    4630000 │\n",
       "│  1248 │ Singapore        │ SGP     │   1.29303 │ 103.85582 │    5183700 │\n",
       "│  1249 │ Hong Kong        │ CHN     │  22.30498 │ 114.18501 │    7206000 │\n",
       "├───────┴──────────────────┴─────────┴───────────┴───────────┴────────────┤\n",
       "│ 1249 rows (20 shown)                                          6 columns │\n",
       "└─────────────────────────────────────────────────────────────────────────┘"
      ]
     },
     "execution_count": 42,
     "metadata": {},
     "output_type": "execute_result"
    }
   ],
   "source": [
    "con.read_csv('https://open.gishub.org/data/duckdb/cities.csv')"
   ]
  },
  {
   "cell_type": "code",
   "execution_count": 43,
   "metadata": {},
   "outputs": [
    {
     "data": {
      "text/plain": [
       "┌───────┬─────────────────────────┬─────────────┬─────────────┬──────────────┬──────────┬───────────┐\n",
       "│  id   │         Country         │ Alpha2_code │ Alpha3_code │ Numeric_code │ Latitude │ Longitude │\n",
       "│ int64 │         varchar         │   varchar   │   varchar   │    int64     │  double  │  double   │\n",
       "├───────┼─────────────────────────┼─────────────┼─────────────┼──────────────┼──────────┼───────────┤\n",
       "│     1 │ Afghanistan             │ AF          │ AFG         │            4 │     33.0 │      65.0 │\n",
       "│     2 │ Albania                 │ AL          │ ALB         │            8 │     41.0 │      20.0 │\n",
       "│     3 │ Algeria                 │ DZ          │ DZA         │           12 │     28.0 │       3.0 │\n",
       "│     4 │ American Samoa          │ AS          │ ASM         │           16 │ -14.3333 │    -170.0 │\n",
       "│     5 │ Andorra                 │ AD          │ AND         │           20 │     42.5 │       1.6 │\n",
       "│     6 │ Angola                  │ AO          │ AGO         │           24 │    -12.5 │      18.5 │\n",
       "│     7 │ Anguilla                │ AI          │ AIA         │          660 │    18.25 │  -63.1667 │\n",
       "│     8 │ Antarctica              │ AQ          │ ATA         │           10 │    -90.0 │       0.0 │\n",
       "│     9 │ Antigua and Barbuda     │ AG          │ ATG         │           28 │    17.05 │     -61.8 │\n",
       "│    10 │ Argentina               │ AR          │ ARG         │           32 │    -34.0 │     -64.0 │\n",
       "│     · │    ·                    │ ·           │  ·          │            · │      ·   │       ·   │\n",
       "│     · │    ·                    │ ·           │  ·          │            · │      ·   │       ·   │\n",
       "│     · │    ·                    │ ·           │  ·          │            · │      ·   │       ·   │\n",
       "│   234 │ Vanuatu                 │ VU          │ VUT         │          548 │    -16.0 │     167.0 │\n",
       "│   235 │ Venezuela               │ VE          │ VEN         │          862 │      8.0 │     -66.0 │\n",
       "│   236 │ Vietnam                 │ VN          │ VNM         │          704 │     16.0 │     106.0 │\n",
       "│   237 │ Virgin Islands, British │ VG          │ VGB         │           92 │     18.5 │     -64.5 │\n",
       "│   238 │ Virgin Islands, U.S.    │ VI          │ VIR         │          850 │  18.3333 │  -64.8333 │\n",
       "│   239 │ Wallis and Futuna       │ WF          │ WLF         │          876 │    -13.3 │    -176.2 │\n",
       "│   240 │ Western Sahara          │ EH          │ ESH         │          732 │     24.5 │     -13.0 │\n",
       "│   241 │ Yemen                   │ YE          │ YEM         │          887 │     15.0 │      48.0 │\n",
       "│   242 │ Zambia                  │ ZM          │ ZMB         │          894 │    -15.0 │      30.0 │\n",
       "│   243 │ Zimbabwe                │ ZW          │ ZWE         │          716 │    -20.0 │      30.0 │\n",
       "├───────┴─────────────────────────┴─────────────┴─────────────┴──────────────┴──────────┴───────────┤\n",
       "│ 243 rows (20 shown)                                                                     7 columns │\n",
       "└───────────────────────────────────────────────────────────────────────────────────────────────────┘"
      ]
     },
     "execution_count": 43,
     "metadata": {},
     "output_type": "execute_result"
    }
   ],
   "source": [
    "con.read_csv('https://open.gishub.org/data/duckdb/countries.csv')"
   ]
  },
  {
   "cell_type": "markdown",
   "metadata": {},
   "source": [
    "## DataFrames\n",
    "\n",
    "DuckDB can also directly query Pandas DataFrames. "
   ]
  },
  {
   "cell_type": "code",
   "execution_count": 44,
   "metadata": {},
   "outputs": [
    {
     "data": {
      "text/plain": [
       "┌───────┐\n",
       "│   a   │\n",
       "│ int64 │\n",
       "├───────┤\n",
       "│    42 │\n",
       "└───────┘"
      ]
     },
     "execution_count": 44,
     "metadata": {},
     "output_type": "execute_result"
    }
   ],
   "source": [
    "pandas_df = pd.DataFrame({'a': [42]})\n",
    "con.sql('SELECT * FROM pandas_df')"
   ]
  },
  {
   "cell_type": "markdown",
   "metadata": {},
   "source": [
    "DuckDB can also ingest data from remote sources (e.g., HTTP, S3) and return a Pandas DataFrame."
   ]
  },
  {
   "cell_type": "code",
   "execution_count": 45,
   "metadata": {},
   "outputs": [
    {
     "data": {
      "text/html": [
       "<div>\n",
       "<style scoped>\n",
       "    .dataframe tbody tr th:only-of-type {\n",
       "        vertical-align: middle;\n",
       "    }\n",
       "\n",
       "    .dataframe tbody tr th {\n",
       "        vertical-align: top;\n",
       "    }\n",
       "\n",
       "    .dataframe thead th {\n",
       "        text-align: right;\n",
       "    }\n",
       "</style>\n",
       "<table border=\"1\" class=\"dataframe\">\n",
       "  <thead>\n",
       "    <tr style=\"text-align: right;\">\n",
       "      <th></th>\n",
       "      <th>id</th>\n",
       "      <th>name</th>\n",
       "      <th>country</th>\n",
       "      <th>latitude</th>\n",
       "      <th>longitude</th>\n",
       "      <th>population</th>\n",
       "    </tr>\n",
       "  </thead>\n",
       "  <tbody>\n",
       "    <tr>\n",
       "      <th>0</th>\n",
       "      <td>1</td>\n",
       "      <td>Bombo</td>\n",
       "      <td>UGA</td>\n",
       "      <td>0.5833</td>\n",
       "      <td>32.5333</td>\n",
       "      <td>75000</td>\n",
       "    </tr>\n",
       "    <tr>\n",
       "      <th>1</th>\n",
       "      <td>2</td>\n",
       "      <td>Fort Portal</td>\n",
       "      <td>UGA</td>\n",
       "      <td>0.6710</td>\n",
       "      <td>30.2750</td>\n",
       "      <td>42670</td>\n",
       "    </tr>\n",
       "    <tr>\n",
       "      <th>2</th>\n",
       "      <td>3</td>\n",
       "      <td>Potenza</td>\n",
       "      <td>ITA</td>\n",
       "      <td>40.6420</td>\n",
       "      <td>15.7990</td>\n",
       "      <td>69060</td>\n",
       "    </tr>\n",
       "    <tr>\n",
       "      <th>3</th>\n",
       "      <td>4</td>\n",
       "      <td>Campobasso</td>\n",
       "      <td>ITA</td>\n",
       "      <td>41.5630</td>\n",
       "      <td>14.6560</td>\n",
       "      <td>50762</td>\n",
       "    </tr>\n",
       "    <tr>\n",
       "      <th>4</th>\n",
       "      <td>5</td>\n",
       "      <td>Aosta</td>\n",
       "      <td>ITA</td>\n",
       "      <td>45.7370</td>\n",
       "      <td>7.3150</td>\n",
       "      <td>34062</td>\n",
       "    </tr>\n",
       "  </tbody>\n",
       "</table>\n",
       "</div>"
      ],
      "text/plain": [
       "   id         name country  latitude  longitude  population\n",
       "0   1        Bombo     UGA    0.5833    32.5333       75000\n",
       "1   2  Fort Portal     UGA    0.6710    30.2750       42670\n",
       "2   3      Potenza     ITA   40.6420    15.7990       69060\n",
       "3   4   Campobasso     ITA   41.5630    14.6560       50762\n",
       "4   5        Aosta     ITA   45.7370     7.3150       34062"
      ]
     },
     "execution_count": 45,
     "metadata": {},
     "output_type": "execute_result"
    }
   ],
   "source": [
    "df = con.read_csv('https://open.gishub.org/data/duckdb/cities.csv').df()\n",
    "df.head()"
   ]
  },
  {
   "cell_type": "markdown",
   "metadata": {},
   "source": [
    "## Result Conversion\n",
    "\n",
    "DuckDB supports converting query results efficiently to a variety of formats. See the [result conversion page](https://duckdb.org/docs/api/python/result_conversion) for more information."
   ]
  },
  {
   "cell_type": "code",
   "execution_count": 46,
   "metadata": {},
   "outputs": [
    {
     "data": {
      "text/plain": [
       "[(42,)]"
      ]
     },
     "execution_count": 46,
     "metadata": {},
     "output_type": "execute_result"
    }
   ],
   "source": [
    "con.sql('SELECT 42').fetchall()  # Python objects"
   ]
  },
  {
   "cell_type": "code",
   "execution_count": 47,
   "metadata": {},
   "outputs": [
    {
     "data": {
      "text/html": [
       "<div>\n",
       "<style scoped>\n",
       "    .dataframe tbody tr th:only-of-type {\n",
       "        vertical-align: middle;\n",
       "    }\n",
       "\n",
       "    .dataframe tbody tr th {\n",
       "        vertical-align: top;\n",
       "    }\n",
       "\n",
       "    .dataframe thead th {\n",
       "        text-align: right;\n",
       "    }\n",
       "</style>\n",
       "<table border=\"1\" class=\"dataframe\">\n",
       "  <thead>\n",
       "    <tr style=\"text-align: right;\">\n",
       "      <th></th>\n",
       "      <th>42</th>\n",
       "    </tr>\n",
       "  </thead>\n",
       "  <tbody>\n",
       "    <tr>\n",
       "      <th>0</th>\n",
       "      <td>42</td>\n",
       "    </tr>\n",
       "  </tbody>\n",
       "</table>\n",
       "</div>"
      ],
      "text/plain": [
       "   42\n",
       "0  42"
      ]
     },
     "execution_count": 47,
     "metadata": {},
     "output_type": "execute_result"
    }
   ],
   "source": [
    "con.sql('SELECT 42').df()  # Pandas DataFrame"
   ]
  },
  {
   "cell_type": "code",
   "execution_count": 48,
   "metadata": {},
   "outputs": [
    {
     "data": {
      "text/plain": [
       "{'42': array([42])}"
      ]
     },
     "execution_count": 48,
     "metadata": {},
     "output_type": "execute_result"
    }
   ],
   "source": [
    "con.sql('SELECT 42').fetchnumpy()  # NumPy Arrays"
   ]
  },
  {
   "cell_type": "markdown",
   "metadata": {},
   "source": [
    "## Writing Data to Disk\n",
    "\n",
    "DuckDB supports writing Relation objects directly to disk in a variety of formats. The [COPY](https://duckdb.org/docs/sql/statements/copy) statement can be used to write data to disk using SQL as an alternative."
   ]
  },
  {
   "cell_type": "code",
   "execution_count": 49,
   "metadata": {},
   "outputs": [],
   "source": [
    "con.sql('SELECT 42').write_parquet('out.parquet')  # Write to a Parquet file\n",
    "con.sql('SELECT 42').write_csv('out.csv')  # Write to a CSV file\n",
    "con.sql(\"COPY (SELECT 42) TO 'out.parquet'\")  # Copy to a parquet file"
   ]
  },
  {
   "cell_type": "markdown",
   "metadata": {},
   "source": [
    "## Persistent Storage\n",
    "\n",
    "By default DuckDB operates on an **in-memory** database. That means that any tables that are created are not persisted to disk. Using the `.connect` method a connection can be made to a persistent database. Any data written to that connection will be persisted, and can be reloaded by re-connecting to the same file."
   ]
  },
  {
   "cell_type": "code",
   "execution_count": 50,
   "metadata": {},
   "outputs": [
    {
     "ename": "IOException",
     "evalue": "IO Error: Cannot open file \"d:\\datascience\\aiag\\book\\duckdb\\file.db\": The process cannot access the file because it is being used by another process.\r\n",
     "output_type": "error",
     "traceback": [
      "\u001b[1;31m---------------------------------------------------------------------------\u001b[0m",
      "\u001b[1;31mIOException\u001b[0m                               Traceback (most recent call last)",
      "Cell \u001b[1;32mIn[50], line 2\u001b[0m\n\u001b[0;32m      1\u001b[0m \u001b[38;5;66;03m# create a connection to a file called 'file.db'\u001b[39;00m\n\u001b[1;32m----> 2\u001b[0m con \u001b[38;5;241m=\u001b[39m \u001b[43mduckdb\u001b[49m\u001b[38;5;241;43m.\u001b[39;49m\u001b[43mconnect\u001b[49m\u001b[43m(\u001b[49m\u001b[38;5;124;43m'\u001b[39;49m\u001b[38;5;124;43mfile.db\u001b[39;49m\u001b[38;5;124;43m'\u001b[39;49m\u001b[43m)\u001b[49m\n\u001b[0;32m      3\u001b[0m \u001b[38;5;66;03m# create a table and load data into it\u001b[39;00m\n\u001b[0;32m      4\u001b[0m con\u001b[38;5;241m.\u001b[39msql(\n\u001b[0;32m      5\u001b[0m     \u001b[38;5;124m'\u001b[39m\u001b[38;5;124mCREATE TABLE IF NOT EXISTS cities AS FROM read_csv_auto(\u001b[39m\u001b[38;5;124m\"\u001b[39m\u001b[38;5;124mhttps://open.gishub.org/data/duckdb/cities.csv\u001b[39m\u001b[38;5;124m\"\u001b[39m\u001b[38;5;124m)\u001b[39m\u001b[38;5;124m'\u001b[39m\n\u001b[0;32m      6\u001b[0m )\n",
      "\u001b[1;31mIOException\u001b[0m: IO Error: Cannot open file \"d:\\datascience\\aiag\\book\\duckdb\\file.db\": The process cannot access the file because it is being used by another process.\r\n"
     ]
    }
   ],
   "source": [
    "# create a connection to a file called 'file.db'\n",
    "con = duckdb.connect('file.db')\n",
    "# create a table and load data into it\n",
    "con.sql(\n",
    "    'CREATE TABLE IF NOT EXISTS cities AS FROM read_csv_auto(\"https://open.gishub.org/data/duckdb/cities.csv\")'\n",
    ")\n",
    "# query the table\n",
    "con.table('cities').show()\n",
    "# Note: connections also closed implicitly when they go out of scope"
   ]
  },
  {
   "cell_type": "code",
   "execution_count": null,
   "metadata": {},
   "outputs": [],
   "source": [
    "# explicitly close the connection\n",
    "con.close()"
   ]
  },
  {
   "cell_type": "markdown",
   "metadata": {},
   "source": [
    "You can also use a context manager to ensure that the connection is closed:"
   ]
  },
  {
   "cell_type": "code",
   "execution_count": 52,
   "metadata": {},
   "outputs": [
    {
     "ename": "IOException",
     "evalue": "IO Error: Cannot open file \"d:\\datascience\\aiag\\book\\duckdb\\file.db\": The process cannot access the file because it is being used by another process.\r\n",
     "output_type": "error",
     "traceback": [
      "\u001b[1;31m---------------------------------------------------------------------------\u001b[0m",
      "\u001b[1;31mIOException\u001b[0m                               Traceback (most recent call last)",
      "Cell \u001b[1;32mIn[52], line 1\u001b[0m\n\u001b[1;32m----> 1\u001b[0m \u001b[38;5;28;01mwith\u001b[39;00m \u001b[43mduckdb\u001b[49m\u001b[38;5;241;43m.\u001b[39;49m\u001b[43mconnect\u001b[49m\u001b[43m(\u001b[49m\u001b[38;5;124;43m'\u001b[39;49m\u001b[38;5;124;43mfile.db\u001b[39;49m\u001b[38;5;124;43m'\u001b[39;49m\u001b[43m)\u001b[49m \u001b[38;5;28;01mas\u001b[39;00m con:\n\u001b[0;32m      2\u001b[0m     con\u001b[38;5;241m.\u001b[39msql(\n\u001b[0;32m      3\u001b[0m         \u001b[38;5;124m'\u001b[39m\u001b[38;5;124mCREATE TABLE IF NOT EXISTS cities AS FROM read_csv_auto(\u001b[39m\u001b[38;5;124m\"\u001b[39m\u001b[38;5;124mhttps://open.gishub.org/data/duckdb/cities.csv\u001b[39m\u001b[38;5;124m\"\u001b[39m\u001b[38;5;124m)\u001b[39m\u001b[38;5;124m'\u001b[39m\n\u001b[0;32m      4\u001b[0m     )\n\u001b[0;32m      5\u001b[0m     con\u001b[38;5;241m.\u001b[39mtable(\u001b[38;5;124m'\u001b[39m\u001b[38;5;124mcities\u001b[39m\u001b[38;5;124m'\u001b[39m)\u001b[38;5;241m.\u001b[39mshow()\n",
      "\u001b[1;31mIOException\u001b[0m: IO Error: Cannot open file \"d:\\datascience\\aiag\\book\\duckdb\\file.db\": The process cannot access the file because it is being used by another process.\r\n"
     ]
    }
   ],
   "source": [
    "with duckdb.connect('file.db') as con:\n",
    "    con.sql(\n",
    "        'CREATE TABLE IF NOT EXISTS cities AS FROM read_csv_auto(\"https://open.gishub.org/data/duckdb/cities.csv\")'\n",
    "    )\n",
    "    con.table('cities').show()\n",
    "    # the context manager closes the connection automatically"
   ]
  },
  {
   "cell_type": "markdown",
   "metadata": {},
   "source": [
    "## Connection Object and Module\n",
    "\n",
    "The connection object and the `duckdb` module can be used interchangeably – they support the same methods. The only difference is that when using the `duckdb` module a global in-memory database is used.\n",
    "\n",
    "Note that if you are developing a package designed for others to use, and use DuckDB in the package, it is recommend that you create connection objects instead of using the methods on the `duckdb` module. That is because the `duckdb` module uses a shared global database – which can cause hard to debug issues if used from within multiple different packages."
   ]
  },
  {
   "cell_type": "code",
   "execution_count": null,
   "metadata": {},
   "outputs": [
    {
     "data": {
      "text/plain": [
       "┌───────┐\n",
       "│  42   │\n",
       "│ int32 │\n",
       "├───────┤\n",
       "│    42 │\n",
       "└───────┘"
      ]
     },
     "execution_count": 36,
     "metadata": {},
     "output_type": "execute_result"
    }
   ],
   "source": [
    "duckdb.sql('SELECT 42')"
   ]
  },
  {
   "cell_type": "code",
   "execution_count": null,
   "metadata": {},
   "outputs": [
    {
     "data": {
      "text/plain": [
       "┌───────┐\n",
       "│  42   │\n",
       "│ int32 │\n",
       "├───────┤\n",
       "│    42 │\n",
       "└───────┘"
      ]
     },
     "execution_count": 37,
     "metadata": {},
     "output_type": "execute_result"
    }
   ],
   "source": [
    "con = duckdb.connect()\n",
    "con.sql('SELECT 42')"
   ]
  },
  {
   "cell_type": "markdown",
   "metadata": {},
   "source": [
    "## References\n",
    "\n",
    "- [DuckDB Python API Overview](https://duckdb.org/docs/api/python/overview)"
   ]
  },
  {
   "cell_type": "markdown",
   "metadata": {},
   "source": []
  }
 ],
 "metadata": {
  "kernelspec": {
   "display_name": "geo",
   "language": "python",
   "name": "python3"
  },
  "language_info": {
   "codemirror_mode": {
    "name": "ipython",
    "version": 3
   },
   "file_extension": ".py",
   "mimetype": "text/x-python",
   "name": "python",
   "nbconvert_exporter": "python",
   "pygments_lexer": "ipython3",
   "version": "3.10.13"
  }
 },
 "nbformat": 4,
 "nbformat_minor": 2
}
