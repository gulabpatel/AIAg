{
 "cells": [
  {
   "cell_type": "markdown",
   "metadata": {},
   "source": [
    "# Creating Interactive Maps\n",
    "\n",
    "```{contents}\n",
    ":local:\n",
    ":depth: 2\n",
    "```\n",
    "\n",
    "## Introduction\n",
    "\n",
    "## Technical requirements\n",
    "\n",
    "```bash\n",
    "conda create -n gee python\n",
    "conda activate gee\n",
    "conda install -c conda-forge mamba\n",
    "mamba install -c conda-forge pygis\n",
    "```\n",
    "\n",
    "```bash\n",
    "jupyter lab\n",
    "```"
   ]
  },
  {
   "cell_type": "code",
   "execution_count": 24,
   "metadata": {},
   "outputs": [
    {
     "data": {
      "text/html": [
       "\n",
       "            <style>\n",
       "                .geemap-dark {\n",
       "                    --jp-widgets-color: white;\n",
       "                    --jp-widgets-label-color: white;\n",
       "                    --jp-ui-font-color1: white;\n",
       "                    --jp-layout-color2: #454545;\n",
       "                    background-color: #383838;\n",
       "                }\n",
       "                    \n",
       "                .geemap-dark .jupyter-button {\n",
       "                    --jp-layout-color3: #383838;\n",
       "                }\n",
       "                \n",
       "                .geemap-colab {\n",
       "                    background-color: var(--colab-primary-surface-color, white);\n",
       "                }\n",
       "                    \n",
       "                .geemap-colab .jupyter-button {\n",
       "                    --jp-layout-color3: var(--colab-primary-surface-color, white);\n",
       "                }\n",
       "            </style>\n",
       "            "
      ],
      "text/plain": [
       "<IPython.core.display.HTML object>"
      ]
     },
     "metadata": {},
     "output_type": "display_data"
    }
   ],
   "source": [
    "# %pip install pygis"
   ]
  },
  {
   "cell_type": "code",
   "execution_count": 25,
   "metadata": {},
   "outputs": [
    {
     "data": {
      "text/html": [
       "\n",
       "            <style>\n",
       "                .geemap-dark {\n",
       "                    --jp-widgets-color: white;\n",
       "                    --jp-widgets-label-color: white;\n",
       "                    --jp-ui-font-color1: white;\n",
       "                    --jp-layout-color2: #454545;\n",
       "                    background-color: #383838;\n",
       "                }\n",
       "                    \n",
       "                .geemap-dark .jupyter-button {\n",
       "                    --jp-layout-color3: #383838;\n",
       "                }\n",
       "                \n",
       "                .geemap-colab {\n",
       "                    background-color: var(--colab-primary-surface-color, white);\n",
       "                }\n",
       "                    \n",
       "                .geemap-colab .jupyter-button {\n",
       "                    --jp-layout-color3: var(--colab-primary-surface-color, white);\n",
       "                }\n",
       "            </style>\n",
       "            "
      ],
      "text/plain": [
       "<IPython.core.display.HTML object>"
      ]
     },
     "metadata": {},
     "output_type": "display_data"
    }
   ],
   "source": [
    "import ee\n",
    "import geemap"
   ]
  },
  {
   "cell_type": "code",
   "execution_count": 26,
   "metadata": {},
   "outputs": [
    {
     "data": {
      "text/html": [
       "\n",
       "            <style>\n",
       "                .geemap-dark {\n",
       "                    --jp-widgets-color: white;\n",
       "                    --jp-widgets-label-color: white;\n",
       "                    --jp-ui-font-color1: white;\n",
       "                    --jp-layout-color2: #454545;\n",
       "                    background-color: #383838;\n",
       "                }\n",
       "                    \n",
       "                .geemap-dark .jupyter-button {\n",
       "                    --jp-layout-color3: #383838;\n",
       "                }\n",
       "                \n",
       "                .geemap-colab {\n",
       "                    background-color: var(--colab-primary-surface-color, white);\n",
       "                }\n",
       "                    \n",
       "                .geemap-colab .jupyter-button {\n",
       "                    --jp-layout-color3: var(--colab-primary-surface-color, white);\n",
       "                }\n",
       "            </style>\n",
       "            "
      ],
      "text/plain": [
       "<IPython.core.display.HTML object>"
      ]
     },
     "metadata": {},
     "output_type": "display_data"
    }
   ],
   "source": [
    "geemap.ee_initialize()"
   ]
  },
  {
   "cell_type": "markdown",
   "metadata": {},
   "source": [
    "## Plotting backends\n",
    "\n",
    "### Ipyleaflet"
   ]
  },
  {
   "cell_type": "code",
   "execution_count": 27,
   "metadata": {},
   "outputs": [
    {
     "data": {
      "text/html": [
       "\n",
       "            <style>\n",
       "                .geemap-dark {\n",
       "                    --jp-widgets-color: white;\n",
       "                    --jp-widgets-label-color: white;\n",
       "                    --jp-ui-font-color1: white;\n",
       "                    --jp-layout-color2: #454545;\n",
       "                    background-color: #383838;\n",
       "                }\n",
       "                    \n",
       "                .geemap-dark .jupyter-button {\n",
       "                    --jp-layout-color3: #383838;\n",
       "                }\n",
       "                \n",
       "                .geemap-colab {\n",
       "                    background-color: var(--colab-primary-surface-color, white);\n",
       "                }\n",
       "                    \n",
       "                .geemap-colab .jupyter-button {\n",
       "                    --jp-layout-color3: var(--colab-primary-surface-color, white);\n",
       "                }\n",
       "            </style>\n",
       "            "
      ],
      "text/plain": [
       "<IPython.core.display.HTML object>"
      ]
     },
     "metadata": {},
     "output_type": "display_data"
    },
    {
     "data": {
      "application/vnd.jupyter.widget-view+json": {
       "model_id": "e72550a6677143cc9d1c0c0a602daa89",
       "version_major": 2,
       "version_minor": 0
      },
      "text/plain": [
       "Map(center=[0, 0], controls=(WidgetControl(options=['position', 'transparent_bg'], widget=SearchDataGUI(childr…"
      ]
     },
     "execution_count": 27,
     "metadata": {},
     "output_type": "execute_result"
    }
   ],
   "source": [
    "import geemap\n",
    "Map = geemap.Map()\n",
    "Map"
   ]
  },
  {
   "cell_type": "code",
   "execution_count": 28,
   "metadata": {},
   "outputs": [
    {
     "data": {
      "text/html": [
       "\n",
       "            <style>\n",
       "                .geemap-dark {\n",
       "                    --jp-widgets-color: white;\n",
       "                    --jp-widgets-label-color: white;\n",
       "                    --jp-ui-font-color1: white;\n",
       "                    --jp-layout-color2: #454545;\n",
       "                    background-color: #383838;\n",
       "                }\n",
       "                    \n",
       "                .geemap-dark .jupyter-button {\n",
       "                    --jp-layout-color3: #383838;\n",
       "                }\n",
       "                \n",
       "                .geemap-colab {\n",
       "                    background-color: var(--colab-primary-surface-color, white);\n",
       "                }\n",
       "                    \n",
       "                .geemap-colab .jupyter-button {\n",
       "                    --jp-layout-color3: var(--colab-primary-surface-color, white);\n",
       "                }\n",
       "            </style>\n",
       "            "
      ],
      "text/plain": [
       "<IPython.core.display.HTML object>"
      ]
     },
     "metadata": {},
     "output_type": "display_data"
    },
    {
     "data": {
      "application/vnd.jupyter.widget-view+json": {
       "model_id": "6b3f128c4e3f4117b01a227a19e64d22",
       "version_major": 2,
       "version_minor": 0
      },
      "text/plain": [
       "Map(center=[40, -100], controls=(WidgetControl(options=['position', 'transparent_bg'], widget=SearchDataGUI(ch…"
      ]
     },
     "execution_count": 8,
     "metadata": {},
     "output_type": "execute_result"
    },
    {
     "ename": "ValueError",
     "evalue": "\nInvalid property path 'mapbox._derived' for layout\n",
     "output_type": "error",
     "traceback": [
      "\u001b[1;31m---------------------------------------------------------------------------\u001b[0m",
      "\u001b[1;31mValueError\u001b[0m                                Traceback (most recent call last)",
      "File \u001b[1;32mc:\\anaconda\\envs\\gee\\lib\\site-packages\\ipywidgets\\widgets\\widget.py:773\u001b[0m, in \u001b[0;36mWidget._handle_msg\u001b[1;34m(self, msg)\u001b[0m\n\u001b[0;32m    771\u001b[0m         \u001b[39mif\u001b[39;00m \u001b[39m'\u001b[39m\u001b[39mbuffer_paths\u001b[39m\u001b[39m'\u001b[39m \u001b[39min\u001b[39;00m data:\n\u001b[0;32m    772\u001b[0m             _put_buffers(state, data[\u001b[39m'\u001b[39m\u001b[39mbuffer_paths\u001b[39m\u001b[39m'\u001b[39m], msg[\u001b[39m'\u001b[39m\u001b[39mbuffers\u001b[39m\u001b[39m'\u001b[39m])\n\u001b[1;32m--> 773\u001b[0m         \u001b[39mself\u001b[39;49m\u001b[39m.\u001b[39;49mset_state(state)\n\u001b[0;32m    775\u001b[0m \u001b[39m# Handle a state request.\u001b[39;00m\n\u001b[0;32m    776\u001b[0m \u001b[39melif\u001b[39;00m method \u001b[39m==\u001b[39m \u001b[39m'\u001b[39m\u001b[39mrequest_state\u001b[39m\u001b[39m'\u001b[39m:\n",
      "File \u001b[1;32mc:\\anaconda\\envs\\gee\\lib\\site-packages\\ipywidgets\\widgets\\widget.py:650\u001b[0m, in \u001b[0;36mWidget.set_state\u001b[1;34m(self, sync_data)\u001b[0m\n\u001b[0;32m    645\u001b[0m         \u001b[39mself\u001b[39m\u001b[39m.\u001b[39m_send(msg, buffers\u001b[39m=\u001b[39mecho_buffers)\n\u001b[0;32m    647\u001b[0m \u001b[39m# The order of these context managers is important. Properties must\u001b[39;00m\n\u001b[0;32m    648\u001b[0m \u001b[39m# be locked when the hold_trait_notification context manager is\u001b[39;00m\n\u001b[0;32m    649\u001b[0m \u001b[39m# released and notifications are fired.\u001b[39;00m\n\u001b[1;32m--> 650\u001b[0m \u001b[39mwith\u001b[39;00m \u001b[39mself\u001b[39m\u001b[39m.\u001b[39m_lock_property(\u001b[39m*\u001b[39m\u001b[39m*\u001b[39msync_data), \u001b[39mself\u001b[39m\u001b[39m.\u001b[39mhold_trait_notifications():\n\u001b[0;32m    651\u001b[0m     \u001b[39mfor\u001b[39;00m name \u001b[39min\u001b[39;00m sync_data:\n\u001b[0;32m    652\u001b[0m         \u001b[39mif\u001b[39;00m name \u001b[39min\u001b[39;00m \u001b[39mself\u001b[39m\u001b[39m.\u001b[39mkeys:\n",
      "File \u001b[1;32mc:\\anaconda\\envs\\gee\\lib\\contextlib.py:142\u001b[0m, in \u001b[0;36m_GeneratorContextManager.__exit__\u001b[1;34m(self, typ, value, traceback)\u001b[0m\n\u001b[0;32m    140\u001b[0m \u001b[39mif\u001b[39;00m typ \u001b[39mis\u001b[39;00m \u001b[39mNone\u001b[39;00m:\n\u001b[0;32m    141\u001b[0m     \u001b[39mtry\u001b[39;00m:\n\u001b[1;32m--> 142\u001b[0m         \u001b[39mnext\u001b[39;49m(\u001b[39mself\u001b[39;49m\u001b[39m.\u001b[39;49mgen)\n\u001b[0;32m    143\u001b[0m     \u001b[39mexcept\u001b[39;00m \u001b[39mStopIteration\u001b[39;00m:\n\u001b[0;32m    144\u001b[0m         \u001b[39mreturn\u001b[39;00m \u001b[39mFalse\u001b[39;00m\n",
      "File \u001b[1;32mc:\\anaconda\\envs\\gee\\lib\\site-packages\\traitlets\\traitlets.py:1512\u001b[0m, in \u001b[0;36mHasTraits.hold_trait_notifications\u001b[1;34m(self)\u001b[0m\n\u001b[0;32m   1510\u001b[0m \u001b[39mfor\u001b[39;00m changes \u001b[39min\u001b[39;00m cache\u001b[39m.\u001b[39mvalues():\n\u001b[0;32m   1511\u001b[0m     \u001b[39mfor\u001b[39;00m change \u001b[39min\u001b[39;00m changes:\n\u001b[1;32m-> 1512\u001b[0m         \u001b[39mself\u001b[39;49m\u001b[39m.\u001b[39;49mnotify_change(change)\n",
      "File \u001b[1;32mc:\\anaconda\\envs\\gee\\lib\\site-packages\\ipywidgets\\widgets\\widget.py:701\u001b[0m, in \u001b[0;36mWidget.notify_change\u001b[1;34m(self, change)\u001b[0m\n\u001b[0;32m    698\u001b[0m     \u001b[39mif\u001b[39;00m name \u001b[39min\u001b[39;00m \u001b[39mself\u001b[39m\u001b[39m.\u001b[39mkeys \u001b[39mand\u001b[39;00m \u001b[39mself\u001b[39m\u001b[39m.\u001b[39m_should_send_property(name, \u001b[39mgetattr\u001b[39m(\u001b[39mself\u001b[39m, name)):\n\u001b[0;32m    699\u001b[0m         \u001b[39m# Send new state to front-end\u001b[39;00m\n\u001b[0;32m    700\u001b[0m         \u001b[39mself\u001b[39m\u001b[39m.\u001b[39msend_state(key\u001b[39m=\u001b[39mname)\n\u001b[1;32m--> 701\u001b[0m \u001b[39msuper\u001b[39;49m()\u001b[39m.\u001b[39;49mnotify_change(change)\n",
      "File \u001b[1;32mc:\\anaconda\\envs\\gee\\lib\\site-packages\\traitlets\\traitlets.py:1527\u001b[0m, in \u001b[0;36mHasTraits.notify_change\u001b[1;34m(self, change)\u001b[0m\n\u001b[0;32m   1525\u001b[0m \u001b[39mdef\u001b[39;00m \u001b[39mnotify_change\u001b[39m(\u001b[39mself\u001b[39m, change: Bunch) \u001b[39m-\u001b[39m\u001b[39m>\u001b[39m \u001b[39mNone\u001b[39;00m:\n\u001b[0;32m   1526\u001b[0m \u001b[39m    \u001b[39m\u001b[39m\"\"\"Notify observers of a change event\"\"\"\u001b[39;00m\n\u001b[1;32m-> 1527\u001b[0m     \u001b[39mreturn\u001b[39;00m \u001b[39mself\u001b[39;49m\u001b[39m.\u001b[39;49m_notify_observers(change)\n",
      "File \u001b[1;32mc:\\anaconda\\envs\\gee\\lib\\site-packages\\traitlets\\traitlets.py:1570\u001b[0m, in \u001b[0;36mHasTraits._notify_observers\u001b[1;34m(self, event)\u001b[0m\n\u001b[0;32m   1567\u001b[0m \u001b[39melif\u001b[39;00m \u001b[39misinstance\u001b[39m(c, EventHandler) \u001b[39mand\u001b[39;00m c\u001b[39m.\u001b[39mname \u001b[39mis\u001b[39;00m \u001b[39mnot\u001b[39;00m \u001b[39mNone\u001b[39;00m:\n\u001b[0;32m   1568\u001b[0m     c \u001b[39m=\u001b[39m \u001b[39mgetattr\u001b[39m(\u001b[39mself\u001b[39m, c\u001b[39m.\u001b[39mname)\n\u001b[1;32m-> 1570\u001b[0m c(event)\n",
      "File \u001b[1;32mc:\\anaconda\\envs\\gee\\lib\\site-packages\\plotly\\basewidget.py:635\u001b[0m, in \u001b[0;36mBaseFigureWidget._handler_js2py_relayout\u001b[1;34m(self, change)\u001b[0m\n\u001b[0;32m    631\u001b[0m     relayout_data\u001b[39m.\u001b[39mpop(\u001b[39m\"\u001b[39m\u001b[39mlastInputTime\u001b[39m\u001b[39m\"\u001b[39m)\n\u001b[0;32m    633\u001b[0m \u001b[39m# Perform relayout\u001b[39;00m\n\u001b[0;32m    634\u001b[0m \u001b[39m# ----------------\u001b[39;00m\n\u001b[1;32m--> 635\u001b[0m \u001b[39mself\u001b[39;49m\u001b[39m.\u001b[39;49mplotly_relayout(relayout_data\u001b[39m=\u001b[39;49mrelayout_data, source_view_id\u001b[39m=\u001b[39;49msource_view_id)\n\u001b[0;32m    637\u001b[0m \u001b[39mself\u001b[39m\u001b[39m.\u001b[39m_js2py_relayout \u001b[39m=\u001b[39m \u001b[39mNone\u001b[39;00m\n",
      "File \u001b[1;32mc:\\anaconda\\envs\\gee\\lib\\site-packages\\plotly\\basedatatypes.py:2610\u001b[0m, in \u001b[0;36mBaseFigure.plotly_relayout\u001b[1;34m(self, relayout_data, **kwargs)\u001b[0m\n\u001b[0;32m   2606\u001b[0m     msg_kwargs \u001b[39m=\u001b[39m {}\n\u001b[0;32m   2608\u001b[0m \u001b[39m# Perform relayout operation on layout dict\u001b[39;00m\n\u001b[0;32m   2609\u001b[0m \u001b[39m# -----------------------------------------\u001b[39;00m\n\u001b[1;32m-> 2610\u001b[0m relayout_changes \u001b[39m=\u001b[39m \u001b[39mself\u001b[39;49m\u001b[39m.\u001b[39;49m_perform_plotly_relayout(relayout_data)\n\u001b[0;32m   2611\u001b[0m \u001b[39mif\u001b[39;00m relayout_changes:\n\u001b[0;32m   2612\u001b[0m     \u001b[39m# The relayout operation resulted in a change to some layout\u001b[39;00m\n\u001b[0;32m   2613\u001b[0m     \u001b[39m# properties, so we dispatch change callbacks and send the\u001b[39;00m\n\u001b[0;32m   2614\u001b[0m     \u001b[39m# relayout message to the frontend (if any)\u001b[39;00m\n\u001b[0;32m   2615\u001b[0m     \u001b[39mself\u001b[39m\u001b[39m.\u001b[39m_send_relayout_msg(relayout_changes, \u001b[39m*\u001b[39m\u001b[39m*\u001b[39mmsg_kwargs)\n",
      "File \u001b[1;32mc:\\anaconda\\envs\\gee\\lib\\site-packages\\plotly\\basedatatypes.py:2646\u001b[0m, in \u001b[0;36mBaseFigure._perform_plotly_relayout\u001b[1;34m(self, relayout_data)\u001b[0m\n\u001b[0;32m   2642\u001b[0m         \u001b[39mfor\u001b[39;00m key_path_str, v \u001b[39min\u001b[39;00m relayout_data\u001b[39m.\u001b[39mitems():\n\u001b[0;32m   2644\u001b[0m             \u001b[39mif\u001b[39;00m \u001b[39mnot\u001b[39;00m BaseFigure\u001b[39m.\u001b[39m_is_key_path_compatible(key_path_str, \u001b[39mself\u001b[39m\u001b[39m.\u001b[39mlayout):\n\u001b[1;32m-> 2646\u001b[0m                 \u001b[39mraise\u001b[39;00m \u001b[39mValueError\u001b[39;00m(\n\u001b[0;32m   2647\u001b[0m \u001b[39m                    \u001b[39m\u001b[39m\"\"\"\u001b[39;00m\n\u001b[0;32m   2648\u001b[0m \u001b[39mInvalid property path '{key_path_str}' for layout\u001b[39;00m\n\u001b[0;32m   2649\u001b[0m \u001b[39m\"\"\"\u001b[39;00m\u001b[39m.\u001b[39mformat(\n\u001b[0;32m   2650\u001b[0m                         key_path_str\u001b[39m=\u001b[39mkey_path_str\n\u001b[0;32m   2651\u001b[0m                     )\n\u001b[0;32m   2652\u001b[0m                 )\n\u001b[0;32m   2654\u001b[0m             \u001b[39m# Apply set operation on the layout dict\u001b[39;00m\n\u001b[0;32m   2655\u001b[0m             val_changed \u001b[39m=\u001b[39m BaseFigure\u001b[39m.\u001b[39m_set_in(\u001b[39mself\u001b[39m\u001b[39m.\u001b[39m_layout, key_path_str, v)\n",
      "\u001b[1;31mValueError\u001b[0m: \nInvalid property path 'mapbox._derived' for layout\n"
     ]
    },
    {
     "data": {
      "text/html": [
       "\n",
       "            <style>\n",
       "                .geemap-dark {\n",
       "                    --jp-widgets-color: white;\n",
       "                    --jp-widgets-label-color: white;\n",
       "                    --jp-ui-font-color1: white;\n",
       "                    --jp-layout-color2: #454545;\n",
       "                    background-color: #383838;\n",
       "                }\n",
       "                    \n",
       "                .geemap-dark .jupyter-button {\n",
       "                    --jp-layout-color3: #383838;\n",
       "                }\n",
       "                \n",
       "                .geemap-colab {\n",
       "                    background-color: var(--colab-primary-surface-color, white);\n",
       "                }\n",
       "                    \n",
       "                .geemap-colab .jupyter-button {\n",
       "                    --jp-layout-color3: var(--colab-primary-surface-color, white);\n",
       "                }\n",
       "            </style>\n",
       "            "
      ],
      "text/plain": [
       "<IPython.core.display.HTML object>"
      ]
     },
     "metadata": {},
     "output_type": "display_data"
    },
    {
     "data": {
      "application/vnd.jupyter.widget-view+json": {
       "model_id": "e16efad72f9d405cab24555dd259e2d2",
       "version_major": 2,
       "version_minor": 0
      },
      "text/plain": [
       "Map(center=[40, -100], controls=(WidgetControl(options=['position', 'transparent_bg'], widget=SearchDataGUI(ch…"
      ]
     },
     "execution_count": 28,
     "metadata": {},
     "output_type": "execute_result"
    }
   ],
   "source": [
    "Map = geemap.Map(center=[40, -100], zoom=4, height=600)\n",
    "Map"
   ]
  },
  {
   "cell_type": "code",
   "execution_count": 29,
   "metadata": {},
   "outputs": [
    {
     "data": {
      "text/html": [
       "\n",
       "            <style>\n",
       "                .geemap-dark {\n",
       "                    --jp-widgets-color: white;\n",
       "                    --jp-widgets-label-color: white;\n",
       "                    --jp-ui-font-color1: white;\n",
       "                    --jp-layout-color2: #454545;\n",
       "                    background-color: #383838;\n",
       "                }\n",
       "                    \n",
       "                .geemap-dark .jupyter-button {\n",
       "                    --jp-layout-color3: #383838;\n",
       "                }\n",
       "                \n",
       "                .geemap-colab {\n",
       "                    background-color: var(--colab-primary-surface-color, white);\n",
       "                }\n",
       "                    \n",
       "                .geemap-colab .jupyter-button {\n",
       "                    --jp-layout-color3: var(--colab-primary-surface-color, white);\n",
       "                }\n",
       "            </style>\n",
       "            "
      ],
      "text/plain": [
       "<IPython.core.display.HTML object>"
      ]
     },
     "metadata": {},
     "output_type": "display_data"
    },
    {
     "data": {
      "application/vnd.jupyter.widget-view+json": {
       "model_id": "318b6cb1b30b4bf59e0dc434349616e9",
       "version_major": 2,
       "version_minor": 0
      },
      "text/plain": [
       "Map(center=[0, 0], controls=(ZoomControl(options=['position', 'zoom_in_text', 'zoom_in_title', 'zoom_out_text'…"
      ]
     },
     "execution_count": 29,
     "metadata": {},
     "output_type": "execute_result"
    }
   ],
   "source": [
    "Map = geemap.Map(data_ctrl=False, toolbar_ctrl=False, draw_ctrl=False)\n",
    "Map"
   ]
  },
  {
   "cell_type": "code",
   "execution_count": 30,
   "metadata": {},
   "outputs": [
    {
     "data": {
      "text/html": [
       "\n",
       "            <style>\n",
       "                .geemap-dark {\n",
       "                    --jp-widgets-color: white;\n",
       "                    --jp-widgets-label-color: white;\n",
       "                    --jp-ui-font-color1: white;\n",
       "                    --jp-layout-color2: #454545;\n",
       "                    background-color: #383838;\n",
       "                }\n",
       "                    \n",
       "                .geemap-dark .jupyter-button {\n",
       "                    --jp-layout-color3: #383838;\n",
       "                }\n",
       "                \n",
       "                .geemap-colab {\n",
       "                    background-color: var(--colab-primary-surface-color, white);\n",
       "                }\n",
       "                    \n",
       "                .geemap-colab .jupyter-button {\n",
       "                    --jp-layout-color3: var(--colab-primary-surface-color, white);\n",
       "                }\n",
       "            </style>\n",
       "            "
      ],
      "text/plain": [
       "<IPython.core.display.HTML object>"
      ]
     },
     "metadata": {},
     "output_type": "display_data"
    },
    {
     "data": {
      "application/vnd.jupyter.widget-view+json": {
       "model_id": "811ba239adba412bb9a96b97facde7a1",
       "version_major": 2,
       "version_minor": 0
      },
      "text/plain": [
       "Map(center=[0, 0], controls=(ZoomControl(options=['position', 'zoom_in_text', 'zoom_in_title', 'zoom_out_text'…"
      ]
     },
     "execution_count": 30,
     "metadata": {},
     "output_type": "execute_result"
    }
   ],
   "source": [
    "Map = geemap.Map(lite_mode=True)\n",
    "Map"
   ]
  },
  {
   "cell_type": "code",
   "execution_count": 31,
   "metadata": {},
   "outputs": [
    {
     "data": {
      "text/html": [
       "\n",
       "            <style>\n",
       "                .geemap-dark {\n",
       "                    --jp-widgets-color: white;\n",
       "                    --jp-widgets-label-color: white;\n",
       "                    --jp-ui-font-color1: white;\n",
       "                    --jp-layout-color2: #454545;\n",
       "                    background-color: #383838;\n",
       "                }\n",
       "                    \n",
       "                .geemap-dark .jupyter-button {\n",
       "                    --jp-layout-color3: #383838;\n",
       "                }\n",
       "                \n",
       "                .geemap-colab {\n",
       "                    background-color: var(--colab-primary-surface-color, white);\n",
       "                }\n",
       "                    \n",
       "                .geemap-colab .jupyter-button {\n",
       "                    --jp-layout-color3: var(--colab-primary-surface-color, white);\n",
       "                }\n",
       "            </style>\n",
       "            "
      ],
      "text/plain": [
       "<IPython.core.display.HTML object>"
      ]
     },
     "metadata": {},
     "output_type": "display_data"
    }
   ],
   "source": [
    "Map.save('ipyleaflet.html')"
   ]
  },
  {
   "cell_type": "markdown",
   "metadata": {},
   "source": [
    "### Folium"
   ]
  },
  {
   "cell_type": "code",
   "execution_count": 32,
   "metadata": {},
   "outputs": [
    {
     "data": {
      "text/html": [
       "\n",
       "            <style>\n",
       "                .geemap-dark {\n",
       "                    --jp-widgets-color: white;\n",
       "                    --jp-widgets-label-color: white;\n",
       "                    --jp-ui-font-color1: white;\n",
       "                    --jp-layout-color2: #454545;\n",
       "                    background-color: #383838;\n",
       "                }\n",
       "                    \n",
       "                .geemap-dark .jupyter-button {\n",
       "                    --jp-layout-color3: #383838;\n",
       "                }\n",
       "                \n",
       "                .geemap-colab {\n",
       "                    background-color: var(--colab-primary-surface-color, white);\n",
       "                }\n",
       "                    \n",
       "                .geemap-colab .jupyter-button {\n",
       "                    --jp-layout-color3: var(--colab-primary-surface-color, white);\n",
       "                }\n",
       "            </style>\n",
       "            "
      ],
      "text/plain": [
       "<IPython.core.display.HTML object>"
      ]
     },
     "metadata": {},
     "output_type": "display_data"
    }
   ],
   "source": [
    "import geemap.foliumap as geemap"
   ]
  },
  {
   "cell_type": "code",
   "execution_count": 33,
   "metadata": {},
   "outputs": [
    {
     "data": {
      "text/html": [
       "\n",
       "            <style>\n",
       "                .geemap-dark {\n",
       "                    --jp-widgets-color: white;\n",
       "                    --jp-widgets-label-color: white;\n",
       "                    --jp-ui-font-color1: white;\n",
       "                    --jp-layout-color2: #454545;\n",
       "                    background-color: #383838;\n",
       "                }\n",
       "                    \n",
       "                .geemap-dark .jupyter-button {\n",
       "                    --jp-layout-color3: #383838;\n",
       "                }\n",
       "                \n",
       "                .geemap-colab {\n",
       "                    background-color: var(--colab-primary-surface-color, white);\n",
       "                }\n",
       "                    \n",
       "                .geemap-colab .jupyter-button {\n",
       "                    --jp-layout-color3: var(--colab-primary-surface-color, white);\n",
       "                }\n",
       "            </style>\n",
       "            "
      ],
      "text/plain": [
       "<IPython.core.display.HTML object>"
      ]
     },
     "metadata": {},
     "output_type": "display_data"
    },
    {
     "data": {
      "text/html": [
       "<iframe srcdoc=\"&lt;!DOCTYPE html&gt;\n",
       "&lt;html&gt;\n",
       "&lt;head&gt;\n",
       "    \n",
       "    &lt;meta http-equiv=&quot;content-type&quot; content=&quot;text/html; charset=UTF-8&quot; /&gt;\n",
       "    \n",
       "        &lt;script&gt;\n",
       "            L_NO_TOUCH = false;\n",
       "            L_DISABLE_3D = false;\n",
       "        &lt;/script&gt;\n",
       "    \n",
       "    &lt;style&gt;html, body {width: 100%;height: 100%;margin: 0;padding: 0;}&lt;/style&gt;\n",
       "    &lt;style&gt;#map {position:absolute;top:0;bottom:0;right:0;left:0;}&lt;/style&gt;\n",
       "    &lt;script src=&quot;https://cdn.jsdelivr.net/npm/leaflet@1.9.3/dist/leaflet.js&quot;&gt;&lt;/script&gt;\n",
       "    &lt;script src=&quot;https://code.jquery.com/jquery-1.12.4.min.js&quot;&gt;&lt;/script&gt;\n",
       "    &lt;script src=&quot;https://cdn.jsdelivr.net/npm/bootstrap@5.2.2/dist/js/bootstrap.bundle.min.js&quot;&gt;&lt;/script&gt;\n",
       "    &lt;script src=&quot;https://cdnjs.cloudflare.com/ajax/libs/Leaflet.awesome-markers/2.0.2/leaflet.awesome-markers.js&quot;&gt;&lt;/script&gt;\n",
       "    &lt;link rel=&quot;stylesheet&quot; href=&quot;https://cdn.jsdelivr.net/npm/leaflet@1.9.3/dist/leaflet.css&quot;/&gt;\n",
       "    &lt;link rel=&quot;stylesheet&quot; href=&quot;https://cdn.jsdelivr.net/npm/bootstrap@5.2.2/dist/css/bootstrap.min.css&quot;/&gt;\n",
       "    &lt;link rel=&quot;stylesheet&quot; href=&quot;https://netdna.bootstrapcdn.com/bootstrap/3.0.0/css/bootstrap.min.css&quot;/&gt;\n",
       "    &lt;link rel=&quot;stylesheet&quot; href=&quot;https://cdn.jsdelivr.net/npm/@fortawesome/fontawesome-free@6.2.0/css/all.min.css&quot;/&gt;\n",
       "    &lt;link rel=&quot;stylesheet&quot; href=&quot;https://cdnjs.cloudflare.com/ajax/libs/Leaflet.awesome-markers/2.0.2/leaflet.awesome-markers.css&quot;/&gt;\n",
       "    &lt;link rel=&quot;stylesheet&quot; href=&quot;https://cdn.jsdelivr.net/gh/python-visualization/folium/folium/templates/leaflet.awesome.rotate.min.css&quot;/&gt;\n",
       "    \n",
       "            &lt;meta name=&quot;viewport&quot; content=&quot;width=device-width,\n",
       "                initial-scale=1.0, maximum-scale=1.0, user-scalable=no&quot; /&gt;\n",
       "            &lt;style&gt;\n",
       "                #map_396ef675ade9cd548087f1cb8b171d4d {\n",
       "                    position: relative;\n",
       "                    width: 100.0%;\n",
       "                    height: 100.0%;\n",
       "                    left: 0.0%;\n",
       "                    top: 0.0%;\n",
       "                }\n",
       "                .leaflet-container { font-size: 1rem; }\n",
       "            &lt;/style&gt;\n",
       "        \n",
       "    &lt;script src=&quot;https://cdnjs.cloudflare.com/ajax/libs/leaflet.fullscreen/1.4.2/Control.FullScreen.min.js&quot;&gt;&lt;/script&gt;\n",
       "    &lt;link rel=&quot;stylesheet&quot; href=&quot;https://cdnjs.cloudflare.com/ajax/libs/leaflet.fullscreen/1.4.2/Control.FullScreen.min.css&quot;/&gt;\n",
       "    &lt;script src=&quot;https://cdnjs.cloudflare.com/ajax/libs/leaflet.draw/1.0.2/leaflet.draw.js&quot;&gt;&lt;/script&gt;\n",
       "    &lt;link rel=&quot;stylesheet&quot; href=&quot;https://cdnjs.cloudflare.com/ajax/libs/leaflet.draw/1.0.2/leaflet.draw.css&quot;/&gt;\n",
       "    &lt;script src=&quot;https://unpkg.com/leaflet-control-geocoder/dist/Control.Geocoder.js&quot;&gt;&lt;/script&gt;\n",
       "    &lt;link rel=&quot;stylesheet&quot; href=&quot;https://unpkg.com/leaflet-control-geocoder/dist/Control.Geocoder.css&quot;/&gt;\n",
       "&lt;/head&gt;\n",
       "&lt;body&gt;\n",
       "    \n",
       "    \n",
       "            &lt;div class=&quot;folium-map&quot; id=&quot;map_396ef675ade9cd548087f1cb8b171d4d&quot; &gt;&lt;/div&gt;\n",
       "        \n",
       "&lt;/body&gt;\n",
       "&lt;script&gt;\n",
       "    \n",
       "    \n",
       "            var map_396ef675ade9cd548087f1cb8b171d4d = L.map(\n",
       "                &quot;map_396ef675ade9cd548087f1cb8b171d4d&quot;,\n",
       "                {\n",
       "                    center: [40.0, -100.0],\n",
       "                    crs: L.CRS.EPSG3857,\n",
       "                    zoom: 4,\n",
       "                    zoomControl: true,\n",
       "                    preferCanvas: false,\n",
       "                    eeInitialize: true,\n",
       "                    addGoogleMap: false,\n",
       "                    pluginLatlngpopup: false,\n",
       "                    pluginFullscreen: true,\n",
       "                    pluginDraw: true,\n",
       "                    DrawExport: false,\n",
       "                    pluginMinimap: false,\n",
       "                    locateControl: false,\n",
       "                    searchControl: true,\n",
       "                    layersControl: true,\n",
       "                }\n",
       "            );\n",
       "\n",
       "            \n",
       "\n",
       "        \n",
       "    \n",
       "            var tile_layer_9f057ec1128b01df0e9cb51ab567705c = L.tileLayer(\n",
       "                &quot;https://{s}.tile.openstreetmap.org/{z}/{x}/{y}.png&quot;,\n",
       "                {&quot;attribution&quot;: &quot;Data by \\u0026copy; \\u003ca target=\\&quot;_blank\\&quot; href=\\&quot;http://openstreetmap.org\\&quot;\\u003eOpenStreetMap\\u003c/a\\u003e, under \\u003ca target=\\&quot;_blank\\&quot; href=\\&quot;http://www.openstreetmap.org/copyright\\&quot;\\u003eODbL\\u003c/a\\u003e.&quot;, &quot;detectRetina&quot;: false, &quot;maxNativeZoom&quot;: 30, &quot;maxZoom&quot;: 30, &quot;minZoom&quot;: 0, &quot;noWrap&quot;: false, &quot;opacity&quot;: 1, &quot;subdomains&quot;: &quot;abc&quot;, &quot;tms&quot;: false}\n",
       "            ).addTo(map_396ef675ade9cd548087f1cb8b171d4d);\n",
       "        \n",
       "    \n",
       "            L.control.fullscreen(\n",
       "                {&quot;forceSeparateButton&quot;: false, &quot;position&quot;: &quot;topleft&quot;, &quot;title&quot;: &quot;Full Screen&quot;, &quot;titleCancel&quot;: &quot;Exit Full Screen&quot;}\n",
       "            ).addTo(map_396ef675ade9cd548087f1cb8b171d4d);\n",
       "        \n",
       "    \n",
       "            var options = {\n",
       "              position: &quot;topleft&quot;,\n",
       "              draw: {},\n",
       "              edit: {},\n",
       "            }\n",
       "            // FeatureGroup is to store editable layers.\n",
       "            var drawnItems = new L.featureGroup().addTo(\n",
       "                map_396ef675ade9cd548087f1cb8b171d4d\n",
       "            );\n",
       "            options.edit.featureGroup = drawnItems;\n",
       "            var draw_control_6770e557318e988ed32d022163b8dcef = new L.Control.Draw(\n",
       "                options\n",
       "            ).addTo( map_396ef675ade9cd548087f1cb8b171d4d );\n",
       "            map_396ef675ade9cd548087f1cb8b171d4d.on(L.Draw.Event.CREATED, function(e) {\n",
       "                var layer = e.layer,\n",
       "                    type = e.layerType;\n",
       "                var coords = JSON.stringify(layer.toGeoJSON());\n",
       "                layer.on(&#x27;click&#x27;, function() {\n",
       "                    alert(coords);\n",
       "                    console.log(coords);\n",
       "                });\n",
       "                drawnItems.addLayer(layer);\n",
       "             });\n",
       "            map_396ef675ade9cd548087f1cb8b171d4d.on(&#x27;draw:created&#x27;, function(e) {\n",
       "                drawnItems.addLayer(e.layer);\n",
       "            });\n",
       "            \n",
       "        \n",
       "    \n",
       "            L.Control.geocoder(\n",
       "                {&quot;collapsed&quot;: true, &quot;defaultMarkGeocode&quot;: true, &quot;position&quot;: &quot;topleft&quot;}\n",
       "            ).on(&#x27;markgeocode&#x27;, function(e) {\n",
       "                map_396ef675ade9cd548087f1cb8b171d4d.setView(e.geocode.center, 11);\n",
       "            }).addTo(map_396ef675ade9cd548087f1cb8b171d4d);\n",
       "\n",
       "        \n",
       "    \n",
       "            map_396ef675ade9cd548087f1cb8b171d4d.fitBounds(\n",
       "                [[40, -100], [40, -100]],\n",
       "                {&quot;maxZoom&quot;: 4}\n",
       "            );\n",
       "        \n",
       "    \n",
       "            var layer_control_3ee74b9d8e3a076abee098ed78613e70 = {\n",
       "                base_layers : {\n",
       "                    &quot;openstreetmap&quot; : tile_layer_9f057ec1128b01df0e9cb51ab567705c,\n",
       "                },\n",
       "                overlays :  {\n",
       "                },\n",
       "            };\n",
       "            L.control.layers(\n",
       "                layer_control_3ee74b9d8e3a076abee098ed78613e70.base_layers,\n",
       "                layer_control_3ee74b9d8e3a076abee098ed78613e70.overlays,\n",
       "                {&quot;autoZIndex&quot;: true, &quot;collapsed&quot;: true, &quot;position&quot;: &quot;topright&quot;}\n",
       "            ).addTo(map_396ef675ade9cd548087f1cb8b171d4d);\n",
       "        \n",
       "&lt;/script&gt;\n",
       "&lt;/html&gt;\" width=\"100%\" height=\"600\"style=\"border:none !important;\" \"allowfullscreen\" \"webkitallowfullscreen\" \"mozallowfullscreen\"></iframe>"
      ],
      "text/plain": [
       "<geemap.foliumap.Map at 0x2d3c637d1e0>"
      ]
     },
     "execution_count": 33,
     "metadata": {},
     "output_type": "execute_result"
    }
   ],
   "source": [
    "Map = geemap.Map(center=[40, -100], zoom=4, height=600)\n",
    "Map"
   ]
  },
  {
   "cell_type": "code",
   "execution_count": 34,
   "metadata": {},
   "outputs": [
    {
     "data": {
      "text/html": [
       "\n",
       "            <style>\n",
       "                .geemap-dark {\n",
       "                    --jp-widgets-color: white;\n",
       "                    --jp-widgets-label-color: white;\n",
       "                    --jp-ui-font-color1: white;\n",
       "                    --jp-layout-color2: #454545;\n",
       "                    background-color: #383838;\n",
       "                }\n",
       "                    \n",
       "                .geemap-dark .jupyter-button {\n",
       "                    --jp-layout-color3: #383838;\n",
       "                }\n",
       "                \n",
       "                .geemap-colab {\n",
       "                    background-color: var(--colab-primary-surface-color, white);\n",
       "                }\n",
       "                    \n",
       "                .geemap-colab .jupyter-button {\n",
       "                    --jp-layout-color3: var(--colab-primary-surface-color, white);\n",
       "                }\n",
       "            </style>\n",
       "            "
      ],
      "text/plain": [
       "<IPython.core.display.HTML object>"
      ]
     },
     "metadata": {},
     "output_type": "display_data"
    }
   ],
   "source": [
    "Map.save('folium.html')"
   ]
  },
  {
   "cell_type": "markdown",
   "metadata": {},
   "source": [
    "### Plotly"
   ]
  },
  {
   "cell_type": "code",
   "execution_count": 35,
   "metadata": {},
   "outputs": [
    {
     "data": {
      "text/html": [
       "\n",
       "            <style>\n",
       "                .geemap-dark {\n",
       "                    --jp-widgets-color: white;\n",
       "                    --jp-widgets-label-color: white;\n",
       "                    --jp-ui-font-color1: white;\n",
       "                    --jp-layout-color2: #454545;\n",
       "                    background-color: #383838;\n",
       "                }\n",
       "                    \n",
       "                .geemap-dark .jupyter-button {\n",
       "                    --jp-layout-color3: #383838;\n",
       "                }\n",
       "                \n",
       "                .geemap-colab {\n",
       "                    background-color: var(--colab-primary-surface-color, white);\n",
       "                }\n",
       "                    \n",
       "                .geemap-colab .jupyter-button {\n",
       "                    --jp-layout-color3: var(--colab-primary-surface-color, white);\n",
       "                }\n",
       "            </style>\n",
       "            "
      ],
      "text/plain": [
       "<IPython.core.display.HTML object>"
      ]
     },
     "metadata": {},
     "output_type": "display_data"
    },
    {
     "ename": "ValueError",
     "evalue": "\nInvalid property path 'mapbox._derived' for layout\n",
     "output_type": "error",
     "traceback": [
      "\u001b[1;31m---------------------------------------------------------------------------\u001b[0m",
      "\u001b[1;31mValueError\u001b[0m                                Traceback (most recent call last)",
      "File \u001b[1;32mc:\\anaconda\\envs\\gee\\lib\\site-packages\\ipywidgets\\widgets\\widget.py:773\u001b[0m, in \u001b[0;36mWidget._handle_msg\u001b[1;34m(self, msg)\u001b[0m\n\u001b[0;32m    771\u001b[0m         \u001b[39mif\u001b[39;00m \u001b[39m'\u001b[39m\u001b[39mbuffer_paths\u001b[39m\u001b[39m'\u001b[39m \u001b[39min\u001b[39;00m data:\n\u001b[0;32m    772\u001b[0m             _put_buffers(state, data[\u001b[39m'\u001b[39m\u001b[39mbuffer_paths\u001b[39m\u001b[39m'\u001b[39m], msg[\u001b[39m'\u001b[39m\u001b[39mbuffers\u001b[39m\u001b[39m'\u001b[39m])\n\u001b[1;32m--> 773\u001b[0m         \u001b[39mself\u001b[39;49m\u001b[39m.\u001b[39;49mset_state(state)\n\u001b[0;32m    775\u001b[0m \u001b[39m# Handle a state request.\u001b[39;00m\n\u001b[0;32m    776\u001b[0m \u001b[39melif\u001b[39;00m method \u001b[39m==\u001b[39m \u001b[39m'\u001b[39m\u001b[39mrequest_state\u001b[39m\u001b[39m'\u001b[39m:\n",
      "File \u001b[1;32mc:\\anaconda\\envs\\gee\\lib\\site-packages\\ipywidgets\\widgets\\widget.py:650\u001b[0m, in \u001b[0;36mWidget.set_state\u001b[1;34m(self, sync_data)\u001b[0m\n\u001b[0;32m    645\u001b[0m         \u001b[39mself\u001b[39m\u001b[39m.\u001b[39m_send(msg, buffers\u001b[39m=\u001b[39mecho_buffers)\n\u001b[0;32m    647\u001b[0m \u001b[39m# The order of these context managers is important. Properties must\u001b[39;00m\n\u001b[0;32m    648\u001b[0m \u001b[39m# be locked when the hold_trait_notification context manager is\u001b[39;00m\n\u001b[0;32m    649\u001b[0m \u001b[39m# released and notifications are fired.\u001b[39;00m\n\u001b[1;32m--> 650\u001b[0m \u001b[39mwith\u001b[39;00m \u001b[39mself\u001b[39m\u001b[39m.\u001b[39m_lock_property(\u001b[39m*\u001b[39m\u001b[39m*\u001b[39msync_data), \u001b[39mself\u001b[39m\u001b[39m.\u001b[39mhold_trait_notifications():\n\u001b[0;32m    651\u001b[0m     \u001b[39mfor\u001b[39;00m name \u001b[39min\u001b[39;00m sync_data:\n\u001b[0;32m    652\u001b[0m         \u001b[39mif\u001b[39;00m name \u001b[39min\u001b[39;00m \u001b[39mself\u001b[39m\u001b[39m.\u001b[39mkeys:\n",
      "File \u001b[1;32mc:\\anaconda\\envs\\gee\\lib\\contextlib.py:142\u001b[0m, in \u001b[0;36m_GeneratorContextManager.__exit__\u001b[1;34m(self, typ, value, traceback)\u001b[0m\n\u001b[0;32m    140\u001b[0m \u001b[39mif\u001b[39;00m typ \u001b[39mis\u001b[39;00m \u001b[39mNone\u001b[39;00m:\n\u001b[0;32m    141\u001b[0m     \u001b[39mtry\u001b[39;00m:\n\u001b[1;32m--> 142\u001b[0m         \u001b[39mnext\u001b[39;49m(\u001b[39mself\u001b[39;49m\u001b[39m.\u001b[39;49mgen)\n\u001b[0;32m    143\u001b[0m     \u001b[39mexcept\u001b[39;00m \u001b[39mStopIteration\u001b[39;00m:\n\u001b[0;32m    144\u001b[0m         \u001b[39mreturn\u001b[39;00m \u001b[39mFalse\u001b[39;00m\n",
      "File \u001b[1;32mc:\\anaconda\\envs\\gee\\lib\\site-packages\\traitlets\\traitlets.py:1512\u001b[0m, in \u001b[0;36mHasTraits.hold_trait_notifications\u001b[1;34m(self)\u001b[0m\n\u001b[0;32m   1510\u001b[0m \u001b[39mfor\u001b[39;00m changes \u001b[39min\u001b[39;00m cache\u001b[39m.\u001b[39mvalues():\n\u001b[0;32m   1511\u001b[0m     \u001b[39mfor\u001b[39;00m change \u001b[39min\u001b[39;00m changes:\n\u001b[1;32m-> 1512\u001b[0m         \u001b[39mself\u001b[39;49m\u001b[39m.\u001b[39;49mnotify_change(change)\n",
      "File \u001b[1;32mc:\\anaconda\\envs\\gee\\lib\\site-packages\\ipywidgets\\widgets\\widget.py:701\u001b[0m, in \u001b[0;36mWidget.notify_change\u001b[1;34m(self, change)\u001b[0m\n\u001b[0;32m    698\u001b[0m     \u001b[39mif\u001b[39;00m name \u001b[39min\u001b[39;00m \u001b[39mself\u001b[39m\u001b[39m.\u001b[39mkeys \u001b[39mand\u001b[39;00m \u001b[39mself\u001b[39m\u001b[39m.\u001b[39m_should_send_property(name, \u001b[39mgetattr\u001b[39m(\u001b[39mself\u001b[39m, name)):\n\u001b[0;32m    699\u001b[0m         \u001b[39m# Send new state to front-end\u001b[39;00m\n\u001b[0;32m    700\u001b[0m         \u001b[39mself\u001b[39m\u001b[39m.\u001b[39msend_state(key\u001b[39m=\u001b[39mname)\n\u001b[1;32m--> 701\u001b[0m \u001b[39msuper\u001b[39;49m()\u001b[39m.\u001b[39;49mnotify_change(change)\n",
      "File \u001b[1;32mc:\\anaconda\\envs\\gee\\lib\\site-packages\\traitlets\\traitlets.py:1527\u001b[0m, in \u001b[0;36mHasTraits.notify_change\u001b[1;34m(self, change)\u001b[0m\n\u001b[0;32m   1525\u001b[0m \u001b[39mdef\u001b[39;00m \u001b[39mnotify_change\u001b[39m(\u001b[39mself\u001b[39m, change: Bunch) \u001b[39m-\u001b[39m\u001b[39m>\u001b[39m \u001b[39mNone\u001b[39;00m:\n\u001b[0;32m   1526\u001b[0m \u001b[39m    \u001b[39m\u001b[39m\"\"\"Notify observers of a change event\"\"\"\u001b[39;00m\n\u001b[1;32m-> 1527\u001b[0m     \u001b[39mreturn\u001b[39;00m \u001b[39mself\u001b[39;49m\u001b[39m.\u001b[39;49m_notify_observers(change)\n",
      "File \u001b[1;32mc:\\anaconda\\envs\\gee\\lib\\site-packages\\traitlets\\traitlets.py:1570\u001b[0m, in \u001b[0;36mHasTraits._notify_observers\u001b[1;34m(self, event)\u001b[0m\n\u001b[0;32m   1567\u001b[0m \u001b[39melif\u001b[39;00m \u001b[39misinstance\u001b[39m(c, EventHandler) \u001b[39mand\u001b[39;00m c\u001b[39m.\u001b[39mname \u001b[39mis\u001b[39;00m \u001b[39mnot\u001b[39;00m \u001b[39mNone\u001b[39;00m:\n\u001b[0;32m   1568\u001b[0m     c \u001b[39m=\u001b[39m \u001b[39mgetattr\u001b[39m(\u001b[39mself\u001b[39m, c\u001b[39m.\u001b[39mname)\n\u001b[1;32m-> 1570\u001b[0m c(event)\n",
      "File \u001b[1;32mc:\\anaconda\\envs\\gee\\lib\\site-packages\\plotly\\basewidget.py:635\u001b[0m, in \u001b[0;36mBaseFigureWidget._handler_js2py_relayout\u001b[1;34m(self, change)\u001b[0m\n\u001b[0;32m    631\u001b[0m     relayout_data\u001b[39m.\u001b[39mpop(\u001b[39m\"\u001b[39m\u001b[39mlastInputTime\u001b[39m\u001b[39m\"\u001b[39m)\n\u001b[0;32m    633\u001b[0m \u001b[39m# Perform relayout\u001b[39;00m\n\u001b[0;32m    634\u001b[0m \u001b[39m# ----------------\u001b[39;00m\n\u001b[1;32m--> 635\u001b[0m \u001b[39mself\u001b[39;49m\u001b[39m.\u001b[39;49mplotly_relayout(relayout_data\u001b[39m=\u001b[39;49mrelayout_data, source_view_id\u001b[39m=\u001b[39;49msource_view_id)\n\u001b[0;32m    637\u001b[0m \u001b[39mself\u001b[39m\u001b[39m.\u001b[39m_js2py_relayout \u001b[39m=\u001b[39m \u001b[39mNone\u001b[39;00m\n",
      "File \u001b[1;32mc:\\anaconda\\envs\\gee\\lib\\site-packages\\plotly\\basedatatypes.py:2610\u001b[0m, in \u001b[0;36mBaseFigure.plotly_relayout\u001b[1;34m(self, relayout_data, **kwargs)\u001b[0m\n\u001b[0;32m   2606\u001b[0m     msg_kwargs \u001b[39m=\u001b[39m {}\n\u001b[0;32m   2608\u001b[0m \u001b[39m# Perform relayout operation on layout dict\u001b[39;00m\n\u001b[0;32m   2609\u001b[0m \u001b[39m# -----------------------------------------\u001b[39;00m\n\u001b[1;32m-> 2610\u001b[0m relayout_changes \u001b[39m=\u001b[39m \u001b[39mself\u001b[39;49m\u001b[39m.\u001b[39;49m_perform_plotly_relayout(relayout_data)\n\u001b[0;32m   2611\u001b[0m \u001b[39mif\u001b[39;00m relayout_changes:\n\u001b[0;32m   2612\u001b[0m     \u001b[39m# The relayout operation resulted in a change to some layout\u001b[39;00m\n\u001b[0;32m   2613\u001b[0m     \u001b[39m# properties, so we dispatch change callbacks and send the\u001b[39;00m\n\u001b[0;32m   2614\u001b[0m     \u001b[39m# relayout message to the frontend (if any)\u001b[39;00m\n\u001b[0;32m   2615\u001b[0m     \u001b[39mself\u001b[39m\u001b[39m.\u001b[39m_send_relayout_msg(relayout_changes, \u001b[39m*\u001b[39m\u001b[39m*\u001b[39mmsg_kwargs)\n",
      "File \u001b[1;32mc:\\anaconda\\envs\\gee\\lib\\site-packages\\plotly\\basedatatypes.py:2646\u001b[0m, in \u001b[0;36mBaseFigure._perform_plotly_relayout\u001b[1;34m(self, relayout_data)\u001b[0m\n\u001b[0;32m   2642\u001b[0m         \u001b[39mfor\u001b[39;00m key_path_str, v \u001b[39min\u001b[39;00m relayout_data\u001b[39m.\u001b[39mitems():\n\u001b[0;32m   2644\u001b[0m             \u001b[39mif\u001b[39;00m \u001b[39mnot\u001b[39;00m BaseFigure\u001b[39m.\u001b[39m_is_key_path_compatible(key_path_str, \u001b[39mself\u001b[39m\u001b[39m.\u001b[39mlayout):\n\u001b[1;32m-> 2646\u001b[0m                 \u001b[39mraise\u001b[39;00m \u001b[39mValueError\u001b[39;00m(\n\u001b[0;32m   2647\u001b[0m \u001b[39m                    \u001b[39m\u001b[39m\"\"\"\u001b[39;00m\n\u001b[0;32m   2648\u001b[0m \u001b[39mInvalid property path '{key_path_str}' for layout\u001b[39;00m\n\u001b[0;32m   2649\u001b[0m \u001b[39m\"\"\"\u001b[39;00m\u001b[39m.\u001b[39mformat(\n\u001b[0;32m   2650\u001b[0m                         key_path_str\u001b[39m=\u001b[39mkey_path_str\n\u001b[0;32m   2651\u001b[0m                     )\n\u001b[0;32m   2652\u001b[0m                 )\n\u001b[0;32m   2654\u001b[0m             \u001b[39m# Apply set operation on the layout dict\u001b[39;00m\n\u001b[0;32m   2655\u001b[0m             val_changed \u001b[39m=\u001b[39m BaseFigure\u001b[39m.\u001b[39m_set_in(\u001b[39mself\u001b[39m\u001b[39m.\u001b[39m_layout, key_path_str, v)\n",
      "\u001b[1;31mValueError\u001b[0m: \nInvalid property path 'mapbox._derived' for layout\n"
     ]
    },
    {
     "data": {
      "text/html": [
       "\n",
       "            <style>\n",
       "                .geemap-dark {\n",
       "                    --jp-widgets-color: white;\n",
       "                    --jp-widgets-label-color: white;\n",
       "                    --jp-ui-font-color1: white;\n",
       "                    --jp-layout-color2: #454545;\n",
       "                    background-color: #383838;\n",
       "                }\n",
       "                    \n",
       "                .geemap-dark .jupyter-button {\n",
       "                    --jp-layout-color3: #383838;\n",
       "                }\n",
       "                \n",
       "                .geemap-colab {\n",
       "                    background-color: var(--colab-primary-surface-color, white);\n",
       "                }\n",
       "                    \n",
       "                .geemap-colab .jupyter-button {\n",
       "                    --jp-layout-color3: var(--colab-primary-surface-color, white);\n",
       "                }\n",
       "            </style>\n",
       "            "
      ],
      "text/plain": [
       "<IPython.core.display.HTML object>"
      ]
     },
     "metadata": {},
     "output_type": "display_data"
    }
   ],
   "source": [
    "import geemap.plotlymap as geemap"
   ]
  },
  {
   "cell_type": "code",
   "execution_count": 36,
   "metadata": {},
   "outputs": [
    {
     "data": {
      "text/html": [
       "\n",
       "            <style>\n",
       "                .geemap-dark {\n",
       "                    --jp-widgets-color: white;\n",
       "                    --jp-widgets-label-color: white;\n",
       "                    --jp-ui-font-color1: white;\n",
       "                    --jp-layout-color2: #454545;\n",
       "                    background-color: #383838;\n",
       "                }\n",
       "                    \n",
       "                .geemap-dark .jupyter-button {\n",
       "                    --jp-layout-color3: #383838;\n",
       "                }\n",
       "                \n",
       "                .geemap-colab {\n",
       "                    background-color: var(--colab-primary-surface-color, white);\n",
       "                }\n",
       "                    \n",
       "                .geemap-colab .jupyter-button {\n",
       "                    --jp-layout-color3: var(--colab-primary-surface-color, white);\n",
       "                }\n",
       "            </style>\n",
       "            "
      ],
      "text/plain": [
       "<IPython.core.display.HTML object>"
      ]
     },
     "metadata": {},
     "output_type": "display_data"
    },
    {
     "data": {
      "application/vnd.jupyter.widget-view+json": {
       "model_id": "845a3ed8c01d464fba2881763fa77237",
       "version_major": 2,
       "version_minor": 0
      },
      "text/plain": [
       "Map({\n",
       "    'data': [{'type': 'scattermapbox', 'uid': 'a8e3bf14-e9d7-42f6-9128-b14d8c772c73'}],\n",
       "    'layout': {'height': 600,\n",
       "               'mapbox': {'center': {'lat': 20, 'lon': 0}, 'style': 'open-street-map', 'zoom': 1},\n",
       "               'margin': {'b': 0, 'l': 0, 'r': 0, 't': 0},\n",
       "               'template': '...'}\n",
       "})"
      ]
     },
     "execution_count": 36,
     "metadata": {},
     "output_type": "execute_result"
    },
    {
     "ename": "ValueError",
     "evalue": "\nInvalid property path 'mapbox._derived' for layout\n",
     "output_type": "error",
     "traceback": [
      "\u001b[1;31m---------------------------------------------------------------------------\u001b[0m",
      "\u001b[1;31mValueError\u001b[0m                                Traceback (most recent call last)",
      "File \u001b[1;32mc:\\anaconda\\envs\\gee\\lib\\site-packages\\ipywidgets\\widgets\\widget.py:773\u001b[0m, in \u001b[0;36mWidget._handle_msg\u001b[1;34m(self, msg)\u001b[0m\n\u001b[0;32m    771\u001b[0m         \u001b[39mif\u001b[39;00m \u001b[39m'\u001b[39m\u001b[39mbuffer_paths\u001b[39m\u001b[39m'\u001b[39m \u001b[39min\u001b[39;00m data:\n\u001b[0;32m    772\u001b[0m             _put_buffers(state, data[\u001b[39m'\u001b[39m\u001b[39mbuffer_paths\u001b[39m\u001b[39m'\u001b[39m], msg[\u001b[39m'\u001b[39m\u001b[39mbuffers\u001b[39m\u001b[39m'\u001b[39m])\n\u001b[1;32m--> 773\u001b[0m         \u001b[39mself\u001b[39;49m\u001b[39m.\u001b[39;49mset_state(state)\n\u001b[0;32m    775\u001b[0m \u001b[39m# Handle a state request.\u001b[39;00m\n\u001b[0;32m    776\u001b[0m \u001b[39melif\u001b[39;00m method \u001b[39m==\u001b[39m \u001b[39m'\u001b[39m\u001b[39mrequest_state\u001b[39m\u001b[39m'\u001b[39m:\n",
      "File \u001b[1;32mc:\\anaconda\\envs\\gee\\lib\\site-packages\\ipywidgets\\widgets\\widget.py:650\u001b[0m, in \u001b[0;36mWidget.set_state\u001b[1;34m(self, sync_data)\u001b[0m\n\u001b[0;32m    645\u001b[0m         \u001b[39mself\u001b[39m\u001b[39m.\u001b[39m_send(msg, buffers\u001b[39m=\u001b[39mecho_buffers)\n\u001b[0;32m    647\u001b[0m \u001b[39m# The order of these context managers is important. Properties must\u001b[39;00m\n\u001b[0;32m    648\u001b[0m \u001b[39m# be locked when the hold_trait_notification context manager is\u001b[39;00m\n\u001b[0;32m    649\u001b[0m \u001b[39m# released and notifications are fired.\u001b[39;00m\n\u001b[1;32m--> 650\u001b[0m \u001b[39mwith\u001b[39;00m \u001b[39mself\u001b[39m\u001b[39m.\u001b[39m_lock_property(\u001b[39m*\u001b[39m\u001b[39m*\u001b[39msync_data), \u001b[39mself\u001b[39m\u001b[39m.\u001b[39mhold_trait_notifications():\n\u001b[0;32m    651\u001b[0m     \u001b[39mfor\u001b[39;00m name \u001b[39min\u001b[39;00m sync_data:\n\u001b[0;32m    652\u001b[0m         \u001b[39mif\u001b[39;00m name \u001b[39min\u001b[39;00m \u001b[39mself\u001b[39m\u001b[39m.\u001b[39mkeys:\n",
      "File \u001b[1;32mc:\\anaconda\\envs\\gee\\lib\\contextlib.py:142\u001b[0m, in \u001b[0;36m_GeneratorContextManager.__exit__\u001b[1;34m(self, typ, value, traceback)\u001b[0m\n\u001b[0;32m    140\u001b[0m \u001b[39mif\u001b[39;00m typ \u001b[39mis\u001b[39;00m \u001b[39mNone\u001b[39;00m:\n\u001b[0;32m    141\u001b[0m     \u001b[39mtry\u001b[39;00m:\n\u001b[1;32m--> 142\u001b[0m         \u001b[39mnext\u001b[39;49m(\u001b[39mself\u001b[39;49m\u001b[39m.\u001b[39;49mgen)\n\u001b[0;32m    143\u001b[0m     \u001b[39mexcept\u001b[39;00m \u001b[39mStopIteration\u001b[39;00m:\n\u001b[0;32m    144\u001b[0m         \u001b[39mreturn\u001b[39;00m \u001b[39mFalse\u001b[39;00m\n",
      "File \u001b[1;32mc:\\anaconda\\envs\\gee\\lib\\site-packages\\traitlets\\traitlets.py:1512\u001b[0m, in \u001b[0;36mHasTraits.hold_trait_notifications\u001b[1;34m(self)\u001b[0m\n\u001b[0;32m   1510\u001b[0m \u001b[39mfor\u001b[39;00m changes \u001b[39min\u001b[39;00m cache\u001b[39m.\u001b[39mvalues():\n\u001b[0;32m   1511\u001b[0m     \u001b[39mfor\u001b[39;00m change \u001b[39min\u001b[39;00m changes:\n\u001b[1;32m-> 1512\u001b[0m         \u001b[39mself\u001b[39;49m\u001b[39m.\u001b[39;49mnotify_change(change)\n",
      "File \u001b[1;32mc:\\anaconda\\envs\\gee\\lib\\site-packages\\ipywidgets\\widgets\\widget.py:701\u001b[0m, in \u001b[0;36mWidget.notify_change\u001b[1;34m(self, change)\u001b[0m\n\u001b[0;32m    698\u001b[0m     \u001b[39mif\u001b[39;00m name \u001b[39min\u001b[39;00m \u001b[39mself\u001b[39m\u001b[39m.\u001b[39mkeys \u001b[39mand\u001b[39;00m \u001b[39mself\u001b[39m\u001b[39m.\u001b[39m_should_send_property(name, \u001b[39mgetattr\u001b[39m(\u001b[39mself\u001b[39m, name)):\n\u001b[0;32m    699\u001b[0m         \u001b[39m# Send new state to front-end\u001b[39;00m\n\u001b[0;32m    700\u001b[0m         \u001b[39mself\u001b[39m\u001b[39m.\u001b[39msend_state(key\u001b[39m=\u001b[39mname)\n\u001b[1;32m--> 701\u001b[0m \u001b[39msuper\u001b[39;49m()\u001b[39m.\u001b[39;49mnotify_change(change)\n",
      "File \u001b[1;32mc:\\anaconda\\envs\\gee\\lib\\site-packages\\traitlets\\traitlets.py:1527\u001b[0m, in \u001b[0;36mHasTraits.notify_change\u001b[1;34m(self, change)\u001b[0m\n\u001b[0;32m   1525\u001b[0m \u001b[39mdef\u001b[39;00m \u001b[39mnotify_change\u001b[39m(\u001b[39mself\u001b[39m, change: Bunch) \u001b[39m-\u001b[39m\u001b[39m>\u001b[39m \u001b[39mNone\u001b[39;00m:\n\u001b[0;32m   1526\u001b[0m \u001b[39m    \u001b[39m\u001b[39m\"\"\"Notify observers of a change event\"\"\"\u001b[39;00m\n\u001b[1;32m-> 1527\u001b[0m     \u001b[39mreturn\u001b[39;00m \u001b[39mself\u001b[39;49m\u001b[39m.\u001b[39;49m_notify_observers(change)\n",
      "File \u001b[1;32mc:\\anaconda\\envs\\gee\\lib\\site-packages\\traitlets\\traitlets.py:1570\u001b[0m, in \u001b[0;36mHasTraits._notify_observers\u001b[1;34m(self, event)\u001b[0m\n\u001b[0;32m   1567\u001b[0m \u001b[39melif\u001b[39;00m \u001b[39misinstance\u001b[39m(c, EventHandler) \u001b[39mand\u001b[39;00m c\u001b[39m.\u001b[39mname \u001b[39mis\u001b[39;00m \u001b[39mnot\u001b[39;00m \u001b[39mNone\u001b[39;00m:\n\u001b[0;32m   1568\u001b[0m     c \u001b[39m=\u001b[39m \u001b[39mgetattr\u001b[39m(\u001b[39mself\u001b[39m, c\u001b[39m.\u001b[39mname)\n\u001b[1;32m-> 1570\u001b[0m c(event)\n",
      "File \u001b[1;32mc:\\anaconda\\envs\\gee\\lib\\site-packages\\plotly\\basewidget.py:635\u001b[0m, in \u001b[0;36mBaseFigureWidget._handler_js2py_relayout\u001b[1;34m(self, change)\u001b[0m\n\u001b[0;32m    631\u001b[0m     relayout_data\u001b[39m.\u001b[39mpop(\u001b[39m\"\u001b[39m\u001b[39mlastInputTime\u001b[39m\u001b[39m\"\u001b[39m)\n\u001b[0;32m    633\u001b[0m \u001b[39m# Perform relayout\u001b[39;00m\n\u001b[0;32m    634\u001b[0m \u001b[39m# ----------------\u001b[39;00m\n\u001b[1;32m--> 635\u001b[0m \u001b[39mself\u001b[39;49m\u001b[39m.\u001b[39;49mplotly_relayout(relayout_data\u001b[39m=\u001b[39;49mrelayout_data, source_view_id\u001b[39m=\u001b[39;49msource_view_id)\n\u001b[0;32m    637\u001b[0m \u001b[39mself\u001b[39m\u001b[39m.\u001b[39m_js2py_relayout \u001b[39m=\u001b[39m \u001b[39mNone\u001b[39;00m\n",
      "File \u001b[1;32mc:\\anaconda\\envs\\gee\\lib\\site-packages\\plotly\\basedatatypes.py:2610\u001b[0m, in \u001b[0;36mBaseFigure.plotly_relayout\u001b[1;34m(self, relayout_data, **kwargs)\u001b[0m\n\u001b[0;32m   2606\u001b[0m     msg_kwargs \u001b[39m=\u001b[39m {}\n\u001b[0;32m   2608\u001b[0m \u001b[39m# Perform relayout operation on layout dict\u001b[39;00m\n\u001b[0;32m   2609\u001b[0m \u001b[39m# -----------------------------------------\u001b[39;00m\n\u001b[1;32m-> 2610\u001b[0m relayout_changes \u001b[39m=\u001b[39m \u001b[39mself\u001b[39;49m\u001b[39m.\u001b[39;49m_perform_plotly_relayout(relayout_data)\n\u001b[0;32m   2611\u001b[0m \u001b[39mif\u001b[39;00m relayout_changes:\n\u001b[0;32m   2612\u001b[0m     \u001b[39m# The relayout operation resulted in a change to some layout\u001b[39;00m\n\u001b[0;32m   2613\u001b[0m     \u001b[39m# properties, so we dispatch change callbacks and send the\u001b[39;00m\n\u001b[0;32m   2614\u001b[0m     \u001b[39m# relayout message to the frontend (if any)\u001b[39;00m\n\u001b[0;32m   2615\u001b[0m     \u001b[39mself\u001b[39m\u001b[39m.\u001b[39m_send_relayout_msg(relayout_changes, \u001b[39m*\u001b[39m\u001b[39m*\u001b[39mmsg_kwargs)\n",
      "File \u001b[1;32mc:\\anaconda\\envs\\gee\\lib\\site-packages\\plotly\\basedatatypes.py:2646\u001b[0m, in \u001b[0;36mBaseFigure._perform_plotly_relayout\u001b[1;34m(self, relayout_data)\u001b[0m\n\u001b[0;32m   2642\u001b[0m         \u001b[39mfor\u001b[39;00m key_path_str, v \u001b[39min\u001b[39;00m relayout_data\u001b[39m.\u001b[39mitems():\n\u001b[0;32m   2644\u001b[0m             \u001b[39mif\u001b[39;00m \u001b[39mnot\u001b[39;00m BaseFigure\u001b[39m.\u001b[39m_is_key_path_compatible(key_path_str, \u001b[39mself\u001b[39m\u001b[39m.\u001b[39mlayout):\n\u001b[1;32m-> 2646\u001b[0m                 \u001b[39mraise\u001b[39;00m \u001b[39mValueError\u001b[39;00m(\n\u001b[0;32m   2647\u001b[0m \u001b[39m                    \u001b[39m\u001b[39m\"\"\"\u001b[39;00m\n\u001b[0;32m   2648\u001b[0m \u001b[39mInvalid property path '{key_path_str}' for layout\u001b[39;00m\n\u001b[0;32m   2649\u001b[0m \u001b[39m\"\"\"\u001b[39;00m\u001b[39m.\u001b[39mformat(\n\u001b[0;32m   2650\u001b[0m                         key_path_str\u001b[39m=\u001b[39mkey_path_str\n\u001b[0;32m   2651\u001b[0m                     )\n\u001b[0;32m   2652\u001b[0m                 )\n\u001b[0;32m   2654\u001b[0m             \u001b[39m# Apply set operation on the layout dict\u001b[39;00m\n\u001b[0;32m   2655\u001b[0m             val_changed \u001b[39m=\u001b[39m BaseFigure\u001b[39m.\u001b[39m_set_in(\u001b[39mself\u001b[39m\u001b[39m.\u001b[39m_layout, key_path_str, v)\n",
      "\u001b[1;31mValueError\u001b[0m: \nInvalid property path 'mapbox._derived' for layout\n"
     ]
    },
    {
     "ename": "ValueError",
     "evalue": "\nInvalid property path 'mapbox._derived' for layout\n",
     "output_type": "error",
     "traceback": [
      "\u001b[1;31m---------------------------------------------------------------------------\u001b[0m",
      "\u001b[1;31mValueError\u001b[0m                                Traceback (most recent call last)",
      "File \u001b[1;32mc:\\anaconda\\envs\\gee\\lib\\site-packages\\ipywidgets\\widgets\\widget.py:773\u001b[0m, in \u001b[0;36mWidget._handle_msg\u001b[1;34m(self, msg)\u001b[0m\n\u001b[0;32m    771\u001b[0m         \u001b[39mif\u001b[39;00m \u001b[39m'\u001b[39m\u001b[39mbuffer_paths\u001b[39m\u001b[39m'\u001b[39m \u001b[39min\u001b[39;00m data:\n\u001b[0;32m    772\u001b[0m             _put_buffers(state, data[\u001b[39m'\u001b[39m\u001b[39mbuffer_paths\u001b[39m\u001b[39m'\u001b[39m], msg[\u001b[39m'\u001b[39m\u001b[39mbuffers\u001b[39m\u001b[39m'\u001b[39m])\n\u001b[1;32m--> 773\u001b[0m         \u001b[39mself\u001b[39;49m\u001b[39m.\u001b[39;49mset_state(state)\n\u001b[0;32m    775\u001b[0m \u001b[39m# Handle a state request.\u001b[39;00m\n\u001b[0;32m    776\u001b[0m \u001b[39melif\u001b[39;00m method \u001b[39m==\u001b[39m \u001b[39m'\u001b[39m\u001b[39mrequest_state\u001b[39m\u001b[39m'\u001b[39m:\n",
      "File \u001b[1;32mc:\\anaconda\\envs\\gee\\lib\\site-packages\\ipywidgets\\widgets\\widget.py:650\u001b[0m, in \u001b[0;36mWidget.set_state\u001b[1;34m(self, sync_data)\u001b[0m\n\u001b[0;32m    645\u001b[0m         \u001b[39mself\u001b[39m\u001b[39m.\u001b[39m_send(msg, buffers\u001b[39m=\u001b[39mecho_buffers)\n\u001b[0;32m    647\u001b[0m \u001b[39m# The order of these context managers is important. Properties must\u001b[39;00m\n\u001b[0;32m    648\u001b[0m \u001b[39m# be locked when the hold_trait_notification context manager is\u001b[39;00m\n\u001b[0;32m    649\u001b[0m \u001b[39m# released and notifications are fired.\u001b[39;00m\n\u001b[1;32m--> 650\u001b[0m \u001b[39mwith\u001b[39;00m \u001b[39mself\u001b[39m\u001b[39m.\u001b[39m_lock_property(\u001b[39m*\u001b[39m\u001b[39m*\u001b[39msync_data), \u001b[39mself\u001b[39m\u001b[39m.\u001b[39mhold_trait_notifications():\n\u001b[0;32m    651\u001b[0m     \u001b[39mfor\u001b[39;00m name \u001b[39min\u001b[39;00m sync_data:\n\u001b[0;32m    652\u001b[0m         \u001b[39mif\u001b[39;00m name \u001b[39min\u001b[39;00m \u001b[39mself\u001b[39m\u001b[39m.\u001b[39mkeys:\n",
      "File \u001b[1;32mc:\\anaconda\\envs\\gee\\lib\\contextlib.py:142\u001b[0m, in \u001b[0;36m_GeneratorContextManager.__exit__\u001b[1;34m(self, typ, value, traceback)\u001b[0m\n\u001b[0;32m    140\u001b[0m \u001b[39mif\u001b[39;00m typ \u001b[39mis\u001b[39;00m \u001b[39mNone\u001b[39;00m:\n\u001b[0;32m    141\u001b[0m     \u001b[39mtry\u001b[39;00m:\n\u001b[1;32m--> 142\u001b[0m         \u001b[39mnext\u001b[39;49m(\u001b[39mself\u001b[39;49m\u001b[39m.\u001b[39;49mgen)\n\u001b[0;32m    143\u001b[0m     \u001b[39mexcept\u001b[39;00m \u001b[39mStopIteration\u001b[39;00m:\n\u001b[0;32m    144\u001b[0m         \u001b[39mreturn\u001b[39;00m \u001b[39mFalse\u001b[39;00m\n",
      "File \u001b[1;32mc:\\anaconda\\envs\\gee\\lib\\site-packages\\traitlets\\traitlets.py:1512\u001b[0m, in \u001b[0;36mHasTraits.hold_trait_notifications\u001b[1;34m(self)\u001b[0m\n\u001b[0;32m   1510\u001b[0m \u001b[39mfor\u001b[39;00m changes \u001b[39min\u001b[39;00m cache\u001b[39m.\u001b[39mvalues():\n\u001b[0;32m   1511\u001b[0m     \u001b[39mfor\u001b[39;00m change \u001b[39min\u001b[39;00m changes:\n\u001b[1;32m-> 1512\u001b[0m         \u001b[39mself\u001b[39;49m\u001b[39m.\u001b[39;49mnotify_change(change)\n",
      "File \u001b[1;32mc:\\anaconda\\envs\\gee\\lib\\site-packages\\ipywidgets\\widgets\\widget.py:701\u001b[0m, in \u001b[0;36mWidget.notify_change\u001b[1;34m(self, change)\u001b[0m\n\u001b[0;32m    698\u001b[0m     \u001b[39mif\u001b[39;00m name \u001b[39min\u001b[39;00m \u001b[39mself\u001b[39m\u001b[39m.\u001b[39mkeys \u001b[39mand\u001b[39;00m \u001b[39mself\u001b[39m\u001b[39m.\u001b[39m_should_send_property(name, \u001b[39mgetattr\u001b[39m(\u001b[39mself\u001b[39m, name)):\n\u001b[0;32m    699\u001b[0m         \u001b[39m# Send new state to front-end\u001b[39;00m\n\u001b[0;32m    700\u001b[0m         \u001b[39mself\u001b[39m\u001b[39m.\u001b[39msend_state(key\u001b[39m=\u001b[39mname)\n\u001b[1;32m--> 701\u001b[0m \u001b[39msuper\u001b[39;49m()\u001b[39m.\u001b[39;49mnotify_change(change)\n",
      "File \u001b[1;32mc:\\anaconda\\envs\\gee\\lib\\site-packages\\traitlets\\traitlets.py:1527\u001b[0m, in \u001b[0;36mHasTraits.notify_change\u001b[1;34m(self, change)\u001b[0m\n\u001b[0;32m   1525\u001b[0m \u001b[39mdef\u001b[39;00m \u001b[39mnotify_change\u001b[39m(\u001b[39mself\u001b[39m, change: Bunch) \u001b[39m-\u001b[39m\u001b[39m>\u001b[39m \u001b[39mNone\u001b[39;00m:\n\u001b[0;32m   1526\u001b[0m \u001b[39m    \u001b[39m\u001b[39m\"\"\"Notify observers of a change event\"\"\"\u001b[39;00m\n\u001b[1;32m-> 1527\u001b[0m     \u001b[39mreturn\u001b[39;00m \u001b[39mself\u001b[39;49m\u001b[39m.\u001b[39;49m_notify_observers(change)\n",
      "File \u001b[1;32mc:\\anaconda\\envs\\gee\\lib\\site-packages\\traitlets\\traitlets.py:1570\u001b[0m, in \u001b[0;36mHasTraits._notify_observers\u001b[1;34m(self, event)\u001b[0m\n\u001b[0;32m   1567\u001b[0m \u001b[39melif\u001b[39;00m \u001b[39misinstance\u001b[39m(c, EventHandler) \u001b[39mand\u001b[39;00m c\u001b[39m.\u001b[39mname \u001b[39mis\u001b[39;00m \u001b[39mnot\u001b[39;00m \u001b[39mNone\u001b[39;00m:\n\u001b[0;32m   1568\u001b[0m     c \u001b[39m=\u001b[39m \u001b[39mgetattr\u001b[39m(\u001b[39mself\u001b[39m, c\u001b[39m.\u001b[39mname)\n\u001b[1;32m-> 1570\u001b[0m c(event)\n",
      "File \u001b[1;32mc:\\anaconda\\envs\\gee\\lib\\site-packages\\plotly\\basewidget.py:635\u001b[0m, in \u001b[0;36mBaseFigureWidget._handler_js2py_relayout\u001b[1;34m(self, change)\u001b[0m\n\u001b[0;32m    631\u001b[0m     relayout_data\u001b[39m.\u001b[39mpop(\u001b[39m\"\u001b[39m\u001b[39mlastInputTime\u001b[39m\u001b[39m\"\u001b[39m)\n\u001b[0;32m    633\u001b[0m \u001b[39m# Perform relayout\u001b[39;00m\n\u001b[0;32m    634\u001b[0m \u001b[39m# ----------------\u001b[39;00m\n\u001b[1;32m--> 635\u001b[0m \u001b[39mself\u001b[39;49m\u001b[39m.\u001b[39;49mplotly_relayout(relayout_data\u001b[39m=\u001b[39;49mrelayout_data, source_view_id\u001b[39m=\u001b[39;49msource_view_id)\n\u001b[0;32m    637\u001b[0m \u001b[39mself\u001b[39m\u001b[39m.\u001b[39m_js2py_relayout \u001b[39m=\u001b[39m \u001b[39mNone\u001b[39;00m\n",
      "File \u001b[1;32mc:\\anaconda\\envs\\gee\\lib\\site-packages\\plotly\\basedatatypes.py:2610\u001b[0m, in \u001b[0;36mBaseFigure.plotly_relayout\u001b[1;34m(self, relayout_data, **kwargs)\u001b[0m\n\u001b[0;32m   2606\u001b[0m     msg_kwargs \u001b[39m=\u001b[39m {}\n\u001b[0;32m   2608\u001b[0m \u001b[39m# Perform relayout operation on layout dict\u001b[39;00m\n\u001b[0;32m   2609\u001b[0m \u001b[39m# -----------------------------------------\u001b[39;00m\n\u001b[1;32m-> 2610\u001b[0m relayout_changes \u001b[39m=\u001b[39m \u001b[39mself\u001b[39;49m\u001b[39m.\u001b[39;49m_perform_plotly_relayout(relayout_data)\n\u001b[0;32m   2611\u001b[0m \u001b[39mif\u001b[39;00m relayout_changes:\n\u001b[0;32m   2612\u001b[0m     \u001b[39m# The relayout operation resulted in a change to some layout\u001b[39;00m\n\u001b[0;32m   2613\u001b[0m     \u001b[39m# properties, so we dispatch change callbacks and send the\u001b[39;00m\n\u001b[0;32m   2614\u001b[0m     \u001b[39m# relayout message to the frontend (if any)\u001b[39;00m\n\u001b[0;32m   2615\u001b[0m     \u001b[39mself\u001b[39m\u001b[39m.\u001b[39m_send_relayout_msg(relayout_changes, \u001b[39m*\u001b[39m\u001b[39m*\u001b[39mmsg_kwargs)\n",
      "File \u001b[1;32mc:\\anaconda\\envs\\gee\\lib\\site-packages\\plotly\\basedatatypes.py:2646\u001b[0m, in \u001b[0;36mBaseFigure._perform_plotly_relayout\u001b[1;34m(self, relayout_data)\u001b[0m\n\u001b[0;32m   2642\u001b[0m         \u001b[39mfor\u001b[39;00m key_path_str, v \u001b[39min\u001b[39;00m relayout_data\u001b[39m.\u001b[39mitems():\n\u001b[0;32m   2644\u001b[0m             \u001b[39mif\u001b[39;00m \u001b[39mnot\u001b[39;00m BaseFigure\u001b[39m.\u001b[39m_is_key_path_compatible(key_path_str, \u001b[39mself\u001b[39m\u001b[39m.\u001b[39mlayout):\n\u001b[1;32m-> 2646\u001b[0m                 \u001b[39mraise\u001b[39;00m \u001b[39mValueError\u001b[39;00m(\n\u001b[0;32m   2647\u001b[0m \u001b[39m                    \u001b[39m\u001b[39m\"\"\"\u001b[39;00m\n\u001b[0;32m   2648\u001b[0m \u001b[39mInvalid property path '{key_path_str}' for layout\u001b[39;00m\n\u001b[0;32m   2649\u001b[0m \u001b[39m\"\"\"\u001b[39;00m\u001b[39m.\u001b[39mformat(\n\u001b[0;32m   2650\u001b[0m                         key_path_str\u001b[39m=\u001b[39mkey_path_str\n\u001b[0;32m   2651\u001b[0m                     )\n\u001b[0;32m   2652\u001b[0m                 )\n\u001b[0;32m   2654\u001b[0m             \u001b[39m# Apply set operation on the layout dict\u001b[39;00m\n\u001b[0;32m   2655\u001b[0m             val_changed \u001b[39m=\u001b[39m BaseFigure\u001b[39m.\u001b[39m_set_in(\u001b[39mself\u001b[39m\u001b[39m.\u001b[39m_layout, key_path_str, v)\n",
      "\u001b[1;31mValueError\u001b[0m: \nInvalid property path 'mapbox._derived' for layout\n"
     ]
    },
    {
     "ename": "ValueError",
     "evalue": "\nInvalid property path 'mapbox._derived' for layout\n",
     "output_type": "error",
     "traceback": [
      "\u001b[1;31m---------------------------------------------------------------------------\u001b[0m",
      "\u001b[1;31mValueError\u001b[0m                                Traceback (most recent call last)",
      "File \u001b[1;32mc:\\anaconda\\envs\\gee\\lib\\site-packages\\ipywidgets\\widgets\\widget.py:773\u001b[0m, in \u001b[0;36mWidget._handle_msg\u001b[1;34m(self, msg)\u001b[0m\n\u001b[0;32m    771\u001b[0m         \u001b[39mif\u001b[39;00m \u001b[39m'\u001b[39m\u001b[39mbuffer_paths\u001b[39m\u001b[39m'\u001b[39m \u001b[39min\u001b[39;00m data:\n\u001b[0;32m    772\u001b[0m             _put_buffers(state, data[\u001b[39m'\u001b[39m\u001b[39mbuffer_paths\u001b[39m\u001b[39m'\u001b[39m], msg[\u001b[39m'\u001b[39m\u001b[39mbuffers\u001b[39m\u001b[39m'\u001b[39m])\n\u001b[1;32m--> 773\u001b[0m         \u001b[39mself\u001b[39;49m\u001b[39m.\u001b[39;49mset_state(state)\n\u001b[0;32m    775\u001b[0m \u001b[39m# Handle a state request.\u001b[39;00m\n\u001b[0;32m    776\u001b[0m \u001b[39melif\u001b[39;00m method \u001b[39m==\u001b[39m \u001b[39m'\u001b[39m\u001b[39mrequest_state\u001b[39m\u001b[39m'\u001b[39m:\n",
      "File \u001b[1;32mc:\\anaconda\\envs\\gee\\lib\\site-packages\\ipywidgets\\widgets\\widget.py:650\u001b[0m, in \u001b[0;36mWidget.set_state\u001b[1;34m(self, sync_data)\u001b[0m\n\u001b[0;32m    645\u001b[0m         \u001b[39mself\u001b[39m\u001b[39m.\u001b[39m_send(msg, buffers\u001b[39m=\u001b[39mecho_buffers)\n\u001b[0;32m    647\u001b[0m \u001b[39m# The order of these context managers is important. Properties must\u001b[39;00m\n\u001b[0;32m    648\u001b[0m \u001b[39m# be locked when the hold_trait_notification context manager is\u001b[39;00m\n\u001b[0;32m    649\u001b[0m \u001b[39m# released and notifications are fired.\u001b[39;00m\n\u001b[1;32m--> 650\u001b[0m \u001b[39mwith\u001b[39;00m \u001b[39mself\u001b[39m\u001b[39m.\u001b[39m_lock_property(\u001b[39m*\u001b[39m\u001b[39m*\u001b[39msync_data), \u001b[39mself\u001b[39m\u001b[39m.\u001b[39mhold_trait_notifications():\n\u001b[0;32m    651\u001b[0m     \u001b[39mfor\u001b[39;00m name \u001b[39min\u001b[39;00m sync_data:\n\u001b[0;32m    652\u001b[0m         \u001b[39mif\u001b[39;00m name \u001b[39min\u001b[39;00m \u001b[39mself\u001b[39m\u001b[39m.\u001b[39mkeys:\n",
      "File \u001b[1;32mc:\\anaconda\\envs\\gee\\lib\\contextlib.py:142\u001b[0m, in \u001b[0;36m_GeneratorContextManager.__exit__\u001b[1;34m(self, typ, value, traceback)\u001b[0m\n\u001b[0;32m    140\u001b[0m \u001b[39mif\u001b[39;00m typ \u001b[39mis\u001b[39;00m \u001b[39mNone\u001b[39;00m:\n\u001b[0;32m    141\u001b[0m     \u001b[39mtry\u001b[39;00m:\n\u001b[1;32m--> 142\u001b[0m         \u001b[39mnext\u001b[39;49m(\u001b[39mself\u001b[39;49m\u001b[39m.\u001b[39;49mgen)\n\u001b[0;32m    143\u001b[0m     \u001b[39mexcept\u001b[39;00m \u001b[39mStopIteration\u001b[39;00m:\n\u001b[0;32m    144\u001b[0m         \u001b[39mreturn\u001b[39;00m \u001b[39mFalse\u001b[39;00m\n",
      "File \u001b[1;32mc:\\anaconda\\envs\\gee\\lib\\site-packages\\traitlets\\traitlets.py:1512\u001b[0m, in \u001b[0;36mHasTraits.hold_trait_notifications\u001b[1;34m(self)\u001b[0m\n\u001b[0;32m   1510\u001b[0m \u001b[39mfor\u001b[39;00m changes \u001b[39min\u001b[39;00m cache\u001b[39m.\u001b[39mvalues():\n\u001b[0;32m   1511\u001b[0m     \u001b[39mfor\u001b[39;00m change \u001b[39min\u001b[39;00m changes:\n\u001b[1;32m-> 1512\u001b[0m         \u001b[39mself\u001b[39;49m\u001b[39m.\u001b[39;49mnotify_change(change)\n",
      "File \u001b[1;32mc:\\anaconda\\envs\\gee\\lib\\site-packages\\ipywidgets\\widgets\\widget.py:701\u001b[0m, in \u001b[0;36mWidget.notify_change\u001b[1;34m(self, change)\u001b[0m\n\u001b[0;32m    698\u001b[0m     \u001b[39mif\u001b[39;00m name \u001b[39min\u001b[39;00m \u001b[39mself\u001b[39m\u001b[39m.\u001b[39mkeys \u001b[39mand\u001b[39;00m \u001b[39mself\u001b[39m\u001b[39m.\u001b[39m_should_send_property(name, \u001b[39mgetattr\u001b[39m(\u001b[39mself\u001b[39m, name)):\n\u001b[0;32m    699\u001b[0m         \u001b[39m# Send new state to front-end\u001b[39;00m\n\u001b[0;32m    700\u001b[0m         \u001b[39mself\u001b[39m\u001b[39m.\u001b[39msend_state(key\u001b[39m=\u001b[39mname)\n\u001b[1;32m--> 701\u001b[0m \u001b[39msuper\u001b[39;49m()\u001b[39m.\u001b[39;49mnotify_change(change)\n",
      "File \u001b[1;32mc:\\anaconda\\envs\\gee\\lib\\site-packages\\traitlets\\traitlets.py:1527\u001b[0m, in \u001b[0;36mHasTraits.notify_change\u001b[1;34m(self, change)\u001b[0m\n\u001b[0;32m   1525\u001b[0m \u001b[39mdef\u001b[39;00m \u001b[39mnotify_change\u001b[39m(\u001b[39mself\u001b[39m, change: Bunch) \u001b[39m-\u001b[39m\u001b[39m>\u001b[39m \u001b[39mNone\u001b[39;00m:\n\u001b[0;32m   1526\u001b[0m \u001b[39m    \u001b[39m\u001b[39m\"\"\"Notify observers of a change event\"\"\"\u001b[39;00m\n\u001b[1;32m-> 1527\u001b[0m     \u001b[39mreturn\u001b[39;00m \u001b[39mself\u001b[39;49m\u001b[39m.\u001b[39;49m_notify_observers(change)\n",
      "File \u001b[1;32mc:\\anaconda\\envs\\gee\\lib\\site-packages\\traitlets\\traitlets.py:1570\u001b[0m, in \u001b[0;36mHasTraits._notify_observers\u001b[1;34m(self, event)\u001b[0m\n\u001b[0;32m   1567\u001b[0m \u001b[39melif\u001b[39;00m \u001b[39misinstance\u001b[39m(c, EventHandler) \u001b[39mand\u001b[39;00m c\u001b[39m.\u001b[39mname \u001b[39mis\u001b[39;00m \u001b[39mnot\u001b[39;00m \u001b[39mNone\u001b[39;00m:\n\u001b[0;32m   1568\u001b[0m     c \u001b[39m=\u001b[39m \u001b[39mgetattr\u001b[39m(\u001b[39mself\u001b[39m, c\u001b[39m.\u001b[39mname)\n\u001b[1;32m-> 1570\u001b[0m c(event)\n",
      "File \u001b[1;32mc:\\anaconda\\envs\\gee\\lib\\site-packages\\plotly\\basewidget.py:635\u001b[0m, in \u001b[0;36mBaseFigureWidget._handler_js2py_relayout\u001b[1;34m(self, change)\u001b[0m\n\u001b[0;32m    631\u001b[0m     relayout_data\u001b[39m.\u001b[39mpop(\u001b[39m\"\u001b[39m\u001b[39mlastInputTime\u001b[39m\u001b[39m\"\u001b[39m)\n\u001b[0;32m    633\u001b[0m \u001b[39m# Perform relayout\u001b[39;00m\n\u001b[0;32m    634\u001b[0m \u001b[39m# ----------------\u001b[39;00m\n\u001b[1;32m--> 635\u001b[0m \u001b[39mself\u001b[39;49m\u001b[39m.\u001b[39;49mplotly_relayout(relayout_data\u001b[39m=\u001b[39;49mrelayout_data, source_view_id\u001b[39m=\u001b[39;49msource_view_id)\n\u001b[0;32m    637\u001b[0m \u001b[39mself\u001b[39m\u001b[39m.\u001b[39m_js2py_relayout \u001b[39m=\u001b[39m \u001b[39mNone\u001b[39;00m\n",
      "File \u001b[1;32mc:\\anaconda\\envs\\gee\\lib\\site-packages\\plotly\\basedatatypes.py:2610\u001b[0m, in \u001b[0;36mBaseFigure.plotly_relayout\u001b[1;34m(self, relayout_data, **kwargs)\u001b[0m\n\u001b[0;32m   2606\u001b[0m     msg_kwargs \u001b[39m=\u001b[39m {}\n\u001b[0;32m   2608\u001b[0m \u001b[39m# Perform relayout operation on layout dict\u001b[39;00m\n\u001b[0;32m   2609\u001b[0m \u001b[39m# -----------------------------------------\u001b[39;00m\n\u001b[1;32m-> 2610\u001b[0m relayout_changes \u001b[39m=\u001b[39m \u001b[39mself\u001b[39;49m\u001b[39m.\u001b[39;49m_perform_plotly_relayout(relayout_data)\n\u001b[0;32m   2611\u001b[0m \u001b[39mif\u001b[39;00m relayout_changes:\n\u001b[0;32m   2612\u001b[0m     \u001b[39m# The relayout operation resulted in a change to some layout\u001b[39;00m\n\u001b[0;32m   2613\u001b[0m     \u001b[39m# properties, so we dispatch change callbacks and send the\u001b[39;00m\n\u001b[0;32m   2614\u001b[0m     \u001b[39m# relayout message to the frontend (if any)\u001b[39;00m\n\u001b[0;32m   2615\u001b[0m     \u001b[39mself\u001b[39m\u001b[39m.\u001b[39m_send_relayout_msg(relayout_changes, \u001b[39m*\u001b[39m\u001b[39m*\u001b[39mmsg_kwargs)\n",
      "File \u001b[1;32mc:\\anaconda\\envs\\gee\\lib\\site-packages\\plotly\\basedatatypes.py:2646\u001b[0m, in \u001b[0;36mBaseFigure._perform_plotly_relayout\u001b[1;34m(self, relayout_data)\u001b[0m\n\u001b[0;32m   2642\u001b[0m         \u001b[39mfor\u001b[39;00m key_path_str, v \u001b[39min\u001b[39;00m relayout_data\u001b[39m.\u001b[39mitems():\n\u001b[0;32m   2644\u001b[0m             \u001b[39mif\u001b[39;00m \u001b[39mnot\u001b[39;00m BaseFigure\u001b[39m.\u001b[39m_is_key_path_compatible(key_path_str, \u001b[39mself\u001b[39m\u001b[39m.\u001b[39mlayout):\n\u001b[1;32m-> 2646\u001b[0m                 \u001b[39mraise\u001b[39;00m \u001b[39mValueError\u001b[39;00m(\n\u001b[0;32m   2647\u001b[0m \u001b[39m                    \u001b[39m\u001b[39m\"\"\"\u001b[39;00m\n\u001b[0;32m   2648\u001b[0m \u001b[39mInvalid property path '{key_path_str}' for layout\u001b[39;00m\n\u001b[0;32m   2649\u001b[0m \u001b[39m\"\"\"\u001b[39;00m\u001b[39m.\u001b[39mformat(\n\u001b[0;32m   2650\u001b[0m                         key_path_str\u001b[39m=\u001b[39mkey_path_str\n\u001b[0;32m   2651\u001b[0m                     )\n\u001b[0;32m   2652\u001b[0m                 )\n\u001b[0;32m   2654\u001b[0m             \u001b[39m# Apply set operation on the layout dict\u001b[39;00m\n\u001b[0;32m   2655\u001b[0m             val_changed \u001b[39m=\u001b[39m BaseFigure\u001b[39m.\u001b[39m_set_in(\u001b[39mself\u001b[39m\u001b[39m.\u001b[39m_layout, key_path_str, v)\n",
      "\u001b[1;31mValueError\u001b[0m: \nInvalid property path 'mapbox._derived' for layout\n"
     ]
    },
    {
     "ename": "ValueError",
     "evalue": "\nInvalid property path 'mapbox._derived' for layout\n",
     "output_type": "error",
     "traceback": [
      "\u001b[1;31m---------------------------------------------------------------------------\u001b[0m",
      "\u001b[1;31mValueError\u001b[0m                                Traceback (most recent call last)",
      "File \u001b[1;32mc:\\anaconda\\envs\\gee\\lib\\site-packages\\ipywidgets\\widgets\\widget.py:773\u001b[0m, in \u001b[0;36mWidget._handle_msg\u001b[1;34m(self, msg)\u001b[0m\n\u001b[0;32m    771\u001b[0m         \u001b[39mif\u001b[39;00m \u001b[39m'\u001b[39m\u001b[39mbuffer_paths\u001b[39m\u001b[39m'\u001b[39m \u001b[39min\u001b[39;00m data:\n\u001b[0;32m    772\u001b[0m             _put_buffers(state, data[\u001b[39m'\u001b[39m\u001b[39mbuffer_paths\u001b[39m\u001b[39m'\u001b[39m], msg[\u001b[39m'\u001b[39m\u001b[39mbuffers\u001b[39m\u001b[39m'\u001b[39m])\n\u001b[1;32m--> 773\u001b[0m         \u001b[39mself\u001b[39;49m\u001b[39m.\u001b[39;49mset_state(state)\n\u001b[0;32m    775\u001b[0m \u001b[39m# Handle a state request.\u001b[39;00m\n\u001b[0;32m    776\u001b[0m \u001b[39melif\u001b[39;00m method \u001b[39m==\u001b[39m \u001b[39m'\u001b[39m\u001b[39mrequest_state\u001b[39m\u001b[39m'\u001b[39m:\n",
      "File \u001b[1;32mc:\\anaconda\\envs\\gee\\lib\\site-packages\\ipywidgets\\widgets\\widget.py:650\u001b[0m, in \u001b[0;36mWidget.set_state\u001b[1;34m(self, sync_data)\u001b[0m\n\u001b[0;32m    645\u001b[0m         \u001b[39mself\u001b[39m\u001b[39m.\u001b[39m_send(msg, buffers\u001b[39m=\u001b[39mecho_buffers)\n\u001b[0;32m    647\u001b[0m \u001b[39m# The order of these context managers is important. Properties must\u001b[39;00m\n\u001b[0;32m    648\u001b[0m \u001b[39m# be locked when the hold_trait_notification context manager is\u001b[39;00m\n\u001b[0;32m    649\u001b[0m \u001b[39m# released and notifications are fired.\u001b[39;00m\n\u001b[1;32m--> 650\u001b[0m \u001b[39mwith\u001b[39;00m \u001b[39mself\u001b[39m\u001b[39m.\u001b[39m_lock_property(\u001b[39m*\u001b[39m\u001b[39m*\u001b[39msync_data), \u001b[39mself\u001b[39m\u001b[39m.\u001b[39mhold_trait_notifications():\n\u001b[0;32m    651\u001b[0m     \u001b[39mfor\u001b[39;00m name \u001b[39min\u001b[39;00m sync_data:\n\u001b[0;32m    652\u001b[0m         \u001b[39mif\u001b[39;00m name \u001b[39min\u001b[39;00m \u001b[39mself\u001b[39m\u001b[39m.\u001b[39mkeys:\n",
      "File \u001b[1;32mc:\\anaconda\\envs\\gee\\lib\\contextlib.py:142\u001b[0m, in \u001b[0;36m_GeneratorContextManager.__exit__\u001b[1;34m(self, typ, value, traceback)\u001b[0m\n\u001b[0;32m    140\u001b[0m \u001b[39mif\u001b[39;00m typ \u001b[39mis\u001b[39;00m \u001b[39mNone\u001b[39;00m:\n\u001b[0;32m    141\u001b[0m     \u001b[39mtry\u001b[39;00m:\n\u001b[1;32m--> 142\u001b[0m         \u001b[39mnext\u001b[39;49m(\u001b[39mself\u001b[39;49m\u001b[39m.\u001b[39;49mgen)\n\u001b[0;32m    143\u001b[0m     \u001b[39mexcept\u001b[39;00m \u001b[39mStopIteration\u001b[39;00m:\n\u001b[0;32m    144\u001b[0m         \u001b[39mreturn\u001b[39;00m \u001b[39mFalse\u001b[39;00m\n",
      "File \u001b[1;32mc:\\anaconda\\envs\\gee\\lib\\site-packages\\traitlets\\traitlets.py:1512\u001b[0m, in \u001b[0;36mHasTraits.hold_trait_notifications\u001b[1;34m(self)\u001b[0m\n\u001b[0;32m   1510\u001b[0m \u001b[39mfor\u001b[39;00m changes \u001b[39min\u001b[39;00m cache\u001b[39m.\u001b[39mvalues():\n\u001b[0;32m   1511\u001b[0m     \u001b[39mfor\u001b[39;00m change \u001b[39min\u001b[39;00m changes:\n\u001b[1;32m-> 1512\u001b[0m         \u001b[39mself\u001b[39;49m\u001b[39m.\u001b[39;49mnotify_change(change)\n",
      "File \u001b[1;32mc:\\anaconda\\envs\\gee\\lib\\site-packages\\ipywidgets\\widgets\\widget.py:701\u001b[0m, in \u001b[0;36mWidget.notify_change\u001b[1;34m(self, change)\u001b[0m\n\u001b[0;32m    698\u001b[0m     \u001b[39mif\u001b[39;00m name \u001b[39min\u001b[39;00m \u001b[39mself\u001b[39m\u001b[39m.\u001b[39mkeys \u001b[39mand\u001b[39;00m \u001b[39mself\u001b[39m\u001b[39m.\u001b[39m_should_send_property(name, \u001b[39mgetattr\u001b[39m(\u001b[39mself\u001b[39m, name)):\n\u001b[0;32m    699\u001b[0m         \u001b[39m# Send new state to front-end\u001b[39;00m\n\u001b[0;32m    700\u001b[0m         \u001b[39mself\u001b[39m\u001b[39m.\u001b[39msend_state(key\u001b[39m=\u001b[39mname)\n\u001b[1;32m--> 701\u001b[0m \u001b[39msuper\u001b[39;49m()\u001b[39m.\u001b[39;49mnotify_change(change)\n",
      "File \u001b[1;32mc:\\anaconda\\envs\\gee\\lib\\site-packages\\traitlets\\traitlets.py:1527\u001b[0m, in \u001b[0;36mHasTraits.notify_change\u001b[1;34m(self, change)\u001b[0m\n\u001b[0;32m   1525\u001b[0m \u001b[39mdef\u001b[39;00m \u001b[39mnotify_change\u001b[39m(\u001b[39mself\u001b[39m, change: Bunch) \u001b[39m-\u001b[39m\u001b[39m>\u001b[39m \u001b[39mNone\u001b[39;00m:\n\u001b[0;32m   1526\u001b[0m \u001b[39m    \u001b[39m\u001b[39m\"\"\"Notify observers of a change event\"\"\"\u001b[39;00m\n\u001b[1;32m-> 1527\u001b[0m     \u001b[39mreturn\u001b[39;00m \u001b[39mself\u001b[39;49m\u001b[39m.\u001b[39;49m_notify_observers(change)\n",
      "File \u001b[1;32mc:\\anaconda\\envs\\gee\\lib\\site-packages\\traitlets\\traitlets.py:1570\u001b[0m, in \u001b[0;36mHasTraits._notify_observers\u001b[1;34m(self, event)\u001b[0m\n\u001b[0;32m   1567\u001b[0m \u001b[39melif\u001b[39;00m \u001b[39misinstance\u001b[39m(c, EventHandler) \u001b[39mand\u001b[39;00m c\u001b[39m.\u001b[39mname \u001b[39mis\u001b[39;00m \u001b[39mnot\u001b[39;00m \u001b[39mNone\u001b[39;00m:\n\u001b[0;32m   1568\u001b[0m     c \u001b[39m=\u001b[39m \u001b[39mgetattr\u001b[39m(\u001b[39mself\u001b[39m, c\u001b[39m.\u001b[39mname)\n\u001b[1;32m-> 1570\u001b[0m c(event)\n",
      "File \u001b[1;32mc:\\anaconda\\envs\\gee\\lib\\site-packages\\plotly\\basewidget.py:635\u001b[0m, in \u001b[0;36mBaseFigureWidget._handler_js2py_relayout\u001b[1;34m(self, change)\u001b[0m\n\u001b[0;32m    631\u001b[0m     relayout_data\u001b[39m.\u001b[39mpop(\u001b[39m\"\u001b[39m\u001b[39mlastInputTime\u001b[39m\u001b[39m\"\u001b[39m)\n\u001b[0;32m    633\u001b[0m \u001b[39m# Perform relayout\u001b[39;00m\n\u001b[0;32m    634\u001b[0m \u001b[39m# ----------------\u001b[39;00m\n\u001b[1;32m--> 635\u001b[0m \u001b[39mself\u001b[39;49m\u001b[39m.\u001b[39;49mplotly_relayout(relayout_data\u001b[39m=\u001b[39;49mrelayout_data, source_view_id\u001b[39m=\u001b[39;49msource_view_id)\n\u001b[0;32m    637\u001b[0m \u001b[39mself\u001b[39m\u001b[39m.\u001b[39m_js2py_relayout \u001b[39m=\u001b[39m \u001b[39mNone\u001b[39;00m\n",
      "File \u001b[1;32mc:\\anaconda\\envs\\gee\\lib\\site-packages\\plotly\\basedatatypes.py:2610\u001b[0m, in \u001b[0;36mBaseFigure.plotly_relayout\u001b[1;34m(self, relayout_data, **kwargs)\u001b[0m\n\u001b[0;32m   2606\u001b[0m     msg_kwargs \u001b[39m=\u001b[39m {}\n\u001b[0;32m   2608\u001b[0m \u001b[39m# Perform relayout operation on layout dict\u001b[39;00m\n\u001b[0;32m   2609\u001b[0m \u001b[39m# -----------------------------------------\u001b[39;00m\n\u001b[1;32m-> 2610\u001b[0m relayout_changes \u001b[39m=\u001b[39m \u001b[39mself\u001b[39;49m\u001b[39m.\u001b[39;49m_perform_plotly_relayout(relayout_data)\n\u001b[0;32m   2611\u001b[0m \u001b[39mif\u001b[39;00m relayout_changes:\n\u001b[0;32m   2612\u001b[0m     \u001b[39m# The relayout operation resulted in a change to some layout\u001b[39;00m\n\u001b[0;32m   2613\u001b[0m     \u001b[39m# properties, so we dispatch change callbacks and send the\u001b[39;00m\n\u001b[0;32m   2614\u001b[0m     \u001b[39m# relayout message to the frontend (if any)\u001b[39;00m\n\u001b[0;32m   2615\u001b[0m     \u001b[39mself\u001b[39m\u001b[39m.\u001b[39m_send_relayout_msg(relayout_changes, \u001b[39m*\u001b[39m\u001b[39m*\u001b[39mmsg_kwargs)\n",
      "File \u001b[1;32mc:\\anaconda\\envs\\gee\\lib\\site-packages\\plotly\\basedatatypes.py:2646\u001b[0m, in \u001b[0;36mBaseFigure._perform_plotly_relayout\u001b[1;34m(self, relayout_data)\u001b[0m\n\u001b[0;32m   2642\u001b[0m         \u001b[39mfor\u001b[39;00m key_path_str, v \u001b[39min\u001b[39;00m relayout_data\u001b[39m.\u001b[39mitems():\n\u001b[0;32m   2644\u001b[0m             \u001b[39mif\u001b[39;00m \u001b[39mnot\u001b[39;00m BaseFigure\u001b[39m.\u001b[39m_is_key_path_compatible(key_path_str, \u001b[39mself\u001b[39m\u001b[39m.\u001b[39mlayout):\n\u001b[1;32m-> 2646\u001b[0m                 \u001b[39mraise\u001b[39;00m \u001b[39mValueError\u001b[39;00m(\n\u001b[0;32m   2647\u001b[0m \u001b[39m                    \u001b[39m\u001b[39m\"\"\"\u001b[39;00m\n\u001b[0;32m   2648\u001b[0m \u001b[39mInvalid property path '{key_path_str}' for layout\u001b[39;00m\n\u001b[0;32m   2649\u001b[0m \u001b[39m\"\"\"\u001b[39;00m\u001b[39m.\u001b[39mformat(\n\u001b[0;32m   2650\u001b[0m                         key_path_str\u001b[39m=\u001b[39mkey_path_str\n\u001b[0;32m   2651\u001b[0m                     )\n\u001b[0;32m   2652\u001b[0m                 )\n\u001b[0;32m   2654\u001b[0m             \u001b[39m# Apply set operation on the layout dict\u001b[39;00m\n\u001b[0;32m   2655\u001b[0m             val_changed \u001b[39m=\u001b[39m BaseFigure\u001b[39m.\u001b[39m_set_in(\u001b[39mself\u001b[39m\u001b[39m.\u001b[39m_layout, key_path_str, v)\n",
      "\u001b[1;31mValueError\u001b[0m: \nInvalid property path 'mapbox._derived' for layout\n"
     ]
    },
    {
     "ename": "ValueError",
     "evalue": "\nInvalid property path 'mapbox._derived' for layout\n",
     "output_type": "error",
     "traceback": [
      "\u001b[1;31m---------------------------------------------------------------------------\u001b[0m",
      "\u001b[1;31mValueError\u001b[0m                                Traceback (most recent call last)",
      "File \u001b[1;32mc:\\anaconda\\envs\\gee\\lib\\site-packages\\ipywidgets\\widgets\\widget.py:773\u001b[0m, in \u001b[0;36mWidget._handle_msg\u001b[1;34m(self, msg)\u001b[0m\n\u001b[0;32m    771\u001b[0m         \u001b[39mif\u001b[39;00m \u001b[39m'\u001b[39m\u001b[39mbuffer_paths\u001b[39m\u001b[39m'\u001b[39m \u001b[39min\u001b[39;00m data:\n\u001b[0;32m    772\u001b[0m             _put_buffers(state, data[\u001b[39m'\u001b[39m\u001b[39mbuffer_paths\u001b[39m\u001b[39m'\u001b[39m], msg[\u001b[39m'\u001b[39m\u001b[39mbuffers\u001b[39m\u001b[39m'\u001b[39m])\n\u001b[1;32m--> 773\u001b[0m         \u001b[39mself\u001b[39;49m\u001b[39m.\u001b[39;49mset_state(state)\n\u001b[0;32m    775\u001b[0m \u001b[39m# Handle a state request.\u001b[39;00m\n\u001b[0;32m    776\u001b[0m \u001b[39melif\u001b[39;00m method \u001b[39m==\u001b[39m \u001b[39m'\u001b[39m\u001b[39mrequest_state\u001b[39m\u001b[39m'\u001b[39m:\n",
      "File \u001b[1;32mc:\\anaconda\\envs\\gee\\lib\\site-packages\\ipywidgets\\widgets\\widget.py:650\u001b[0m, in \u001b[0;36mWidget.set_state\u001b[1;34m(self, sync_data)\u001b[0m\n\u001b[0;32m    645\u001b[0m         \u001b[39mself\u001b[39m\u001b[39m.\u001b[39m_send(msg, buffers\u001b[39m=\u001b[39mecho_buffers)\n\u001b[0;32m    647\u001b[0m \u001b[39m# The order of these context managers is important. Properties must\u001b[39;00m\n\u001b[0;32m    648\u001b[0m \u001b[39m# be locked when the hold_trait_notification context manager is\u001b[39;00m\n\u001b[0;32m    649\u001b[0m \u001b[39m# released and notifications are fired.\u001b[39;00m\n\u001b[1;32m--> 650\u001b[0m \u001b[39mwith\u001b[39;00m \u001b[39mself\u001b[39m\u001b[39m.\u001b[39m_lock_property(\u001b[39m*\u001b[39m\u001b[39m*\u001b[39msync_data), \u001b[39mself\u001b[39m\u001b[39m.\u001b[39mhold_trait_notifications():\n\u001b[0;32m    651\u001b[0m     \u001b[39mfor\u001b[39;00m name \u001b[39min\u001b[39;00m sync_data:\n\u001b[0;32m    652\u001b[0m         \u001b[39mif\u001b[39;00m name \u001b[39min\u001b[39;00m \u001b[39mself\u001b[39m\u001b[39m.\u001b[39mkeys:\n",
      "File \u001b[1;32mc:\\anaconda\\envs\\gee\\lib\\contextlib.py:142\u001b[0m, in \u001b[0;36m_GeneratorContextManager.__exit__\u001b[1;34m(self, typ, value, traceback)\u001b[0m\n\u001b[0;32m    140\u001b[0m \u001b[39mif\u001b[39;00m typ \u001b[39mis\u001b[39;00m \u001b[39mNone\u001b[39;00m:\n\u001b[0;32m    141\u001b[0m     \u001b[39mtry\u001b[39;00m:\n\u001b[1;32m--> 142\u001b[0m         \u001b[39mnext\u001b[39;49m(\u001b[39mself\u001b[39;49m\u001b[39m.\u001b[39;49mgen)\n\u001b[0;32m    143\u001b[0m     \u001b[39mexcept\u001b[39;00m \u001b[39mStopIteration\u001b[39;00m:\n\u001b[0;32m    144\u001b[0m         \u001b[39mreturn\u001b[39;00m \u001b[39mFalse\u001b[39;00m\n",
      "File \u001b[1;32mc:\\anaconda\\envs\\gee\\lib\\site-packages\\traitlets\\traitlets.py:1512\u001b[0m, in \u001b[0;36mHasTraits.hold_trait_notifications\u001b[1;34m(self)\u001b[0m\n\u001b[0;32m   1510\u001b[0m \u001b[39mfor\u001b[39;00m changes \u001b[39min\u001b[39;00m cache\u001b[39m.\u001b[39mvalues():\n\u001b[0;32m   1511\u001b[0m     \u001b[39mfor\u001b[39;00m change \u001b[39min\u001b[39;00m changes:\n\u001b[1;32m-> 1512\u001b[0m         \u001b[39mself\u001b[39;49m\u001b[39m.\u001b[39;49mnotify_change(change)\n",
      "File \u001b[1;32mc:\\anaconda\\envs\\gee\\lib\\site-packages\\ipywidgets\\widgets\\widget.py:701\u001b[0m, in \u001b[0;36mWidget.notify_change\u001b[1;34m(self, change)\u001b[0m\n\u001b[0;32m    698\u001b[0m     \u001b[39mif\u001b[39;00m name \u001b[39min\u001b[39;00m \u001b[39mself\u001b[39m\u001b[39m.\u001b[39mkeys \u001b[39mand\u001b[39;00m \u001b[39mself\u001b[39m\u001b[39m.\u001b[39m_should_send_property(name, \u001b[39mgetattr\u001b[39m(\u001b[39mself\u001b[39m, name)):\n\u001b[0;32m    699\u001b[0m         \u001b[39m# Send new state to front-end\u001b[39;00m\n\u001b[0;32m    700\u001b[0m         \u001b[39mself\u001b[39m\u001b[39m.\u001b[39msend_state(key\u001b[39m=\u001b[39mname)\n\u001b[1;32m--> 701\u001b[0m \u001b[39msuper\u001b[39;49m()\u001b[39m.\u001b[39;49mnotify_change(change)\n",
      "File \u001b[1;32mc:\\anaconda\\envs\\gee\\lib\\site-packages\\traitlets\\traitlets.py:1527\u001b[0m, in \u001b[0;36mHasTraits.notify_change\u001b[1;34m(self, change)\u001b[0m\n\u001b[0;32m   1525\u001b[0m \u001b[39mdef\u001b[39;00m \u001b[39mnotify_change\u001b[39m(\u001b[39mself\u001b[39m, change: Bunch) \u001b[39m-\u001b[39m\u001b[39m>\u001b[39m \u001b[39mNone\u001b[39;00m:\n\u001b[0;32m   1526\u001b[0m \u001b[39m    \u001b[39m\u001b[39m\"\"\"Notify observers of a change event\"\"\"\u001b[39;00m\n\u001b[1;32m-> 1527\u001b[0m     \u001b[39mreturn\u001b[39;00m \u001b[39mself\u001b[39;49m\u001b[39m.\u001b[39;49m_notify_observers(change)\n",
      "File \u001b[1;32mc:\\anaconda\\envs\\gee\\lib\\site-packages\\traitlets\\traitlets.py:1570\u001b[0m, in \u001b[0;36mHasTraits._notify_observers\u001b[1;34m(self, event)\u001b[0m\n\u001b[0;32m   1567\u001b[0m \u001b[39melif\u001b[39;00m \u001b[39misinstance\u001b[39m(c, EventHandler) \u001b[39mand\u001b[39;00m c\u001b[39m.\u001b[39mname \u001b[39mis\u001b[39;00m \u001b[39mnot\u001b[39;00m \u001b[39mNone\u001b[39;00m:\n\u001b[0;32m   1568\u001b[0m     c \u001b[39m=\u001b[39m \u001b[39mgetattr\u001b[39m(\u001b[39mself\u001b[39m, c\u001b[39m.\u001b[39mname)\n\u001b[1;32m-> 1570\u001b[0m c(event)\n",
      "File \u001b[1;32mc:\\anaconda\\envs\\gee\\lib\\site-packages\\plotly\\basewidget.py:635\u001b[0m, in \u001b[0;36mBaseFigureWidget._handler_js2py_relayout\u001b[1;34m(self, change)\u001b[0m\n\u001b[0;32m    631\u001b[0m     relayout_data\u001b[39m.\u001b[39mpop(\u001b[39m\"\u001b[39m\u001b[39mlastInputTime\u001b[39m\u001b[39m\"\u001b[39m)\n\u001b[0;32m    633\u001b[0m \u001b[39m# Perform relayout\u001b[39;00m\n\u001b[0;32m    634\u001b[0m \u001b[39m# ----------------\u001b[39;00m\n\u001b[1;32m--> 635\u001b[0m \u001b[39mself\u001b[39;49m\u001b[39m.\u001b[39;49mplotly_relayout(relayout_data\u001b[39m=\u001b[39;49mrelayout_data, source_view_id\u001b[39m=\u001b[39;49msource_view_id)\n\u001b[0;32m    637\u001b[0m \u001b[39mself\u001b[39m\u001b[39m.\u001b[39m_js2py_relayout \u001b[39m=\u001b[39m \u001b[39mNone\u001b[39;00m\n",
      "File \u001b[1;32mc:\\anaconda\\envs\\gee\\lib\\site-packages\\plotly\\basedatatypes.py:2610\u001b[0m, in \u001b[0;36mBaseFigure.plotly_relayout\u001b[1;34m(self, relayout_data, **kwargs)\u001b[0m\n\u001b[0;32m   2606\u001b[0m     msg_kwargs \u001b[39m=\u001b[39m {}\n\u001b[0;32m   2608\u001b[0m \u001b[39m# Perform relayout operation on layout dict\u001b[39;00m\n\u001b[0;32m   2609\u001b[0m \u001b[39m# -----------------------------------------\u001b[39;00m\n\u001b[1;32m-> 2610\u001b[0m relayout_changes \u001b[39m=\u001b[39m \u001b[39mself\u001b[39;49m\u001b[39m.\u001b[39;49m_perform_plotly_relayout(relayout_data)\n\u001b[0;32m   2611\u001b[0m \u001b[39mif\u001b[39;00m relayout_changes:\n\u001b[0;32m   2612\u001b[0m     \u001b[39m# The relayout operation resulted in a change to some layout\u001b[39;00m\n\u001b[0;32m   2613\u001b[0m     \u001b[39m# properties, so we dispatch change callbacks and send the\u001b[39;00m\n\u001b[0;32m   2614\u001b[0m     \u001b[39m# relayout message to the frontend (if any)\u001b[39;00m\n\u001b[0;32m   2615\u001b[0m     \u001b[39mself\u001b[39m\u001b[39m.\u001b[39m_send_relayout_msg(relayout_changes, \u001b[39m*\u001b[39m\u001b[39m*\u001b[39mmsg_kwargs)\n",
      "File \u001b[1;32mc:\\anaconda\\envs\\gee\\lib\\site-packages\\plotly\\basedatatypes.py:2646\u001b[0m, in \u001b[0;36mBaseFigure._perform_plotly_relayout\u001b[1;34m(self, relayout_data)\u001b[0m\n\u001b[0;32m   2642\u001b[0m         \u001b[39mfor\u001b[39;00m key_path_str, v \u001b[39min\u001b[39;00m relayout_data\u001b[39m.\u001b[39mitems():\n\u001b[0;32m   2644\u001b[0m             \u001b[39mif\u001b[39;00m \u001b[39mnot\u001b[39;00m BaseFigure\u001b[39m.\u001b[39m_is_key_path_compatible(key_path_str, \u001b[39mself\u001b[39m\u001b[39m.\u001b[39mlayout):\n\u001b[1;32m-> 2646\u001b[0m                 \u001b[39mraise\u001b[39;00m \u001b[39mValueError\u001b[39;00m(\n\u001b[0;32m   2647\u001b[0m \u001b[39m                    \u001b[39m\u001b[39m\"\"\"\u001b[39;00m\n\u001b[0;32m   2648\u001b[0m \u001b[39mInvalid property path '{key_path_str}' for layout\u001b[39;00m\n\u001b[0;32m   2649\u001b[0m \u001b[39m\"\"\"\u001b[39;00m\u001b[39m.\u001b[39mformat(\n\u001b[0;32m   2650\u001b[0m                         key_path_str\u001b[39m=\u001b[39mkey_path_str\n\u001b[0;32m   2651\u001b[0m                     )\n\u001b[0;32m   2652\u001b[0m                 )\n\u001b[0;32m   2654\u001b[0m             \u001b[39m# Apply set operation on the layout dict\u001b[39;00m\n\u001b[0;32m   2655\u001b[0m             val_changed \u001b[39m=\u001b[39m BaseFigure\u001b[39m.\u001b[39m_set_in(\u001b[39mself\u001b[39m\u001b[39m.\u001b[39m_layout, key_path_str, v)\n",
      "\u001b[1;31mValueError\u001b[0m: \nInvalid property path 'mapbox._derived' for layout\n"
     ]
    },
    {
     "ename": "ValueError",
     "evalue": "\nInvalid property path 'mapbox._derived' for layout\n",
     "output_type": "error",
     "traceback": [
      "\u001b[1;31m---------------------------------------------------------------------------\u001b[0m",
      "\u001b[1;31mValueError\u001b[0m                                Traceback (most recent call last)",
      "File \u001b[1;32mc:\\anaconda\\envs\\gee\\lib\\site-packages\\ipywidgets\\widgets\\widget.py:773\u001b[0m, in \u001b[0;36mWidget._handle_msg\u001b[1;34m(self, msg)\u001b[0m\n\u001b[0;32m    771\u001b[0m         \u001b[39mif\u001b[39;00m \u001b[39m'\u001b[39m\u001b[39mbuffer_paths\u001b[39m\u001b[39m'\u001b[39m \u001b[39min\u001b[39;00m data:\n\u001b[0;32m    772\u001b[0m             _put_buffers(state, data[\u001b[39m'\u001b[39m\u001b[39mbuffer_paths\u001b[39m\u001b[39m'\u001b[39m], msg[\u001b[39m'\u001b[39m\u001b[39mbuffers\u001b[39m\u001b[39m'\u001b[39m])\n\u001b[1;32m--> 773\u001b[0m         \u001b[39mself\u001b[39;49m\u001b[39m.\u001b[39;49mset_state(state)\n\u001b[0;32m    775\u001b[0m \u001b[39m# Handle a state request.\u001b[39;00m\n\u001b[0;32m    776\u001b[0m \u001b[39melif\u001b[39;00m method \u001b[39m==\u001b[39m \u001b[39m'\u001b[39m\u001b[39mrequest_state\u001b[39m\u001b[39m'\u001b[39m:\n",
      "File \u001b[1;32mc:\\anaconda\\envs\\gee\\lib\\site-packages\\ipywidgets\\widgets\\widget.py:650\u001b[0m, in \u001b[0;36mWidget.set_state\u001b[1;34m(self, sync_data)\u001b[0m\n\u001b[0;32m    645\u001b[0m         \u001b[39mself\u001b[39m\u001b[39m.\u001b[39m_send(msg, buffers\u001b[39m=\u001b[39mecho_buffers)\n\u001b[0;32m    647\u001b[0m \u001b[39m# The order of these context managers is important. Properties must\u001b[39;00m\n\u001b[0;32m    648\u001b[0m \u001b[39m# be locked when the hold_trait_notification context manager is\u001b[39;00m\n\u001b[0;32m    649\u001b[0m \u001b[39m# released and notifications are fired.\u001b[39;00m\n\u001b[1;32m--> 650\u001b[0m \u001b[39mwith\u001b[39;00m \u001b[39mself\u001b[39m\u001b[39m.\u001b[39m_lock_property(\u001b[39m*\u001b[39m\u001b[39m*\u001b[39msync_data), \u001b[39mself\u001b[39m\u001b[39m.\u001b[39mhold_trait_notifications():\n\u001b[0;32m    651\u001b[0m     \u001b[39mfor\u001b[39;00m name \u001b[39min\u001b[39;00m sync_data:\n\u001b[0;32m    652\u001b[0m         \u001b[39mif\u001b[39;00m name \u001b[39min\u001b[39;00m \u001b[39mself\u001b[39m\u001b[39m.\u001b[39mkeys:\n",
      "File \u001b[1;32mc:\\anaconda\\envs\\gee\\lib\\contextlib.py:142\u001b[0m, in \u001b[0;36m_GeneratorContextManager.__exit__\u001b[1;34m(self, typ, value, traceback)\u001b[0m\n\u001b[0;32m    140\u001b[0m \u001b[39mif\u001b[39;00m typ \u001b[39mis\u001b[39;00m \u001b[39mNone\u001b[39;00m:\n\u001b[0;32m    141\u001b[0m     \u001b[39mtry\u001b[39;00m:\n\u001b[1;32m--> 142\u001b[0m         \u001b[39mnext\u001b[39;49m(\u001b[39mself\u001b[39;49m\u001b[39m.\u001b[39;49mgen)\n\u001b[0;32m    143\u001b[0m     \u001b[39mexcept\u001b[39;00m \u001b[39mStopIteration\u001b[39;00m:\n\u001b[0;32m    144\u001b[0m         \u001b[39mreturn\u001b[39;00m \u001b[39mFalse\u001b[39;00m\n",
      "File \u001b[1;32mc:\\anaconda\\envs\\gee\\lib\\site-packages\\traitlets\\traitlets.py:1512\u001b[0m, in \u001b[0;36mHasTraits.hold_trait_notifications\u001b[1;34m(self)\u001b[0m\n\u001b[0;32m   1510\u001b[0m \u001b[39mfor\u001b[39;00m changes \u001b[39min\u001b[39;00m cache\u001b[39m.\u001b[39mvalues():\n\u001b[0;32m   1511\u001b[0m     \u001b[39mfor\u001b[39;00m change \u001b[39min\u001b[39;00m changes:\n\u001b[1;32m-> 1512\u001b[0m         \u001b[39mself\u001b[39;49m\u001b[39m.\u001b[39;49mnotify_change(change)\n",
      "File \u001b[1;32mc:\\anaconda\\envs\\gee\\lib\\site-packages\\ipywidgets\\widgets\\widget.py:701\u001b[0m, in \u001b[0;36mWidget.notify_change\u001b[1;34m(self, change)\u001b[0m\n\u001b[0;32m    698\u001b[0m     \u001b[39mif\u001b[39;00m name \u001b[39min\u001b[39;00m \u001b[39mself\u001b[39m\u001b[39m.\u001b[39mkeys \u001b[39mand\u001b[39;00m \u001b[39mself\u001b[39m\u001b[39m.\u001b[39m_should_send_property(name, \u001b[39mgetattr\u001b[39m(\u001b[39mself\u001b[39m, name)):\n\u001b[0;32m    699\u001b[0m         \u001b[39m# Send new state to front-end\u001b[39;00m\n\u001b[0;32m    700\u001b[0m         \u001b[39mself\u001b[39m\u001b[39m.\u001b[39msend_state(key\u001b[39m=\u001b[39mname)\n\u001b[1;32m--> 701\u001b[0m \u001b[39msuper\u001b[39;49m()\u001b[39m.\u001b[39;49mnotify_change(change)\n",
      "File \u001b[1;32mc:\\anaconda\\envs\\gee\\lib\\site-packages\\traitlets\\traitlets.py:1527\u001b[0m, in \u001b[0;36mHasTraits.notify_change\u001b[1;34m(self, change)\u001b[0m\n\u001b[0;32m   1525\u001b[0m \u001b[39mdef\u001b[39;00m \u001b[39mnotify_change\u001b[39m(\u001b[39mself\u001b[39m, change: Bunch) \u001b[39m-\u001b[39m\u001b[39m>\u001b[39m \u001b[39mNone\u001b[39;00m:\n\u001b[0;32m   1526\u001b[0m \u001b[39m    \u001b[39m\u001b[39m\"\"\"Notify observers of a change event\"\"\"\u001b[39;00m\n\u001b[1;32m-> 1527\u001b[0m     \u001b[39mreturn\u001b[39;00m \u001b[39mself\u001b[39;49m\u001b[39m.\u001b[39;49m_notify_observers(change)\n",
      "File \u001b[1;32mc:\\anaconda\\envs\\gee\\lib\\site-packages\\traitlets\\traitlets.py:1570\u001b[0m, in \u001b[0;36mHasTraits._notify_observers\u001b[1;34m(self, event)\u001b[0m\n\u001b[0;32m   1567\u001b[0m \u001b[39melif\u001b[39;00m \u001b[39misinstance\u001b[39m(c, EventHandler) \u001b[39mand\u001b[39;00m c\u001b[39m.\u001b[39mname \u001b[39mis\u001b[39;00m \u001b[39mnot\u001b[39;00m \u001b[39mNone\u001b[39;00m:\n\u001b[0;32m   1568\u001b[0m     c \u001b[39m=\u001b[39m \u001b[39mgetattr\u001b[39m(\u001b[39mself\u001b[39m, c\u001b[39m.\u001b[39mname)\n\u001b[1;32m-> 1570\u001b[0m c(event)\n",
      "File \u001b[1;32mc:\\anaconda\\envs\\gee\\lib\\site-packages\\plotly\\basewidget.py:635\u001b[0m, in \u001b[0;36mBaseFigureWidget._handler_js2py_relayout\u001b[1;34m(self, change)\u001b[0m\n\u001b[0;32m    631\u001b[0m     relayout_data\u001b[39m.\u001b[39mpop(\u001b[39m\"\u001b[39m\u001b[39mlastInputTime\u001b[39m\u001b[39m\"\u001b[39m)\n\u001b[0;32m    633\u001b[0m \u001b[39m# Perform relayout\u001b[39;00m\n\u001b[0;32m    634\u001b[0m \u001b[39m# ----------------\u001b[39;00m\n\u001b[1;32m--> 635\u001b[0m \u001b[39mself\u001b[39;49m\u001b[39m.\u001b[39;49mplotly_relayout(relayout_data\u001b[39m=\u001b[39;49mrelayout_data, source_view_id\u001b[39m=\u001b[39;49msource_view_id)\n\u001b[0;32m    637\u001b[0m \u001b[39mself\u001b[39m\u001b[39m.\u001b[39m_js2py_relayout \u001b[39m=\u001b[39m \u001b[39mNone\u001b[39;00m\n",
      "File \u001b[1;32mc:\\anaconda\\envs\\gee\\lib\\site-packages\\plotly\\basedatatypes.py:2610\u001b[0m, in \u001b[0;36mBaseFigure.plotly_relayout\u001b[1;34m(self, relayout_data, **kwargs)\u001b[0m\n\u001b[0;32m   2606\u001b[0m     msg_kwargs \u001b[39m=\u001b[39m {}\n\u001b[0;32m   2608\u001b[0m \u001b[39m# Perform relayout operation on layout dict\u001b[39;00m\n\u001b[0;32m   2609\u001b[0m \u001b[39m# -----------------------------------------\u001b[39;00m\n\u001b[1;32m-> 2610\u001b[0m relayout_changes \u001b[39m=\u001b[39m \u001b[39mself\u001b[39;49m\u001b[39m.\u001b[39;49m_perform_plotly_relayout(relayout_data)\n\u001b[0;32m   2611\u001b[0m \u001b[39mif\u001b[39;00m relayout_changes:\n\u001b[0;32m   2612\u001b[0m     \u001b[39m# The relayout operation resulted in a change to some layout\u001b[39;00m\n\u001b[0;32m   2613\u001b[0m     \u001b[39m# properties, so we dispatch change callbacks and send the\u001b[39;00m\n\u001b[0;32m   2614\u001b[0m     \u001b[39m# relayout message to the frontend (if any)\u001b[39;00m\n\u001b[0;32m   2615\u001b[0m     \u001b[39mself\u001b[39m\u001b[39m.\u001b[39m_send_relayout_msg(relayout_changes, \u001b[39m*\u001b[39m\u001b[39m*\u001b[39mmsg_kwargs)\n",
      "File \u001b[1;32mc:\\anaconda\\envs\\gee\\lib\\site-packages\\plotly\\basedatatypes.py:2646\u001b[0m, in \u001b[0;36mBaseFigure._perform_plotly_relayout\u001b[1;34m(self, relayout_data)\u001b[0m\n\u001b[0;32m   2642\u001b[0m         \u001b[39mfor\u001b[39;00m key_path_str, v \u001b[39min\u001b[39;00m relayout_data\u001b[39m.\u001b[39mitems():\n\u001b[0;32m   2644\u001b[0m             \u001b[39mif\u001b[39;00m \u001b[39mnot\u001b[39;00m BaseFigure\u001b[39m.\u001b[39m_is_key_path_compatible(key_path_str, \u001b[39mself\u001b[39m\u001b[39m.\u001b[39mlayout):\n\u001b[1;32m-> 2646\u001b[0m                 \u001b[39mraise\u001b[39;00m \u001b[39mValueError\u001b[39;00m(\n\u001b[0;32m   2647\u001b[0m \u001b[39m                    \u001b[39m\u001b[39m\"\"\"\u001b[39;00m\n\u001b[0;32m   2648\u001b[0m \u001b[39mInvalid property path '{key_path_str}' for layout\u001b[39;00m\n\u001b[0;32m   2649\u001b[0m \u001b[39m\"\"\"\u001b[39;00m\u001b[39m.\u001b[39mformat(\n\u001b[0;32m   2650\u001b[0m                         key_path_str\u001b[39m=\u001b[39mkey_path_str\n\u001b[0;32m   2651\u001b[0m                     )\n\u001b[0;32m   2652\u001b[0m                 )\n\u001b[0;32m   2654\u001b[0m             \u001b[39m# Apply set operation on the layout dict\u001b[39;00m\n\u001b[0;32m   2655\u001b[0m             val_changed \u001b[39m=\u001b[39m BaseFigure\u001b[39m.\u001b[39m_set_in(\u001b[39mself\u001b[39m\u001b[39m.\u001b[39m_layout, key_path_str, v)\n",
      "\u001b[1;31mValueError\u001b[0m: \nInvalid property path 'mapbox._derived' for layout\n"
     ]
    },
    {
     "ename": "ValueError",
     "evalue": "\nInvalid property path 'mapbox._derived' for layout\n",
     "output_type": "error",
     "traceback": [
      "\u001b[1;31m---------------------------------------------------------------------------\u001b[0m",
      "\u001b[1;31mValueError\u001b[0m                                Traceback (most recent call last)",
      "File \u001b[1;32mc:\\anaconda\\envs\\gee\\lib\\site-packages\\ipywidgets\\widgets\\widget.py:773\u001b[0m, in \u001b[0;36mWidget._handle_msg\u001b[1;34m(self, msg)\u001b[0m\n\u001b[0;32m    771\u001b[0m         \u001b[39mif\u001b[39;00m \u001b[39m'\u001b[39m\u001b[39mbuffer_paths\u001b[39m\u001b[39m'\u001b[39m \u001b[39min\u001b[39;00m data:\n\u001b[0;32m    772\u001b[0m             _put_buffers(state, data[\u001b[39m'\u001b[39m\u001b[39mbuffer_paths\u001b[39m\u001b[39m'\u001b[39m], msg[\u001b[39m'\u001b[39m\u001b[39mbuffers\u001b[39m\u001b[39m'\u001b[39m])\n\u001b[1;32m--> 773\u001b[0m         \u001b[39mself\u001b[39;49m\u001b[39m.\u001b[39;49mset_state(state)\n\u001b[0;32m    775\u001b[0m \u001b[39m# Handle a state request.\u001b[39;00m\n\u001b[0;32m    776\u001b[0m \u001b[39melif\u001b[39;00m method \u001b[39m==\u001b[39m \u001b[39m'\u001b[39m\u001b[39mrequest_state\u001b[39m\u001b[39m'\u001b[39m:\n",
      "File \u001b[1;32mc:\\anaconda\\envs\\gee\\lib\\site-packages\\ipywidgets\\widgets\\widget.py:650\u001b[0m, in \u001b[0;36mWidget.set_state\u001b[1;34m(self, sync_data)\u001b[0m\n\u001b[0;32m    645\u001b[0m         \u001b[39mself\u001b[39m\u001b[39m.\u001b[39m_send(msg, buffers\u001b[39m=\u001b[39mecho_buffers)\n\u001b[0;32m    647\u001b[0m \u001b[39m# The order of these context managers is important. Properties must\u001b[39;00m\n\u001b[0;32m    648\u001b[0m \u001b[39m# be locked when the hold_trait_notification context manager is\u001b[39;00m\n\u001b[0;32m    649\u001b[0m \u001b[39m# released and notifications are fired.\u001b[39;00m\n\u001b[1;32m--> 650\u001b[0m \u001b[39mwith\u001b[39;00m \u001b[39mself\u001b[39m\u001b[39m.\u001b[39m_lock_property(\u001b[39m*\u001b[39m\u001b[39m*\u001b[39msync_data), \u001b[39mself\u001b[39m\u001b[39m.\u001b[39mhold_trait_notifications():\n\u001b[0;32m    651\u001b[0m     \u001b[39mfor\u001b[39;00m name \u001b[39min\u001b[39;00m sync_data:\n\u001b[0;32m    652\u001b[0m         \u001b[39mif\u001b[39;00m name \u001b[39min\u001b[39;00m \u001b[39mself\u001b[39m\u001b[39m.\u001b[39mkeys:\n",
      "File \u001b[1;32mc:\\anaconda\\envs\\gee\\lib\\contextlib.py:142\u001b[0m, in \u001b[0;36m_GeneratorContextManager.__exit__\u001b[1;34m(self, typ, value, traceback)\u001b[0m\n\u001b[0;32m    140\u001b[0m \u001b[39mif\u001b[39;00m typ \u001b[39mis\u001b[39;00m \u001b[39mNone\u001b[39;00m:\n\u001b[0;32m    141\u001b[0m     \u001b[39mtry\u001b[39;00m:\n\u001b[1;32m--> 142\u001b[0m         \u001b[39mnext\u001b[39;49m(\u001b[39mself\u001b[39;49m\u001b[39m.\u001b[39;49mgen)\n\u001b[0;32m    143\u001b[0m     \u001b[39mexcept\u001b[39;00m \u001b[39mStopIteration\u001b[39;00m:\n\u001b[0;32m    144\u001b[0m         \u001b[39mreturn\u001b[39;00m \u001b[39mFalse\u001b[39;00m\n",
      "File \u001b[1;32mc:\\anaconda\\envs\\gee\\lib\\site-packages\\traitlets\\traitlets.py:1512\u001b[0m, in \u001b[0;36mHasTraits.hold_trait_notifications\u001b[1;34m(self)\u001b[0m\n\u001b[0;32m   1510\u001b[0m \u001b[39mfor\u001b[39;00m changes \u001b[39min\u001b[39;00m cache\u001b[39m.\u001b[39mvalues():\n\u001b[0;32m   1511\u001b[0m     \u001b[39mfor\u001b[39;00m change \u001b[39min\u001b[39;00m changes:\n\u001b[1;32m-> 1512\u001b[0m         \u001b[39mself\u001b[39;49m\u001b[39m.\u001b[39;49mnotify_change(change)\n",
      "File \u001b[1;32mc:\\anaconda\\envs\\gee\\lib\\site-packages\\ipywidgets\\widgets\\widget.py:701\u001b[0m, in \u001b[0;36mWidget.notify_change\u001b[1;34m(self, change)\u001b[0m\n\u001b[0;32m    698\u001b[0m     \u001b[39mif\u001b[39;00m name \u001b[39min\u001b[39;00m \u001b[39mself\u001b[39m\u001b[39m.\u001b[39mkeys \u001b[39mand\u001b[39;00m \u001b[39mself\u001b[39m\u001b[39m.\u001b[39m_should_send_property(name, \u001b[39mgetattr\u001b[39m(\u001b[39mself\u001b[39m, name)):\n\u001b[0;32m    699\u001b[0m         \u001b[39m# Send new state to front-end\u001b[39;00m\n\u001b[0;32m    700\u001b[0m         \u001b[39mself\u001b[39m\u001b[39m.\u001b[39msend_state(key\u001b[39m=\u001b[39mname)\n\u001b[1;32m--> 701\u001b[0m \u001b[39msuper\u001b[39;49m()\u001b[39m.\u001b[39;49mnotify_change(change)\n",
      "File \u001b[1;32mc:\\anaconda\\envs\\gee\\lib\\site-packages\\traitlets\\traitlets.py:1527\u001b[0m, in \u001b[0;36mHasTraits.notify_change\u001b[1;34m(self, change)\u001b[0m\n\u001b[0;32m   1525\u001b[0m \u001b[39mdef\u001b[39;00m \u001b[39mnotify_change\u001b[39m(\u001b[39mself\u001b[39m, change: Bunch) \u001b[39m-\u001b[39m\u001b[39m>\u001b[39m \u001b[39mNone\u001b[39;00m:\n\u001b[0;32m   1526\u001b[0m \u001b[39m    \u001b[39m\u001b[39m\"\"\"Notify observers of a change event\"\"\"\u001b[39;00m\n\u001b[1;32m-> 1527\u001b[0m     \u001b[39mreturn\u001b[39;00m \u001b[39mself\u001b[39;49m\u001b[39m.\u001b[39;49m_notify_observers(change)\n",
      "File \u001b[1;32mc:\\anaconda\\envs\\gee\\lib\\site-packages\\traitlets\\traitlets.py:1570\u001b[0m, in \u001b[0;36mHasTraits._notify_observers\u001b[1;34m(self, event)\u001b[0m\n\u001b[0;32m   1567\u001b[0m \u001b[39melif\u001b[39;00m \u001b[39misinstance\u001b[39m(c, EventHandler) \u001b[39mand\u001b[39;00m c\u001b[39m.\u001b[39mname \u001b[39mis\u001b[39;00m \u001b[39mnot\u001b[39;00m \u001b[39mNone\u001b[39;00m:\n\u001b[0;32m   1568\u001b[0m     c \u001b[39m=\u001b[39m \u001b[39mgetattr\u001b[39m(\u001b[39mself\u001b[39m, c\u001b[39m.\u001b[39mname)\n\u001b[1;32m-> 1570\u001b[0m c(event)\n",
      "File \u001b[1;32mc:\\anaconda\\envs\\gee\\lib\\site-packages\\plotly\\basewidget.py:635\u001b[0m, in \u001b[0;36mBaseFigureWidget._handler_js2py_relayout\u001b[1;34m(self, change)\u001b[0m\n\u001b[0;32m    631\u001b[0m     relayout_data\u001b[39m.\u001b[39mpop(\u001b[39m\"\u001b[39m\u001b[39mlastInputTime\u001b[39m\u001b[39m\"\u001b[39m)\n\u001b[0;32m    633\u001b[0m \u001b[39m# Perform relayout\u001b[39;00m\n\u001b[0;32m    634\u001b[0m \u001b[39m# ----------------\u001b[39;00m\n\u001b[1;32m--> 635\u001b[0m \u001b[39mself\u001b[39;49m\u001b[39m.\u001b[39;49mplotly_relayout(relayout_data\u001b[39m=\u001b[39;49mrelayout_data, source_view_id\u001b[39m=\u001b[39;49msource_view_id)\n\u001b[0;32m    637\u001b[0m \u001b[39mself\u001b[39m\u001b[39m.\u001b[39m_js2py_relayout \u001b[39m=\u001b[39m \u001b[39mNone\u001b[39;00m\n",
      "File \u001b[1;32mc:\\anaconda\\envs\\gee\\lib\\site-packages\\plotly\\basedatatypes.py:2610\u001b[0m, in \u001b[0;36mBaseFigure.plotly_relayout\u001b[1;34m(self, relayout_data, **kwargs)\u001b[0m\n\u001b[0;32m   2606\u001b[0m     msg_kwargs \u001b[39m=\u001b[39m {}\n\u001b[0;32m   2608\u001b[0m \u001b[39m# Perform relayout operation on layout dict\u001b[39;00m\n\u001b[0;32m   2609\u001b[0m \u001b[39m# -----------------------------------------\u001b[39;00m\n\u001b[1;32m-> 2610\u001b[0m relayout_changes \u001b[39m=\u001b[39m \u001b[39mself\u001b[39;49m\u001b[39m.\u001b[39;49m_perform_plotly_relayout(relayout_data)\n\u001b[0;32m   2611\u001b[0m \u001b[39mif\u001b[39;00m relayout_changes:\n\u001b[0;32m   2612\u001b[0m     \u001b[39m# The relayout operation resulted in a change to some layout\u001b[39;00m\n\u001b[0;32m   2613\u001b[0m     \u001b[39m# properties, so we dispatch change callbacks and send the\u001b[39;00m\n\u001b[0;32m   2614\u001b[0m     \u001b[39m# relayout message to the frontend (if any)\u001b[39;00m\n\u001b[0;32m   2615\u001b[0m     \u001b[39mself\u001b[39m\u001b[39m.\u001b[39m_send_relayout_msg(relayout_changes, \u001b[39m*\u001b[39m\u001b[39m*\u001b[39mmsg_kwargs)\n",
      "File \u001b[1;32mc:\\anaconda\\envs\\gee\\lib\\site-packages\\plotly\\basedatatypes.py:2646\u001b[0m, in \u001b[0;36mBaseFigure._perform_plotly_relayout\u001b[1;34m(self, relayout_data)\u001b[0m\n\u001b[0;32m   2642\u001b[0m         \u001b[39mfor\u001b[39;00m key_path_str, v \u001b[39min\u001b[39;00m relayout_data\u001b[39m.\u001b[39mitems():\n\u001b[0;32m   2644\u001b[0m             \u001b[39mif\u001b[39;00m \u001b[39mnot\u001b[39;00m BaseFigure\u001b[39m.\u001b[39m_is_key_path_compatible(key_path_str, \u001b[39mself\u001b[39m\u001b[39m.\u001b[39mlayout):\n\u001b[1;32m-> 2646\u001b[0m                 \u001b[39mraise\u001b[39;00m \u001b[39mValueError\u001b[39;00m(\n\u001b[0;32m   2647\u001b[0m \u001b[39m                    \u001b[39m\u001b[39m\"\"\"\u001b[39;00m\n\u001b[0;32m   2648\u001b[0m \u001b[39mInvalid property path '{key_path_str}' for layout\u001b[39;00m\n\u001b[0;32m   2649\u001b[0m \u001b[39m\"\"\"\u001b[39;00m\u001b[39m.\u001b[39mformat(\n\u001b[0;32m   2650\u001b[0m                         key_path_str\u001b[39m=\u001b[39mkey_path_str\n\u001b[0;32m   2651\u001b[0m                     )\n\u001b[0;32m   2652\u001b[0m                 )\n\u001b[0;32m   2654\u001b[0m             \u001b[39m# Apply set operation on the layout dict\u001b[39;00m\n\u001b[0;32m   2655\u001b[0m             val_changed \u001b[39m=\u001b[39m BaseFigure\u001b[39m.\u001b[39m_set_in(\u001b[39mself\u001b[39m\u001b[39m.\u001b[39m_layout, key_path_str, v)\n",
      "\u001b[1;31mValueError\u001b[0m: \nInvalid property path 'mapbox._derived' for layout\n"
     ]
    },
    {
     "ename": "ValueError",
     "evalue": "\nInvalid property path 'mapbox._derived' for layout\n",
     "output_type": "error",
     "traceback": [
      "\u001b[1;31m---------------------------------------------------------------------------\u001b[0m",
      "\u001b[1;31mValueError\u001b[0m                                Traceback (most recent call last)",
      "File \u001b[1;32mc:\\anaconda\\envs\\gee\\lib\\site-packages\\ipywidgets\\widgets\\widget.py:773\u001b[0m, in \u001b[0;36mWidget._handle_msg\u001b[1;34m(self, msg)\u001b[0m\n\u001b[0;32m    771\u001b[0m         \u001b[39mif\u001b[39;00m \u001b[39m'\u001b[39m\u001b[39mbuffer_paths\u001b[39m\u001b[39m'\u001b[39m \u001b[39min\u001b[39;00m data:\n\u001b[0;32m    772\u001b[0m             _put_buffers(state, data[\u001b[39m'\u001b[39m\u001b[39mbuffer_paths\u001b[39m\u001b[39m'\u001b[39m], msg[\u001b[39m'\u001b[39m\u001b[39mbuffers\u001b[39m\u001b[39m'\u001b[39m])\n\u001b[1;32m--> 773\u001b[0m         \u001b[39mself\u001b[39;49m\u001b[39m.\u001b[39;49mset_state(state)\n\u001b[0;32m    775\u001b[0m \u001b[39m# Handle a state request.\u001b[39;00m\n\u001b[0;32m    776\u001b[0m \u001b[39melif\u001b[39;00m method \u001b[39m==\u001b[39m \u001b[39m'\u001b[39m\u001b[39mrequest_state\u001b[39m\u001b[39m'\u001b[39m:\n",
      "File \u001b[1;32mc:\\anaconda\\envs\\gee\\lib\\site-packages\\ipywidgets\\widgets\\widget.py:650\u001b[0m, in \u001b[0;36mWidget.set_state\u001b[1;34m(self, sync_data)\u001b[0m\n\u001b[0;32m    645\u001b[0m         \u001b[39mself\u001b[39m\u001b[39m.\u001b[39m_send(msg, buffers\u001b[39m=\u001b[39mecho_buffers)\n\u001b[0;32m    647\u001b[0m \u001b[39m# The order of these context managers is important. Properties must\u001b[39;00m\n\u001b[0;32m    648\u001b[0m \u001b[39m# be locked when the hold_trait_notification context manager is\u001b[39;00m\n\u001b[0;32m    649\u001b[0m \u001b[39m# released and notifications are fired.\u001b[39;00m\n\u001b[1;32m--> 650\u001b[0m \u001b[39mwith\u001b[39;00m \u001b[39mself\u001b[39m\u001b[39m.\u001b[39m_lock_property(\u001b[39m*\u001b[39m\u001b[39m*\u001b[39msync_data), \u001b[39mself\u001b[39m\u001b[39m.\u001b[39mhold_trait_notifications():\n\u001b[0;32m    651\u001b[0m     \u001b[39mfor\u001b[39;00m name \u001b[39min\u001b[39;00m sync_data:\n\u001b[0;32m    652\u001b[0m         \u001b[39mif\u001b[39;00m name \u001b[39min\u001b[39;00m \u001b[39mself\u001b[39m\u001b[39m.\u001b[39mkeys:\n",
      "File \u001b[1;32mc:\\anaconda\\envs\\gee\\lib\\contextlib.py:142\u001b[0m, in \u001b[0;36m_GeneratorContextManager.__exit__\u001b[1;34m(self, typ, value, traceback)\u001b[0m\n\u001b[0;32m    140\u001b[0m \u001b[39mif\u001b[39;00m typ \u001b[39mis\u001b[39;00m \u001b[39mNone\u001b[39;00m:\n\u001b[0;32m    141\u001b[0m     \u001b[39mtry\u001b[39;00m:\n\u001b[1;32m--> 142\u001b[0m         \u001b[39mnext\u001b[39;49m(\u001b[39mself\u001b[39;49m\u001b[39m.\u001b[39;49mgen)\n\u001b[0;32m    143\u001b[0m     \u001b[39mexcept\u001b[39;00m \u001b[39mStopIteration\u001b[39;00m:\n\u001b[0;32m    144\u001b[0m         \u001b[39mreturn\u001b[39;00m \u001b[39mFalse\u001b[39;00m\n",
      "File \u001b[1;32mc:\\anaconda\\envs\\gee\\lib\\site-packages\\traitlets\\traitlets.py:1512\u001b[0m, in \u001b[0;36mHasTraits.hold_trait_notifications\u001b[1;34m(self)\u001b[0m\n\u001b[0;32m   1510\u001b[0m \u001b[39mfor\u001b[39;00m changes \u001b[39min\u001b[39;00m cache\u001b[39m.\u001b[39mvalues():\n\u001b[0;32m   1511\u001b[0m     \u001b[39mfor\u001b[39;00m change \u001b[39min\u001b[39;00m changes:\n\u001b[1;32m-> 1512\u001b[0m         \u001b[39mself\u001b[39;49m\u001b[39m.\u001b[39;49mnotify_change(change)\n",
      "File \u001b[1;32mc:\\anaconda\\envs\\gee\\lib\\site-packages\\ipywidgets\\widgets\\widget.py:701\u001b[0m, in \u001b[0;36mWidget.notify_change\u001b[1;34m(self, change)\u001b[0m\n\u001b[0;32m    698\u001b[0m     \u001b[39mif\u001b[39;00m name \u001b[39min\u001b[39;00m \u001b[39mself\u001b[39m\u001b[39m.\u001b[39mkeys \u001b[39mand\u001b[39;00m \u001b[39mself\u001b[39m\u001b[39m.\u001b[39m_should_send_property(name, \u001b[39mgetattr\u001b[39m(\u001b[39mself\u001b[39m, name)):\n\u001b[0;32m    699\u001b[0m         \u001b[39m# Send new state to front-end\u001b[39;00m\n\u001b[0;32m    700\u001b[0m         \u001b[39mself\u001b[39m\u001b[39m.\u001b[39msend_state(key\u001b[39m=\u001b[39mname)\n\u001b[1;32m--> 701\u001b[0m \u001b[39msuper\u001b[39;49m()\u001b[39m.\u001b[39;49mnotify_change(change)\n",
      "File \u001b[1;32mc:\\anaconda\\envs\\gee\\lib\\site-packages\\traitlets\\traitlets.py:1527\u001b[0m, in \u001b[0;36mHasTraits.notify_change\u001b[1;34m(self, change)\u001b[0m\n\u001b[0;32m   1525\u001b[0m \u001b[39mdef\u001b[39;00m \u001b[39mnotify_change\u001b[39m(\u001b[39mself\u001b[39m, change: Bunch) \u001b[39m-\u001b[39m\u001b[39m>\u001b[39m \u001b[39mNone\u001b[39;00m:\n\u001b[0;32m   1526\u001b[0m \u001b[39m    \u001b[39m\u001b[39m\"\"\"Notify observers of a change event\"\"\"\u001b[39;00m\n\u001b[1;32m-> 1527\u001b[0m     \u001b[39mreturn\u001b[39;00m \u001b[39mself\u001b[39;49m\u001b[39m.\u001b[39;49m_notify_observers(change)\n",
      "File \u001b[1;32mc:\\anaconda\\envs\\gee\\lib\\site-packages\\traitlets\\traitlets.py:1570\u001b[0m, in \u001b[0;36mHasTraits._notify_observers\u001b[1;34m(self, event)\u001b[0m\n\u001b[0;32m   1567\u001b[0m \u001b[39melif\u001b[39;00m \u001b[39misinstance\u001b[39m(c, EventHandler) \u001b[39mand\u001b[39;00m c\u001b[39m.\u001b[39mname \u001b[39mis\u001b[39;00m \u001b[39mnot\u001b[39;00m \u001b[39mNone\u001b[39;00m:\n\u001b[0;32m   1568\u001b[0m     c \u001b[39m=\u001b[39m \u001b[39mgetattr\u001b[39m(\u001b[39mself\u001b[39m, c\u001b[39m.\u001b[39mname)\n\u001b[1;32m-> 1570\u001b[0m c(event)\n",
      "File \u001b[1;32mc:\\anaconda\\envs\\gee\\lib\\site-packages\\plotly\\basewidget.py:635\u001b[0m, in \u001b[0;36mBaseFigureWidget._handler_js2py_relayout\u001b[1;34m(self, change)\u001b[0m\n\u001b[0;32m    631\u001b[0m     relayout_data\u001b[39m.\u001b[39mpop(\u001b[39m\"\u001b[39m\u001b[39mlastInputTime\u001b[39m\u001b[39m\"\u001b[39m)\n\u001b[0;32m    633\u001b[0m \u001b[39m# Perform relayout\u001b[39;00m\n\u001b[0;32m    634\u001b[0m \u001b[39m# ----------------\u001b[39;00m\n\u001b[1;32m--> 635\u001b[0m \u001b[39mself\u001b[39;49m\u001b[39m.\u001b[39;49mplotly_relayout(relayout_data\u001b[39m=\u001b[39;49mrelayout_data, source_view_id\u001b[39m=\u001b[39;49msource_view_id)\n\u001b[0;32m    637\u001b[0m \u001b[39mself\u001b[39m\u001b[39m.\u001b[39m_js2py_relayout \u001b[39m=\u001b[39m \u001b[39mNone\u001b[39;00m\n",
      "File \u001b[1;32mc:\\anaconda\\envs\\gee\\lib\\site-packages\\plotly\\basedatatypes.py:2610\u001b[0m, in \u001b[0;36mBaseFigure.plotly_relayout\u001b[1;34m(self, relayout_data, **kwargs)\u001b[0m\n\u001b[0;32m   2606\u001b[0m     msg_kwargs \u001b[39m=\u001b[39m {}\n\u001b[0;32m   2608\u001b[0m \u001b[39m# Perform relayout operation on layout dict\u001b[39;00m\n\u001b[0;32m   2609\u001b[0m \u001b[39m# -----------------------------------------\u001b[39;00m\n\u001b[1;32m-> 2610\u001b[0m relayout_changes \u001b[39m=\u001b[39m \u001b[39mself\u001b[39;49m\u001b[39m.\u001b[39;49m_perform_plotly_relayout(relayout_data)\n\u001b[0;32m   2611\u001b[0m \u001b[39mif\u001b[39;00m relayout_changes:\n\u001b[0;32m   2612\u001b[0m     \u001b[39m# The relayout operation resulted in a change to some layout\u001b[39;00m\n\u001b[0;32m   2613\u001b[0m     \u001b[39m# properties, so we dispatch change callbacks and send the\u001b[39;00m\n\u001b[0;32m   2614\u001b[0m     \u001b[39m# relayout message to the frontend (if any)\u001b[39;00m\n\u001b[0;32m   2615\u001b[0m     \u001b[39mself\u001b[39m\u001b[39m.\u001b[39m_send_relayout_msg(relayout_changes, \u001b[39m*\u001b[39m\u001b[39m*\u001b[39mmsg_kwargs)\n",
      "File \u001b[1;32mc:\\anaconda\\envs\\gee\\lib\\site-packages\\plotly\\basedatatypes.py:2646\u001b[0m, in \u001b[0;36mBaseFigure._perform_plotly_relayout\u001b[1;34m(self, relayout_data)\u001b[0m\n\u001b[0;32m   2642\u001b[0m         \u001b[39mfor\u001b[39;00m key_path_str, v \u001b[39min\u001b[39;00m relayout_data\u001b[39m.\u001b[39mitems():\n\u001b[0;32m   2644\u001b[0m             \u001b[39mif\u001b[39;00m \u001b[39mnot\u001b[39;00m BaseFigure\u001b[39m.\u001b[39m_is_key_path_compatible(key_path_str, \u001b[39mself\u001b[39m\u001b[39m.\u001b[39mlayout):\n\u001b[1;32m-> 2646\u001b[0m                 \u001b[39mraise\u001b[39;00m \u001b[39mValueError\u001b[39;00m(\n\u001b[0;32m   2647\u001b[0m \u001b[39m                    \u001b[39m\u001b[39m\"\"\"\u001b[39;00m\n\u001b[0;32m   2648\u001b[0m \u001b[39mInvalid property path '{key_path_str}' for layout\u001b[39;00m\n\u001b[0;32m   2649\u001b[0m \u001b[39m\"\"\"\u001b[39;00m\u001b[39m.\u001b[39mformat(\n\u001b[0;32m   2650\u001b[0m                         key_path_str\u001b[39m=\u001b[39mkey_path_str\n\u001b[0;32m   2651\u001b[0m                     )\n\u001b[0;32m   2652\u001b[0m                 )\n\u001b[0;32m   2654\u001b[0m             \u001b[39m# Apply set operation on the layout dict\u001b[39;00m\n\u001b[0;32m   2655\u001b[0m             val_changed \u001b[39m=\u001b[39m BaseFigure\u001b[39m.\u001b[39m_set_in(\u001b[39mself\u001b[39m\u001b[39m.\u001b[39m_layout, key_path_str, v)\n",
      "\u001b[1;31mValueError\u001b[0m: \nInvalid property path 'mapbox._derived' for layout\n"
     ]
    },
    {
     "ename": "ValueError",
     "evalue": "\nInvalid property path 'mapbox._derived' for layout\n",
     "output_type": "error",
     "traceback": [
      "\u001b[1;31m---------------------------------------------------------------------------\u001b[0m",
      "\u001b[1;31mValueError\u001b[0m                                Traceback (most recent call last)",
      "File \u001b[1;32mc:\\anaconda\\envs\\gee\\lib\\site-packages\\ipywidgets\\widgets\\widget.py:773\u001b[0m, in \u001b[0;36mWidget._handle_msg\u001b[1;34m(self, msg)\u001b[0m\n\u001b[0;32m    771\u001b[0m         \u001b[39mif\u001b[39;00m \u001b[39m'\u001b[39m\u001b[39mbuffer_paths\u001b[39m\u001b[39m'\u001b[39m \u001b[39min\u001b[39;00m data:\n\u001b[0;32m    772\u001b[0m             _put_buffers(state, data[\u001b[39m'\u001b[39m\u001b[39mbuffer_paths\u001b[39m\u001b[39m'\u001b[39m], msg[\u001b[39m'\u001b[39m\u001b[39mbuffers\u001b[39m\u001b[39m'\u001b[39m])\n\u001b[1;32m--> 773\u001b[0m         \u001b[39mself\u001b[39;49m\u001b[39m.\u001b[39;49mset_state(state)\n\u001b[0;32m    775\u001b[0m \u001b[39m# Handle a state request.\u001b[39;00m\n\u001b[0;32m    776\u001b[0m \u001b[39melif\u001b[39;00m method \u001b[39m==\u001b[39m \u001b[39m'\u001b[39m\u001b[39mrequest_state\u001b[39m\u001b[39m'\u001b[39m:\n",
      "File \u001b[1;32mc:\\anaconda\\envs\\gee\\lib\\site-packages\\ipywidgets\\widgets\\widget.py:650\u001b[0m, in \u001b[0;36mWidget.set_state\u001b[1;34m(self, sync_data)\u001b[0m\n\u001b[0;32m    645\u001b[0m         \u001b[39mself\u001b[39m\u001b[39m.\u001b[39m_send(msg, buffers\u001b[39m=\u001b[39mecho_buffers)\n\u001b[0;32m    647\u001b[0m \u001b[39m# The order of these context managers is important. Properties must\u001b[39;00m\n\u001b[0;32m    648\u001b[0m \u001b[39m# be locked when the hold_trait_notification context manager is\u001b[39;00m\n\u001b[0;32m    649\u001b[0m \u001b[39m# released and notifications are fired.\u001b[39;00m\n\u001b[1;32m--> 650\u001b[0m \u001b[39mwith\u001b[39;00m \u001b[39mself\u001b[39m\u001b[39m.\u001b[39m_lock_property(\u001b[39m*\u001b[39m\u001b[39m*\u001b[39msync_data), \u001b[39mself\u001b[39m\u001b[39m.\u001b[39mhold_trait_notifications():\n\u001b[0;32m    651\u001b[0m     \u001b[39mfor\u001b[39;00m name \u001b[39min\u001b[39;00m sync_data:\n\u001b[0;32m    652\u001b[0m         \u001b[39mif\u001b[39;00m name \u001b[39min\u001b[39;00m \u001b[39mself\u001b[39m\u001b[39m.\u001b[39mkeys:\n",
      "File \u001b[1;32mc:\\anaconda\\envs\\gee\\lib\\contextlib.py:142\u001b[0m, in \u001b[0;36m_GeneratorContextManager.__exit__\u001b[1;34m(self, typ, value, traceback)\u001b[0m\n\u001b[0;32m    140\u001b[0m \u001b[39mif\u001b[39;00m typ \u001b[39mis\u001b[39;00m \u001b[39mNone\u001b[39;00m:\n\u001b[0;32m    141\u001b[0m     \u001b[39mtry\u001b[39;00m:\n\u001b[1;32m--> 142\u001b[0m         \u001b[39mnext\u001b[39;49m(\u001b[39mself\u001b[39;49m\u001b[39m.\u001b[39;49mgen)\n\u001b[0;32m    143\u001b[0m     \u001b[39mexcept\u001b[39;00m \u001b[39mStopIteration\u001b[39;00m:\n\u001b[0;32m    144\u001b[0m         \u001b[39mreturn\u001b[39;00m \u001b[39mFalse\u001b[39;00m\n",
      "File \u001b[1;32mc:\\anaconda\\envs\\gee\\lib\\site-packages\\traitlets\\traitlets.py:1512\u001b[0m, in \u001b[0;36mHasTraits.hold_trait_notifications\u001b[1;34m(self)\u001b[0m\n\u001b[0;32m   1510\u001b[0m \u001b[39mfor\u001b[39;00m changes \u001b[39min\u001b[39;00m cache\u001b[39m.\u001b[39mvalues():\n\u001b[0;32m   1511\u001b[0m     \u001b[39mfor\u001b[39;00m change \u001b[39min\u001b[39;00m changes:\n\u001b[1;32m-> 1512\u001b[0m         \u001b[39mself\u001b[39;49m\u001b[39m.\u001b[39;49mnotify_change(change)\n",
      "File \u001b[1;32mc:\\anaconda\\envs\\gee\\lib\\site-packages\\ipywidgets\\widgets\\widget.py:701\u001b[0m, in \u001b[0;36mWidget.notify_change\u001b[1;34m(self, change)\u001b[0m\n\u001b[0;32m    698\u001b[0m     \u001b[39mif\u001b[39;00m name \u001b[39min\u001b[39;00m \u001b[39mself\u001b[39m\u001b[39m.\u001b[39mkeys \u001b[39mand\u001b[39;00m \u001b[39mself\u001b[39m\u001b[39m.\u001b[39m_should_send_property(name, \u001b[39mgetattr\u001b[39m(\u001b[39mself\u001b[39m, name)):\n\u001b[0;32m    699\u001b[0m         \u001b[39m# Send new state to front-end\u001b[39;00m\n\u001b[0;32m    700\u001b[0m         \u001b[39mself\u001b[39m\u001b[39m.\u001b[39msend_state(key\u001b[39m=\u001b[39mname)\n\u001b[1;32m--> 701\u001b[0m \u001b[39msuper\u001b[39;49m()\u001b[39m.\u001b[39;49mnotify_change(change)\n",
      "File \u001b[1;32mc:\\anaconda\\envs\\gee\\lib\\site-packages\\traitlets\\traitlets.py:1527\u001b[0m, in \u001b[0;36mHasTraits.notify_change\u001b[1;34m(self, change)\u001b[0m\n\u001b[0;32m   1525\u001b[0m \u001b[39mdef\u001b[39;00m \u001b[39mnotify_change\u001b[39m(\u001b[39mself\u001b[39m, change: Bunch) \u001b[39m-\u001b[39m\u001b[39m>\u001b[39m \u001b[39mNone\u001b[39;00m:\n\u001b[0;32m   1526\u001b[0m \u001b[39m    \u001b[39m\u001b[39m\"\"\"Notify observers of a change event\"\"\"\u001b[39;00m\n\u001b[1;32m-> 1527\u001b[0m     \u001b[39mreturn\u001b[39;00m \u001b[39mself\u001b[39;49m\u001b[39m.\u001b[39;49m_notify_observers(change)\n",
      "File \u001b[1;32mc:\\anaconda\\envs\\gee\\lib\\site-packages\\traitlets\\traitlets.py:1570\u001b[0m, in \u001b[0;36mHasTraits._notify_observers\u001b[1;34m(self, event)\u001b[0m\n\u001b[0;32m   1567\u001b[0m \u001b[39melif\u001b[39;00m \u001b[39misinstance\u001b[39m(c, EventHandler) \u001b[39mand\u001b[39;00m c\u001b[39m.\u001b[39mname \u001b[39mis\u001b[39;00m \u001b[39mnot\u001b[39;00m \u001b[39mNone\u001b[39;00m:\n\u001b[0;32m   1568\u001b[0m     c \u001b[39m=\u001b[39m \u001b[39mgetattr\u001b[39m(\u001b[39mself\u001b[39m, c\u001b[39m.\u001b[39mname)\n\u001b[1;32m-> 1570\u001b[0m c(event)\n",
      "File \u001b[1;32mc:\\anaconda\\envs\\gee\\lib\\site-packages\\plotly\\basewidget.py:635\u001b[0m, in \u001b[0;36mBaseFigureWidget._handler_js2py_relayout\u001b[1;34m(self, change)\u001b[0m\n\u001b[0;32m    631\u001b[0m     relayout_data\u001b[39m.\u001b[39mpop(\u001b[39m\"\u001b[39m\u001b[39mlastInputTime\u001b[39m\u001b[39m\"\u001b[39m)\n\u001b[0;32m    633\u001b[0m \u001b[39m# Perform relayout\u001b[39;00m\n\u001b[0;32m    634\u001b[0m \u001b[39m# ----------------\u001b[39;00m\n\u001b[1;32m--> 635\u001b[0m \u001b[39mself\u001b[39;49m\u001b[39m.\u001b[39;49mplotly_relayout(relayout_data\u001b[39m=\u001b[39;49mrelayout_data, source_view_id\u001b[39m=\u001b[39;49msource_view_id)\n\u001b[0;32m    637\u001b[0m \u001b[39mself\u001b[39m\u001b[39m.\u001b[39m_js2py_relayout \u001b[39m=\u001b[39m \u001b[39mNone\u001b[39;00m\n",
      "File \u001b[1;32mc:\\anaconda\\envs\\gee\\lib\\site-packages\\plotly\\basedatatypes.py:2610\u001b[0m, in \u001b[0;36mBaseFigure.plotly_relayout\u001b[1;34m(self, relayout_data, **kwargs)\u001b[0m\n\u001b[0;32m   2606\u001b[0m     msg_kwargs \u001b[39m=\u001b[39m {}\n\u001b[0;32m   2608\u001b[0m \u001b[39m# Perform relayout operation on layout dict\u001b[39;00m\n\u001b[0;32m   2609\u001b[0m \u001b[39m# -----------------------------------------\u001b[39;00m\n\u001b[1;32m-> 2610\u001b[0m relayout_changes \u001b[39m=\u001b[39m \u001b[39mself\u001b[39;49m\u001b[39m.\u001b[39;49m_perform_plotly_relayout(relayout_data)\n\u001b[0;32m   2611\u001b[0m \u001b[39mif\u001b[39;00m relayout_changes:\n\u001b[0;32m   2612\u001b[0m     \u001b[39m# The relayout operation resulted in a change to some layout\u001b[39;00m\n\u001b[0;32m   2613\u001b[0m     \u001b[39m# properties, so we dispatch change callbacks and send the\u001b[39;00m\n\u001b[0;32m   2614\u001b[0m     \u001b[39m# relayout message to the frontend (if any)\u001b[39;00m\n\u001b[0;32m   2615\u001b[0m     \u001b[39mself\u001b[39m\u001b[39m.\u001b[39m_send_relayout_msg(relayout_changes, \u001b[39m*\u001b[39m\u001b[39m*\u001b[39mmsg_kwargs)\n",
      "File \u001b[1;32mc:\\anaconda\\envs\\gee\\lib\\site-packages\\plotly\\basedatatypes.py:2646\u001b[0m, in \u001b[0;36mBaseFigure._perform_plotly_relayout\u001b[1;34m(self, relayout_data)\u001b[0m\n\u001b[0;32m   2642\u001b[0m         \u001b[39mfor\u001b[39;00m key_path_str, v \u001b[39min\u001b[39;00m relayout_data\u001b[39m.\u001b[39mitems():\n\u001b[0;32m   2644\u001b[0m             \u001b[39mif\u001b[39;00m \u001b[39mnot\u001b[39;00m BaseFigure\u001b[39m.\u001b[39m_is_key_path_compatible(key_path_str, \u001b[39mself\u001b[39m\u001b[39m.\u001b[39mlayout):\n\u001b[1;32m-> 2646\u001b[0m                 \u001b[39mraise\u001b[39;00m \u001b[39mValueError\u001b[39;00m(\n\u001b[0;32m   2647\u001b[0m \u001b[39m                    \u001b[39m\u001b[39m\"\"\"\u001b[39;00m\n\u001b[0;32m   2648\u001b[0m \u001b[39mInvalid property path '{key_path_str}' for layout\u001b[39;00m\n\u001b[0;32m   2649\u001b[0m \u001b[39m\"\"\"\u001b[39;00m\u001b[39m.\u001b[39mformat(\n\u001b[0;32m   2650\u001b[0m                         key_path_str\u001b[39m=\u001b[39mkey_path_str\n\u001b[0;32m   2651\u001b[0m                     )\n\u001b[0;32m   2652\u001b[0m                 )\n\u001b[0;32m   2654\u001b[0m             \u001b[39m# Apply set operation on the layout dict\u001b[39;00m\n\u001b[0;32m   2655\u001b[0m             val_changed \u001b[39m=\u001b[39m BaseFigure\u001b[39m.\u001b[39m_set_in(\u001b[39mself\u001b[39m\u001b[39m.\u001b[39m_layout, key_path_str, v)\n",
      "\u001b[1;31mValueError\u001b[0m: \nInvalid property path 'mapbox._derived' for layout\n"
     ]
    },
    {
     "ename": "ValueError",
     "evalue": "\nInvalid property path 'mapbox._derived' for layout\n",
     "output_type": "error",
     "traceback": [
      "\u001b[1;31m---------------------------------------------------------------------------\u001b[0m",
      "\u001b[1;31mValueError\u001b[0m                                Traceback (most recent call last)",
      "File \u001b[1;32mc:\\anaconda\\envs\\gee\\lib\\site-packages\\ipywidgets\\widgets\\widget.py:773\u001b[0m, in \u001b[0;36mWidget._handle_msg\u001b[1;34m(self, msg)\u001b[0m\n\u001b[0;32m    771\u001b[0m         \u001b[39mif\u001b[39;00m \u001b[39m'\u001b[39m\u001b[39mbuffer_paths\u001b[39m\u001b[39m'\u001b[39m \u001b[39min\u001b[39;00m data:\n\u001b[0;32m    772\u001b[0m             _put_buffers(state, data[\u001b[39m'\u001b[39m\u001b[39mbuffer_paths\u001b[39m\u001b[39m'\u001b[39m], msg[\u001b[39m'\u001b[39m\u001b[39mbuffers\u001b[39m\u001b[39m'\u001b[39m])\n\u001b[1;32m--> 773\u001b[0m         \u001b[39mself\u001b[39;49m\u001b[39m.\u001b[39;49mset_state(state)\n\u001b[0;32m    775\u001b[0m \u001b[39m# Handle a state request.\u001b[39;00m\n\u001b[0;32m    776\u001b[0m \u001b[39melif\u001b[39;00m method \u001b[39m==\u001b[39m \u001b[39m'\u001b[39m\u001b[39mrequest_state\u001b[39m\u001b[39m'\u001b[39m:\n",
      "File \u001b[1;32mc:\\anaconda\\envs\\gee\\lib\\site-packages\\ipywidgets\\widgets\\widget.py:650\u001b[0m, in \u001b[0;36mWidget.set_state\u001b[1;34m(self, sync_data)\u001b[0m\n\u001b[0;32m    645\u001b[0m         \u001b[39mself\u001b[39m\u001b[39m.\u001b[39m_send(msg, buffers\u001b[39m=\u001b[39mecho_buffers)\n\u001b[0;32m    647\u001b[0m \u001b[39m# The order of these context managers is important. Properties must\u001b[39;00m\n\u001b[0;32m    648\u001b[0m \u001b[39m# be locked when the hold_trait_notification context manager is\u001b[39;00m\n\u001b[0;32m    649\u001b[0m \u001b[39m# released and notifications are fired.\u001b[39;00m\n\u001b[1;32m--> 650\u001b[0m \u001b[39mwith\u001b[39;00m \u001b[39mself\u001b[39m\u001b[39m.\u001b[39m_lock_property(\u001b[39m*\u001b[39m\u001b[39m*\u001b[39msync_data), \u001b[39mself\u001b[39m\u001b[39m.\u001b[39mhold_trait_notifications():\n\u001b[0;32m    651\u001b[0m     \u001b[39mfor\u001b[39;00m name \u001b[39min\u001b[39;00m sync_data:\n\u001b[0;32m    652\u001b[0m         \u001b[39mif\u001b[39;00m name \u001b[39min\u001b[39;00m \u001b[39mself\u001b[39m\u001b[39m.\u001b[39mkeys:\n",
      "File \u001b[1;32mc:\\anaconda\\envs\\gee\\lib\\contextlib.py:142\u001b[0m, in \u001b[0;36m_GeneratorContextManager.__exit__\u001b[1;34m(self, typ, value, traceback)\u001b[0m\n\u001b[0;32m    140\u001b[0m \u001b[39mif\u001b[39;00m typ \u001b[39mis\u001b[39;00m \u001b[39mNone\u001b[39;00m:\n\u001b[0;32m    141\u001b[0m     \u001b[39mtry\u001b[39;00m:\n\u001b[1;32m--> 142\u001b[0m         \u001b[39mnext\u001b[39;49m(\u001b[39mself\u001b[39;49m\u001b[39m.\u001b[39;49mgen)\n\u001b[0;32m    143\u001b[0m     \u001b[39mexcept\u001b[39;00m \u001b[39mStopIteration\u001b[39;00m:\n\u001b[0;32m    144\u001b[0m         \u001b[39mreturn\u001b[39;00m \u001b[39mFalse\u001b[39;00m\n",
      "File \u001b[1;32mc:\\anaconda\\envs\\gee\\lib\\site-packages\\traitlets\\traitlets.py:1512\u001b[0m, in \u001b[0;36mHasTraits.hold_trait_notifications\u001b[1;34m(self)\u001b[0m\n\u001b[0;32m   1510\u001b[0m \u001b[39mfor\u001b[39;00m changes \u001b[39min\u001b[39;00m cache\u001b[39m.\u001b[39mvalues():\n\u001b[0;32m   1511\u001b[0m     \u001b[39mfor\u001b[39;00m change \u001b[39min\u001b[39;00m changes:\n\u001b[1;32m-> 1512\u001b[0m         \u001b[39mself\u001b[39;49m\u001b[39m.\u001b[39;49mnotify_change(change)\n",
      "File \u001b[1;32mc:\\anaconda\\envs\\gee\\lib\\site-packages\\ipywidgets\\widgets\\widget.py:701\u001b[0m, in \u001b[0;36mWidget.notify_change\u001b[1;34m(self, change)\u001b[0m\n\u001b[0;32m    698\u001b[0m     \u001b[39mif\u001b[39;00m name \u001b[39min\u001b[39;00m \u001b[39mself\u001b[39m\u001b[39m.\u001b[39mkeys \u001b[39mand\u001b[39;00m \u001b[39mself\u001b[39m\u001b[39m.\u001b[39m_should_send_property(name, \u001b[39mgetattr\u001b[39m(\u001b[39mself\u001b[39m, name)):\n\u001b[0;32m    699\u001b[0m         \u001b[39m# Send new state to front-end\u001b[39;00m\n\u001b[0;32m    700\u001b[0m         \u001b[39mself\u001b[39m\u001b[39m.\u001b[39msend_state(key\u001b[39m=\u001b[39mname)\n\u001b[1;32m--> 701\u001b[0m \u001b[39msuper\u001b[39;49m()\u001b[39m.\u001b[39;49mnotify_change(change)\n",
      "File \u001b[1;32mc:\\anaconda\\envs\\gee\\lib\\site-packages\\traitlets\\traitlets.py:1527\u001b[0m, in \u001b[0;36mHasTraits.notify_change\u001b[1;34m(self, change)\u001b[0m\n\u001b[0;32m   1525\u001b[0m \u001b[39mdef\u001b[39;00m \u001b[39mnotify_change\u001b[39m(\u001b[39mself\u001b[39m, change: Bunch) \u001b[39m-\u001b[39m\u001b[39m>\u001b[39m \u001b[39mNone\u001b[39;00m:\n\u001b[0;32m   1526\u001b[0m \u001b[39m    \u001b[39m\u001b[39m\"\"\"Notify observers of a change event\"\"\"\u001b[39;00m\n\u001b[1;32m-> 1527\u001b[0m     \u001b[39mreturn\u001b[39;00m \u001b[39mself\u001b[39;49m\u001b[39m.\u001b[39;49m_notify_observers(change)\n",
      "File \u001b[1;32mc:\\anaconda\\envs\\gee\\lib\\site-packages\\traitlets\\traitlets.py:1570\u001b[0m, in \u001b[0;36mHasTraits._notify_observers\u001b[1;34m(self, event)\u001b[0m\n\u001b[0;32m   1567\u001b[0m \u001b[39melif\u001b[39;00m \u001b[39misinstance\u001b[39m(c, EventHandler) \u001b[39mand\u001b[39;00m c\u001b[39m.\u001b[39mname \u001b[39mis\u001b[39;00m \u001b[39mnot\u001b[39;00m \u001b[39mNone\u001b[39;00m:\n\u001b[0;32m   1568\u001b[0m     c \u001b[39m=\u001b[39m \u001b[39mgetattr\u001b[39m(\u001b[39mself\u001b[39m, c\u001b[39m.\u001b[39mname)\n\u001b[1;32m-> 1570\u001b[0m c(event)\n",
      "File \u001b[1;32mc:\\anaconda\\envs\\gee\\lib\\site-packages\\plotly\\basewidget.py:635\u001b[0m, in \u001b[0;36mBaseFigureWidget._handler_js2py_relayout\u001b[1;34m(self, change)\u001b[0m\n\u001b[0;32m    631\u001b[0m     relayout_data\u001b[39m.\u001b[39mpop(\u001b[39m\"\u001b[39m\u001b[39mlastInputTime\u001b[39m\u001b[39m\"\u001b[39m)\n\u001b[0;32m    633\u001b[0m \u001b[39m# Perform relayout\u001b[39;00m\n\u001b[0;32m    634\u001b[0m \u001b[39m# ----------------\u001b[39;00m\n\u001b[1;32m--> 635\u001b[0m \u001b[39mself\u001b[39;49m\u001b[39m.\u001b[39;49mplotly_relayout(relayout_data\u001b[39m=\u001b[39;49mrelayout_data, source_view_id\u001b[39m=\u001b[39;49msource_view_id)\n\u001b[0;32m    637\u001b[0m \u001b[39mself\u001b[39m\u001b[39m.\u001b[39m_js2py_relayout \u001b[39m=\u001b[39m \u001b[39mNone\u001b[39;00m\n",
      "File \u001b[1;32mc:\\anaconda\\envs\\gee\\lib\\site-packages\\plotly\\basedatatypes.py:2610\u001b[0m, in \u001b[0;36mBaseFigure.plotly_relayout\u001b[1;34m(self, relayout_data, **kwargs)\u001b[0m\n\u001b[0;32m   2606\u001b[0m     msg_kwargs \u001b[39m=\u001b[39m {}\n\u001b[0;32m   2608\u001b[0m \u001b[39m# Perform relayout operation on layout dict\u001b[39;00m\n\u001b[0;32m   2609\u001b[0m \u001b[39m# -----------------------------------------\u001b[39;00m\n\u001b[1;32m-> 2610\u001b[0m relayout_changes \u001b[39m=\u001b[39m \u001b[39mself\u001b[39;49m\u001b[39m.\u001b[39;49m_perform_plotly_relayout(relayout_data)\n\u001b[0;32m   2611\u001b[0m \u001b[39mif\u001b[39;00m relayout_changes:\n\u001b[0;32m   2612\u001b[0m     \u001b[39m# The relayout operation resulted in a change to some layout\u001b[39;00m\n\u001b[0;32m   2613\u001b[0m     \u001b[39m# properties, so we dispatch change callbacks and send the\u001b[39;00m\n\u001b[0;32m   2614\u001b[0m     \u001b[39m# relayout message to the frontend (if any)\u001b[39;00m\n\u001b[0;32m   2615\u001b[0m     \u001b[39mself\u001b[39m\u001b[39m.\u001b[39m_send_relayout_msg(relayout_changes, \u001b[39m*\u001b[39m\u001b[39m*\u001b[39mmsg_kwargs)\n",
      "File \u001b[1;32mc:\\anaconda\\envs\\gee\\lib\\site-packages\\plotly\\basedatatypes.py:2646\u001b[0m, in \u001b[0;36mBaseFigure._perform_plotly_relayout\u001b[1;34m(self, relayout_data)\u001b[0m\n\u001b[0;32m   2642\u001b[0m         \u001b[39mfor\u001b[39;00m key_path_str, v \u001b[39min\u001b[39;00m relayout_data\u001b[39m.\u001b[39mitems():\n\u001b[0;32m   2644\u001b[0m             \u001b[39mif\u001b[39;00m \u001b[39mnot\u001b[39;00m BaseFigure\u001b[39m.\u001b[39m_is_key_path_compatible(key_path_str, \u001b[39mself\u001b[39m\u001b[39m.\u001b[39mlayout):\n\u001b[1;32m-> 2646\u001b[0m                 \u001b[39mraise\u001b[39;00m \u001b[39mValueError\u001b[39;00m(\n\u001b[0;32m   2647\u001b[0m \u001b[39m                    \u001b[39m\u001b[39m\"\"\"\u001b[39;00m\n\u001b[0;32m   2648\u001b[0m \u001b[39mInvalid property path '{key_path_str}' for layout\u001b[39;00m\n\u001b[0;32m   2649\u001b[0m \u001b[39m\"\"\"\u001b[39;00m\u001b[39m.\u001b[39mformat(\n\u001b[0;32m   2650\u001b[0m                         key_path_str\u001b[39m=\u001b[39mkey_path_str\n\u001b[0;32m   2651\u001b[0m                     )\n\u001b[0;32m   2652\u001b[0m                 )\n\u001b[0;32m   2654\u001b[0m             \u001b[39m# Apply set operation on the layout dict\u001b[39;00m\n\u001b[0;32m   2655\u001b[0m             val_changed \u001b[39m=\u001b[39m BaseFigure\u001b[39m.\u001b[39m_set_in(\u001b[39mself\u001b[39m\u001b[39m.\u001b[39m_layout, key_path_str, v)\n",
      "\u001b[1;31mValueError\u001b[0m: \nInvalid property path 'mapbox._derived' for layout\n"
     ]
    },
    {
     "ename": "ValueError",
     "evalue": "\nInvalid property path 'mapbox._derived' for layout\n",
     "output_type": "error",
     "traceback": [
      "\u001b[1;31m---------------------------------------------------------------------------\u001b[0m",
      "\u001b[1;31mValueError\u001b[0m                                Traceback (most recent call last)",
      "File \u001b[1;32mc:\\anaconda\\envs\\gee\\lib\\site-packages\\ipywidgets\\widgets\\widget.py:773\u001b[0m, in \u001b[0;36mWidget._handle_msg\u001b[1;34m(self, msg)\u001b[0m\n\u001b[0;32m    771\u001b[0m         \u001b[39mif\u001b[39;00m \u001b[39m'\u001b[39m\u001b[39mbuffer_paths\u001b[39m\u001b[39m'\u001b[39m \u001b[39min\u001b[39;00m data:\n\u001b[0;32m    772\u001b[0m             _put_buffers(state, data[\u001b[39m'\u001b[39m\u001b[39mbuffer_paths\u001b[39m\u001b[39m'\u001b[39m], msg[\u001b[39m'\u001b[39m\u001b[39mbuffers\u001b[39m\u001b[39m'\u001b[39m])\n\u001b[1;32m--> 773\u001b[0m         \u001b[39mself\u001b[39;49m\u001b[39m.\u001b[39;49mset_state(state)\n\u001b[0;32m    775\u001b[0m \u001b[39m# Handle a state request.\u001b[39;00m\n\u001b[0;32m    776\u001b[0m \u001b[39melif\u001b[39;00m method \u001b[39m==\u001b[39m \u001b[39m'\u001b[39m\u001b[39mrequest_state\u001b[39m\u001b[39m'\u001b[39m:\n",
      "File \u001b[1;32mc:\\anaconda\\envs\\gee\\lib\\site-packages\\ipywidgets\\widgets\\widget.py:650\u001b[0m, in \u001b[0;36mWidget.set_state\u001b[1;34m(self, sync_data)\u001b[0m\n\u001b[0;32m    645\u001b[0m         \u001b[39mself\u001b[39m\u001b[39m.\u001b[39m_send(msg, buffers\u001b[39m=\u001b[39mecho_buffers)\n\u001b[0;32m    647\u001b[0m \u001b[39m# The order of these context managers is important. Properties must\u001b[39;00m\n\u001b[0;32m    648\u001b[0m \u001b[39m# be locked when the hold_trait_notification context manager is\u001b[39;00m\n\u001b[0;32m    649\u001b[0m \u001b[39m# released and notifications are fired.\u001b[39;00m\n\u001b[1;32m--> 650\u001b[0m \u001b[39mwith\u001b[39;00m \u001b[39mself\u001b[39m\u001b[39m.\u001b[39m_lock_property(\u001b[39m*\u001b[39m\u001b[39m*\u001b[39msync_data), \u001b[39mself\u001b[39m\u001b[39m.\u001b[39mhold_trait_notifications():\n\u001b[0;32m    651\u001b[0m     \u001b[39mfor\u001b[39;00m name \u001b[39min\u001b[39;00m sync_data:\n\u001b[0;32m    652\u001b[0m         \u001b[39mif\u001b[39;00m name \u001b[39min\u001b[39;00m \u001b[39mself\u001b[39m\u001b[39m.\u001b[39mkeys:\n",
      "File \u001b[1;32mc:\\anaconda\\envs\\gee\\lib\\contextlib.py:142\u001b[0m, in \u001b[0;36m_GeneratorContextManager.__exit__\u001b[1;34m(self, typ, value, traceback)\u001b[0m\n\u001b[0;32m    140\u001b[0m \u001b[39mif\u001b[39;00m typ \u001b[39mis\u001b[39;00m \u001b[39mNone\u001b[39;00m:\n\u001b[0;32m    141\u001b[0m     \u001b[39mtry\u001b[39;00m:\n\u001b[1;32m--> 142\u001b[0m         \u001b[39mnext\u001b[39;49m(\u001b[39mself\u001b[39;49m\u001b[39m.\u001b[39;49mgen)\n\u001b[0;32m    143\u001b[0m     \u001b[39mexcept\u001b[39;00m \u001b[39mStopIteration\u001b[39;00m:\n\u001b[0;32m    144\u001b[0m         \u001b[39mreturn\u001b[39;00m \u001b[39mFalse\u001b[39;00m\n",
      "File \u001b[1;32mc:\\anaconda\\envs\\gee\\lib\\site-packages\\traitlets\\traitlets.py:1512\u001b[0m, in \u001b[0;36mHasTraits.hold_trait_notifications\u001b[1;34m(self)\u001b[0m\n\u001b[0;32m   1510\u001b[0m \u001b[39mfor\u001b[39;00m changes \u001b[39min\u001b[39;00m cache\u001b[39m.\u001b[39mvalues():\n\u001b[0;32m   1511\u001b[0m     \u001b[39mfor\u001b[39;00m change \u001b[39min\u001b[39;00m changes:\n\u001b[1;32m-> 1512\u001b[0m         \u001b[39mself\u001b[39;49m\u001b[39m.\u001b[39;49mnotify_change(change)\n",
      "File \u001b[1;32mc:\\anaconda\\envs\\gee\\lib\\site-packages\\ipywidgets\\widgets\\widget.py:701\u001b[0m, in \u001b[0;36mWidget.notify_change\u001b[1;34m(self, change)\u001b[0m\n\u001b[0;32m    698\u001b[0m     \u001b[39mif\u001b[39;00m name \u001b[39min\u001b[39;00m \u001b[39mself\u001b[39m\u001b[39m.\u001b[39mkeys \u001b[39mand\u001b[39;00m \u001b[39mself\u001b[39m\u001b[39m.\u001b[39m_should_send_property(name, \u001b[39mgetattr\u001b[39m(\u001b[39mself\u001b[39m, name)):\n\u001b[0;32m    699\u001b[0m         \u001b[39m# Send new state to front-end\u001b[39;00m\n\u001b[0;32m    700\u001b[0m         \u001b[39mself\u001b[39m\u001b[39m.\u001b[39msend_state(key\u001b[39m=\u001b[39mname)\n\u001b[1;32m--> 701\u001b[0m \u001b[39msuper\u001b[39;49m()\u001b[39m.\u001b[39;49mnotify_change(change)\n",
      "File \u001b[1;32mc:\\anaconda\\envs\\gee\\lib\\site-packages\\traitlets\\traitlets.py:1527\u001b[0m, in \u001b[0;36mHasTraits.notify_change\u001b[1;34m(self, change)\u001b[0m\n\u001b[0;32m   1525\u001b[0m \u001b[39mdef\u001b[39;00m \u001b[39mnotify_change\u001b[39m(\u001b[39mself\u001b[39m, change: Bunch) \u001b[39m-\u001b[39m\u001b[39m>\u001b[39m \u001b[39mNone\u001b[39;00m:\n\u001b[0;32m   1526\u001b[0m \u001b[39m    \u001b[39m\u001b[39m\"\"\"Notify observers of a change event\"\"\"\u001b[39;00m\n\u001b[1;32m-> 1527\u001b[0m     \u001b[39mreturn\u001b[39;00m \u001b[39mself\u001b[39;49m\u001b[39m.\u001b[39;49m_notify_observers(change)\n",
      "File \u001b[1;32mc:\\anaconda\\envs\\gee\\lib\\site-packages\\traitlets\\traitlets.py:1570\u001b[0m, in \u001b[0;36mHasTraits._notify_observers\u001b[1;34m(self, event)\u001b[0m\n\u001b[0;32m   1567\u001b[0m \u001b[39melif\u001b[39;00m \u001b[39misinstance\u001b[39m(c, EventHandler) \u001b[39mand\u001b[39;00m c\u001b[39m.\u001b[39mname \u001b[39mis\u001b[39;00m \u001b[39mnot\u001b[39;00m \u001b[39mNone\u001b[39;00m:\n\u001b[0;32m   1568\u001b[0m     c \u001b[39m=\u001b[39m \u001b[39mgetattr\u001b[39m(\u001b[39mself\u001b[39m, c\u001b[39m.\u001b[39mname)\n\u001b[1;32m-> 1570\u001b[0m c(event)\n",
      "File \u001b[1;32mc:\\anaconda\\envs\\gee\\lib\\site-packages\\plotly\\basewidget.py:635\u001b[0m, in \u001b[0;36mBaseFigureWidget._handler_js2py_relayout\u001b[1;34m(self, change)\u001b[0m\n\u001b[0;32m    631\u001b[0m     relayout_data\u001b[39m.\u001b[39mpop(\u001b[39m\"\u001b[39m\u001b[39mlastInputTime\u001b[39m\u001b[39m\"\u001b[39m)\n\u001b[0;32m    633\u001b[0m \u001b[39m# Perform relayout\u001b[39;00m\n\u001b[0;32m    634\u001b[0m \u001b[39m# ----------------\u001b[39;00m\n\u001b[1;32m--> 635\u001b[0m \u001b[39mself\u001b[39;49m\u001b[39m.\u001b[39;49mplotly_relayout(relayout_data\u001b[39m=\u001b[39;49mrelayout_data, source_view_id\u001b[39m=\u001b[39;49msource_view_id)\n\u001b[0;32m    637\u001b[0m \u001b[39mself\u001b[39m\u001b[39m.\u001b[39m_js2py_relayout \u001b[39m=\u001b[39m \u001b[39mNone\u001b[39;00m\n",
      "File \u001b[1;32mc:\\anaconda\\envs\\gee\\lib\\site-packages\\plotly\\basedatatypes.py:2610\u001b[0m, in \u001b[0;36mBaseFigure.plotly_relayout\u001b[1;34m(self, relayout_data, **kwargs)\u001b[0m\n\u001b[0;32m   2606\u001b[0m     msg_kwargs \u001b[39m=\u001b[39m {}\n\u001b[0;32m   2608\u001b[0m \u001b[39m# Perform relayout operation on layout dict\u001b[39;00m\n\u001b[0;32m   2609\u001b[0m \u001b[39m# -----------------------------------------\u001b[39;00m\n\u001b[1;32m-> 2610\u001b[0m relayout_changes \u001b[39m=\u001b[39m \u001b[39mself\u001b[39;49m\u001b[39m.\u001b[39;49m_perform_plotly_relayout(relayout_data)\n\u001b[0;32m   2611\u001b[0m \u001b[39mif\u001b[39;00m relayout_changes:\n\u001b[0;32m   2612\u001b[0m     \u001b[39m# The relayout operation resulted in a change to some layout\u001b[39;00m\n\u001b[0;32m   2613\u001b[0m     \u001b[39m# properties, so we dispatch change callbacks and send the\u001b[39;00m\n\u001b[0;32m   2614\u001b[0m     \u001b[39m# relayout message to the frontend (if any)\u001b[39;00m\n\u001b[0;32m   2615\u001b[0m     \u001b[39mself\u001b[39m\u001b[39m.\u001b[39m_send_relayout_msg(relayout_changes, \u001b[39m*\u001b[39m\u001b[39m*\u001b[39mmsg_kwargs)\n",
      "File \u001b[1;32mc:\\anaconda\\envs\\gee\\lib\\site-packages\\plotly\\basedatatypes.py:2646\u001b[0m, in \u001b[0;36mBaseFigure._perform_plotly_relayout\u001b[1;34m(self, relayout_data)\u001b[0m\n\u001b[0;32m   2642\u001b[0m         \u001b[39mfor\u001b[39;00m key_path_str, v \u001b[39min\u001b[39;00m relayout_data\u001b[39m.\u001b[39mitems():\n\u001b[0;32m   2644\u001b[0m             \u001b[39mif\u001b[39;00m \u001b[39mnot\u001b[39;00m BaseFigure\u001b[39m.\u001b[39m_is_key_path_compatible(key_path_str, \u001b[39mself\u001b[39m\u001b[39m.\u001b[39mlayout):\n\u001b[1;32m-> 2646\u001b[0m                 \u001b[39mraise\u001b[39;00m \u001b[39mValueError\u001b[39;00m(\n\u001b[0;32m   2647\u001b[0m \u001b[39m                    \u001b[39m\u001b[39m\"\"\"\u001b[39;00m\n\u001b[0;32m   2648\u001b[0m \u001b[39mInvalid property path '{key_path_str}' for layout\u001b[39;00m\n\u001b[0;32m   2649\u001b[0m \u001b[39m\"\"\"\u001b[39;00m\u001b[39m.\u001b[39mformat(\n\u001b[0;32m   2650\u001b[0m                         key_path_str\u001b[39m=\u001b[39mkey_path_str\n\u001b[0;32m   2651\u001b[0m                     )\n\u001b[0;32m   2652\u001b[0m                 )\n\u001b[0;32m   2654\u001b[0m             \u001b[39m# Apply set operation on the layout dict\u001b[39;00m\n\u001b[0;32m   2655\u001b[0m             val_changed \u001b[39m=\u001b[39m BaseFigure\u001b[39m.\u001b[39m_set_in(\u001b[39mself\u001b[39m\u001b[39m.\u001b[39m_layout, key_path_str, v)\n",
      "\u001b[1;31mValueError\u001b[0m: \nInvalid property path 'mapbox._derived' for layout\n"
     ]
    },
    {
     "ename": "ValueError",
     "evalue": "\nInvalid property path 'mapbox._derived' for layout\n",
     "output_type": "error",
     "traceback": [
      "\u001b[1;31m---------------------------------------------------------------------------\u001b[0m",
      "\u001b[1;31mValueError\u001b[0m                                Traceback (most recent call last)",
      "File \u001b[1;32mc:\\anaconda\\envs\\gee\\lib\\site-packages\\ipywidgets\\widgets\\widget.py:773\u001b[0m, in \u001b[0;36mWidget._handle_msg\u001b[1;34m(self, msg)\u001b[0m\n\u001b[0;32m    771\u001b[0m         \u001b[39mif\u001b[39;00m \u001b[39m'\u001b[39m\u001b[39mbuffer_paths\u001b[39m\u001b[39m'\u001b[39m \u001b[39min\u001b[39;00m data:\n\u001b[0;32m    772\u001b[0m             _put_buffers(state, data[\u001b[39m'\u001b[39m\u001b[39mbuffer_paths\u001b[39m\u001b[39m'\u001b[39m], msg[\u001b[39m'\u001b[39m\u001b[39mbuffers\u001b[39m\u001b[39m'\u001b[39m])\n\u001b[1;32m--> 773\u001b[0m         \u001b[39mself\u001b[39;49m\u001b[39m.\u001b[39;49mset_state(state)\n\u001b[0;32m    775\u001b[0m \u001b[39m# Handle a state request.\u001b[39;00m\n\u001b[0;32m    776\u001b[0m \u001b[39melif\u001b[39;00m method \u001b[39m==\u001b[39m \u001b[39m'\u001b[39m\u001b[39mrequest_state\u001b[39m\u001b[39m'\u001b[39m:\n",
      "File \u001b[1;32mc:\\anaconda\\envs\\gee\\lib\\site-packages\\ipywidgets\\widgets\\widget.py:650\u001b[0m, in \u001b[0;36mWidget.set_state\u001b[1;34m(self, sync_data)\u001b[0m\n\u001b[0;32m    645\u001b[0m         \u001b[39mself\u001b[39m\u001b[39m.\u001b[39m_send(msg, buffers\u001b[39m=\u001b[39mecho_buffers)\n\u001b[0;32m    647\u001b[0m \u001b[39m# The order of these context managers is important. Properties must\u001b[39;00m\n\u001b[0;32m    648\u001b[0m \u001b[39m# be locked when the hold_trait_notification context manager is\u001b[39;00m\n\u001b[0;32m    649\u001b[0m \u001b[39m# released and notifications are fired.\u001b[39;00m\n\u001b[1;32m--> 650\u001b[0m \u001b[39mwith\u001b[39;00m \u001b[39mself\u001b[39m\u001b[39m.\u001b[39m_lock_property(\u001b[39m*\u001b[39m\u001b[39m*\u001b[39msync_data), \u001b[39mself\u001b[39m\u001b[39m.\u001b[39mhold_trait_notifications():\n\u001b[0;32m    651\u001b[0m     \u001b[39mfor\u001b[39;00m name \u001b[39min\u001b[39;00m sync_data:\n\u001b[0;32m    652\u001b[0m         \u001b[39mif\u001b[39;00m name \u001b[39min\u001b[39;00m \u001b[39mself\u001b[39m\u001b[39m.\u001b[39mkeys:\n",
      "File \u001b[1;32mc:\\anaconda\\envs\\gee\\lib\\contextlib.py:142\u001b[0m, in \u001b[0;36m_GeneratorContextManager.__exit__\u001b[1;34m(self, typ, value, traceback)\u001b[0m\n\u001b[0;32m    140\u001b[0m \u001b[39mif\u001b[39;00m typ \u001b[39mis\u001b[39;00m \u001b[39mNone\u001b[39;00m:\n\u001b[0;32m    141\u001b[0m     \u001b[39mtry\u001b[39;00m:\n\u001b[1;32m--> 142\u001b[0m         \u001b[39mnext\u001b[39;49m(\u001b[39mself\u001b[39;49m\u001b[39m.\u001b[39;49mgen)\n\u001b[0;32m    143\u001b[0m     \u001b[39mexcept\u001b[39;00m \u001b[39mStopIteration\u001b[39;00m:\n\u001b[0;32m    144\u001b[0m         \u001b[39mreturn\u001b[39;00m \u001b[39mFalse\u001b[39;00m\n",
      "File \u001b[1;32mc:\\anaconda\\envs\\gee\\lib\\site-packages\\traitlets\\traitlets.py:1512\u001b[0m, in \u001b[0;36mHasTraits.hold_trait_notifications\u001b[1;34m(self)\u001b[0m\n\u001b[0;32m   1510\u001b[0m \u001b[39mfor\u001b[39;00m changes \u001b[39min\u001b[39;00m cache\u001b[39m.\u001b[39mvalues():\n\u001b[0;32m   1511\u001b[0m     \u001b[39mfor\u001b[39;00m change \u001b[39min\u001b[39;00m changes:\n\u001b[1;32m-> 1512\u001b[0m         \u001b[39mself\u001b[39;49m\u001b[39m.\u001b[39;49mnotify_change(change)\n",
      "File \u001b[1;32mc:\\anaconda\\envs\\gee\\lib\\site-packages\\ipywidgets\\widgets\\widget.py:701\u001b[0m, in \u001b[0;36mWidget.notify_change\u001b[1;34m(self, change)\u001b[0m\n\u001b[0;32m    698\u001b[0m     \u001b[39mif\u001b[39;00m name \u001b[39min\u001b[39;00m \u001b[39mself\u001b[39m\u001b[39m.\u001b[39mkeys \u001b[39mand\u001b[39;00m \u001b[39mself\u001b[39m\u001b[39m.\u001b[39m_should_send_property(name, \u001b[39mgetattr\u001b[39m(\u001b[39mself\u001b[39m, name)):\n\u001b[0;32m    699\u001b[0m         \u001b[39m# Send new state to front-end\u001b[39;00m\n\u001b[0;32m    700\u001b[0m         \u001b[39mself\u001b[39m\u001b[39m.\u001b[39msend_state(key\u001b[39m=\u001b[39mname)\n\u001b[1;32m--> 701\u001b[0m \u001b[39msuper\u001b[39;49m()\u001b[39m.\u001b[39;49mnotify_change(change)\n",
      "File \u001b[1;32mc:\\anaconda\\envs\\gee\\lib\\site-packages\\traitlets\\traitlets.py:1527\u001b[0m, in \u001b[0;36mHasTraits.notify_change\u001b[1;34m(self, change)\u001b[0m\n\u001b[0;32m   1525\u001b[0m \u001b[39mdef\u001b[39;00m \u001b[39mnotify_change\u001b[39m(\u001b[39mself\u001b[39m, change: Bunch) \u001b[39m-\u001b[39m\u001b[39m>\u001b[39m \u001b[39mNone\u001b[39;00m:\n\u001b[0;32m   1526\u001b[0m \u001b[39m    \u001b[39m\u001b[39m\"\"\"Notify observers of a change event\"\"\"\u001b[39;00m\n\u001b[1;32m-> 1527\u001b[0m     \u001b[39mreturn\u001b[39;00m \u001b[39mself\u001b[39;49m\u001b[39m.\u001b[39;49m_notify_observers(change)\n",
      "File \u001b[1;32mc:\\anaconda\\envs\\gee\\lib\\site-packages\\traitlets\\traitlets.py:1570\u001b[0m, in \u001b[0;36mHasTraits._notify_observers\u001b[1;34m(self, event)\u001b[0m\n\u001b[0;32m   1567\u001b[0m \u001b[39melif\u001b[39;00m \u001b[39misinstance\u001b[39m(c, EventHandler) \u001b[39mand\u001b[39;00m c\u001b[39m.\u001b[39mname \u001b[39mis\u001b[39;00m \u001b[39mnot\u001b[39;00m \u001b[39mNone\u001b[39;00m:\n\u001b[0;32m   1568\u001b[0m     c \u001b[39m=\u001b[39m \u001b[39mgetattr\u001b[39m(\u001b[39mself\u001b[39m, c\u001b[39m.\u001b[39mname)\n\u001b[1;32m-> 1570\u001b[0m c(event)\n",
      "File \u001b[1;32mc:\\anaconda\\envs\\gee\\lib\\site-packages\\plotly\\basewidget.py:635\u001b[0m, in \u001b[0;36mBaseFigureWidget._handler_js2py_relayout\u001b[1;34m(self, change)\u001b[0m\n\u001b[0;32m    631\u001b[0m     relayout_data\u001b[39m.\u001b[39mpop(\u001b[39m\"\u001b[39m\u001b[39mlastInputTime\u001b[39m\u001b[39m\"\u001b[39m)\n\u001b[0;32m    633\u001b[0m \u001b[39m# Perform relayout\u001b[39;00m\n\u001b[0;32m    634\u001b[0m \u001b[39m# ----------------\u001b[39;00m\n\u001b[1;32m--> 635\u001b[0m \u001b[39mself\u001b[39;49m\u001b[39m.\u001b[39;49mplotly_relayout(relayout_data\u001b[39m=\u001b[39;49mrelayout_data, source_view_id\u001b[39m=\u001b[39;49msource_view_id)\n\u001b[0;32m    637\u001b[0m \u001b[39mself\u001b[39m\u001b[39m.\u001b[39m_js2py_relayout \u001b[39m=\u001b[39m \u001b[39mNone\u001b[39;00m\n",
      "File \u001b[1;32mc:\\anaconda\\envs\\gee\\lib\\site-packages\\plotly\\basedatatypes.py:2610\u001b[0m, in \u001b[0;36mBaseFigure.plotly_relayout\u001b[1;34m(self, relayout_data, **kwargs)\u001b[0m\n\u001b[0;32m   2606\u001b[0m     msg_kwargs \u001b[39m=\u001b[39m {}\n\u001b[0;32m   2608\u001b[0m \u001b[39m# Perform relayout operation on layout dict\u001b[39;00m\n\u001b[0;32m   2609\u001b[0m \u001b[39m# -----------------------------------------\u001b[39;00m\n\u001b[1;32m-> 2610\u001b[0m relayout_changes \u001b[39m=\u001b[39m \u001b[39mself\u001b[39;49m\u001b[39m.\u001b[39;49m_perform_plotly_relayout(relayout_data)\n\u001b[0;32m   2611\u001b[0m \u001b[39mif\u001b[39;00m relayout_changes:\n\u001b[0;32m   2612\u001b[0m     \u001b[39m# The relayout operation resulted in a change to some layout\u001b[39;00m\n\u001b[0;32m   2613\u001b[0m     \u001b[39m# properties, so we dispatch change callbacks and send the\u001b[39;00m\n\u001b[0;32m   2614\u001b[0m     \u001b[39m# relayout message to the frontend (if any)\u001b[39;00m\n\u001b[0;32m   2615\u001b[0m     \u001b[39mself\u001b[39m\u001b[39m.\u001b[39m_send_relayout_msg(relayout_changes, \u001b[39m*\u001b[39m\u001b[39m*\u001b[39mmsg_kwargs)\n",
      "File \u001b[1;32mc:\\anaconda\\envs\\gee\\lib\\site-packages\\plotly\\basedatatypes.py:2646\u001b[0m, in \u001b[0;36mBaseFigure._perform_plotly_relayout\u001b[1;34m(self, relayout_data)\u001b[0m\n\u001b[0;32m   2642\u001b[0m         \u001b[39mfor\u001b[39;00m key_path_str, v \u001b[39min\u001b[39;00m relayout_data\u001b[39m.\u001b[39mitems():\n\u001b[0;32m   2644\u001b[0m             \u001b[39mif\u001b[39;00m \u001b[39mnot\u001b[39;00m BaseFigure\u001b[39m.\u001b[39m_is_key_path_compatible(key_path_str, \u001b[39mself\u001b[39m\u001b[39m.\u001b[39mlayout):\n\u001b[1;32m-> 2646\u001b[0m                 \u001b[39mraise\u001b[39;00m \u001b[39mValueError\u001b[39;00m(\n\u001b[0;32m   2647\u001b[0m \u001b[39m                    \u001b[39m\u001b[39m\"\"\"\u001b[39;00m\n\u001b[0;32m   2648\u001b[0m \u001b[39mInvalid property path '{key_path_str}' for layout\u001b[39;00m\n\u001b[0;32m   2649\u001b[0m \u001b[39m\"\"\"\u001b[39;00m\u001b[39m.\u001b[39mformat(\n\u001b[0;32m   2650\u001b[0m                         key_path_str\u001b[39m=\u001b[39mkey_path_str\n\u001b[0;32m   2651\u001b[0m                     )\n\u001b[0;32m   2652\u001b[0m                 )\n\u001b[0;32m   2654\u001b[0m             \u001b[39m# Apply set operation on the layout dict\u001b[39;00m\n\u001b[0;32m   2655\u001b[0m             val_changed \u001b[39m=\u001b[39m BaseFigure\u001b[39m.\u001b[39m_set_in(\u001b[39mself\u001b[39m\u001b[39m.\u001b[39m_layout, key_path_str, v)\n",
      "\u001b[1;31mValueError\u001b[0m: \nInvalid property path 'mapbox._derived' for layout\n"
     ]
    },
    {
     "ename": "ValueError",
     "evalue": "\nInvalid property path 'mapbox._derived' for layout\n",
     "output_type": "error",
     "traceback": [
      "\u001b[1;31m---------------------------------------------------------------------------\u001b[0m",
      "\u001b[1;31mValueError\u001b[0m                                Traceback (most recent call last)",
      "File \u001b[1;32mc:\\anaconda\\envs\\gee\\lib\\site-packages\\ipywidgets\\widgets\\widget.py:773\u001b[0m, in \u001b[0;36mWidget._handle_msg\u001b[1;34m(self, msg)\u001b[0m\n\u001b[0;32m    771\u001b[0m         \u001b[39mif\u001b[39;00m \u001b[39m'\u001b[39m\u001b[39mbuffer_paths\u001b[39m\u001b[39m'\u001b[39m \u001b[39min\u001b[39;00m data:\n\u001b[0;32m    772\u001b[0m             _put_buffers(state, data[\u001b[39m'\u001b[39m\u001b[39mbuffer_paths\u001b[39m\u001b[39m'\u001b[39m], msg[\u001b[39m'\u001b[39m\u001b[39mbuffers\u001b[39m\u001b[39m'\u001b[39m])\n\u001b[1;32m--> 773\u001b[0m         \u001b[39mself\u001b[39;49m\u001b[39m.\u001b[39;49mset_state(state)\n\u001b[0;32m    775\u001b[0m \u001b[39m# Handle a state request.\u001b[39;00m\n\u001b[0;32m    776\u001b[0m \u001b[39melif\u001b[39;00m method \u001b[39m==\u001b[39m \u001b[39m'\u001b[39m\u001b[39mrequest_state\u001b[39m\u001b[39m'\u001b[39m:\n",
      "File \u001b[1;32mc:\\anaconda\\envs\\gee\\lib\\site-packages\\ipywidgets\\widgets\\widget.py:650\u001b[0m, in \u001b[0;36mWidget.set_state\u001b[1;34m(self, sync_data)\u001b[0m\n\u001b[0;32m    645\u001b[0m         \u001b[39mself\u001b[39m\u001b[39m.\u001b[39m_send(msg, buffers\u001b[39m=\u001b[39mecho_buffers)\n\u001b[0;32m    647\u001b[0m \u001b[39m# The order of these context managers is important. Properties must\u001b[39;00m\n\u001b[0;32m    648\u001b[0m \u001b[39m# be locked when the hold_trait_notification context manager is\u001b[39;00m\n\u001b[0;32m    649\u001b[0m \u001b[39m# released and notifications are fired.\u001b[39;00m\n\u001b[1;32m--> 650\u001b[0m \u001b[39mwith\u001b[39;00m \u001b[39mself\u001b[39m\u001b[39m.\u001b[39m_lock_property(\u001b[39m*\u001b[39m\u001b[39m*\u001b[39msync_data), \u001b[39mself\u001b[39m\u001b[39m.\u001b[39mhold_trait_notifications():\n\u001b[0;32m    651\u001b[0m     \u001b[39mfor\u001b[39;00m name \u001b[39min\u001b[39;00m sync_data:\n\u001b[0;32m    652\u001b[0m         \u001b[39mif\u001b[39;00m name \u001b[39min\u001b[39;00m \u001b[39mself\u001b[39m\u001b[39m.\u001b[39mkeys:\n",
      "File \u001b[1;32mc:\\anaconda\\envs\\gee\\lib\\contextlib.py:142\u001b[0m, in \u001b[0;36m_GeneratorContextManager.__exit__\u001b[1;34m(self, typ, value, traceback)\u001b[0m\n\u001b[0;32m    140\u001b[0m \u001b[39mif\u001b[39;00m typ \u001b[39mis\u001b[39;00m \u001b[39mNone\u001b[39;00m:\n\u001b[0;32m    141\u001b[0m     \u001b[39mtry\u001b[39;00m:\n\u001b[1;32m--> 142\u001b[0m         \u001b[39mnext\u001b[39;49m(\u001b[39mself\u001b[39;49m\u001b[39m.\u001b[39;49mgen)\n\u001b[0;32m    143\u001b[0m     \u001b[39mexcept\u001b[39;00m \u001b[39mStopIteration\u001b[39;00m:\n\u001b[0;32m    144\u001b[0m         \u001b[39mreturn\u001b[39;00m \u001b[39mFalse\u001b[39;00m\n",
      "File \u001b[1;32mc:\\anaconda\\envs\\gee\\lib\\site-packages\\traitlets\\traitlets.py:1512\u001b[0m, in \u001b[0;36mHasTraits.hold_trait_notifications\u001b[1;34m(self)\u001b[0m\n\u001b[0;32m   1510\u001b[0m \u001b[39mfor\u001b[39;00m changes \u001b[39min\u001b[39;00m cache\u001b[39m.\u001b[39mvalues():\n\u001b[0;32m   1511\u001b[0m     \u001b[39mfor\u001b[39;00m change \u001b[39min\u001b[39;00m changes:\n\u001b[1;32m-> 1512\u001b[0m         \u001b[39mself\u001b[39;49m\u001b[39m.\u001b[39;49mnotify_change(change)\n",
      "File \u001b[1;32mc:\\anaconda\\envs\\gee\\lib\\site-packages\\ipywidgets\\widgets\\widget.py:701\u001b[0m, in \u001b[0;36mWidget.notify_change\u001b[1;34m(self, change)\u001b[0m\n\u001b[0;32m    698\u001b[0m     \u001b[39mif\u001b[39;00m name \u001b[39min\u001b[39;00m \u001b[39mself\u001b[39m\u001b[39m.\u001b[39mkeys \u001b[39mand\u001b[39;00m \u001b[39mself\u001b[39m\u001b[39m.\u001b[39m_should_send_property(name, \u001b[39mgetattr\u001b[39m(\u001b[39mself\u001b[39m, name)):\n\u001b[0;32m    699\u001b[0m         \u001b[39m# Send new state to front-end\u001b[39;00m\n\u001b[0;32m    700\u001b[0m         \u001b[39mself\u001b[39m\u001b[39m.\u001b[39msend_state(key\u001b[39m=\u001b[39mname)\n\u001b[1;32m--> 701\u001b[0m \u001b[39msuper\u001b[39;49m()\u001b[39m.\u001b[39;49mnotify_change(change)\n",
      "File \u001b[1;32mc:\\anaconda\\envs\\gee\\lib\\site-packages\\traitlets\\traitlets.py:1527\u001b[0m, in \u001b[0;36mHasTraits.notify_change\u001b[1;34m(self, change)\u001b[0m\n\u001b[0;32m   1525\u001b[0m \u001b[39mdef\u001b[39;00m \u001b[39mnotify_change\u001b[39m(\u001b[39mself\u001b[39m, change: Bunch) \u001b[39m-\u001b[39m\u001b[39m>\u001b[39m \u001b[39mNone\u001b[39;00m:\n\u001b[0;32m   1526\u001b[0m \u001b[39m    \u001b[39m\u001b[39m\"\"\"Notify observers of a change event\"\"\"\u001b[39;00m\n\u001b[1;32m-> 1527\u001b[0m     \u001b[39mreturn\u001b[39;00m \u001b[39mself\u001b[39;49m\u001b[39m.\u001b[39;49m_notify_observers(change)\n",
      "File \u001b[1;32mc:\\anaconda\\envs\\gee\\lib\\site-packages\\traitlets\\traitlets.py:1570\u001b[0m, in \u001b[0;36mHasTraits._notify_observers\u001b[1;34m(self, event)\u001b[0m\n\u001b[0;32m   1567\u001b[0m \u001b[39melif\u001b[39;00m \u001b[39misinstance\u001b[39m(c, EventHandler) \u001b[39mand\u001b[39;00m c\u001b[39m.\u001b[39mname \u001b[39mis\u001b[39;00m \u001b[39mnot\u001b[39;00m \u001b[39mNone\u001b[39;00m:\n\u001b[0;32m   1568\u001b[0m     c \u001b[39m=\u001b[39m \u001b[39mgetattr\u001b[39m(\u001b[39mself\u001b[39m, c\u001b[39m.\u001b[39mname)\n\u001b[1;32m-> 1570\u001b[0m c(event)\n",
      "File \u001b[1;32mc:\\anaconda\\envs\\gee\\lib\\site-packages\\plotly\\basewidget.py:635\u001b[0m, in \u001b[0;36mBaseFigureWidget._handler_js2py_relayout\u001b[1;34m(self, change)\u001b[0m\n\u001b[0;32m    631\u001b[0m     relayout_data\u001b[39m.\u001b[39mpop(\u001b[39m\"\u001b[39m\u001b[39mlastInputTime\u001b[39m\u001b[39m\"\u001b[39m)\n\u001b[0;32m    633\u001b[0m \u001b[39m# Perform relayout\u001b[39;00m\n\u001b[0;32m    634\u001b[0m \u001b[39m# ----------------\u001b[39;00m\n\u001b[1;32m--> 635\u001b[0m \u001b[39mself\u001b[39;49m\u001b[39m.\u001b[39;49mplotly_relayout(relayout_data\u001b[39m=\u001b[39;49mrelayout_data, source_view_id\u001b[39m=\u001b[39;49msource_view_id)\n\u001b[0;32m    637\u001b[0m \u001b[39mself\u001b[39m\u001b[39m.\u001b[39m_js2py_relayout \u001b[39m=\u001b[39m \u001b[39mNone\u001b[39;00m\n",
      "File \u001b[1;32mc:\\anaconda\\envs\\gee\\lib\\site-packages\\plotly\\basedatatypes.py:2610\u001b[0m, in \u001b[0;36mBaseFigure.plotly_relayout\u001b[1;34m(self, relayout_data, **kwargs)\u001b[0m\n\u001b[0;32m   2606\u001b[0m     msg_kwargs \u001b[39m=\u001b[39m {}\n\u001b[0;32m   2608\u001b[0m \u001b[39m# Perform relayout operation on layout dict\u001b[39;00m\n\u001b[0;32m   2609\u001b[0m \u001b[39m# -----------------------------------------\u001b[39;00m\n\u001b[1;32m-> 2610\u001b[0m relayout_changes \u001b[39m=\u001b[39m \u001b[39mself\u001b[39;49m\u001b[39m.\u001b[39;49m_perform_plotly_relayout(relayout_data)\n\u001b[0;32m   2611\u001b[0m \u001b[39mif\u001b[39;00m relayout_changes:\n\u001b[0;32m   2612\u001b[0m     \u001b[39m# The relayout operation resulted in a change to some layout\u001b[39;00m\n\u001b[0;32m   2613\u001b[0m     \u001b[39m# properties, so we dispatch change callbacks and send the\u001b[39;00m\n\u001b[0;32m   2614\u001b[0m     \u001b[39m# relayout message to the frontend (if any)\u001b[39;00m\n\u001b[0;32m   2615\u001b[0m     \u001b[39mself\u001b[39m\u001b[39m.\u001b[39m_send_relayout_msg(relayout_changes, \u001b[39m*\u001b[39m\u001b[39m*\u001b[39mmsg_kwargs)\n",
      "File \u001b[1;32mc:\\anaconda\\envs\\gee\\lib\\site-packages\\plotly\\basedatatypes.py:2646\u001b[0m, in \u001b[0;36mBaseFigure._perform_plotly_relayout\u001b[1;34m(self, relayout_data)\u001b[0m\n\u001b[0;32m   2642\u001b[0m         \u001b[39mfor\u001b[39;00m key_path_str, v \u001b[39min\u001b[39;00m relayout_data\u001b[39m.\u001b[39mitems():\n\u001b[0;32m   2644\u001b[0m             \u001b[39mif\u001b[39;00m \u001b[39mnot\u001b[39;00m BaseFigure\u001b[39m.\u001b[39m_is_key_path_compatible(key_path_str, \u001b[39mself\u001b[39m\u001b[39m.\u001b[39mlayout):\n\u001b[1;32m-> 2646\u001b[0m                 \u001b[39mraise\u001b[39;00m \u001b[39mValueError\u001b[39;00m(\n\u001b[0;32m   2647\u001b[0m \u001b[39m                    \u001b[39m\u001b[39m\"\"\"\u001b[39;00m\n\u001b[0;32m   2648\u001b[0m \u001b[39mInvalid property path '{key_path_str}' for layout\u001b[39;00m\n\u001b[0;32m   2649\u001b[0m \u001b[39m\"\"\"\u001b[39;00m\u001b[39m.\u001b[39mformat(\n\u001b[0;32m   2650\u001b[0m                         key_path_str\u001b[39m=\u001b[39mkey_path_str\n\u001b[0;32m   2651\u001b[0m                     )\n\u001b[0;32m   2652\u001b[0m                 )\n\u001b[0;32m   2654\u001b[0m             \u001b[39m# Apply set operation on the layout dict\u001b[39;00m\n\u001b[0;32m   2655\u001b[0m             val_changed \u001b[39m=\u001b[39m BaseFigure\u001b[39m.\u001b[39m_set_in(\u001b[39mself\u001b[39m\u001b[39m.\u001b[39m_layout, key_path_str, v)\n",
      "\u001b[1;31mValueError\u001b[0m: \nInvalid property path 'mapbox._derived' for layout\n"
     ]
    },
    {
     "ename": "ValueError",
     "evalue": "\nInvalid property path 'mapbox._derived' for layout\n",
     "output_type": "error",
     "traceback": [
      "\u001b[1;31m---------------------------------------------------------------------------\u001b[0m",
      "\u001b[1;31mValueError\u001b[0m                                Traceback (most recent call last)",
      "File \u001b[1;32mc:\\anaconda\\envs\\gee\\lib\\site-packages\\ipywidgets\\widgets\\widget.py:773\u001b[0m, in \u001b[0;36mWidget._handle_msg\u001b[1;34m(self, msg)\u001b[0m\n\u001b[0;32m    771\u001b[0m         \u001b[39mif\u001b[39;00m \u001b[39m'\u001b[39m\u001b[39mbuffer_paths\u001b[39m\u001b[39m'\u001b[39m \u001b[39min\u001b[39;00m data:\n\u001b[0;32m    772\u001b[0m             _put_buffers(state, data[\u001b[39m'\u001b[39m\u001b[39mbuffer_paths\u001b[39m\u001b[39m'\u001b[39m], msg[\u001b[39m'\u001b[39m\u001b[39mbuffers\u001b[39m\u001b[39m'\u001b[39m])\n\u001b[1;32m--> 773\u001b[0m         \u001b[39mself\u001b[39;49m\u001b[39m.\u001b[39;49mset_state(state)\n\u001b[0;32m    775\u001b[0m \u001b[39m# Handle a state request.\u001b[39;00m\n\u001b[0;32m    776\u001b[0m \u001b[39melif\u001b[39;00m method \u001b[39m==\u001b[39m \u001b[39m'\u001b[39m\u001b[39mrequest_state\u001b[39m\u001b[39m'\u001b[39m:\n",
      "File \u001b[1;32mc:\\anaconda\\envs\\gee\\lib\\site-packages\\ipywidgets\\widgets\\widget.py:650\u001b[0m, in \u001b[0;36mWidget.set_state\u001b[1;34m(self, sync_data)\u001b[0m\n\u001b[0;32m    645\u001b[0m         \u001b[39mself\u001b[39m\u001b[39m.\u001b[39m_send(msg, buffers\u001b[39m=\u001b[39mecho_buffers)\n\u001b[0;32m    647\u001b[0m \u001b[39m# The order of these context managers is important. Properties must\u001b[39;00m\n\u001b[0;32m    648\u001b[0m \u001b[39m# be locked when the hold_trait_notification context manager is\u001b[39;00m\n\u001b[0;32m    649\u001b[0m \u001b[39m# released and notifications are fired.\u001b[39;00m\n\u001b[1;32m--> 650\u001b[0m \u001b[39mwith\u001b[39;00m \u001b[39mself\u001b[39m\u001b[39m.\u001b[39m_lock_property(\u001b[39m*\u001b[39m\u001b[39m*\u001b[39msync_data), \u001b[39mself\u001b[39m\u001b[39m.\u001b[39mhold_trait_notifications():\n\u001b[0;32m    651\u001b[0m     \u001b[39mfor\u001b[39;00m name \u001b[39min\u001b[39;00m sync_data:\n\u001b[0;32m    652\u001b[0m         \u001b[39mif\u001b[39;00m name \u001b[39min\u001b[39;00m \u001b[39mself\u001b[39m\u001b[39m.\u001b[39mkeys:\n",
      "File \u001b[1;32mc:\\anaconda\\envs\\gee\\lib\\contextlib.py:142\u001b[0m, in \u001b[0;36m_GeneratorContextManager.__exit__\u001b[1;34m(self, typ, value, traceback)\u001b[0m\n\u001b[0;32m    140\u001b[0m \u001b[39mif\u001b[39;00m typ \u001b[39mis\u001b[39;00m \u001b[39mNone\u001b[39;00m:\n\u001b[0;32m    141\u001b[0m     \u001b[39mtry\u001b[39;00m:\n\u001b[1;32m--> 142\u001b[0m         \u001b[39mnext\u001b[39;49m(\u001b[39mself\u001b[39;49m\u001b[39m.\u001b[39;49mgen)\n\u001b[0;32m    143\u001b[0m     \u001b[39mexcept\u001b[39;00m \u001b[39mStopIteration\u001b[39;00m:\n\u001b[0;32m    144\u001b[0m         \u001b[39mreturn\u001b[39;00m \u001b[39mFalse\u001b[39;00m\n",
      "File \u001b[1;32mc:\\anaconda\\envs\\gee\\lib\\site-packages\\traitlets\\traitlets.py:1512\u001b[0m, in \u001b[0;36mHasTraits.hold_trait_notifications\u001b[1;34m(self)\u001b[0m\n\u001b[0;32m   1510\u001b[0m \u001b[39mfor\u001b[39;00m changes \u001b[39min\u001b[39;00m cache\u001b[39m.\u001b[39mvalues():\n\u001b[0;32m   1511\u001b[0m     \u001b[39mfor\u001b[39;00m change \u001b[39min\u001b[39;00m changes:\n\u001b[1;32m-> 1512\u001b[0m         \u001b[39mself\u001b[39;49m\u001b[39m.\u001b[39;49mnotify_change(change)\n",
      "File \u001b[1;32mc:\\anaconda\\envs\\gee\\lib\\site-packages\\ipywidgets\\widgets\\widget.py:701\u001b[0m, in \u001b[0;36mWidget.notify_change\u001b[1;34m(self, change)\u001b[0m\n\u001b[0;32m    698\u001b[0m     \u001b[39mif\u001b[39;00m name \u001b[39min\u001b[39;00m \u001b[39mself\u001b[39m\u001b[39m.\u001b[39mkeys \u001b[39mand\u001b[39;00m \u001b[39mself\u001b[39m\u001b[39m.\u001b[39m_should_send_property(name, \u001b[39mgetattr\u001b[39m(\u001b[39mself\u001b[39m, name)):\n\u001b[0;32m    699\u001b[0m         \u001b[39m# Send new state to front-end\u001b[39;00m\n\u001b[0;32m    700\u001b[0m         \u001b[39mself\u001b[39m\u001b[39m.\u001b[39msend_state(key\u001b[39m=\u001b[39mname)\n\u001b[1;32m--> 701\u001b[0m \u001b[39msuper\u001b[39;49m()\u001b[39m.\u001b[39;49mnotify_change(change)\n",
      "File \u001b[1;32mc:\\anaconda\\envs\\gee\\lib\\site-packages\\traitlets\\traitlets.py:1527\u001b[0m, in \u001b[0;36mHasTraits.notify_change\u001b[1;34m(self, change)\u001b[0m\n\u001b[0;32m   1525\u001b[0m \u001b[39mdef\u001b[39;00m \u001b[39mnotify_change\u001b[39m(\u001b[39mself\u001b[39m, change: Bunch) \u001b[39m-\u001b[39m\u001b[39m>\u001b[39m \u001b[39mNone\u001b[39;00m:\n\u001b[0;32m   1526\u001b[0m \u001b[39m    \u001b[39m\u001b[39m\"\"\"Notify observers of a change event\"\"\"\u001b[39;00m\n\u001b[1;32m-> 1527\u001b[0m     \u001b[39mreturn\u001b[39;00m \u001b[39mself\u001b[39;49m\u001b[39m.\u001b[39;49m_notify_observers(change)\n",
      "File \u001b[1;32mc:\\anaconda\\envs\\gee\\lib\\site-packages\\traitlets\\traitlets.py:1570\u001b[0m, in \u001b[0;36mHasTraits._notify_observers\u001b[1;34m(self, event)\u001b[0m\n\u001b[0;32m   1567\u001b[0m \u001b[39melif\u001b[39;00m \u001b[39misinstance\u001b[39m(c, EventHandler) \u001b[39mand\u001b[39;00m c\u001b[39m.\u001b[39mname \u001b[39mis\u001b[39;00m \u001b[39mnot\u001b[39;00m \u001b[39mNone\u001b[39;00m:\n\u001b[0;32m   1568\u001b[0m     c \u001b[39m=\u001b[39m \u001b[39mgetattr\u001b[39m(\u001b[39mself\u001b[39m, c\u001b[39m.\u001b[39mname)\n\u001b[1;32m-> 1570\u001b[0m c(event)\n",
      "File \u001b[1;32mc:\\anaconda\\envs\\gee\\lib\\site-packages\\plotly\\basewidget.py:635\u001b[0m, in \u001b[0;36mBaseFigureWidget._handler_js2py_relayout\u001b[1;34m(self, change)\u001b[0m\n\u001b[0;32m    631\u001b[0m     relayout_data\u001b[39m.\u001b[39mpop(\u001b[39m\"\u001b[39m\u001b[39mlastInputTime\u001b[39m\u001b[39m\"\u001b[39m)\n\u001b[0;32m    633\u001b[0m \u001b[39m# Perform relayout\u001b[39;00m\n\u001b[0;32m    634\u001b[0m \u001b[39m# ----------------\u001b[39;00m\n\u001b[1;32m--> 635\u001b[0m \u001b[39mself\u001b[39;49m\u001b[39m.\u001b[39;49mplotly_relayout(relayout_data\u001b[39m=\u001b[39;49mrelayout_data, source_view_id\u001b[39m=\u001b[39;49msource_view_id)\n\u001b[0;32m    637\u001b[0m \u001b[39mself\u001b[39m\u001b[39m.\u001b[39m_js2py_relayout \u001b[39m=\u001b[39m \u001b[39mNone\u001b[39;00m\n",
      "File \u001b[1;32mc:\\anaconda\\envs\\gee\\lib\\site-packages\\plotly\\basedatatypes.py:2610\u001b[0m, in \u001b[0;36mBaseFigure.plotly_relayout\u001b[1;34m(self, relayout_data, **kwargs)\u001b[0m\n\u001b[0;32m   2606\u001b[0m     msg_kwargs \u001b[39m=\u001b[39m {}\n\u001b[0;32m   2608\u001b[0m \u001b[39m# Perform relayout operation on layout dict\u001b[39;00m\n\u001b[0;32m   2609\u001b[0m \u001b[39m# -----------------------------------------\u001b[39;00m\n\u001b[1;32m-> 2610\u001b[0m relayout_changes \u001b[39m=\u001b[39m \u001b[39mself\u001b[39;49m\u001b[39m.\u001b[39;49m_perform_plotly_relayout(relayout_data)\n\u001b[0;32m   2611\u001b[0m \u001b[39mif\u001b[39;00m relayout_changes:\n\u001b[0;32m   2612\u001b[0m     \u001b[39m# The relayout operation resulted in a change to some layout\u001b[39;00m\n\u001b[0;32m   2613\u001b[0m     \u001b[39m# properties, so we dispatch change callbacks and send the\u001b[39;00m\n\u001b[0;32m   2614\u001b[0m     \u001b[39m# relayout message to the frontend (if any)\u001b[39;00m\n\u001b[0;32m   2615\u001b[0m     \u001b[39mself\u001b[39m\u001b[39m.\u001b[39m_send_relayout_msg(relayout_changes, \u001b[39m*\u001b[39m\u001b[39m*\u001b[39mmsg_kwargs)\n",
      "File \u001b[1;32mc:\\anaconda\\envs\\gee\\lib\\site-packages\\plotly\\basedatatypes.py:2646\u001b[0m, in \u001b[0;36mBaseFigure._perform_plotly_relayout\u001b[1;34m(self, relayout_data)\u001b[0m\n\u001b[0;32m   2642\u001b[0m         \u001b[39mfor\u001b[39;00m key_path_str, v \u001b[39min\u001b[39;00m relayout_data\u001b[39m.\u001b[39mitems():\n\u001b[0;32m   2644\u001b[0m             \u001b[39mif\u001b[39;00m \u001b[39mnot\u001b[39;00m BaseFigure\u001b[39m.\u001b[39m_is_key_path_compatible(key_path_str, \u001b[39mself\u001b[39m\u001b[39m.\u001b[39mlayout):\n\u001b[1;32m-> 2646\u001b[0m                 \u001b[39mraise\u001b[39;00m \u001b[39mValueError\u001b[39;00m(\n\u001b[0;32m   2647\u001b[0m \u001b[39m                    \u001b[39m\u001b[39m\"\"\"\u001b[39;00m\n\u001b[0;32m   2648\u001b[0m \u001b[39mInvalid property path '{key_path_str}' for layout\u001b[39;00m\n\u001b[0;32m   2649\u001b[0m \u001b[39m\"\"\"\u001b[39;00m\u001b[39m.\u001b[39mformat(\n\u001b[0;32m   2650\u001b[0m                         key_path_str\u001b[39m=\u001b[39mkey_path_str\n\u001b[0;32m   2651\u001b[0m                     )\n\u001b[0;32m   2652\u001b[0m                 )\n\u001b[0;32m   2654\u001b[0m             \u001b[39m# Apply set operation on the layout dict\u001b[39;00m\n\u001b[0;32m   2655\u001b[0m             val_changed \u001b[39m=\u001b[39m BaseFigure\u001b[39m.\u001b[39m_set_in(\u001b[39mself\u001b[39m\u001b[39m.\u001b[39m_layout, key_path_str, v)\n",
      "\u001b[1;31mValueError\u001b[0m: \nInvalid property path 'mapbox._derived' for layout\n"
     ]
    },
    {
     "ename": "ValueError",
     "evalue": "\nInvalid property path 'mapbox._derived' for layout\n",
     "output_type": "error",
     "traceback": [
      "\u001b[1;31m---------------------------------------------------------------------------\u001b[0m",
      "\u001b[1;31mValueError\u001b[0m                                Traceback (most recent call last)",
      "File \u001b[1;32mc:\\anaconda\\envs\\gee\\lib\\site-packages\\ipywidgets\\widgets\\widget.py:773\u001b[0m, in \u001b[0;36mWidget._handle_msg\u001b[1;34m(self, msg)\u001b[0m\n\u001b[0;32m    771\u001b[0m         \u001b[39mif\u001b[39;00m \u001b[39m'\u001b[39m\u001b[39mbuffer_paths\u001b[39m\u001b[39m'\u001b[39m \u001b[39min\u001b[39;00m data:\n\u001b[0;32m    772\u001b[0m             _put_buffers(state, data[\u001b[39m'\u001b[39m\u001b[39mbuffer_paths\u001b[39m\u001b[39m'\u001b[39m], msg[\u001b[39m'\u001b[39m\u001b[39mbuffers\u001b[39m\u001b[39m'\u001b[39m])\n\u001b[1;32m--> 773\u001b[0m         \u001b[39mself\u001b[39;49m\u001b[39m.\u001b[39;49mset_state(state)\n\u001b[0;32m    775\u001b[0m \u001b[39m# Handle a state request.\u001b[39;00m\n\u001b[0;32m    776\u001b[0m \u001b[39melif\u001b[39;00m method \u001b[39m==\u001b[39m \u001b[39m'\u001b[39m\u001b[39mrequest_state\u001b[39m\u001b[39m'\u001b[39m:\n",
      "File \u001b[1;32mc:\\anaconda\\envs\\gee\\lib\\site-packages\\ipywidgets\\widgets\\widget.py:650\u001b[0m, in \u001b[0;36mWidget.set_state\u001b[1;34m(self, sync_data)\u001b[0m\n\u001b[0;32m    645\u001b[0m         \u001b[39mself\u001b[39m\u001b[39m.\u001b[39m_send(msg, buffers\u001b[39m=\u001b[39mecho_buffers)\n\u001b[0;32m    647\u001b[0m \u001b[39m# The order of these context managers is important. Properties must\u001b[39;00m\n\u001b[0;32m    648\u001b[0m \u001b[39m# be locked when the hold_trait_notification context manager is\u001b[39;00m\n\u001b[0;32m    649\u001b[0m \u001b[39m# released and notifications are fired.\u001b[39;00m\n\u001b[1;32m--> 650\u001b[0m \u001b[39mwith\u001b[39;00m \u001b[39mself\u001b[39m\u001b[39m.\u001b[39m_lock_property(\u001b[39m*\u001b[39m\u001b[39m*\u001b[39msync_data), \u001b[39mself\u001b[39m\u001b[39m.\u001b[39mhold_trait_notifications():\n\u001b[0;32m    651\u001b[0m     \u001b[39mfor\u001b[39;00m name \u001b[39min\u001b[39;00m sync_data:\n\u001b[0;32m    652\u001b[0m         \u001b[39mif\u001b[39;00m name \u001b[39min\u001b[39;00m \u001b[39mself\u001b[39m\u001b[39m.\u001b[39mkeys:\n",
      "File \u001b[1;32mc:\\anaconda\\envs\\gee\\lib\\contextlib.py:142\u001b[0m, in \u001b[0;36m_GeneratorContextManager.__exit__\u001b[1;34m(self, typ, value, traceback)\u001b[0m\n\u001b[0;32m    140\u001b[0m \u001b[39mif\u001b[39;00m typ \u001b[39mis\u001b[39;00m \u001b[39mNone\u001b[39;00m:\n\u001b[0;32m    141\u001b[0m     \u001b[39mtry\u001b[39;00m:\n\u001b[1;32m--> 142\u001b[0m         \u001b[39mnext\u001b[39;49m(\u001b[39mself\u001b[39;49m\u001b[39m.\u001b[39;49mgen)\n\u001b[0;32m    143\u001b[0m     \u001b[39mexcept\u001b[39;00m \u001b[39mStopIteration\u001b[39;00m:\n\u001b[0;32m    144\u001b[0m         \u001b[39mreturn\u001b[39;00m \u001b[39mFalse\u001b[39;00m\n",
      "File \u001b[1;32mc:\\anaconda\\envs\\gee\\lib\\site-packages\\traitlets\\traitlets.py:1512\u001b[0m, in \u001b[0;36mHasTraits.hold_trait_notifications\u001b[1;34m(self)\u001b[0m\n\u001b[0;32m   1510\u001b[0m \u001b[39mfor\u001b[39;00m changes \u001b[39min\u001b[39;00m cache\u001b[39m.\u001b[39mvalues():\n\u001b[0;32m   1511\u001b[0m     \u001b[39mfor\u001b[39;00m change \u001b[39min\u001b[39;00m changes:\n\u001b[1;32m-> 1512\u001b[0m         \u001b[39mself\u001b[39;49m\u001b[39m.\u001b[39;49mnotify_change(change)\n",
      "File \u001b[1;32mc:\\anaconda\\envs\\gee\\lib\\site-packages\\ipywidgets\\widgets\\widget.py:701\u001b[0m, in \u001b[0;36mWidget.notify_change\u001b[1;34m(self, change)\u001b[0m\n\u001b[0;32m    698\u001b[0m     \u001b[39mif\u001b[39;00m name \u001b[39min\u001b[39;00m \u001b[39mself\u001b[39m\u001b[39m.\u001b[39mkeys \u001b[39mand\u001b[39;00m \u001b[39mself\u001b[39m\u001b[39m.\u001b[39m_should_send_property(name, \u001b[39mgetattr\u001b[39m(\u001b[39mself\u001b[39m, name)):\n\u001b[0;32m    699\u001b[0m         \u001b[39m# Send new state to front-end\u001b[39;00m\n\u001b[0;32m    700\u001b[0m         \u001b[39mself\u001b[39m\u001b[39m.\u001b[39msend_state(key\u001b[39m=\u001b[39mname)\n\u001b[1;32m--> 701\u001b[0m \u001b[39msuper\u001b[39;49m()\u001b[39m.\u001b[39;49mnotify_change(change)\n",
      "File \u001b[1;32mc:\\anaconda\\envs\\gee\\lib\\site-packages\\traitlets\\traitlets.py:1527\u001b[0m, in \u001b[0;36mHasTraits.notify_change\u001b[1;34m(self, change)\u001b[0m\n\u001b[0;32m   1525\u001b[0m \u001b[39mdef\u001b[39;00m \u001b[39mnotify_change\u001b[39m(\u001b[39mself\u001b[39m, change: Bunch) \u001b[39m-\u001b[39m\u001b[39m>\u001b[39m \u001b[39mNone\u001b[39;00m:\n\u001b[0;32m   1526\u001b[0m \u001b[39m    \u001b[39m\u001b[39m\"\"\"Notify observers of a change event\"\"\"\u001b[39;00m\n\u001b[1;32m-> 1527\u001b[0m     \u001b[39mreturn\u001b[39;00m \u001b[39mself\u001b[39;49m\u001b[39m.\u001b[39;49m_notify_observers(change)\n",
      "File \u001b[1;32mc:\\anaconda\\envs\\gee\\lib\\site-packages\\traitlets\\traitlets.py:1570\u001b[0m, in \u001b[0;36mHasTraits._notify_observers\u001b[1;34m(self, event)\u001b[0m\n\u001b[0;32m   1567\u001b[0m \u001b[39melif\u001b[39;00m \u001b[39misinstance\u001b[39m(c, EventHandler) \u001b[39mand\u001b[39;00m c\u001b[39m.\u001b[39mname \u001b[39mis\u001b[39;00m \u001b[39mnot\u001b[39;00m \u001b[39mNone\u001b[39;00m:\n\u001b[0;32m   1568\u001b[0m     c \u001b[39m=\u001b[39m \u001b[39mgetattr\u001b[39m(\u001b[39mself\u001b[39m, c\u001b[39m.\u001b[39mname)\n\u001b[1;32m-> 1570\u001b[0m c(event)\n",
      "File \u001b[1;32mc:\\anaconda\\envs\\gee\\lib\\site-packages\\plotly\\basewidget.py:635\u001b[0m, in \u001b[0;36mBaseFigureWidget._handler_js2py_relayout\u001b[1;34m(self, change)\u001b[0m\n\u001b[0;32m    631\u001b[0m     relayout_data\u001b[39m.\u001b[39mpop(\u001b[39m\"\u001b[39m\u001b[39mlastInputTime\u001b[39m\u001b[39m\"\u001b[39m)\n\u001b[0;32m    633\u001b[0m \u001b[39m# Perform relayout\u001b[39;00m\n\u001b[0;32m    634\u001b[0m \u001b[39m# ----------------\u001b[39;00m\n\u001b[1;32m--> 635\u001b[0m \u001b[39mself\u001b[39;49m\u001b[39m.\u001b[39;49mplotly_relayout(relayout_data\u001b[39m=\u001b[39;49mrelayout_data, source_view_id\u001b[39m=\u001b[39;49msource_view_id)\n\u001b[0;32m    637\u001b[0m \u001b[39mself\u001b[39m\u001b[39m.\u001b[39m_js2py_relayout \u001b[39m=\u001b[39m \u001b[39mNone\u001b[39;00m\n",
      "File \u001b[1;32mc:\\anaconda\\envs\\gee\\lib\\site-packages\\plotly\\basedatatypes.py:2610\u001b[0m, in \u001b[0;36mBaseFigure.plotly_relayout\u001b[1;34m(self, relayout_data, **kwargs)\u001b[0m\n\u001b[0;32m   2606\u001b[0m     msg_kwargs \u001b[39m=\u001b[39m {}\n\u001b[0;32m   2608\u001b[0m \u001b[39m# Perform relayout operation on layout dict\u001b[39;00m\n\u001b[0;32m   2609\u001b[0m \u001b[39m# -----------------------------------------\u001b[39;00m\n\u001b[1;32m-> 2610\u001b[0m relayout_changes \u001b[39m=\u001b[39m \u001b[39mself\u001b[39;49m\u001b[39m.\u001b[39;49m_perform_plotly_relayout(relayout_data)\n\u001b[0;32m   2611\u001b[0m \u001b[39mif\u001b[39;00m relayout_changes:\n\u001b[0;32m   2612\u001b[0m     \u001b[39m# The relayout operation resulted in a change to some layout\u001b[39;00m\n\u001b[0;32m   2613\u001b[0m     \u001b[39m# properties, so we dispatch change callbacks and send the\u001b[39;00m\n\u001b[0;32m   2614\u001b[0m     \u001b[39m# relayout message to the frontend (if any)\u001b[39;00m\n\u001b[0;32m   2615\u001b[0m     \u001b[39mself\u001b[39m\u001b[39m.\u001b[39m_send_relayout_msg(relayout_changes, \u001b[39m*\u001b[39m\u001b[39m*\u001b[39mmsg_kwargs)\n",
      "File \u001b[1;32mc:\\anaconda\\envs\\gee\\lib\\site-packages\\plotly\\basedatatypes.py:2646\u001b[0m, in \u001b[0;36mBaseFigure._perform_plotly_relayout\u001b[1;34m(self, relayout_data)\u001b[0m\n\u001b[0;32m   2642\u001b[0m         \u001b[39mfor\u001b[39;00m key_path_str, v \u001b[39min\u001b[39;00m relayout_data\u001b[39m.\u001b[39mitems():\n\u001b[0;32m   2644\u001b[0m             \u001b[39mif\u001b[39;00m \u001b[39mnot\u001b[39;00m BaseFigure\u001b[39m.\u001b[39m_is_key_path_compatible(key_path_str, \u001b[39mself\u001b[39m\u001b[39m.\u001b[39mlayout):\n\u001b[1;32m-> 2646\u001b[0m                 \u001b[39mraise\u001b[39;00m \u001b[39mValueError\u001b[39;00m(\n\u001b[0;32m   2647\u001b[0m \u001b[39m                    \u001b[39m\u001b[39m\"\"\"\u001b[39;00m\n\u001b[0;32m   2648\u001b[0m \u001b[39mInvalid property path '{key_path_str}' for layout\u001b[39;00m\n\u001b[0;32m   2649\u001b[0m \u001b[39m\"\"\"\u001b[39;00m\u001b[39m.\u001b[39mformat(\n\u001b[0;32m   2650\u001b[0m                         key_path_str\u001b[39m=\u001b[39mkey_path_str\n\u001b[0;32m   2651\u001b[0m                     )\n\u001b[0;32m   2652\u001b[0m                 )\n\u001b[0;32m   2654\u001b[0m             \u001b[39m# Apply set operation on the layout dict\u001b[39;00m\n\u001b[0;32m   2655\u001b[0m             val_changed \u001b[39m=\u001b[39m BaseFigure\u001b[39m.\u001b[39m_set_in(\u001b[39mself\u001b[39m\u001b[39m.\u001b[39m_layout, key_path_str, v)\n",
      "\u001b[1;31mValueError\u001b[0m: \nInvalid property path 'mapbox._derived' for layout\n"
     ]
    },
    {
     "ename": "ValueError",
     "evalue": "\nInvalid property path 'mapbox._derived' for layout\n",
     "output_type": "error",
     "traceback": [
      "\u001b[1;31m---------------------------------------------------------------------------\u001b[0m",
      "\u001b[1;31mValueError\u001b[0m                                Traceback (most recent call last)",
      "File \u001b[1;32mc:\\anaconda\\envs\\gee\\lib\\site-packages\\ipywidgets\\widgets\\widget.py:773\u001b[0m, in \u001b[0;36mWidget._handle_msg\u001b[1;34m(self, msg)\u001b[0m\n\u001b[0;32m    771\u001b[0m         \u001b[39mif\u001b[39;00m \u001b[39m'\u001b[39m\u001b[39mbuffer_paths\u001b[39m\u001b[39m'\u001b[39m \u001b[39min\u001b[39;00m data:\n\u001b[0;32m    772\u001b[0m             _put_buffers(state, data[\u001b[39m'\u001b[39m\u001b[39mbuffer_paths\u001b[39m\u001b[39m'\u001b[39m], msg[\u001b[39m'\u001b[39m\u001b[39mbuffers\u001b[39m\u001b[39m'\u001b[39m])\n\u001b[1;32m--> 773\u001b[0m         \u001b[39mself\u001b[39;49m\u001b[39m.\u001b[39;49mset_state(state)\n\u001b[0;32m    775\u001b[0m \u001b[39m# Handle a state request.\u001b[39;00m\n\u001b[0;32m    776\u001b[0m \u001b[39melif\u001b[39;00m method \u001b[39m==\u001b[39m \u001b[39m'\u001b[39m\u001b[39mrequest_state\u001b[39m\u001b[39m'\u001b[39m:\n",
      "File \u001b[1;32mc:\\anaconda\\envs\\gee\\lib\\site-packages\\ipywidgets\\widgets\\widget.py:650\u001b[0m, in \u001b[0;36mWidget.set_state\u001b[1;34m(self, sync_data)\u001b[0m\n\u001b[0;32m    645\u001b[0m         \u001b[39mself\u001b[39m\u001b[39m.\u001b[39m_send(msg, buffers\u001b[39m=\u001b[39mecho_buffers)\n\u001b[0;32m    647\u001b[0m \u001b[39m# The order of these context managers is important. Properties must\u001b[39;00m\n\u001b[0;32m    648\u001b[0m \u001b[39m# be locked when the hold_trait_notification context manager is\u001b[39;00m\n\u001b[0;32m    649\u001b[0m \u001b[39m# released and notifications are fired.\u001b[39;00m\n\u001b[1;32m--> 650\u001b[0m \u001b[39mwith\u001b[39;00m \u001b[39mself\u001b[39m\u001b[39m.\u001b[39m_lock_property(\u001b[39m*\u001b[39m\u001b[39m*\u001b[39msync_data), \u001b[39mself\u001b[39m\u001b[39m.\u001b[39mhold_trait_notifications():\n\u001b[0;32m    651\u001b[0m     \u001b[39mfor\u001b[39;00m name \u001b[39min\u001b[39;00m sync_data:\n\u001b[0;32m    652\u001b[0m         \u001b[39mif\u001b[39;00m name \u001b[39min\u001b[39;00m \u001b[39mself\u001b[39m\u001b[39m.\u001b[39mkeys:\n",
      "File \u001b[1;32mc:\\anaconda\\envs\\gee\\lib\\contextlib.py:142\u001b[0m, in \u001b[0;36m_GeneratorContextManager.__exit__\u001b[1;34m(self, typ, value, traceback)\u001b[0m\n\u001b[0;32m    140\u001b[0m \u001b[39mif\u001b[39;00m typ \u001b[39mis\u001b[39;00m \u001b[39mNone\u001b[39;00m:\n\u001b[0;32m    141\u001b[0m     \u001b[39mtry\u001b[39;00m:\n\u001b[1;32m--> 142\u001b[0m         \u001b[39mnext\u001b[39;49m(\u001b[39mself\u001b[39;49m\u001b[39m.\u001b[39;49mgen)\n\u001b[0;32m    143\u001b[0m     \u001b[39mexcept\u001b[39;00m \u001b[39mStopIteration\u001b[39;00m:\n\u001b[0;32m    144\u001b[0m         \u001b[39mreturn\u001b[39;00m \u001b[39mFalse\u001b[39;00m\n",
      "File \u001b[1;32mc:\\anaconda\\envs\\gee\\lib\\site-packages\\traitlets\\traitlets.py:1512\u001b[0m, in \u001b[0;36mHasTraits.hold_trait_notifications\u001b[1;34m(self)\u001b[0m\n\u001b[0;32m   1510\u001b[0m \u001b[39mfor\u001b[39;00m changes \u001b[39min\u001b[39;00m cache\u001b[39m.\u001b[39mvalues():\n\u001b[0;32m   1511\u001b[0m     \u001b[39mfor\u001b[39;00m change \u001b[39min\u001b[39;00m changes:\n\u001b[1;32m-> 1512\u001b[0m         \u001b[39mself\u001b[39;49m\u001b[39m.\u001b[39;49mnotify_change(change)\n",
      "File \u001b[1;32mc:\\anaconda\\envs\\gee\\lib\\site-packages\\ipywidgets\\widgets\\widget.py:701\u001b[0m, in \u001b[0;36mWidget.notify_change\u001b[1;34m(self, change)\u001b[0m\n\u001b[0;32m    698\u001b[0m     \u001b[39mif\u001b[39;00m name \u001b[39min\u001b[39;00m \u001b[39mself\u001b[39m\u001b[39m.\u001b[39mkeys \u001b[39mand\u001b[39;00m \u001b[39mself\u001b[39m\u001b[39m.\u001b[39m_should_send_property(name, \u001b[39mgetattr\u001b[39m(\u001b[39mself\u001b[39m, name)):\n\u001b[0;32m    699\u001b[0m         \u001b[39m# Send new state to front-end\u001b[39;00m\n\u001b[0;32m    700\u001b[0m         \u001b[39mself\u001b[39m\u001b[39m.\u001b[39msend_state(key\u001b[39m=\u001b[39mname)\n\u001b[1;32m--> 701\u001b[0m \u001b[39msuper\u001b[39;49m()\u001b[39m.\u001b[39;49mnotify_change(change)\n",
      "File \u001b[1;32mc:\\anaconda\\envs\\gee\\lib\\site-packages\\traitlets\\traitlets.py:1527\u001b[0m, in \u001b[0;36mHasTraits.notify_change\u001b[1;34m(self, change)\u001b[0m\n\u001b[0;32m   1525\u001b[0m \u001b[39mdef\u001b[39;00m \u001b[39mnotify_change\u001b[39m(\u001b[39mself\u001b[39m, change: Bunch) \u001b[39m-\u001b[39m\u001b[39m>\u001b[39m \u001b[39mNone\u001b[39;00m:\n\u001b[0;32m   1526\u001b[0m \u001b[39m    \u001b[39m\u001b[39m\"\"\"Notify observers of a change event\"\"\"\u001b[39;00m\n\u001b[1;32m-> 1527\u001b[0m     \u001b[39mreturn\u001b[39;00m \u001b[39mself\u001b[39;49m\u001b[39m.\u001b[39;49m_notify_observers(change)\n",
      "File \u001b[1;32mc:\\anaconda\\envs\\gee\\lib\\site-packages\\traitlets\\traitlets.py:1570\u001b[0m, in \u001b[0;36mHasTraits._notify_observers\u001b[1;34m(self, event)\u001b[0m\n\u001b[0;32m   1567\u001b[0m \u001b[39melif\u001b[39;00m \u001b[39misinstance\u001b[39m(c, EventHandler) \u001b[39mand\u001b[39;00m c\u001b[39m.\u001b[39mname \u001b[39mis\u001b[39;00m \u001b[39mnot\u001b[39;00m \u001b[39mNone\u001b[39;00m:\n\u001b[0;32m   1568\u001b[0m     c \u001b[39m=\u001b[39m \u001b[39mgetattr\u001b[39m(\u001b[39mself\u001b[39m, c\u001b[39m.\u001b[39mname)\n\u001b[1;32m-> 1570\u001b[0m c(event)\n",
      "File \u001b[1;32mc:\\anaconda\\envs\\gee\\lib\\site-packages\\plotly\\basewidget.py:635\u001b[0m, in \u001b[0;36mBaseFigureWidget._handler_js2py_relayout\u001b[1;34m(self, change)\u001b[0m\n\u001b[0;32m    631\u001b[0m     relayout_data\u001b[39m.\u001b[39mpop(\u001b[39m\"\u001b[39m\u001b[39mlastInputTime\u001b[39m\u001b[39m\"\u001b[39m)\n\u001b[0;32m    633\u001b[0m \u001b[39m# Perform relayout\u001b[39;00m\n\u001b[0;32m    634\u001b[0m \u001b[39m# ----------------\u001b[39;00m\n\u001b[1;32m--> 635\u001b[0m \u001b[39mself\u001b[39;49m\u001b[39m.\u001b[39;49mplotly_relayout(relayout_data\u001b[39m=\u001b[39;49mrelayout_data, source_view_id\u001b[39m=\u001b[39;49msource_view_id)\n\u001b[0;32m    637\u001b[0m \u001b[39mself\u001b[39m\u001b[39m.\u001b[39m_js2py_relayout \u001b[39m=\u001b[39m \u001b[39mNone\u001b[39;00m\n",
      "File \u001b[1;32mc:\\anaconda\\envs\\gee\\lib\\site-packages\\plotly\\basedatatypes.py:2610\u001b[0m, in \u001b[0;36mBaseFigure.plotly_relayout\u001b[1;34m(self, relayout_data, **kwargs)\u001b[0m\n\u001b[0;32m   2606\u001b[0m     msg_kwargs \u001b[39m=\u001b[39m {}\n\u001b[0;32m   2608\u001b[0m \u001b[39m# Perform relayout operation on layout dict\u001b[39;00m\n\u001b[0;32m   2609\u001b[0m \u001b[39m# -----------------------------------------\u001b[39;00m\n\u001b[1;32m-> 2610\u001b[0m relayout_changes \u001b[39m=\u001b[39m \u001b[39mself\u001b[39;49m\u001b[39m.\u001b[39;49m_perform_plotly_relayout(relayout_data)\n\u001b[0;32m   2611\u001b[0m \u001b[39mif\u001b[39;00m relayout_changes:\n\u001b[0;32m   2612\u001b[0m     \u001b[39m# The relayout operation resulted in a change to some layout\u001b[39;00m\n\u001b[0;32m   2613\u001b[0m     \u001b[39m# properties, so we dispatch change callbacks and send the\u001b[39;00m\n\u001b[0;32m   2614\u001b[0m     \u001b[39m# relayout message to the frontend (if any)\u001b[39;00m\n\u001b[0;32m   2615\u001b[0m     \u001b[39mself\u001b[39m\u001b[39m.\u001b[39m_send_relayout_msg(relayout_changes, \u001b[39m*\u001b[39m\u001b[39m*\u001b[39mmsg_kwargs)\n",
      "File \u001b[1;32mc:\\anaconda\\envs\\gee\\lib\\site-packages\\plotly\\basedatatypes.py:2646\u001b[0m, in \u001b[0;36mBaseFigure._perform_plotly_relayout\u001b[1;34m(self, relayout_data)\u001b[0m\n\u001b[0;32m   2642\u001b[0m         \u001b[39mfor\u001b[39;00m key_path_str, v \u001b[39min\u001b[39;00m relayout_data\u001b[39m.\u001b[39mitems():\n\u001b[0;32m   2644\u001b[0m             \u001b[39mif\u001b[39;00m \u001b[39mnot\u001b[39;00m BaseFigure\u001b[39m.\u001b[39m_is_key_path_compatible(key_path_str, \u001b[39mself\u001b[39m\u001b[39m.\u001b[39mlayout):\n\u001b[1;32m-> 2646\u001b[0m                 \u001b[39mraise\u001b[39;00m \u001b[39mValueError\u001b[39;00m(\n\u001b[0;32m   2647\u001b[0m \u001b[39m                    \u001b[39m\u001b[39m\"\"\"\u001b[39;00m\n\u001b[0;32m   2648\u001b[0m \u001b[39mInvalid property path '{key_path_str}' for layout\u001b[39;00m\n\u001b[0;32m   2649\u001b[0m \u001b[39m\"\"\"\u001b[39;00m\u001b[39m.\u001b[39mformat(\n\u001b[0;32m   2650\u001b[0m                         key_path_str\u001b[39m=\u001b[39mkey_path_str\n\u001b[0;32m   2651\u001b[0m                     )\n\u001b[0;32m   2652\u001b[0m                 )\n\u001b[0;32m   2654\u001b[0m             \u001b[39m# Apply set operation on the layout dict\u001b[39;00m\n\u001b[0;32m   2655\u001b[0m             val_changed \u001b[39m=\u001b[39m BaseFigure\u001b[39m.\u001b[39m_set_in(\u001b[39mself\u001b[39m\u001b[39m.\u001b[39m_layout, key_path_str, v)\n",
      "\u001b[1;31mValueError\u001b[0m: \nInvalid property path 'mapbox._derived' for layout\n"
     ]
    },
    {
     "ename": "ValueError",
     "evalue": "\nInvalid property path 'mapbox._derived' for layout\n",
     "output_type": "error",
     "traceback": [
      "\u001b[1;31m---------------------------------------------------------------------------\u001b[0m",
      "\u001b[1;31mValueError\u001b[0m                                Traceback (most recent call last)",
      "File \u001b[1;32mc:\\anaconda\\envs\\gee\\lib\\site-packages\\ipywidgets\\widgets\\widget.py:773\u001b[0m, in \u001b[0;36mWidget._handle_msg\u001b[1;34m(self, msg)\u001b[0m\n\u001b[0;32m    771\u001b[0m         \u001b[39mif\u001b[39;00m \u001b[39m'\u001b[39m\u001b[39mbuffer_paths\u001b[39m\u001b[39m'\u001b[39m \u001b[39min\u001b[39;00m data:\n\u001b[0;32m    772\u001b[0m             _put_buffers(state, data[\u001b[39m'\u001b[39m\u001b[39mbuffer_paths\u001b[39m\u001b[39m'\u001b[39m], msg[\u001b[39m'\u001b[39m\u001b[39mbuffers\u001b[39m\u001b[39m'\u001b[39m])\n\u001b[1;32m--> 773\u001b[0m         \u001b[39mself\u001b[39;49m\u001b[39m.\u001b[39;49mset_state(state)\n\u001b[0;32m    775\u001b[0m \u001b[39m# Handle a state request.\u001b[39;00m\n\u001b[0;32m    776\u001b[0m \u001b[39melif\u001b[39;00m method \u001b[39m==\u001b[39m \u001b[39m'\u001b[39m\u001b[39mrequest_state\u001b[39m\u001b[39m'\u001b[39m:\n",
      "File \u001b[1;32mc:\\anaconda\\envs\\gee\\lib\\site-packages\\ipywidgets\\widgets\\widget.py:650\u001b[0m, in \u001b[0;36mWidget.set_state\u001b[1;34m(self, sync_data)\u001b[0m\n\u001b[0;32m    645\u001b[0m         \u001b[39mself\u001b[39m\u001b[39m.\u001b[39m_send(msg, buffers\u001b[39m=\u001b[39mecho_buffers)\n\u001b[0;32m    647\u001b[0m \u001b[39m# The order of these context managers is important. Properties must\u001b[39;00m\n\u001b[0;32m    648\u001b[0m \u001b[39m# be locked when the hold_trait_notification context manager is\u001b[39;00m\n\u001b[0;32m    649\u001b[0m \u001b[39m# released and notifications are fired.\u001b[39;00m\n\u001b[1;32m--> 650\u001b[0m \u001b[39mwith\u001b[39;00m \u001b[39mself\u001b[39m\u001b[39m.\u001b[39m_lock_property(\u001b[39m*\u001b[39m\u001b[39m*\u001b[39msync_data), \u001b[39mself\u001b[39m\u001b[39m.\u001b[39mhold_trait_notifications():\n\u001b[0;32m    651\u001b[0m     \u001b[39mfor\u001b[39;00m name \u001b[39min\u001b[39;00m sync_data:\n\u001b[0;32m    652\u001b[0m         \u001b[39mif\u001b[39;00m name \u001b[39min\u001b[39;00m \u001b[39mself\u001b[39m\u001b[39m.\u001b[39mkeys:\n",
      "File \u001b[1;32mc:\\anaconda\\envs\\gee\\lib\\contextlib.py:142\u001b[0m, in \u001b[0;36m_GeneratorContextManager.__exit__\u001b[1;34m(self, typ, value, traceback)\u001b[0m\n\u001b[0;32m    140\u001b[0m \u001b[39mif\u001b[39;00m typ \u001b[39mis\u001b[39;00m \u001b[39mNone\u001b[39;00m:\n\u001b[0;32m    141\u001b[0m     \u001b[39mtry\u001b[39;00m:\n\u001b[1;32m--> 142\u001b[0m         \u001b[39mnext\u001b[39;49m(\u001b[39mself\u001b[39;49m\u001b[39m.\u001b[39;49mgen)\n\u001b[0;32m    143\u001b[0m     \u001b[39mexcept\u001b[39;00m \u001b[39mStopIteration\u001b[39;00m:\n\u001b[0;32m    144\u001b[0m         \u001b[39mreturn\u001b[39;00m \u001b[39mFalse\u001b[39;00m\n",
      "File \u001b[1;32mc:\\anaconda\\envs\\gee\\lib\\site-packages\\traitlets\\traitlets.py:1512\u001b[0m, in \u001b[0;36mHasTraits.hold_trait_notifications\u001b[1;34m(self)\u001b[0m\n\u001b[0;32m   1510\u001b[0m \u001b[39mfor\u001b[39;00m changes \u001b[39min\u001b[39;00m cache\u001b[39m.\u001b[39mvalues():\n\u001b[0;32m   1511\u001b[0m     \u001b[39mfor\u001b[39;00m change \u001b[39min\u001b[39;00m changes:\n\u001b[1;32m-> 1512\u001b[0m         \u001b[39mself\u001b[39;49m\u001b[39m.\u001b[39;49mnotify_change(change)\n",
      "File \u001b[1;32mc:\\anaconda\\envs\\gee\\lib\\site-packages\\ipywidgets\\widgets\\widget.py:701\u001b[0m, in \u001b[0;36mWidget.notify_change\u001b[1;34m(self, change)\u001b[0m\n\u001b[0;32m    698\u001b[0m     \u001b[39mif\u001b[39;00m name \u001b[39min\u001b[39;00m \u001b[39mself\u001b[39m\u001b[39m.\u001b[39mkeys \u001b[39mand\u001b[39;00m \u001b[39mself\u001b[39m\u001b[39m.\u001b[39m_should_send_property(name, \u001b[39mgetattr\u001b[39m(\u001b[39mself\u001b[39m, name)):\n\u001b[0;32m    699\u001b[0m         \u001b[39m# Send new state to front-end\u001b[39;00m\n\u001b[0;32m    700\u001b[0m         \u001b[39mself\u001b[39m\u001b[39m.\u001b[39msend_state(key\u001b[39m=\u001b[39mname)\n\u001b[1;32m--> 701\u001b[0m \u001b[39msuper\u001b[39;49m()\u001b[39m.\u001b[39;49mnotify_change(change)\n",
      "File \u001b[1;32mc:\\anaconda\\envs\\gee\\lib\\site-packages\\traitlets\\traitlets.py:1527\u001b[0m, in \u001b[0;36mHasTraits.notify_change\u001b[1;34m(self, change)\u001b[0m\n\u001b[0;32m   1525\u001b[0m \u001b[39mdef\u001b[39;00m \u001b[39mnotify_change\u001b[39m(\u001b[39mself\u001b[39m, change: Bunch) \u001b[39m-\u001b[39m\u001b[39m>\u001b[39m \u001b[39mNone\u001b[39;00m:\n\u001b[0;32m   1526\u001b[0m \u001b[39m    \u001b[39m\u001b[39m\"\"\"Notify observers of a change event\"\"\"\u001b[39;00m\n\u001b[1;32m-> 1527\u001b[0m     \u001b[39mreturn\u001b[39;00m \u001b[39mself\u001b[39;49m\u001b[39m.\u001b[39;49m_notify_observers(change)\n",
      "File \u001b[1;32mc:\\anaconda\\envs\\gee\\lib\\site-packages\\traitlets\\traitlets.py:1570\u001b[0m, in \u001b[0;36mHasTraits._notify_observers\u001b[1;34m(self, event)\u001b[0m\n\u001b[0;32m   1567\u001b[0m \u001b[39melif\u001b[39;00m \u001b[39misinstance\u001b[39m(c, EventHandler) \u001b[39mand\u001b[39;00m c\u001b[39m.\u001b[39mname \u001b[39mis\u001b[39;00m \u001b[39mnot\u001b[39;00m \u001b[39mNone\u001b[39;00m:\n\u001b[0;32m   1568\u001b[0m     c \u001b[39m=\u001b[39m \u001b[39mgetattr\u001b[39m(\u001b[39mself\u001b[39m, c\u001b[39m.\u001b[39mname)\n\u001b[1;32m-> 1570\u001b[0m c(event)\n",
      "File \u001b[1;32mc:\\anaconda\\envs\\gee\\lib\\site-packages\\plotly\\basewidget.py:635\u001b[0m, in \u001b[0;36mBaseFigureWidget._handler_js2py_relayout\u001b[1;34m(self, change)\u001b[0m\n\u001b[0;32m    631\u001b[0m     relayout_data\u001b[39m.\u001b[39mpop(\u001b[39m\"\u001b[39m\u001b[39mlastInputTime\u001b[39m\u001b[39m\"\u001b[39m)\n\u001b[0;32m    633\u001b[0m \u001b[39m# Perform relayout\u001b[39;00m\n\u001b[0;32m    634\u001b[0m \u001b[39m# ----------------\u001b[39;00m\n\u001b[1;32m--> 635\u001b[0m \u001b[39mself\u001b[39;49m\u001b[39m.\u001b[39;49mplotly_relayout(relayout_data\u001b[39m=\u001b[39;49mrelayout_data, source_view_id\u001b[39m=\u001b[39;49msource_view_id)\n\u001b[0;32m    637\u001b[0m \u001b[39mself\u001b[39m\u001b[39m.\u001b[39m_js2py_relayout \u001b[39m=\u001b[39m \u001b[39mNone\u001b[39;00m\n",
      "File \u001b[1;32mc:\\anaconda\\envs\\gee\\lib\\site-packages\\plotly\\basedatatypes.py:2610\u001b[0m, in \u001b[0;36mBaseFigure.plotly_relayout\u001b[1;34m(self, relayout_data, **kwargs)\u001b[0m\n\u001b[0;32m   2606\u001b[0m     msg_kwargs \u001b[39m=\u001b[39m {}\n\u001b[0;32m   2608\u001b[0m \u001b[39m# Perform relayout operation on layout dict\u001b[39;00m\n\u001b[0;32m   2609\u001b[0m \u001b[39m# -----------------------------------------\u001b[39;00m\n\u001b[1;32m-> 2610\u001b[0m relayout_changes \u001b[39m=\u001b[39m \u001b[39mself\u001b[39;49m\u001b[39m.\u001b[39;49m_perform_plotly_relayout(relayout_data)\n\u001b[0;32m   2611\u001b[0m \u001b[39mif\u001b[39;00m relayout_changes:\n\u001b[0;32m   2612\u001b[0m     \u001b[39m# The relayout operation resulted in a change to some layout\u001b[39;00m\n\u001b[0;32m   2613\u001b[0m     \u001b[39m# properties, so we dispatch change callbacks and send the\u001b[39;00m\n\u001b[0;32m   2614\u001b[0m     \u001b[39m# relayout message to the frontend (if any)\u001b[39;00m\n\u001b[0;32m   2615\u001b[0m     \u001b[39mself\u001b[39m\u001b[39m.\u001b[39m_send_relayout_msg(relayout_changes, \u001b[39m*\u001b[39m\u001b[39m*\u001b[39mmsg_kwargs)\n",
      "File \u001b[1;32mc:\\anaconda\\envs\\gee\\lib\\site-packages\\plotly\\basedatatypes.py:2646\u001b[0m, in \u001b[0;36mBaseFigure._perform_plotly_relayout\u001b[1;34m(self, relayout_data)\u001b[0m\n\u001b[0;32m   2642\u001b[0m         \u001b[39mfor\u001b[39;00m key_path_str, v \u001b[39min\u001b[39;00m relayout_data\u001b[39m.\u001b[39mitems():\n\u001b[0;32m   2644\u001b[0m             \u001b[39mif\u001b[39;00m \u001b[39mnot\u001b[39;00m BaseFigure\u001b[39m.\u001b[39m_is_key_path_compatible(key_path_str, \u001b[39mself\u001b[39m\u001b[39m.\u001b[39mlayout):\n\u001b[1;32m-> 2646\u001b[0m                 \u001b[39mraise\u001b[39;00m \u001b[39mValueError\u001b[39;00m(\n\u001b[0;32m   2647\u001b[0m \u001b[39m                    \u001b[39m\u001b[39m\"\"\"\u001b[39;00m\n\u001b[0;32m   2648\u001b[0m \u001b[39mInvalid property path '{key_path_str}' for layout\u001b[39;00m\n\u001b[0;32m   2649\u001b[0m \u001b[39m\"\"\"\u001b[39;00m\u001b[39m.\u001b[39mformat(\n\u001b[0;32m   2650\u001b[0m                         key_path_str\u001b[39m=\u001b[39mkey_path_str\n\u001b[0;32m   2651\u001b[0m                     )\n\u001b[0;32m   2652\u001b[0m                 )\n\u001b[0;32m   2654\u001b[0m             \u001b[39m# Apply set operation on the layout dict\u001b[39;00m\n\u001b[0;32m   2655\u001b[0m             val_changed \u001b[39m=\u001b[39m BaseFigure\u001b[39m.\u001b[39m_set_in(\u001b[39mself\u001b[39m\u001b[39m.\u001b[39m_layout, key_path_str, v)\n",
      "\u001b[1;31mValueError\u001b[0m: \nInvalid property path 'mapbox._derived' for layout\n"
     ]
    },
    {
     "ename": "ValueError",
     "evalue": "\nInvalid property path 'mapbox._derived' for layout\n",
     "output_type": "error",
     "traceback": [
      "\u001b[1;31m---------------------------------------------------------------------------\u001b[0m",
      "\u001b[1;31mValueError\u001b[0m                                Traceback (most recent call last)",
      "File \u001b[1;32mc:\\anaconda\\envs\\gee\\lib\\site-packages\\ipywidgets\\widgets\\widget.py:773\u001b[0m, in \u001b[0;36mWidget._handle_msg\u001b[1;34m(self, msg)\u001b[0m\n\u001b[0;32m    771\u001b[0m         \u001b[39mif\u001b[39;00m \u001b[39m'\u001b[39m\u001b[39mbuffer_paths\u001b[39m\u001b[39m'\u001b[39m \u001b[39min\u001b[39;00m data:\n\u001b[0;32m    772\u001b[0m             _put_buffers(state, data[\u001b[39m'\u001b[39m\u001b[39mbuffer_paths\u001b[39m\u001b[39m'\u001b[39m], msg[\u001b[39m'\u001b[39m\u001b[39mbuffers\u001b[39m\u001b[39m'\u001b[39m])\n\u001b[1;32m--> 773\u001b[0m         \u001b[39mself\u001b[39;49m\u001b[39m.\u001b[39;49mset_state(state)\n\u001b[0;32m    775\u001b[0m \u001b[39m# Handle a state request.\u001b[39;00m\n\u001b[0;32m    776\u001b[0m \u001b[39melif\u001b[39;00m method \u001b[39m==\u001b[39m \u001b[39m'\u001b[39m\u001b[39mrequest_state\u001b[39m\u001b[39m'\u001b[39m:\n",
      "File \u001b[1;32mc:\\anaconda\\envs\\gee\\lib\\site-packages\\ipywidgets\\widgets\\widget.py:650\u001b[0m, in \u001b[0;36mWidget.set_state\u001b[1;34m(self, sync_data)\u001b[0m\n\u001b[0;32m    645\u001b[0m         \u001b[39mself\u001b[39m\u001b[39m.\u001b[39m_send(msg, buffers\u001b[39m=\u001b[39mecho_buffers)\n\u001b[0;32m    647\u001b[0m \u001b[39m# The order of these context managers is important. Properties must\u001b[39;00m\n\u001b[0;32m    648\u001b[0m \u001b[39m# be locked when the hold_trait_notification context manager is\u001b[39;00m\n\u001b[0;32m    649\u001b[0m \u001b[39m# released and notifications are fired.\u001b[39;00m\n\u001b[1;32m--> 650\u001b[0m \u001b[39mwith\u001b[39;00m \u001b[39mself\u001b[39m\u001b[39m.\u001b[39m_lock_property(\u001b[39m*\u001b[39m\u001b[39m*\u001b[39msync_data), \u001b[39mself\u001b[39m\u001b[39m.\u001b[39mhold_trait_notifications():\n\u001b[0;32m    651\u001b[0m     \u001b[39mfor\u001b[39;00m name \u001b[39min\u001b[39;00m sync_data:\n\u001b[0;32m    652\u001b[0m         \u001b[39mif\u001b[39;00m name \u001b[39min\u001b[39;00m \u001b[39mself\u001b[39m\u001b[39m.\u001b[39mkeys:\n",
      "File \u001b[1;32mc:\\anaconda\\envs\\gee\\lib\\contextlib.py:142\u001b[0m, in \u001b[0;36m_GeneratorContextManager.__exit__\u001b[1;34m(self, typ, value, traceback)\u001b[0m\n\u001b[0;32m    140\u001b[0m \u001b[39mif\u001b[39;00m typ \u001b[39mis\u001b[39;00m \u001b[39mNone\u001b[39;00m:\n\u001b[0;32m    141\u001b[0m     \u001b[39mtry\u001b[39;00m:\n\u001b[1;32m--> 142\u001b[0m         \u001b[39mnext\u001b[39;49m(\u001b[39mself\u001b[39;49m\u001b[39m.\u001b[39;49mgen)\n\u001b[0;32m    143\u001b[0m     \u001b[39mexcept\u001b[39;00m \u001b[39mStopIteration\u001b[39;00m:\n\u001b[0;32m    144\u001b[0m         \u001b[39mreturn\u001b[39;00m \u001b[39mFalse\u001b[39;00m\n",
      "File \u001b[1;32mc:\\anaconda\\envs\\gee\\lib\\site-packages\\traitlets\\traitlets.py:1512\u001b[0m, in \u001b[0;36mHasTraits.hold_trait_notifications\u001b[1;34m(self)\u001b[0m\n\u001b[0;32m   1510\u001b[0m \u001b[39mfor\u001b[39;00m changes \u001b[39min\u001b[39;00m cache\u001b[39m.\u001b[39mvalues():\n\u001b[0;32m   1511\u001b[0m     \u001b[39mfor\u001b[39;00m change \u001b[39min\u001b[39;00m changes:\n\u001b[1;32m-> 1512\u001b[0m         \u001b[39mself\u001b[39;49m\u001b[39m.\u001b[39;49mnotify_change(change)\n",
      "File \u001b[1;32mc:\\anaconda\\envs\\gee\\lib\\site-packages\\ipywidgets\\widgets\\widget.py:701\u001b[0m, in \u001b[0;36mWidget.notify_change\u001b[1;34m(self, change)\u001b[0m\n\u001b[0;32m    698\u001b[0m     \u001b[39mif\u001b[39;00m name \u001b[39min\u001b[39;00m \u001b[39mself\u001b[39m\u001b[39m.\u001b[39mkeys \u001b[39mand\u001b[39;00m \u001b[39mself\u001b[39m\u001b[39m.\u001b[39m_should_send_property(name, \u001b[39mgetattr\u001b[39m(\u001b[39mself\u001b[39m, name)):\n\u001b[0;32m    699\u001b[0m         \u001b[39m# Send new state to front-end\u001b[39;00m\n\u001b[0;32m    700\u001b[0m         \u001b[39mself\u001b[39m\u001b[39m.\u001b[39msend_state(key\u001b[39m=\u001b[39mname)\n\u001b[1;32m--> 701\u001b[0m \u001b[39msuper\u001b[39;49m()\u001b[39m.\u001b[39;49mnotify_change(change)\n",
      "File \u001b[1;32mc:\\anaconda\\envs\\gee\\lib\\site-packages\\traitlets\\traitlets.py:1527\u001b[0m, in \u001b[0;36mHasTraits.notify_change\u001b[1;34m(self, change)\u001b[0m\n\u001b[0;32m   1525\u001b[0m \u001b[39mdef\u001b[39;00m \u001b[39mnotify_change\u001b[39m(\u001b[39mself\u001b[39m, change: Bunch) \u001b[39m-\u001b[39m\u001b[39m>\u001b[39m \u001b[39mNone\u001b[39;00m:\n\u001b[0;32m   1526\u001b[0m \u001b[39m    \u001b[39m\u001b[39m\"\"\"Notify observers of a change event\"\"\"\u001b[39;00m\n\u001b[1;32m-> 1527\u001b[0m     \u001b[39mreturn\u001b[39;00m \u001b[39mself\u001b[39;49m\u001b[39m.\u001b[39;49m_notify_observers(change)\n",
      "File \u001b[1;32mc:\\anaconda\\envs\\gee\\lib\\site-packages\\traitlets\\traitlets.py:1570\u001b[0m, in \u001b[0;36mHasTraits._notify_observers\u001b[1;34m(self, event)\u001b[0m\n\u001b[0;32m   1567\u001b[0m \u001b[39melif\u001b[39;00m \u001b[39misinstance\u001b[39m(c, EventHandler) \u001b[39mand\u001b[39;00m c\u001b[39m.\u001b[39mname \u001b[39mis\u001b[39;00m \u001b[39mnot\u001b[39;00m \u001b[39mNone\u001b[39;00m:\n\u001b[0;32m   1568\u001b[0m     c \u001b[39m=\u001b[39m \u001b[39mgetattr\u001b[39m(\u001b[39mself\u001b[39m, c\u001b[39m.\u001b[39mname)\n\u001b[1;32m-> 1570\u001b[0m c(event)\n",
      "File \u001b[1;32mc:\\anaconda\\envs\\gee\\lib\\site-packages\\plotly\\basewidget.py:635\u001b[0m, in \u001b[0;36mBaseFigureWidget._handler_js2py_relayout\u001b[1;34m(self, change)\u001b[0m\n\u001b[0;32m    631\u001b[0m     relayout_data\u001b[39m.\u001b[39mpop(\u001b[39m\"\u001b[39m\u001b[39mlastInputTime\u001b[39m\u001b[39m\"\u001b[39m)\n\u001b[0;32m    633\u001b[0m \u001b[39m# Perform relayout\u001b[39;00m\n\u001b[0;32m    634\u001b[0m \u001b[39m# ----------------\u001b[39;00m\n\u001b[1;32m--> 635\u001b[0m \u001b[39mself\u001b[39;49m\u001b[39m.\u001b[39;49mplotly_relayout(relayout_data\u001b[39m=\u001b[39;49mrelayout_data, source_view_id\u001b[39m=\u001b[39;49msource_view_id)\n\u001b[0;32m    637\u001b[0m \u001b[39mself\u001b[39m\u001b[39m.\u001b[39m_js2py_relayout \u001b[39m=\u001b[39m \u001b[39mNone\u001b[39;00m\n",
      "File \u001b[1;32mc:\\anaconda\\envs\\gee\\lib\\site-packages\\plotly\\basedatatypes.py:2610\u001b[0m, in \u001b[0;36mBaseFigure.plotly_relayout\u001b[1;34m(self, relayout_data, **kwargs)\u001b[0m\n\u001b[0;32m   2606\u001b[0m     msg_kwargs \u001b[39m=\u001b[39m {}\n\u001b[0;32m   2608\u001b[0m \u001b[39m# Perform relayout operation on layout dict\u001b[39;00m\n\u001b[0;32m   2609\u001b[0m \u001b[39m# -----------------------------------------\u001b[39;00m\n\u001b[1;32m-> 2610\u001b[0m relayout_changes \u001b[39m=\u001b[39m \u001b[39mself\u001b[39;49m\u001b[39m.\u001b[39;49m_perform_plotly_relayout(relayout_data)\n\u001b[0;32m   2611\u001b[0m \u001b[39mif\u001b[39;00m relayout_changes:\n\u001b[0;32m   2612\u001b[0m     \u001b[39m# The relayout operation resulted in a change to some layout\u001b[39;00m\n\u001b[0;32m   2613\u001b[0m     \u001b[39m# properties, so we dispatch change callbacks and send the\u001b[39;00m\n\u001b[0;32m   2614\u001b[0m     \u001b[39m# relayout message to the frontend (if any)\u001b[39;00m\n\u001b[0;32m   2615\u001b[0m     \u001b[39mself\u001b[39m\u001b[39m.\u001b[39m_send_relayout_msg(relayout_changes, \u001b[39m*\u001b[39m\u001b[39m*\u001b[39mmsg_kwargs)\n",
      "File \u001b[1;32mc:\\anaconda\\envs\\gee\\lib\\site-packages\\plotly\\basedatatypes.py:2646\u001b[0m, in \u001b[0;36mBaseFigure._perform_plotly_relayout\u001b[1;34m(self, relayout_data)\u001b[0m\n\u001b[0;32m   2642\u001b[0m         \u001b[39mfor\u001b[39;00m key_path_str, v \u001b[39min\u001b[39;00m relayout_data\u001b[39m.\u001b[39mitems():\n\u001b[0;32m   2644\u001b[0m             \u001b[39mif\u001b[39;00m \u001b[39mnot\u001b[39;00m BaseFigure\u001b[39m.\u001b[39m_is_key_path_compatible(key_path_str, \u001b[39mself\u001b[39m\u001b[39m.\u001b[39mlayout):\n\u001b[1;32m-> 2646\u001b[0m                 \u001b[39mraise\u001b[39;00m \u001b[39mValueError\u001b[39;00m(\n\u001b[0;32m   2647\u001b[0m \u001b[39m                    \u001b[39m\u001b[39m\"\"\"\u001b[39;00m\n\u001b[0;32m   2648\u001b[0m \u001b[39mInvalid property path '{key_path_str}' for layout\u001b[39;00m\n\u001b[0;32m   2649\u001b[0m \u001b[39m\"\"\"\u001b[39;00m\u001b[39m.\u001b[39mformat(\n\u001b[0;32m   2650\u001b[0m                         key_path_str\u001b[39m=\u001b[39mkey_path_str\n\u001b[0;32m   2651\u001b[0m                     )\n\u001b[0;32m   2652\u001b[0m                 )\n\u001b[0;32m   2654\u001b[0m             \u001b[39m# Apply set operation on the layout dict\u001b[39;00m\n\u001b[0;32m   2655\u001b[0m             val_changed \u001b[39m=\u001b[39m BaseFigure\u001b[39m.\u001b[39m_set_in(\u001b[39mself\u001b[39m\u001b[39m.\u001b[39m_layout, key_path_str, v)\n",
      "\u001b[1;31mValueError\u001b[0m: \nInvalid property path 'mapbox._derived' for layout\n"
     ]
    },
    {
     "ename": "ValueError",
     "evalue": "\nInvalid property path 'mapbox._derived' for layout\n",
     "output_type": "error",
     "traceback": [
      "\u001b[1;31m---------------------------------------------------------------------------\u001b[0m",
      "\u001b[1;31mValueError\u001b[0m                                Traceback (most recent call last)",
      "File \u001b[1;32mc:\\anaconda\\envs\\gee\\lib\\site-packages\\ipywidgets\\widgets\\widget.py:773\u001b[0m, in \u001b[0;36mWidget._handle_msg\u001b[1;34m(self, msg)\u001b[0m\n\u001b[0;32m    771\u001b[0m         \u001b[39mif\u001b[39;00m \u001b[39m'\u001b[39m\u001b[39mbuffer_paths\u001b[39m\u001b[39m'\u001b[39m \u001b[39min\u001b[39;00m data:\n\u001b[0;32m    772\u001b[0m             _put_buffers(state, data[\u001b[39m'\u001b[39m\u001b[39mbuffer_paths\u001b[39m\u001b[39m'\u001b[39m], msg[\u001b[39m'\u001b[39m\u001b[39mbuffers\u001b[39m\u001b[39m'\u001b[39m])\n\u001b[1;32m--> 773\u001b[0m         \u001b[39mself\u001b[39;49m\u001b[39m.\u001b[39;49mset_state(state)\n\u001b[0;32m    775\u001b[0m \u001b[39m# Handle a state request.\u001b[39;00m\n\u001b[0;32m    776\u001b[0m \u001b[39melif\u001b[39;00m method \u001b[39m==\u001b[39m \u001b[39m'\u001b[39m\u001b[39mrequest_state\u001b[39m\u001b[39m'\u001b[39m:\n",
      "File \u001b[1;32mc:\\anaconda\\envs\\gee\\lib\\site-packages\\ipywidgets\\widgets\\widget.py:650\u001b[0m, in \u001b[0;36mWidget.set_state\u001b[1;34m(self, sync_data)\u001b[0m\n\u001b[0;32m    645\u001b[0m         \u001b[39mself\u001b[39m\u001b[39m.\u001b[39m_send(msg, buffers\u001b[39m=\u001b[39mecho_buffers)\n\u001b[0;32m    647\u001b[0m \u001b[39m# The order of these context managers is important. Properties must\u001b[39;00m\n\u001b[0;32m    648\u001b[0m \u001b[39m# be locked when the hold_trait_notification context manager is\u001b[39;00m\n\u001b[0;32m    649\u001b[0m \u001b[39m# released and notifications are fired.\u001b[39;00m\n\u001b[1;32m--> 650\u001b[0m \u001b[39mwith\u001b[39;00m \u001b[39mself\u001b[39m\u001b[39m.\u001b[39m_lock_property(\u001b[39m*\u001b[39m\u001b[39m*\u001b[39msync_data), \u001b[39mself\u001b[39m\u001b[39m.\u001b[39mhold_trait_notifications():\n\u001b[0;32m    651\u001b[0m     \u001b[39mfor\u001b[39;00m name \u001b[39min\u001b[39;00m sync_data:\n\u001b[0;32m    652\u001b[0m         \u001b[39mif\u001b[39;00m name \u001b[39min\u001b[39;00m \u001b[39mself\u001b[39m\u001b[39m.\u001b[39mkeys:\n",
      "File \u001b[1;32mc:\\anaconda\\envs\\gee\\lib\\contextlib.py:142\u001b[0m, in \u001b[0;36m_GeneratorContextManager.__exit__\u001b[1;34m(self, typ, value, traceback)\u001b[0m\n\u001b[0;32m    140\u001b[0m \u001b[39mif\u001b[39;00m typ \u001b[39mis\u001b[39;00m \u001b[39mNone\u001b[39;00m:\n\u001b[0;32m    141\u001b[0m     \u001b[39mtry\u001b[39;00m:\n\u001b[1;32m--> 142\u001b[0m         \u001b[39mnext\u001b[39;49m(\u001b[39mself\u001b[39;49m\u001b[39m.\u001b[39;49mgen)\n\u001b[0;32m    143\u001b[0m     \u001b[39mexcept\u001b[39;00m \u001b[39mStopIteration\u001b[39;00m:\n\u001b[0;32m    144\u001b[0m         \u001b[39mreturn\u001b[39;00m \u001b[39mFalse\u001b[39;00m\n",
      "File \u001b[1;32mc:\\anaconda\\envs\\gee\\lib\\site-packages\\traitlets\\traitlets.py:1512\u001b[0m, in \u001b[0;36mHasTraits.hold_trait_notifications\u001b[1;34m(self)\u001b[0m\n\u001b[0;32m   1510\u001b[0m \u001b[39mfor\u001b[39;00m changes \u001b[39min\u001b[39;00m cache\u001b[39m.\u001b[39mvalues():\n\u001b[0;32m   1511\u001b[0m     \u001b[39mfor\u001b[39;00m change \u001b[39min\u001b[39;00m changes:\n\u001b[1;32m-> 1512\u001b[0m         \u001b[39mself\u001b[39;49m\u001b[39m.\u001b[39;49mnotify_change(change)\n",
      "File \u001b[1;32mc:\\anaconda\\envs\\gee\\lib\\site-packages\\ipywidgets\\widgets\\widget.py:701\u001b[0m, in \u001b[0;36mWidget.notify_change\u001b[1;34m(self, change)\u001b[0m\n\u001b[0;32m    698\u001b[0m     \u001b[39mif\u001b[39;00m name \u001b[39min\u001b[39;00m \u001b[39mself\u001b[39m\u001b[39m.\u001b[39mkeys \u001b[39mand\u001b[39;00m \u001b[39mself\u001b[39m\u001b[39m.\u001b[39m_should_send_property(name, \u001b[39mgetattr\u001b[39m(\u001b[39mself\u001b[39m, name)):\n\u001b[0;32m    699\u001b[0m         \u001b[39m# Send new state to front-end\u001b[39;00m\n\u001b[0;32m    700\u001b[0m         \u001b[39mself\u001b[39m\u001b[39m.\u001b[39msend_state(key\u001b[39m=\u001b[39mname)\n\u001b[1;32m--> 701\u001b[0m \u001b[39msuper\u001b[39;49m()\u001b[39m.\u001b[39;49mnotify_change(change)\n",
      "File \u001b[1;32mc:\\anaconda\\envs\\gee\\lib\\site-packages\\traitlets\\traitlets.py:1527\u001b[0m, in \u001b[0;36mHasTraits.notify_change\u001b[1;34m(self, change)\u001b[0m\n\u001b[0;32m   1525\u001b[0m \u001b[39mdef\u001b[39;00m \u001b[39mnotify_change\u001b[39m(\u001b[39mself\u001b[39m, change: Bunch) \u001b[39m-\u001b[39m\u001b[39m>\u001b[39m \u001b[39mNone\u001b[39;00m:\n\u001b[0;32m   1526\u001b[0m \u001b[39m    \u001b[39m\u001b[39m\"\"\"Notify observers of a change event\"\"\"\u001b[39;00m\n\u001b[1;32m-> 1527\u001b[0m     \u001b[39mreturn\u001b[39;00m \u001b[39mself\u001b[39;49m\u001b[39m.\u001b[39;49m_notify_observers(change)\n",
      "File \u001b[1;32mc:\\anaconda\\envs\\gee\\lib\\site-packages\\traitlets\\traitlets.py:1570\u001b[0m, in \u001b[0;36mHasTraits._notify_observers\u001b[1;34m(self, event)\u001b[0m\n\u001b[0;32m   1567\u001b[0m \u001b[39melif\u001b[39;00m \u001b[39misinstance\u001b[39m(c, EventHandler) \u001b[39mand\u001b[39;00m c\u001b[39m.\u001b[39mname \u001b[39mis\u001b[39;00m \u001b[39mnot\u001b[39;00m \u001b[39mNone\u001b[39;00m:\n\u001b[0;32m   1568\u001b[0m     c \u001b[39m=\u001b[39m \u001b[39mgetattr\u001b[39m(\u001b[39mself\u001b[39m, c\u001b[39m.\u001b[39mname)\n\u001b[1;32m-> 1570\u001b[0m c(event)\n",
      "File \u001b[1;32mc:\\anaconda\\envs\\gee\\lib\\site-packages\\plotly\\basewidget.py:635\u001b[0m, in \u001b[0;36mBaseFigureWidget._handler_js2py_relayout\u001b[1;34m(self, change)\u001b[0m\n\u001b[0;32m    631\u001b[0m     relayout_data\u001b[39m.\u001b[39mpop(\u001b[39m\"\u001b[39m\u001b[39mlastInputTime\u001b[39m\u001b[39m\"\u001b[39m)\n\u001b[0;32m    633\u001b[0m \u001b[39m# Perform relayout\u001b[39;00m\n\u001b[0;32m    634\u001b[0m \u001b[39m# ----------------\u001b[39;00m\n\u001b[1;32m--> 635\u001b[0m \u001b[39mself\u001b[39;49m\u001b[39m.\u001b[39;49mplotly_relayout(relayout_data\u001b[39m=\u001b[39;49mrelayout_data, source_view_id\u001b[39m=\u001b[39;49msource_view_id)\n\u001b[0;32m    637\u001b[0m \u001b[39mself\u001b[39m\u001b[39m.\u001b[39m_js2py_relayout \u001b[39m=\u001b[39m \u001b[39mNone\u001b[39;00m\n",
      "File \u001b[1;32mc:\\anaconda\\envs\\gee\\lib\\site-packages\\plotly\\basedatatypes.py:2610\u001b[0m, in \u001b[0;36mBaseFigure.plotly_relayout\u001b[1;34m(self, relayout_data, **kwargs)\u001b[0m\n\u001b[0;32m   2606\u001b[0m     msg_kwargs \u001b[39m=\u001b[39m {}\n\u001b[0;32m   2608\u001b[0m \u001b[39m# Perform relayout operation on layout dict\u001b[39;00m\n\u001b[0;32m   2609\u001b[0m \u001b[39m# -----------------------------------------\u001b[39;00m\n\u001b[1;32m-> 2610\u001b[0m relayout_changes \u001b[39m=\u001b[39m \u001b[39mself\u001b[39;49m\u001b[39m.\u001b[39;49m_perform_plotly_relayout(relayout_data)\n\u001b[0;32m   2611\u001b[0m \u001b[39mif\u001b[39;00m relayout_changes:\n\u001b[0;32m   2612\u001b[0m     \u001b[39m# The relayout operation resulted in a change to some layout\u001b[39;00m\n\u001b[0;32m   2613\u001b[0m     \u001b[39m# properties, so we dispatch change callbacks and send the\u001b[39;00m\n\u001b[0;32m   2614\u001b[0m     \u001b[39m# relayout message to the frontend (if any)\u001b[39;00m\n\u001b[0;32m   2615\u001b[0m     \u001b[39mself\u001b[39m\u001b[39m.\u001b[39m_send_relayout_msg(relayout_changes, \u001b[39m*\u001b[39m\u001b[39m*\u001b[39mmsg_kwargs)\n",
      "File \u001b[1;32mc:\\anaconda\\envs\\gee\\lib\\site-packages\\plotly\\basedatatypes.py:2646\u001b[0m, in \u001b[0;36mBaseFigure._perform_plotly_relayout\u001b[1;34m(self, relayout_data)\u001b[0m\n\u001b[0;32m   2642\u001b[0m         \u001b[39mfor\u001b[39;00m key_path_str, v \u001b[39min\u001b[39;00m relayout_data\u001b[39m.\u001b[39mitems():\n\u001b[0;32m   2644\u001b[0m             \u001b[39mif\u001b[39;00m \u001b[39mnot\u001b[39;00m BaseFigure\u001b[39m.\u001b[39m_is_key_path_compatible(key_path_str, \u001b[39mself\u001b[39m\u001b[39m.\u001b[39mlayout):\n\u001b[1;32m-> 2646\u001b[0m                 \u001b[39mraise\u001b[39;00m \u001b[39mValueError\u001b[39;00m(\n\u001b[0;32m   2647\u001b[0m \u001b[39m                    \u001b[39m\u001b[39m\"\"\"\u001b[39;00m\n\u001b[0;32m   2648\u001b[0m \u001b[39mInvalid property path '{key_path_str}' for layout\u001b[39;00m\n\u001b[0;32m   2649\u001b[0m \u001b[39m\"\"\"\u001b[39;00m\u001b[39m.\u001b[39mformat(\n\u001b[0;32m   2650\u001b[0m                         key_path_str\u001b[39m=\u001b[39mkey_path_str\n\u001b[0;32m   2651\u001b[0m                     )\n\u001b[0;32m   2652\u001b[0m                 )\n\u001b[0;32m   2654\u001b[0m             \u001b[39m# Apply set operation on the layout dict\u001b[39;00m\n\u001b[0;32m   2655\u001b[0m             val_changed \u001b[39m=\u001b[39m BaseFigure\u001b[39m.\u001b[39m_set_in(\u001b[39mself\u001b[39m\u001b[39m.\u001b[39m_layout, key_path_str, v)\n",
      "\u001b[1;31mValueError\u001b[0m: \nInvalid property path 'mapbox._derived' for layout\n"
     ]
    },
    {
     "ename": "ValueError",
     "evalue": "\nInvalid property path 'mapbox._derived' for layout\n",
     "output_type": "error",
     "traceback": [
      "\u001b[1;31m---------------------------------------------------------------------------\u001b[0m",
      "\u001b[1;31mValueError\u001b[0m                                Traceback (most recent call last)",
      "File \u001b[1;32mc:\\anaconda\\envs\\gee\\lib\\site-packages\\ipywidgets\\widgets\\widget.py:773\u001b[0m, in \u001b[0;36mWidget._handle_msg\u001b[1;34m(self, msg)\u001b[0m\n\u001b[0;32m    771\u001b[0m         \u001b[39mif\u001b[39;00m \u001b[39m'\u001b[39m\u001b[39mbuffer_paths\u001b[39m\u001b[39m'\u001b[39m \u001b[39min\u001b[39;00m data:\n\u001b[0;32m    772\u001b[0m             _put_buffers(state, data[\u001b[39m'\u001b[39m\u001b[39mbuffer_paths\u001b[39m\u001b[39m'\u001b[39m], msg[\u001b[39m'\u001b[39m\u001b[39mbuffers\u001b[39m\u001b[39m'\u001b[39m])\n\u001b[1;32m--> 773\u001b[0m         \u001b[39mself\u001b[39;49m\u001b[39m.\u001b[39;49mset_state(state)\n\u001b[0;32m    775\u001b[0m \u001b[39m# Handle a state request.\u001b[39;00m\n\u001b[0;32m    776\u001b[0m \u001b[39melif\u001b[39;00m method \u001b[39m==\u001b[39m \u001b[39m'\u001b[39m\u001b[39mrequest_state\u001b[39m\u001b[39m'\u001b[39m:\n",
      "File \u001b[1;32mc:\\anaconda\\envs\\gee\\lib\\site-packages\\ipywidgets\\widgets\\widget.py:650\u001b[0m, in \u001b[0;36mWidget.set_state\u001b[1;34m(self, sync_data)\u001b[0m\n\u001b[0;32m    645\u001b[0m         \u001b[39mself\u001b[39m\u001b[39m.\u001b[39m_send(msg, buffers\u001b[39m=\u001b[39mecho_buffers)\n\u001b[0;32m    647\u001b[0m \u001b[39m# The order of these context managers is important. Properties must\u001b[39;00m\n\u001b[0;32m    648\u001b[0m \u001b[39m# be locked when the hold_trait_notification context manager is\u001b[39;00m\n\u001b[0;32m    649\u001b[0m \u001b[39m# released and notifications are fired.\u001b[39;00m\n\u001b[1;32m--> 650\u001b[0m \u001b[39mwith\u001b[39;00m \u001b[39mself\u001b[39m\u001b[39m.\u001b[39m_lock_property(\u001b[39m*\u001b[39m\u001b[39m*\u001b[39msync_data), \u001b[39mself\u001b[39m\u001b[39m.\u001b[39mhold_trait_notifications():\n\u001b[0;32m    651\u001b[0m     \u001b[39mfor\u001b[39;00m name \u001b[39min\u001b[39;00m sync_data:\n\u001b[0;32m    652\u001b[0m         \u001b[39mif\u001b[39;00m name \u001b[39min\u001b[39;00m \u001b[39mself\u001b[39m\u001b[39m.\u001b[39mkeys:\n",
      "File \u001b[1;32mc:\\anaconda\\envs\\gee\\lib\\contextlib.py:142\u001b[0m, in \u001b[0;36m_GeneratorContextManager.__exit__\u001b[1;34m(self, typ, value, traceback)\u001b[0m\n\u001b[0;32m    140\u001b[0m \u001b[39mif\u001b[39;00m typ \u001b[39mis\u001b[39;00m \u001b[39mNone\u001b[39;00m:\n\u001b[0;32m    141\u001b[0m     \u001b[39mtry\u001b[39;00m:\n\u001b[1;32m--> 142\u001b[0m         \u001b[39mnext\u001b[39;49m(\u001b[39mself\u001b[39;49m\u001b[39m.\u001b[39;49mgen)\n\u001b[0;32m    143\u001b[0m     \u001b[39mexcept\u001b[39;00m \u001b[39mStopIteration\u001b[39;00m:\n\u001b[0;32m    144\u001b[0m         \u001b[39mreturn\u001b[39;00m \u001b[39mFalse\u001b[39;00m\n",
      "File \u001b[1;32mc:\\anaconda\\envs\\gee\\lib\\site-packages\\traitlets\\traitlets.py:1512\u001b[0m, in \u001b[0;36mHasTraits.hold_trait_notifications\u001b[1;34m(self)\u001b[0m\n\u001b[0;32m   1510\u001b[0m \u001b[39mfor\u001b[39;00m changes \u001b[39min\u001b[39;00m cache\u001b[39m.\u001b[39mvalues():\n\u001b[0;32m   1511\u001b[0m     \u001b[39mfor\u001b[39;00m change \u001b[39min\u001b[39;00m changes:\n\u001b[1;32m-> 1512\u001b[0m         \u001b[39mself\u001b[39;49m\u001b[39m.\u001b[39;49mnotify_change(change)\n",
      "File \u001b[1;32mc:\\anaconda\\envs\\gee\\lib\\site-packages\\ipywidgets\\widgets\\widget.py:701\u001b[0m, in \u001b[0;36mWidget.notify_change\u001b[1;34m(self, change)\u001b[0m\n\u001b[0;32m    698\u001b[0m     \u001b[39mif\u001b[39;00m name \u001b[39min\u001b[39;00m \u001b[39mself\u001b[39m\u001b[39m.\u001b[39mkeys \u001b[39mand\u001b[39;00m \u001b[39mself\u001b[39m\u001b[39m.\u001b[39m_should_send_property(name, \u001b[39mgetattr\u001b[39m(\u001b[39mself\u001b[39m, name)):\n\u001b[0;32m    699\u001b[0m         \u001b[39m# Send new state to front-end\u001b[39;00m\n\u001b[0;32m    700\u001b[0m         \u001b[39mself\u001b[39m\u001b[39m.\u001b[39msend_state(key\u001b[39m=\u001b[39mname)\n\u001b[1;32m--> 701\u001b[0m \u001b[39msuper\u001b[39;49m()\u001b[39m.\u001b[39;49mnotify_change(change)\n",
      "File \u001b[1;32mc:\\anaconda\\envs\\gee\\lib\\site-packages\\traitlets\\traitlets.py:1527\u001b[0m, in \u001b[0;36mHasTraits.notify_change\u001b[1;34m(self, change)\u001b[0m\n\u001b[0;32m   1525\u001b[0m \u001b[39mdef\u001b[39;00m \u001b[39mnotify_change\u001b[39m(\u001b[39mself\u001b[39m, change: Bunch) \u001b[39m-\u001b[39m\u001b[39m>\u001b[39m \u001b[39mNone\u001b[39;00m:\n\u001b[0;32m   1526\u001b[0m \u001b[39m    \u001b[39m\u001b[39m\"\"\"Notify observers of a change event\"\"\"\u001b[39;00m\n\u001b[1;32m-> 1527\u001b[0m     \u001b[39mreturn\u001b[39;00m \u001b[39mself\u001b[39;49m\u001b[39m.\u001b[39;49m_notify_observers(change)\n",
      "File \u001b[1;32mc:\\anaconda\\envs\\gee\\lib\\site-packages\\traitlets\\traitlets.py:1570\u001b[0m, in \u001b[0;36mHasTraits._notify_observers\u001b[1;34m(self, event)\u001b[0m\n\u001b[0;32m   1567\u001b[0m \u001b[39melif\u001b[39;00m \u001b[39misinstance\u001b[39m(c, EventHandler) \u001b[39mand\u001b[39;00m c\u001b[39m.\u001b[39mname \u001b[39mis\u001b[39;00m \u001b[39mnot\u001b[39;00m \u001b[39mNone\u001b[39;00m:\n\u001b[0;32m   1568\u001b[0m     c \u001b[39m=\u001b[39m \u001b[39mgetattr\u001b[39m(\u001b[39mself\u001b[39m, c\u001b[39m.\u001b[39mname)\n\u001b[1;32m-> 1570\u001b[0m c(event)\n",
      "File \u001b[1;32mc:\\anaconda\\envs\\gee\\lib\\site-packages\\plotly\\basewidget.py:635\u001b[0m, in \u001b[0;36mBaseFigureWidget._handler_js2py_relayout\u001b[1;34m(self, change)\u001b[0m\n\u001b[0;32m    631\u001b[0m     relayout_data\u001b[39m.\u001b[39mpop(\u001b[39m\"\u001b[39m\u001b[39mlastInputTime\u001b[39m\u001b[39m\"\u001b[39m)\n\u001b[0;32m    633\u001b[0m \u001b[39m# Perform relayout\u001b[39;00m\n\u001b[0;32m    634\u001b[0m \u001b[39m# ----------------\u001b[39;00m\n\u001b[1;32m--> 635\u001b[0m \u001b[39mself\u001b[39;49m\u001b[39m.\u001b[39;49mplotly_relayout(relayout_data\u001b[39m=\u001b[39;49mrelayout_data, source_view_id\u001b[39m=\u001b[39;49msource_view_id)\n\u001b[0;32m    637\u001b[0m \u001b[39mself\u001b[39m\u001b[39m.\u001b[39m_js2py_relayout \u001b[39m=\u001b[39m \u001b[39mNone\u001b[39;00m\n",
      "File \u001b[1;32mc:\\anaconda\\envs\\gee\\lib\\site-packages\\plotly\\basedatatypes.py:2610\u001b[0m, in \u001b[0;36mBaseFigure.plotly_relayout\u001b[1;34m(self, relayout_data, **kwargs)\u001b[0m\n\u001b[0;32m   2606\u001b[0m     msg_kwargs \u001b[39m=\u001b[39m {}\n\u001b[0;32m   2608\u001b[0m \u001b[39m# Perform relayout operation on layout dict\u001b[39;00m\n\u001b[0;32m   2609\u001b[0m \u001b[39m# -----------------------------------------\u001b[39;00m\n\u001b[1;32m-> 2610\u001b[0m relayout_changes \u001b[39m=\u001b[39m \u001b[39mself\u001b[39;49m\u001b[39m.\u001b[39;49m_perform_plotly_relayout(relayout_data)\n\u001b[0;32m   2611\u001b[0m \u001b[39mif\u001b[39;00m relayout_changes:\n\u001b[0;32m   2612\u001b[0m     \u001b[39m# The relayout operation resulted in a change to some layout\u001b[39;00m\n\u001b[0;32m   2613\u001b[0m     \u001b[39m# properties, so we dispatch change callbacks and send the\u001b[39;00m\n\u001b[0;32m   2614\u001b[0m     \u001b[39m# relayout message to the frontend (if any)\u001b[39;00m\n\u001b[0;32m   2615\u001b[0m     \u001b[39mself\u001b[39m\u001b[39m.\u001b[39m_send_relayout_msg(relayout_changes, \u001b[39m*\u001b[39m\u001b[39m*\u001b[39mmsg_kwargs)\n",
      "File \u001b[1;32mc:\\anaconda\\envs\\gee\\lib\\site-packages\\plotly\\basedatatypes.py:2646\u001b[0m, in \u001b[0;36mBaseFigure._perform_plotly_relayout\u001b[1;34m(self, relayout_data)\u001b[0m\n\u001b[0;32m   2642\u001b[0m         \u001b[39mfor\u001b[39;00m key_path_str, v \u001b[39min\u001b[39;00m relayout_data\u001b[39m.\u001b[39mitems():\n\u001b[0;32m   2644\u001b[0m             \u001b[39mif\u001b[39;00m \u001b[39mnot\u001b[39;00m BaseFigure\u001b[39m.\u001b[39m_is_key_path_compatible(key_path_str, \u001b[39mself\u001b[39m\u001b[39m.\u001b[39mlayout):\n\u001b[1;32m-> 2646\u001b[0m                 \u001b[39mraise\u001b[39;00m \u001b[39mValueError\u001b[39;00m(\n\u001b[0;32m   2647\u001b[0m \u001b[39m                    \u001b[39m\u001b[39m\"\"\"\u001b[39;00m\n\u001b[0;32m   2648\u001b[0m \u001b[39mInvalid property path '{key_path_str}' for layout\u001b[39;00m\n\u001b[0;32m   2649\u001b[0m \u001b[39m\"\"\"\u001b[39;00m\u001b[39m.\u001b[39mformat(\n\u001b[0;32m   2650\u001b[0m                         key_path_str\u001b[39m=\u001b[39mkey_path_str\n\u001b[0;32m   2651\u001b[0m                     )\n\u001b[0;32m   2652\u001b[0m                 )\n\u001b[0;32m   2654\u001b[0m             \u001b[39m# Apply set operation on the layout dict\u001b[39;00m\n\u001b[0;32m   2655\u001b[0m             val_changed \u001b[39m=\u001b[39m BaseFigure\u001b[39m.\u001b[39m_set_in(\u001b[39mself\u001b[39m\u001b[39m.\u001b[39m_layout, key_path_str, v)\n",
      "\u001b[1;31mValueError\u001b[0m: \nInvalid property path 'mapbox._derived' for layout\n"
     ]
    },
    {
     "ename": "ValueError",
     "evalue": "\nInvalid property path 'mapbox._derived' for layout\n",
     "output_type": "error",
     "traceback": [
      "\u001b[1;31m---------------------------------------------------------------------------\u001b[0m",
      "\u001b[1;31mValueError\u001b[0m                                Traceback (most recent call last)",
      "File \u001b[1;32mc:\\anaconda\\envs\\gee\\lib\\site-packages\\ipywidgets\\widgets\\widget.py:773\u001b[0m, in \u001b[0;36mWidget._handle_msg\u001b[1;34m(self, msg)\u001b[0m\n\u001b[0;32m    771\u001b[0m         \u001b[39mif\u001b[39;00m \u001b[39m'\u001b[39m\u001b[39mbuffer_paths\u001b[39m\u001b[39m'\u001b[39m \u001b[39min\u001b[39;00m data:\n\u001b[0;32m    772\u001b[0m             _put_buffers(state, data[\u001b[39m'\u001b[39m\u001b[39mbuffer_paths\u001b[39m\u001b[39m'\u001b[39m], msg[\u001b[39m'\u001b[39m\u001b[39mbuffers\u001b[39m\u001b[39m'\u001b[39m])\n\u001b[1;32m--> 773\u001b[0m         \u001b[39mself\u001b[39;49m\u001b[39m.\u001b[39;49mset_state(state)\n\u001b[0;32m    775\u001b[0m \u001b[39m# Handle a state request.\u001b[39;00m\n\u001b[0;32m    776\u001b[0m \u001b[39melif\u001b[39;00m method \u001b[39m==\u001b[39m \u001b[39m'\u001b[39m\u001b[39mrequest_state\u001b[39m\u001b[39m'\u001b[39m:\n",
      "File \u001b[1;32mc:\\anaconda\\envs\\gee\\lib\\site-packages\\ipywidgets\\widgets\\widget.py:650\u001b[0m, in \u001b[0;36mWidget.set_state\u001b[1;34m(self, sync_data)\u001b[0m\n\u001b[0;32m    645\u001b[0m         \u001b[39mself\u001b[39m\u001b[39m.\u001b[39m_send(msg, buffers\u001b[39m=\u001b[39mecho_buffers)\n\u001b[0;32m    647\u001b[0m \u001b[39m# The order of these context managers is important. Properties must\u001b[39;00m\n\u001b[0;32m    648\u001b[0m \u001b[39m# be locked when the hold_trait_notification context manager is\u001b[39;00m\n\u001b[0;32m    649\u001b[0m \u001b[39m# released and notifications are fired.\u001b[39;00m\n\u001b[1;32m--> 650\u001b[0m \u001b[39mwith\u001b[39;00m \u001b[39mself\u001b[39m\u001b[39m.\u001b[39m_lock_property(\u001b[39m*\u001b[39m\u001b[39m*\u001b[39msync_data), \u001b[39mself\u001b[39m\u001b[39m.\u001b[39mhold_trait_notifications():\n\u001b[0;32m    651\u001b[0m     \u001b[39mfor\u001b[39;00m name \u001b[39min\u001b[39;00m sync_data:\n\u001b[0;32m    652\u001b[0m         \u001b[39mif\u001b[39;00m name \u001b[39min\u001b[39;00m \u001b[39mself\u001b[39m\u001b[39m.\u001b[39mkeys:\n",
      "File \u001b[1;32mc:\\anaconda\\envs\\gee\\lib\\contextlib.py:142\u001b[0m, in \u001b[0;36m_GeneratorContextManager.__exit__\u001b[1;34m(self, typ, value, traceback)\u001b[0m\n\u001b[0;32m    140\u001b[0m \u001b[39mif\u001b[39;00m typ \u001b[39mis\u001b[39;00m \u001b[39mNone\u001b[39;00m:\n\u001b[0;32m    141\u001b[0m     \u001b[39mtry\u001b[39;00m:\n\u001b[1;32m--> 142\u001b[0m         \u001b[39mnext\u001b[39;49m(\u001b[39mself\u001b[39;49m\u001b[39m.\u001b[39;49mgen)\n\u001b[0;32m    143\u001b[0m     \u001b[39mexcept\u001b[39;00m \u001b[39mStopIteration\u001b[39;00m:\n\u001b[0;32m    144\u001b[0m         \u001b[39mreturn\u001b[39;00m \u001b[39mFalse\u001b[39;00m\n",
      "File \u001b[1;32mc:\\anaconda\\envs\\gee\\lib\\site-packages\\traitlets\\traitlets.py:1512\u001b[0m, in \u001b[0;36mHasTraits.hold_trait_notifications\u001b[1;34m(self)\u001b[0m\n\u001b[0;32m   1510\u001b[0m \u001b[39mfor\u001b[39;00m changes \u001b[39min\u001b[39;00m cache\u001b[39m.\u001b[39mvalues():\n\u001b[0;32m   1511\u001b[0m     \u001b[39mfor\u001b[39;00m change \u001b[39min\u001b[39;00m changes:\n\u001b[1;32m-> 1512\u001b[0m         \u001b[39mself\u001b[39;49m\u001b[39m.\u001b[39;49mnotify_change(change)\n",
      "File \u001b[1;32mc:\\anaconda\\envs\\gee\\lib\\site-packages\\ipywidgets\\widgets\\widget.py:701\u001b[0m, in \u001b[0;36mWidget.notify_change\u001b[1;34m(self, change)\u001b[0m\n\u001b[0;32m    698\u001b[0m     \u001b[39mif\u001b[39;00m name \u001b[39min\u001b[39;00m \u001b[39mself\u001b[39m\u001b[39m.\u001b[39mkeys \u001b[39mand\u001b[39;00m \u001b[39mself\u001b[39m\u001b[39m.\u001b[39m_should_send_property(name, \u001b[39mgetattr\u001b[39m(\u001b[39mself\u001b[39m, name)):\n\u001b[0;32m    699\u001b[0m         \u001b[39m# Send new state to front-end\u001b[39;00m\n\u001b[0;32m    700\u001b[0m         \u001b[39mself\u001b[39m\u001b[39m.\u001b[39msend_state(key\u001b[39m=\u001b[39mname)\n\u001b[1;32m--> 701\u001b[0m \u001b[39msuper\u001b[39;49m()\u001b[39m.\u001b[39;49mnotify_change(change)\n",
      "File \u001b[1;32mc:\\anaconda\\envs\\gee\\lib\\site-packages\\traitlets\\traitlets.py:1527\u001b[0m, in \u001b[0;36mHasTraits.notify_change\u001b[1;34m(self, change)\u001b[0m\n\u001b[0;32m   1525\u001b[0m \u001b[39mdef\u001b[39;00m \u001b[39mnotify_change\u001b[39m(\u001b[39mself\u001b[39m, change: Bunch) \u001b[39m-\u001b[39m\u001b[39m>\u001b[39m \u001b[39mNone\u001b[39;00m:\n\u001b[0;32m   1526\u001b[0m \u001b[39m    \u001b[39m\u001b[39m\"\"\"Notify observers of a change event\"\"\"\u001b[39;00m\n\u001b[1;32m-> 1527\u001b[0m     \u001b[39mreturn\u001b[39;00m \u001b[39mself\u001b[39;49m\u001b[39m.\u001b[39;49m_notify_observers(change)\n",
      "File \u001b[1;32mc:\\anaconda\\envs\\gee\\lib\\site-packages\\traitlets\\traitlets.py:1570\u001b[0m, in \u001b[0;36mHasTraits._notify_observers\u001b[1;34m(self, event)\u001b[0m\n\u001b[0;32m   1567\u001b[0m \u001b[39melif\u001b[39;00m \u001b[39misinstance\u001b[39m(c, EventHandler) \u001b[39mand\u001b[39;00m c\u001b[39m.\u001b[39mname \u001b[39mis\u001b[39;00m \u001b[39mnot\u001b[39;00m \u001b[39mNone\u001b[39;00m:\n\u001b[0;32m   1568\u001b[0m     c \u001b[39m=\u001b[39m \u001b[39mgetattr\u001b[39m(\u001b[39mself\u001b[39m, c\u001b[39m.\u001b[39mname)\n\u001b[1;32m-> 1570\u001b[0m c(event)\n",
      "File \u001b[1;32mc:\\anaconda\\envs\\gee\\lib\\site-packages\\plotly\\basewidget.py:635\u001b[0m, in \u001b[0;36mBaseFigureWidget._handler_js2py_relayout\u001b[1;34m(self, change)\u001b[0m\n\u001b[0;32m    631\u001b[0m     relayout_data\u001b[39m.\u001b[39mpop(\u001b[39m\"\u001b[39m\u001b[39mlastInputTime\u001b[39m\u001b[39m\"\u001b[39m)\n\u001b[0;32m    633\u001b[0m \u001b[39m# Perform relayout\u001b[39;00m\n\u001b[0;32m    634\u001b[0m \u001b[39m# ----------------\u001b[39;00m\n\u001b[1;32m--> 635\u001b[0m \u001b[39mself\u001b[39;49m\u001b[39m.\u001b[39;49mplotly_relayout(relayout_data\u001b[39m=\u001b[39;49mrelayout_data, source_view_id\u001b[39m=\u001b[39;49msource_view_id)\n\u001b[0;32m    637\u001b[0m \u001b[39mself\u001b[39m\u001b[39m.\u001b[39m_js2py_relayout \u001b[39m=\u001b[39m \u001b[39mNone\u001b[39;00m\n",
      "File \u001b[1;32mc:\\anaconda\\envs\\gee\\lib\\site-packages\\plotly\\basedatatypes.py:2610\u001b[0m, in \u001b[0;36mBaseFigure.plotly_relayout\u001b[1;34m(self, relayout_data, **kwargs)\u001b[0m\n\u001b[0;32m   2606\u001b[0m     msg_kwargs \u001b[39m=\u001b[39m {}\n\u001b[0;32m   2608\u001b[0m \u001b[39m# Perform relayout operation on layout dict\u001b[39;00m\n\u001b[0;32m   2609\u001b[0m \u001b[39m# -----------------------------------------\u001b[39;00m\n\u001b[1;32m-> 2610\u001b[0m relayout_changes \u001b[39m=\u001b[39m \u001b[39mself\u001b[39;49m\u001b[39m.\u001b[39;49m_perform_plotly_relayout(relayout_data)\n\u001b[0;32m   2611\u001b[0m \u001b[39mif\u001b[39;00m relayout_changes:\n\u001b[0;32m   2612\u001b[0m     \u001b[39m# The relayout operation resulted in a change to some layout\u001b[39;00m\n\u001b[0;32m   2613\u001b[0m     \u001b[39m# properties, so we dispatch change callbacks and send the\u001b[39;00m\n\u001b[0;32m   2614\u001b[0m     \u001b[39m# relayout message to the frontend (if any)\u001b[39;00m\n\u001b[0;32m   2615\u001b[0m     \u001b[39mself\u001b[39m\u001b[39m.\u001b[39m_send_relayout_msg(relayout_changes, \u001b[39m*\u001b[39m\u001b[39m*\u001b[39mmsg_kwargs)\n",
      "File \u001b[1;32mc:\\anaconda\\envs\\gee\\lib\\site-packages\\plotly\\basedatatypes.py:2646\u001b[0m, in \u001b[0;36mBaseFigure._perform_plotly_relayout\u001b[1;34m(self, relayout_data)\u001b[0m\n\u001b[0;32m   2642\u001b[0m         \u001b[39mfor\u001b[39;00m key_path_str, v \u001b[39min\u001b[39;00m relayout_data\u001b[39m.\u001b[39mitems():\n\u001b[0;32m   2644\u001b[0m             \u001b[39mif\u001b[39;00m \u001b[39mnot\u001b[39;00m BaseFigure\u001b[39m.\u001b[39m_is_key_path_compatible(key_path_str, \u001b[39mself\u001b[39m\u001b[39m.\u001b[39mlayout):\n\u001b[1;32m-> 2646\u001b[0m                 \u001b[39mraise\u001b[39;00m \u001b[39mValueError\u001b[39;00m(\n\u001b[0;32m   2647\u001b[0m \u001b[39m                    \u001b[39m\u001b[39m\"\"\"\u001b[39;00m\n\u001b[0;32m   2648\u001b[0m \u001b[39mInvalid property path '{key_path_str}' for layout\u001b[39;00m\n\u001b[0;32m   2649\u001b[0m \u001b[39m\"\"\"\u001b[39;00m\u001b[39m.\u001b[39mformat(\n\u001b[0;32m   2650\u001b[0m                         key_path_str\u001b[39m=\u001b[39mkey_path_str\n\u001b[0;32m   2651\u001b[0m                     )\n\u001b[0;32m   2652\u001b[0m                 )\n\u001b[0;32m   2654\u001b[0m             \u001b[39m# Apply set operation on the layout dict\u001b[39;00m\n\u001b[0;32m   2655\u001b[0m             val_changed \u001b[39m=\u001b[39m BaseFigure\u001b[39m.\u001b[39m_set_in(\u001b[39mself\u001b[39m\u001b[39m.\u001b[39m_layout, key_path_str, v)\n",
      "\u001b[1;31mValueError\u001b[0m: \nInvalid property path 'mapbox._derived' for layout\n"
     ]
    },
    {
     "ename": "ValueError",
     "evalue": "\nInvalid property path 'mapbox._derived' for layout\n",
     "output_type": "error",
     "traceback": [
      "\u001b[1;31m---------------------------------------------------------------------------\u001b[0m",
      "\u001b[1;31mValueError\u001b[0m                                Traceback (most recent call last)",
      "File \u001b[1;32mc:\\anaconda\\envs\\gee\\lib\\site-packages\\ipywidgets\\widgets\\widget.py:773\u001b[0m, in \u001b[0;36mWidget._handle_msg\u001b[1;34m(self, msg)\u001b[0m\n\u001b[0;32m    771\u001b[0m         \u001b[39mif\u001b[39;00m \u001b[39m'\u001b[39m\u001b[39mbuffer_paths\u001b[39m\u001b[39m'\u001b[39m \u001b[39min\u001b[39;00m data:\n\u001b[0;32m    772\u001b[0m             _put_buffers(state, data[\u001b[39m'\u001b[39m\u001b[39mbuffer_paths\u001b[39m\u001b[39m'\u001b[39m], msg[\u001b[39m'\u001b[39m\u001b[39mbuffers\u001b[39m\u001b[39m'\u001b[39m])\n\u001b[1;32m--> 773\u001b[0m         \u001b[39mself\u001b[39;49m\u001b[39m.\u001b[39;49mset_state(state)\n\u001b[0;32m    775\u001b[0m \u001b[39m# Handle a state request.\u001b[39;00m\n\u001b[0;32m    776\u001b[0m \u001b[39melif\u001b[39;00m method \u001b[39m==\u001b[39m \u001b[39m'\u001b[39m\u001b[39mrequest_state\u001b[39m\u001b[39m'\u001b[39m:\n",
      "File \u001b[1;32mc:\\anaconda\\envs\\gee\\lib\\site-packages\\ipywidgets\\widgets\\widget.py:650\u001b[0m, in \u001b[0;36mWidget.set_state\u001b[1;34m(self, sync_data)\u001b[0m\n\u001b[0;32m    645\u001b[0m         \u001b[39mself\u001b[39m\u001b[39m.\u001b[39m_send(msg, buffers\u001b[39m=\u001b[39mecho_buffers)\n\u001b[0;32m    647\u001b[0m \u001b[39m# The order of these context managers is important. Properties must\u001b[39;00m\n\u001b[0;32m    648\u001b[0m \u001b[39m# be locked when the hold_trait_notification context manager is\u001b[39;00m\n\u001b[0;32m    649\u001b[0m \u001b[39m# released and notifications are fired.\u001b[39;00m\n\u001b[1;32m--> 650\u001b[0m \u001b[39mwith\u001b[39;00m \u001b[39mself\u001b[39m\u001b[39m.\u001b[39m_lock_property(\u001b[39m*\u001b[39m\u001b[39m*\u001b[39msync_data), \u001b[39mself\u001b[39m\u001b[39m.\u001b[39mhold_trait_notifications():\n\u001b[0;32m    651\u001b[0m     \u001b[39mfor\u001b[39;00m name \u001b[39min\u001b[39;00m sync_data:\n\u001b[0;32m    652\u001b[0m         \u001b[39mif\u001b[39;00m name \u001b[39min\u001b[39;00m \u001b[39mself\u001b[39m\u001b[39m.\u001b[39mkeys:\n",
      "File \u001b[1;32mc:\\anaconda\\envs\\gee\\lib\\contextlib.py:142\u001b[0m, in \u001b[0;36m_GeneratorContextManager.__exit__\u001b[1;34m(self, typ, value, traceback)\u001b[0m\n\u001b[0;32m    140\u001b[0m \u001b[39mif\u001b[39;00m typ \u001b[39mis\u001b[39;00m \u001b[39mNone\u001b[39;00m:\n\u001b[0;32m    141\u001b[0m     \u001b[39mtry\u001b[39;00m:\n\u001b[1;32m--> 142\u001b[0m         \u001b[39mnext\u001b[39;49m(\u001b[39mself\u001b[39;49m\u001b[39m.\u001b[39;49mgen)\n\u001b[0;32m    143\u001b[0m     \u001b[39mexcept\u001b[39;00m \u001b[39mStopIteration\u001b[39;00m:\n\u001b[0;32m    144\u001b[0m         \u001b[39mreturn\u001b[39;00m \u001b[39mFalse\u001b[39;00m\n",
      "File \u001b[1;32mc:\\anaconda\\envs\\gee\\lib\\site-packages\\traitlets\\traitlets.py:1512\u001b[0m, in \u001b[0;36mHasTraits.hold_trait_notifications\u001b[1;34m(self)\u001b[0m\n\u001b[0;32m   1510\u001b[0m \u001b[39mfor\u001b[39;00m changes \u001b[39min\u001b[39;00m cache\u001b[39m.\u001b[39mvalues():\n\u001b[0;32m   1511\u001b[0m     \u001b[39mfor\u001b[39;00m change \u001b[39min\u001b[39;00m changes:\n\u001b[1;32m-> 1512\u001b[0m         \u001b[39mself\u001b[39;49m\u001b[39m.\u001b[39;49mnotify_change(change)\n",
      "File \u001b[1;32mc:\\anaconda\\envs\\gee\\lib\\site-packages\\ipywidgets\\widgets\\widget.py:701\u001b[0m, in \u001b[0;36mWidget.notify_change\u001b[1;34m(self, change)\u001b[0m\n\u001b[0;32m    698\u001b[0m     \u001b[39mif\u001b[39;00m name \u001b[39min\u001b[39;00m \u001b[39mself\u001b[39m\u001b[39m.\u001b[39mkeys \u001b[39mand\u001b[39;00m \u001b[39mself\u001b[39m\u001b[39m.\u001b[39m_should_send_property(name, \u001b[39mgetattr\u001b[39m(\u001b[39mself\u001b[39m, name)):\n\u001b[0;32m    699\u001b[0m         \u001b[39m# Send new state to front-end\u001b[39;00m\n\u001b[0;32m    700\u001b[0m         \u001b[39mself\u001b[39m\u001b[39m.\u001b[39msend_state(key\u001b[39m=\u001b[39mname)\n\u001b[1;32m--> 701\u001b[0m \u001b[39msuper\u001b[39;49m()\u001b[39m.\u001b[39;49mnotify_change(change)\n",
      "File \u001b[1;32mc:\\anaconda\\envs\\gee\\lib\\site-packages\\traitlets\\traitlets.py:1527\u001b[0m, in \u001b[0;36mHasTraits.notify_change\u001b[1;34m(self, change)\u001b[0m\n\u001b[0;32m   1525\u001b[0m \u001b[39mdef\u001b[39;00m \u001b[39mnotify_change\u001b[39m(\u001b[39mself\u001b[39m, change: Bunch) \u001b[39m-\u001b[39m\u001b[39m>\u001b[39m \u001b[39mNone\u001b[39;00m:\n\u001b[0;32m   1526\u001b[0m \u001b[39m    \u001b[39m\u001b[39m\"\"\"Notify observers of a change event\"\"\"\u001b[39;00m\n\u001b[1;32m-> 1527\u001b[0m     \u001b[39mreturn\u001b[39;00m \u001b[39mself\u001b[39;49m\u001b[39m.\u001b[39;49m_notify_observers(change)\n",
      "File \u001b[1;32mc:\\anaconda\\envs\\gee\\lib\\site-packages\\traitlets\\traitlets.py:1570\u001b[0m, in \u001b[0;36mHasTraits._notify_observers\u001b[1;34m(self, event)\u001b[0m\n\u001b[0;32m   1567\u001b[0m \u001b[39melif\u001b[39;00m \u001b[39misinstance\u001b[39m(c, EventHandler) \u001b[39mand\u001b[39;00m c\u001b[39m.\u001b[39mname \u001b[39mis\u001b[39;00m \u001b[39mnot\u001b[39;00m \u001b[39mNone\u001b[39;00m:\n\u001b[0;32m   1568\u001b[0m     c \u001b[39m=\u001b[39m \u001b[39mgetattr\u001b[39m(\u001b[39mself\u001b[39m, c\u001b[39m.\u001b[39mname)\n\u001b[1;32m-> 1570\u001b[0m c(event)\n",
      "File \u001b[1;32mc:\\anaconda\\envs\\gee\\lib\\site-packages\\plotly\\basewidget.py:635\u001b[0m, in \u001b[0;36mBaseFigureWidget._handler_js2py_relayout\u001b[1;34m(self, change)\u001b[0m\n\u001b[0;32m    631\u001b[0m     relayout_data\u001b[39m.\u001b[39mpop(\u001b[39m\"\u001b[39m\u001b[39mlastInputTime\u001b[39m\u001b[39m\"\u001b[39m)\n\u001b[0;32m    633\u001b[0m \u001b[39m# Perform relayout\u001b[39;00m\n\u001b[0;32m    634\u001b[0m \u001b[39m# ----------------\u001b[39;00m\n\u001b[1;32m--> 635\u001b[0m \u001b[39mself\u001b[39;49m\u001b[39m.\u001b[39;49mplotly_relayout(relayout_data\u001b[39m=\u001b[39;49mrelayout_data, source_view_id\u001b[39m=\u001b[39;49msource_view_id)\n\u001b[0;32m    637\u001b[0m \u001b[39mself\u001b[39m\u001b[39m.\u001b[39m_js2py_relayout \u001b[39m=\u001b[39m \u001b[39mNone\u001b[39;00m\n",
      "File \u001b[1;32mc:\\anaconda\\envs\\gee\\lib\\site-packages\\plotly\\basedatatypes.py:2610\u001b[0m, in \u001b[0;36mBaseFigure.plotly_relayout\u001b[1;34m(self, relayout_data, **kwargs)\u001b[0m\n\u001b[0;32m   2606\u001b[0m     msg_kwargs \u001b[39m=\u001b[39m {}\n\u001b[0;32m   2608\u001b[0m \u001b[39m# Perform relayout operation on layout dict\u001b[39;00m\n\u001b[0;32m   2609\u001b[0m \u001b[39m# -----------------------------------------\u001b[39;00m\n\u001b[1;32m-> 2610\u001b[0m relayout_changes \u001b[39m=\u001b[39m \u001b[39mself\u001b[39;49m\u001b[39m.\u001b[39;49m_perform_plotly_relayout(relayout_data)\n\u001b[0;32m   2611\u001b[0m \u001b[39mif\u001b[39;00m relayout_changes:\n\u001b[0;32m   2612\u001b[0m     \u001b[39m# The relayout operation resulted in a change to some layout\u001b[39;00m\n\u001b[0;32m   2613\u001b[0m     \u001b[39m# properties, so we dispatch change callbacks and send the\u001b[39;00m\n\u001b[0;32m   2614\u001b[0m     \u001b[39m# relayout message to the frontend (if any)\u001b[39;00m\n\u001b[0;32m   2615\u001b[0m     \u001b[39mself\u001b[39m\u001b[39m.\u001b[39m_send_relayout_msg(relayout_changes, \u001b[39m*\u001b[39m\u001b[39m*\u001b[39mmsg_kwargs)\n",
      "File \u001b[1;32mc:\\anaconda\\envs\\gee\\lib\\site-packages\\plotly\\basedatatypes.py:2646\u001b[0m, in \u001b[0;36mBaseFigure._perform_plotly_relayout\u001b[1;34m(self, relayout_data)\u001b[0m\n\u001b[0;32m   2642\u001b[0m         \u001b[39mfor\u001b[39;00m key_path_str, v \u001b[39min\u001b[39;00m relayout_data\u001b[39m.\u001b[39mitems():\n\u001b[0;32m   2644\u001b[0m             \u001b[39mif\u001b[39;00m \u001b[39mnot\u001b[39;00m BaseFigure\u001b[39m.\u001b[39m_is_key_path_compatible(key_path_str, \u001b[39mself\u001b[39m\u001b[39m.\u001b[39mlayout):\n\u001b[1;32m-> 2646\u001b[0m                 \u001b[39mraise\u001b[39;00m \u001b[39mValueError\u001b[39;00m(\n\u001b[0;32m   2647\u001b[0m \u001b[39m                    \u001b[39m\u001b[39m\"\"\"\u001b[39;00m\n\u001b[0;32m   2648\u001b[0m \u001b[39mInvalid property path '{key_path_str}' for layout\u001b[39;00m\n\u001b[0;32m   2649\u001b[0m \u001b[39m\"\"\"\u001b[39;00m\u001b[39m.\u001b[39mformat(\n\u001b[0;32m   2650\u001b[0m                         key_path_str\u001b[39m=\u001b[39mkey_path_str\n\u001b[0;32m   2651\u001b[0m                     )\n\u001b[0;32m   2652\u001b[0m                 )\n\u001b[0;32m   2654\u001b[0m             \u001b[39m# Apply set operation on the layout dict\u001b[39;00m\n\u001b[0;32m   2655\u001b[0m             val_changed \u001b[39m=\u001b[39m BaseFigure\u001b[39m.\u001b[39m_set_in(\u001b[39mself\u001b[39m\u001b[39m.\u001b[39m_layout, key_path_str, v)\n",
      "\u001b[1;31mValueError\u001b[0m: \nInvalid property path 'mapbox._derived' for layout\n"
     ]
    },
    {
     "ename": "ValueError",
     "evalue": "\nInvalid property path 'mapbox._derived' for layout\n",
     "output_type": "error",
     "traceback": [
      "\u001b[1;31m---------------------------------------------------------------------------\u001b[0m",
      "\u001b[1;31mValueError\u001b[0m                                Traceback (most recent call last)",
      "File \u001b[1;32mc:\\anaconda\\envs\\gee\\lib\\site-packages\\ipywidgets\\widgets\\widget.py:773\u001b[0m, in \u001b[0;36mWidget._handle_msg\u001b[1;34m(self, msg)\u001b[0m\n\u001b[0;32m    771\u001b[0m         \u001b[39mif\u001b[39;00m \u001b[39m'\u001b[39m\u001b[39mbuffer_paths\u001b[39m\u001b[39m'\u001b[39m \u001b[39min\u001b[39;00m data:\n\u001b[0;32m    772\u001b[0m             _put_buffers(state, data[\u001b[39m'\u001b[39m\u001b[39mbuffer_paths\u001b[39m\u001b[39m'\u001b[39m], msg[\u001b[39m'\u001b[39m\u001b[39mbuffers\u001b[39m\u001b[39m'\u001b[39m])\n\u001b[1;32m--> 773\u001b[0m         \u001b[39mself\u001b[39;49m\u001b[39m.\u001b[39;49mset_state(state)\n\u001b[0;32m    775\u001b[0m \u001b[39m# Handle a state request.\u001b[39;00m\n\u001b[0;32m    776\u001b[0m \u001b[39melif\u001b[39;00m method \u001b[39m==\u001b[39m \u001b[39m'\u001b[39m\u001b[39mrequest_state\u001b[39m\u001b[39m'\u001b[39m:\n",
      "File \u001b[1;32mc:\\anaconda\\envs\\gee\\lib\\site-packages\\ipywidgets\\widgets\\widget.py:650\u001b[0m, in \u001b[0;36mWidget.set_state\u001b[1;34m(self, sync_data)\u001b[0m\n\u001b[0;32m    645\u001b[0m         \u001b[39mself\u001b[39m\u001b[39m.\u001b[39m_send(msg, buffers\u001b[39m=\u001b[39mecho_buffers)\n\u001b[0;32m    647\u001b[0m \u001b[39m# The order of these context managers is important. Properties must\u001b[39;00m\n\u001b[0;32m    648\u001b[0m \u001b[39m# be locked when the hold_trait_notification context manager is\u001b[39;00m\n\u001b[0;32m    649\u001b[0m \u001b[39m# released and notifications are fired.\u001b[39;00m\n\u001b[1;32m--> 650\u001b[0m \u001b[39mwith\u001b[39;00m \u001b[39mself\u001b[39m\u001b[39m.\u001b[39m_lock_property(\u001b[39m*\u001b[39m\u001b[39m*\u001b[39msync_data), \u001b[39mself\u001b[39m\u001b[39m.\u001b[39mhold_trait_notifications():\n\u001b[0;32m    651\u001b[0m     \u001b[39mfor\u001b[39;00m name \u001b[39min\u001b[39;00m sync_data:\n\u001b[0;32m    652\u001b[0m         \u001b[39mif\u001b[39;00m name \u001b[39min\u001b[39;00m \u001b[39mself\u001b[39m\u001b[39m.\u001b[39mkeys:\n",
      "File \u001b[1;32mc:\\anaconda\\envs\\gee\\lib\\contextlib.py:142\u001b[0m, in \u001b[0;36m_GeneratorContextManager.__exit__\u001b[1;34m(self, typ, value, traceback)\u001b[0m\n\u001b[0;32m    140\u001b[0m \u001b[39mif\u001b[39;00m typ \u001b[39mis\u001b[39;00m \u001b[39mNone\u001b[39;00m:\n\u001b[0;32m    141\u001b[0m     \u001b[39mtry\u001b[39;00m:\n\u001b[1;32m--> 142\u001b[0m         \u001b[39mnext\u001b[39;49m(\u001b[39mself\u001b[39;49m\u001b[39m.\u001b[39;49mgen)\n\u001b[0;32m    143\u001b[0m     \u001b[39mexcept\u001b[39;00m \u001b[39mStopIteration\u001b[39;00m:\n\u001b[0;32m    144\u001b[0m         \u001b[39mreturn\u001b[39;00m \u001b[39mFalse\u001b[39;00m\n",
      "File \u001b[1;32mc:\\anaconda\\envs\\gee\\lib\\site-packages\\traitlets\\traitlets.py:1512\u001b[0m, in \u001b[0;36mHasTraits.hold_trait_notifications\u001b[1;34m(self)\u001b[0m\n\u001b[0;32m   1510\u001b[0m \u001b[39mfor\u001b[39;00m changes \u001b[39min\u001b[39;00m cache\u001b[39m.\u001b[39mvalues():\n\u001b[0;32m   1511\u001b[0m     \u001b[39mfor\u001b[39;00m change \u001b[39min\u001b[39;00m changes:\n\u001b[1;32m-> 1512\u001b[0m         \u001b[39mself\u001b[39;49m\u001b[39m.\u001b[39;49mnotify_change(change)\n",
      "File \u001b[1;32mc:\\anaconda\\envs\\gee\\lib\\site-packages\\ipywidgets\\widgets\\widget.py:701\u001b[0m, in \u001b[0;36mWidget.notify_change\u001b[1;34m(self, change)\u001b[0m\n\u001b[0;32m    698\u001b[0m     \u001b[39mif\u001b[39;00m name \u001b[39min\u001b[39;00m \u001b[39mself\u001b[39m\u001b[39m.\u001b[39mkeys \u001b[39mand\u001b[39;00m \u001b[39mself\u001b[39m\u001b[39m.\u001b[39m_should_send_property(name, \u001b[39mgetattr\u001b[39m(\u001b[39mself\u001b[39m, name)):\n\u001b[0;32m    699\u001b[0m         \u001b[39m# Send new state to front-end\u001b[39;00m\n\u001b[0;32m    700\u001b[0m         \u001b[39mself\u001b[39m\u001b[39m.\u001b[39msend_state(key\u001b[39m=\u001b[39mname)\n\u001b[1;32m--> 701\u001b[0m \u001b[39msuper\u001b[39;49m()\u001b[39m.\u001b[39;49mnotify_change(change)\n",
      "File \u001b[1;32mc:\\anaconda\\envs\\gee\\lib\\site-packages\\traitlets\\traitlets.py:1527\u001b[0m, in \u001b[0;36mHasTraits.notify_change\u001b[1;34m(self, change)\u001b[0m\n\u001b[0;32m   1525\u001b[0m \u001b[39mdef\u001b[39;00m \u001b[39mnotify_change\u001b[39m(\u001b[39mself\u001b[39m, change: Bunch) \u001b[39m-\u001b[39m\u001b[39m>\u001b[39m \u001b[39mNone\u001b[39;00m:\n\u001b[0;32m   1526\u001b[0m \u001b[39m    \u001b[39m\u001b[39m\"\"\"Notify observers of a change event\"\"\"\u001b[39;00m\n\u001b[1;32m-> 1527\u001b[0m     \u001b[39mreturn\u001b[39;00m \u001b[39mself\u001b[39;49m\u001b[39m.\u001b[39;49m_notify_observers(change)\n",
      "File \u001b[1;32mc:\\anaconda\\envs\\gee\\lib\\site-packages\\traitlets\\traitlets.py:1570\u001b[0m, in \u001b[0;36mHasTraits._notify_observers\u001b[1;34m(self, event)\u001b[0m\n\u001b[0;32m   1567\u001b[0m \u001b[39melif\u001b[39;00m \u001b[39misinstance\u001b[39m(c, EventHandler) \u001b[39mand\u001b[39;00m c\u001b[39m.\u001b[39mname \u001b[39mis\u001b[39;00m \u001b[39mnot\u001b[39;00m \u001b[39mNone\u001b[39;00m:\n\u001b[0;32m   1568\u001b[0m     c \u001b[39m=\u001b[39m \u001b[39mgetattr\u001b[39m(\u001b[39mself\u001b[39m, c\u001b[39m.\u001b[39mname)\n\u001b[1;32m-> 1570\u001b[0m c(event)\n",
      "File \u001b[1;32mc:\\anaconda\\envs\\gee\\lib\\site-packages\\plotly\\basewidget.py:635\u001b[0m, in \u001b[0;36mBaseFigureWidget._handler_js2py_relayout\u001b[1;34m(self, change)\u001b[0m\n\u001b[0;32m    631\u001b[0m     relayout_data\u001b[39m.\u001b[39mpop(\u001b[39m\"\u001b[39m\u001b[39mlastInputTime\u001b[39m\u001b[39m\"\u001b[39m)\n\u001b[0;32m    633\u001b[0m \u001b[39m# Perform relayout\u001b[39;00m\n\u001b[0;32m    634\u001b[0m \u001b[39m# ----------------\u001b[39;00m\n\u001b[1;32m--> 635\u001b[0m \u001b[39mself\u001b[39;49m\u001b[39m.\u001b[39;49mplotly_relayout(relayout_data\u001b[39m=\u001b[39;49mrelayout_data, source_view_id\u001b[39m=\u001b[39;49msource_view_id)\n\u001b[0;32m    637\u001b[0m \u001b[39mself\u001b[39m\u001b[39m.\u001b[39m_js2py_relayout \u001b[39m=\u001b[39m \u001b[39mNone\u001b[39;00m\n",
      "File \u001b[1;32mc:\\anaconda\\envs\\gee\\lib\\site-packages\\plotly\\basedatatypes.py:2610\u001b[0m, in \u001b[0;36mBaseFigure.plotly_relayout\u001b[1;34m(self, relayout_data, **kwargs)\u001b[0m\n\u001b[0;32m   2606\u001b[0m     msg_kwargs \u001b[39m=\u001b[39m {}\n\u001b[0;32m   2608\u001b[0m \u001b[39m# Perform relayout operation on layout dict\u001b[39;00m\n\u001b[0;32m   2609\u001b[0m \u001b[39m# -----------------------------------------\u001b[39;00m\n\u001b[1;32m-> 2610\u001b[0m relayout_changes \u001b[39m=\u001b[39m \u001b[39mself\u001b[39;49m\u001b[39m.\u001b[39;49m_perform_plotly_relayout(relayout_data)\n\u001b[0;32m   2611\u001b[0m \u001b[39mif\u001b[39;00m relayout_changes:\n\u001b[0;32m   2612\u001b[0m     \u001b[39m# The relayout operation resulted in a change to some layout\u001b[39;00m\n\u001b[0;32m   2613\u001b[0m     \u001b[39m# properties, so we dispatch change callbacks and send the\u001b[39;00m\n\u001b[0;32m   2614\u001b[0m     \u001b[39m# relayout message to the frontend (if any)\u001b[39;00m\n\u001b[0;32m   2615\u001b[0m     \u001b[39mself\u001b[39m\u001b[39m.\u001b[39m_send_relayout_msg(relayout_changes, \u001b[39m*\u001b[39m\u001b[39m*\u001b[39mmsg_kwargs)\n",
      "File \u001b[1;32mc:\\anaconda\\envs\\gee\\lib\\site-packages\\plotly\\basedatatypes.py:2646\u001b[0m, in \u001b[0;36mBaseFigure._perform_plotly_relayout\u001b[1;34m(self, relayout_data)\u001b[0m\n\u001b[0;32m   2642\u001b[0m         \u001b[39mfor\u001b[39;00m key_path_str, v \u001b[39min\u001b[39;00m relayout_data\u001b[39m.\u001b[39mitems():\n\u001b[0;32m   2644\u001b[0m             \u001b[39mif\u001b[39;00m \u001b[39mnot\u001b[39;00m BaseFigure\u001b[39m.\u001b[39m_is_key_path_compatible(key_path_str, \u001b[39mself\u001b[39m\u001b[39m.\u001b[39mlayout):\n\u001b[1;32m-> 2646\u001b[0m                 \u001b[39mraise\u001b[39;00m \u001b[39mValueError\u001b[39;00m(\n\u001b[0;32m   2647\u001b[0m \u001b[39m                    \u001b[39m\u001b[39m\"\"\"\u001b[39;00m\n\u001b[0;32m   2648\u001b[0m \u001b[39mInvalid property path '{key_path_str}' for layout\u001b[39;00m\n\u001b[0;32m   2649\u001b[0m \u001b[39m\"\"\"\u001b[39;00m\u001b[39m.\u001b[39mformat(\n\u001b[0;32m   2650\u001b[0m                         key_path_str\u001b[39m=\u001b[39mkey_path_str\n\u001b[0;32m   2651\u001b[0m                     )\n\u001b[0;32m   2652\u001b[0m                 )\n\u001b[0;32m   2654\u001b[0m             \u001b[39m# Apply set operation on the layout dict\u001b[39;00m\n\u001b[0;32m   2655\u001b[0m             val_changed \u001b[39m=\u001b[39m BaseFigure\u001b[39m.\u001b[39m_set_in(\u001b[39mself\u001b[39m\u001b[39m.\u001b[39m_layout, key_path_str, v)\n",
      "\u001b[1;31mValueError\u001b[0m: \nInvalid property path 'mapbox._derived' for layout\n"
     ]
    },
    {
     "ename": "ValueError",
     "evalue": "\nInvalid property path 'mapbox._derived' for layout\n",
     "output_type": "error",
     "traceback": [
      "\u001b[1;31m---------------------------------------------------------------------------\u001b[0m",
      "\u001b[1;31mValueError\u001b[0m                                Traceback (most recent call last)",
      "File \u001b[1;32mc:\\anaconda\\envs\\gee\\lib\\site-packages\\ipywidgets\\widgets\\widget.py:773\u001b[0m, in \u001b[0;36mWidget._handle_msg\u001b[1;34m(self, msg)\u001b[0m\n\u001b[0;32m    771\u001b[0m         \u001b[39mif\u001b[39;00m \u001b[39m'\u001b[39m\u001b[39mbuffer_paths\u001b[39m\u001b[39m'\u001b[39m \u001b[39min\u001b[39;00m data:\n\u001b[0;32m    772\u001b[0m             _put_buffers(state, data[\u001b[39m'\u001b[39m\u001b[39mbuffer_paths\u001b[39m\u001b[39m'\u001b[39m], msg[\u001b[39m'\u001b[39m\u001b[39mbuffers\u001b[39m\u001b[39m'\u001b[39m])\n\u001b[1;32m--> 773\u001b[0m         \u001b[39mself\u001b[39;49m\u001b[39m.\u001b[39;49mset_state(state)\n\u001b[0;32m    775\u001b[0m \u001b[39m# Handle a state request.\u001b[39;00m\n\u001b[0;32m    776\u001b[0m \u001b[39melif\u001b[39;00m method \u001b[39m==\u001b[39m \u001b[39m'\u001b[39m\u001b[39mrequest_state\u001b[39m\u001b[39m'\u001b[39m:\n",
      "File \u001b[1;32mc:\\anaconda\\envs\\gee\\lib\\site-packages\\ipywidgets\\widgets\\widget.py:650\u001b[0m, in \u001b[0;36mWidget.set_state\u001b[1;34m(self, sync_data)\u001b[0m\n\u001b[0;32m    645\u001b[0m         \u001b[39mself\u001b[39m\u001b[39m.\u001b[39m_send(msg, buffers\u001b[39m=\u001b[39mecho_buffers)\n\u001b[0;32m    647\u001b[0m \u001b[39m# The order of these context managers is important. Properties must\u001b[39;00m\n\u001b[0;32m    648\u001b[0m \u001b[39m# be locked when the hold_trait_notification context manager is\u001b[39;00m\n\u001b[0;32m    649\u001b[0m \u001b[39m# released and notifications are fired.\u001b[39;00m\n\u001b[1;32m--> 650\u001b[0m \u001b[39mwith\u001b[39;00m \u001b[39mself\u001b[39m\u001b[39m.\u001b[39m_lock_property(\u001b[39m*\u001b[39m\u001b[39m*\u001b[39msync_data), \u001b[39mself\u001b[39m\u001b[39m.\u001b[39mhold_trait_notifications():\n\u001b[0;32m    651\u001b[0m     \u001b[39mfor\u001b[39;00m name \u001b[39min\u001b[39;00m sync_data:\n\u001b[0;32m    652\u001b[0m         \u001b[39mif\u001b[39;00m name \u001b[39min\u001b[39;00m \u001b[39mself\u001b[39m\u001b[39m.\u001b[39mkeys:\n",
      "File \u001b[1;32mc:\\anaconda\\envs\\gee\\lib\\contextlib.py:142\u001b[0m, in \u001b[0;36m_GeneratorContextManager.__exit__\u001b[1;34m(self, typ, value, traceback)\u001b[0m\n\u001b[0;32m    140\u001b[0m \u001b[39mif\u001b[39;00m typ \u001b[39mis\u001b[39;00m \u001b[39mNone\u001b[39;00m:\n\u001b[0;32m    141\u001b[0m     \u001b[39mtry\u001b[39;00m:\n\u001b[1;32m--> 142\u001b[0m         \u001b[39mnext\u001b[39;49m(\u001b[39mself\u001b[39;49m\u001b[39m.\u001b[39;49mgen)\n\u001b[0;32m    143\u001b[0m     \u001b[39mexcept\u001b[39;00m \u001b[39mStopIteration\u001b[39;00m:\n\u001b[0;32m    144\u001b[0m         \u001b[39mreturn\u001b[39;00m \u001b[39mFalse\u001b[39;00m\n",
      "File \u001b[1;32mc:\\anaconda\\envs\\gee\\lib\\site-packages\\traitlets\\traitlets.py:1512\u001b[0m, in \u001b[0;36mHasTraits.hold_trait_notifications\u001b[1;34m(self)\u001b[0m\n\u001b[0;32m   1510\u001b[0m \u001b[39mfor\u001b[39;00m changes \u001b[39min\u001b[39;00m cache\u001b[39m.\u001b[39mvalues():\n\u001b[0;32m   1511\u001b[0m     \u001b[39mfor\u001b[39;00m change \u001b[39min\u001b[39;00m changes:\n\u001b[1;32m-> 1512\u001b[0m         \u001b[39mself\u001b[39;49m\u001b[39m.\u001b[39;49mnotify_change(change)\n",
      "File \u001b[1;32mc:\\anaconda\\envs\\gee\\lib\\site-packages\\ipywidgets\\widgets\\widget.py:701\u001b[0m, in \u001b[0;36mWidget.notify_change\u001b[1;34m(self, change)\u001b[0m\n\u001b[0;32m    698\u001b[0m     \u001b[39mif\u001b[39;00m name \u001b[39min\u001b[39;00m \u001b[39mself\u001b[39m\u001b[39m.\u001b[39mkeys \u001b[39mand\u001b[39;00m \u001b[39mself\u001b[39m\u001b[39m.\u001b[39m_should_send_property(name, \u001b[39mgetattr\u001b[39m(\u001b[39mself\u001b[39m, name)):\n\u001b[0;32m    699\u001b[0m         \u001b[39m# Send new state to front-end\u001b[39;00m\n\u001b[0;32m    700\u001b[0m         \u001b[39mself\u001b[39m\u001b[39m.\u001b[39msend_state(key\u001b[39m=\u001b[39mname)\n\u001b[1;32m--> 701\u001b[0m \u001b[39msuper\u001b[39;49m()\u001b[39m.\u001b[39;49mnotify_change(change)\n",
      "File \u001b[1;32mc:\\anaconda\\envs\\gee\\lib\\site-packages\\traitlets\\traitlets.py:1527\u001b[0m, in \u001b[0;36mHasTraits.notify_change\u001b[1;34m(self, change)\u001b[0m\n\u001b[0;32m   1525\u001b[0m \u001b[39mdef\u001b[39;00m \u001b[39mnotify_change\u001b[39m(\u001b[39mself\u001b[39m, change: Bunch) \u001b[39m-\u001b[39m\u001b[39m>\u001b[39m \u001b[39mNone\u001b[39;00m:\n\u001b[0;32m   1526\u001b[0m \u001b[39m    \u001b[39m\u001b[39m\"\"\"Notify observers of a change event\"\"\"\u001b[39;00m\n\u001b[1;32m-> 1527\u001b[0m     \u001b[39mreturn\u001b[39;00m \u001b[39mself\u001b[39;49m\u001b[39m.\u001b[39;49m_notify_observers(change)\n",
      "File \u001b[1;32mc:\\anaconda\\envs\\gee\\lib\\site-packages\\traitlets\\traitlets.py:1570\u001b[0m, in \u001b[0;36mHasTraits._notify_observers\u001b[1;34m(self, event)\u001b[0m\n\u001b[0;32m   1567\u001b[0m \u001b[39melif\u001b[39;00m \u001b[39misinstance\u001b[39m(c, EventHandler) \u001b[39mand\u001b[39;00m c\u001b[39m.\u001b[39mname \u001b[39mis\u001b[39;00m \u001b[39mnot\u001b[39;00m \u001b[39mNone\u001b[39;00m:\n\u001b[0;32m   1568\u001b[0m     c \u001b[39m=\u001b[39m \u001b[39mgetattr\u001b[39m(\u001b[39mself\u001b[39m, c\u001b[39m.\u001b[39mname)\n\u001b[1;32m-> 1570\u001b[0m c(event)\n",
      "File \u001b[1;32mc:\\anaconda\\envs\\gee\\lib\\site-packages\\plotly\\basewidget.py:635\u001b[0m, in \u001b[0;36mBaseFigureWidget._handler_js2py_relayout\u001b[1;34m(self, change)\u001b[0m\n\u001b[0;32m    631\u001b[0m     relayout_data\u001b[39m.\u001b[39mpop(\u001b[39m\"\u001b[39m\u001b[39mlastInputTime\u001b[39m\u001b[39m\"\u001b[39m)\n\u001b[0;32m    633\u001b[0m \u001b[39m# Perform relayout\u001b[39;00m\n\u001b[0;32m    634\u001b[0m \u001b[39m# ----------------\u001b[39;00m\n\u001b[1;32m--> 635\u001b[0m \u001b[39mself\u001b[39;49m\u001b[39m.\u001b[39;49mplotly_relayout(relayout_data\u001b[39m=\u001b[39;49mrelayout_data, source_view_id\u001b[39m=\u001b[39;49msource_view_id)\n\u001b[0;32m    637\u001b[0m \u001b[39mself\u001b[39m\u001b[39m.\u001b[39m_js2py_relayout \u001b[39m=\u001b[39m \u001b[39mNone\u001b[39;00m\n",
      "File \u001b[1;32mc:\\anaconda\\envs\\gee\\lib\\site-packages\\plotly\\basedatatypes.py:2610\u001b[0m, in \u001b[0;36mBaseFigure.plotly_relayout\u001b[1;34m(self, relayout_data, **kwargs)\u001b[0m\n\u001b[0;32m   2606\u001b[0m     msg_kwargs \u001b[39m=\u001b[39m {}\n\u001b[0;32m   2608\u001b[0m \u001b[39m# Perform relayout operation on layout dict\u001b[39;00m\n\u001b[0;32m   2609\u001b[0m \u001b[39m# -----------------------------------------\u001b[39;00m\n\u001b[1;32m-> 2610\u001b[0m relayout_changes \u001b[39m=\u001b[39m \u001b[39mself\u001b[39;49m\u001b[39m.\u001b[39;49m_perform_plotly_relayout(relayout_data)\n\u001b[0;32m   2611\u001b[0m \u001b[39mif\u001b[39;00m relayout_changes:\n\u001b[0;32m   2612\u001b[0m     \u001b[39m# The relayout operation resulted in a change to some layout\u001b[39;00m\n\u001b[0;32m   2613\u001b[0m     \u001b[39m# properties, so we dispatch change callbacks and send the\u001b[39;00m\n\u001b[0;32m   2614\u001b[0m     \u001b[39m# relayout message to the frontend (if any)\u001b[39;00m\n\u001b[0;32m   2615\u001b[0m     \u001b[39mself\u001b[39m\u001b[39m.\u001b[39m_send_relayout_msg(relayout_changes, \u001b[39m*\u001b[39m\u001b[39m*\u001b[39mmsg_kwargs)\n",
      "File \u001b[1;32mc:\\anaconda\\envs\\gee\\lib\\site-packages\\plotly\\basedatatypes.py:2646\u001b[0m, in \u001b[0;36mBaseFigure._perform_plotly_relayout\u001b[1;34m(self, relayout_data)\u001b[0m\n\u001b[0;32m   2642\u001b[0m         \u001b[39mfor\u001b[39;00m key_path_str, v \u001b[39min\u001b[39;00m relayout_data\u001b[39m.\u001b[39mitems():\n\u001b[0;32m   2644\u001b[0m             \u001b[39mif\u001b[39;00m \u001b[39mnot\u001b[39;00m BaseFigure\u001b[39m.\u001b[39m_is_key_path_compatible(key_path_str, \u001b[39mself\u001b[39m\u001b[39m.\u001b[39mlayout):\n\u001b[1;32m-> 2646\u001b[0m                 \u001b[39mraise\u001b[39;00m \u001b[39mValueError\u001b[39;00m(\n\u001b[0;32m   2647\u001b[0m \u001b[39m                    \u001b[39m\u001b[39m\"\"\"\u001b[39;00m\n\u001b[0;32m   2648\u001b[0m \u001b[39mInvalid property path '{key_path_str}' for layout\u001b[39;00m\n\u001b[0;32m   2649\u001b[0m \u001b[39m\"\"\"\u001b[39;00m\u001b[39m.\u001b[39mformat(\n\u001b[0;32m   2650\u001b[0m                         key_path_str\u001b[39m=\u001b[39mkey_path_str\n\u001b[0;32m   2651\u001b[0m                     )\n\u001b[0;32m   2652\u001b[0m                 )\n\u001b[0;32m   2654\u001b[0m             \u001b[39m# Apply set operation on the layout dict\u001b[39;00m\n\u001b[0;32m   2655\u001b[0m             val_changed \u001b[39m=\u001b[39m BaseFigure\u001b[39m.\u001b[39m_set_in(\u001b[39mself\u001b[39m\u001b[39m.\u001b[39m_layout, key_path_str, v)\n",
      "\u001b[1;31mValueError\u001b[0m: \nInvalid property path 'mapbox._derived' for layout\n"
     ]
    }
   ],
   "source": [
    "Map = geemap.Map()\n",
    "Map"
   ]
  },
  {
   "cell_type": "code",
   "execution_count": 22,
   "metadata": {},
   "outputs": [
    {
     "data": {
      "text/html": [
       "\n",
       "            <style>\n",
       "                .geemap-dark {\n",
       "                    --jp-widgets-color: white;\n",
       "                    --jp-widgets-label-color: white;\n",
       "                    --jp-ui-font-color1: white;\n",
       "                    --jp-layout-color2: #454545;\n",
       "                    background-color: #383838;\n",
       "                }\n",
       "                    \n",
       "                .geemap-dark .jupyter-button {\n",
       "                    --jp-layout-color3: #383838;\n",
       "                }\n",
       "                \n",
       "                .geemap-colab {\n",
       "                    background-color: var(--colab-primary-surface-color, white);\n",
       "                }\n",
       "                    \n",
       "                .geemap-colab .jupyter-button {\n",
       "                    --jp-layout-color3: var(--colab-primary-surface-color, white);\n",
       "                }\n",
       "            </style>\n",
       "            "
      ],
      "text/plain": [
       "<IPython.core.display.HTML object>"
      ]
     },
     "metadata": {},
     "output_type": "display_data"
    }
   ],
   "source": [
    "geemap.fix_widget_error()"
   ]
  },
  {
   "cell_type": "markdown",
   "metadata": {},
   "source": [
    "### Pydeck"
   ]
  },
  {
   "cell_type": "code",
   "execution_count": 37,
   "metadata": {},
   "outputs": [
    {
     "data": {
      "text/html": [
       "\n",
       "            <style>\n",
       "                .geemap-dark {\n",
       "                    --jp-widgets-color: white;\n",
       "                    --jp-widgets-label-color: white;\n",
       "                    --jp-ui-font-color1: white;\n",
       "                    --jp-layout-color2: #454545;\n",
       "                    background-color: #383838;\n",
       "                }\n",
       "                    \n",
       "                .geemap-dark .jupyter-button {\n",
       "                    --jp-layout-color3: #383838;\n",
       "                }\n",
       "                \n",
       "                .geemap-colab {\n",
       "                    background-color: var(--colab-primary-surface-color, white);\n",
       "                }\n",
       "                    \n",
       "                .geemap-colab .jupyter-button {\n",
       "                    --jp-layout-color3: var(--colab-primary-surface-color, white);\n",
       "                }\n",
       "            </style>\n",
       "            "
      ],
      "text/plain": [
       "<IPython.core.display.HTML object>"
      ]
     },
     "metadata": {},
     "output_type": "display_data"
    }
   ],
   "source": [
    "import geemap.deck as geemap"
   ]
  },
  {
   "cell_type": "code",
   "execution_count": 38,
   "metadata": {},
   "outputs": [
    {
     "data": {
      "text/html": [
       "\n",
       "            <style>\n",
       "                .geemap-dark {\n",
       "                    --jp-widgets-color: white;\n",
       "                    --jp-widgets-label-color: white;\n",
       "                    --jp-ui-font-color1: white;\n",
       "                    --jp-layout-color2: #454545;\n",
       "                    background-color: #383838;\n",
       "                }\n",
       "                    \n",
       "                .geemap-dark .jupyter-button {\n",
       "                    --jp-layout-color3: #383838;\n",
       "                }\n",
       "                \n",
       "                .geemap-colab {\n",
       "                    background-color: var(--colab-primary-surface-color, white);\n",
       "                }\n",
       "                    \n",
       "                .geemap-colab .jupyter-button {\n",
       "                    --jp-layout-color3: var(--colab-primary-surface-color, white);\n",
       "                }\n",
       "            </style>\n",
       "            "
      ],
      "text/plain": [
       "<IPython.core.display.HTML object>"
      ]
     },
     "metadata": {},
     "output_type": "display_data"
    },
    {
     "data": {
      "text/html": [
       "\n",
       "        <iframe\n",
       "            width=\"100%\"\n",
       "            height=500\n",
       "            frameborder=\"0\"\n",
       "            srcdoc=\"&lt;!DOCTYPE html&gt;\n",
       "&lt;html&gt;\n",
       "  &lt;head&gt;\n",
       "    &lt;meta http-equiv=&quot;content-type&quot; content=&quot;text/html; charset=UTF-8&quot; /&gt;\n",
       "    &lt;title&gt;pydeck&lt;/title&gt;\n",
       "        &lt;script src=&quot;https://api.tiles.mapbox.com/mapbox-gl-js/v1.13.0/mapbox-gl.js&quot;&gt;&lt;/script&gt;\n",
       "        &lt;link rel=&quot;stylesheet&quot; href=&quot;https://maxcdn.bootstrapcdn.com/bootstrap/3.2.0/css/bootstrap-theme.min.css&quot; /&gt;\n",
       "    &lt;link rel=&quot;stylesheet&quot; href=&quot;https://maxcdn.bootstrapcdn.com/font-awesome/4.6.3/css/font-awesome.min.css&quot; /&gt;\n",
       "    &lt;script src=&#x27;https://cdn.jsdelivr.net/npm/@deck.gl/jupyter-widget@~8.8.*/dist/index.js&#x27;&gt;&lt;/script&gt;\n",
       "    &lt;style&gt;\n",
       "    body {\n",
       "  margin: 0;\n",
       "  padding: 0;\n",
       "  overflow: hidden;\n",
       "}\n",
       "\n",
       "#deck-container {\n",
       "  width: 100vw;\n",
       "  height: 100vh;\n",
       "}\n",
       "\n",
       "#deck-container canvas {\n",
       "  z-index: 1;\n",
       "  background: none;\n",
       "}\n",
       "    &lt;/style&gt;\n",
       "  &lt;/head&gt;\n",
       "  &lt;body&gt;\n",
       "    &lt;div id=&quot;deck-container&quot;&gt;\n",
       "    &lt;/div&gt;\n",
       "  &lt;/body&gt;\n",
       "  &lt;script&gt;\n",
       "    const container = document.getElementById(&#x27;deck-container&#x27;);\n",
       "    const jsonInput = {\n",
       "  &quot;initialViewState&quot;: {\n",
       "    &quot;height&quot;: 800,\n",
       "    &quot;latitude&quot;: 20,\n",
       "    &quot;longitude&quot;: 0,\n",
       "    &quot;zoom&quot;: 1.2\n",
       "  },\n",
       "  &quot;layers&quot;: [],\n",
       "  &quot;mapProvider&quot;: &quot;carto&quot;,\n",
       "  &quot;mapStyle&quot;: &quot;https://basemaps.cartocdn.com/gl/positron-gl-style/style.json&quot;,\n",
       "  &quot;views&quot;: [\n",
       "    {\n",
       "      &quot;@@type&quot;: &quot;MapView&quot;,\n",
       "      &quot;controller&quot;: true\n",
       "    }\n",
       "  ]\n",
       "};\n",
       "    const tooltip = true;\n",
       "    const customLibraries = null;\n",
       "    const configuration = null;\n",
       "\n",
       "    const deckInstance = createDeck({\n",
       "                  container,\n",
       "      jsonInput,\n",
       "      tooltip,\n",
       "      customLibraries,\n",
       "      configuration\n",
       "    });\n",
       "\n",
       "  &lt;/script&gt;\n",
       "&lt;/html&gt;\"\n",
       "        ></iframe>\n",
       "    "
      ],
      "text/plain": [
       "{\n",
       "  \"initialViewState\": {\n",
       "    \"height\": 800,\n",
       "    \"latitude\": 20,\n",
       "    \"longitude\": 0,\n",
       "    \"zoom\": 1.2\n",
       "  },\n",
       "  \"layers\": [],\n",
       "  \"mapProvider\": \"carto\",\n",
       "  \"mapStyle\": \"https://basemaps.cartocdn.com/gl/positron-gl-style/style.json\",\n",
       "  \"views\": [\n",
       "    {\n",
       "      \"@@type\": \"MapView\",\n",
       "      \"controller\": true\n",
       "    }\n",
       "  ]\n",
       "}"
      ]
     },
     "execution_count": 38,
     "metadata": {},
     "output_type": "execute_result"
    }
   ],
   "source": [
    "Map = geemap.Map()\n",
    "Map"
   ]
  },
  {
   "cell_type": "markdown",
   "metadata": {},
   "source": [
    "### KeplerGL"
   ]
  },
  {
   "cell_type": "code",
   "execution_count": 39,
   "metadata": {},
   "outputs": [
    {
     "data": {
      "text/html": [
       "\n",
       "            <style>\n",
       "                .geemap-dark {\n",
       "                    --jp-widgets-color: white;\n",
       "                    --jp-widgets-label-color: white;\n",
       "                    --jp-ui-font-color1: white;\n",
       "                    --jp-layout-color2: #454545;\n",
       "                    background-color: #383838;\n",
       "                }\n",
       "                    \n",
       "                .geemap-dark .jupyter-button {\n",
       "                    --jp-layout-color3: #383838;\n",
       "                }\n",
       "                \n",
       "                .geemap-colab {\n",
       "                    background-color: var(--colab-primary-surface-color, white);\n",
       "                }\n",
       "                    \n",
       "                .geemap-colab .jupyter-button {\n",
       "                    --jp-layout-color3: var(--colab-primary-surface-color, white);\n",
       "                }\n",
       "            </style>\n",
       "            "
      ],
      "text/plain": [
       "<IPython.core.display.HTML object>"
      ]
     },
     "metadata": {},
     "output_type": "display_data"
    }
   ],
   "source": [
    "import geemap.kepler as geemap"
   ]
  },
  {
   "cell_type": "code",
   "execution_count": 40,
   "metadata": {},
   "outputs": [
    {
     "data": {
      "text/html": [
       "\n",
       "            <style>\n",
       "                .geemap-dark {\n",
       "                    --jp-widgets-color: white;\n",
       "                    --jp-widgets-label-color: white;\n",
       "                    --jp-ui-font-color1: white;\n",
       "                    --jp-layout-color2: #454545;\n",
       "                    background-color: #383838;\n",
       "                }\n",
       "                    \n",
       "                .geemap-dark .jupyter-button {\n",
       "                    --jp-layout-color3: #383838;\n",
       "                }\n",
       "                \n",
       "                .geemap-colab {\n",
       "                    background-color: var(--colab-primary-surface-color, white);\n",
       "                }\n",
       "                    \n",
       "                .geemap-colab .jupyter-button {\n",
       "                    --jp-layout-color3: var(--colab-primary-surface-color, white);\n",
       "                }\n",
       "            </style>\n",
       "            "
      ],
      "text/plain": [
       "<IPython.core.display.HTML object>"
      ]
     },
     "metadata": {},
     "output_type": "display_data"
    },
    {
     "data": {
      "application/vnd.jupyter.widget-view+json": {
       "model_id": "742b143d30f64decbf61113de1707d99",
       "version_major": 2,
       "version_minor": 0
      },
      "text/plain": [
       "Map(config={'version': 'v1', 'config': {'mapState': {'latitude': 20, 'longitude': 0, 'zoom': 1.3, 'bearing': 0…"
      ]
     },
     "execution_count": 40,
     "metadata": {},
     "output_type": "execute_result"
    }
   ],
   "source": [
    "Map = geemap.Map()\n",
    "Map"
   ]
  },
  {
   "cell_type": "markdown",
   "metadata": {},
   "source": [
    "## Adding basemaps\n",
    "\n",
    "### Built-in basemaps"
   ]
  },
  {
   "cell_type": "code",
   "execution_count": 41,
   "metadata": {},
   "outputs": [
    {
     "data": {
      "text/html": [
       "\n",
       "            <style>\n",
       "                .geemap-dark {\n",
       "                    --jp-widgets-color: white;\n",
       "                    --jp-widgets-label-color: white;\n",
       "                    --jp-ui-font-color1: white;\n",
       "                    --jp-layout-color2: #454545;\n",
       "                    background-color: #383838;\n",
       "                }\n",
       "                    \n",
       "                .geemap-dark .jupyter-button {\n",
       "                    --jp-layout-color3: #383838;\n",
       "                }\n",
       "                \n",
       "                .geemap-colab {\n",
       "                    background-color: var(--colab-primary-surface-color, white);\n",
       "                }\n",
       "                    \n",
       "                .geemap-colab .jupyter-button {\n",
       "                    --jp-layout-color3: var(--colab-primary-surface-color, white);\n",
       "                }\n",
       "            </style>\n",
       "            "
      ],
      "text/plain": [
       "<IPython.core.display.HTML object>"
      ]
     },
     "metadata": {},
     "output_type": "display_data"
    }
   ],
   "source": [
    "import geemap"
   ]
  },
  {
   "cell_type": "code",
   "execution_count": 42,
   "metadata": {},
   "outputs": [
    {
     "data": {
      "text/html": [
       "\n",
       "            <style>\n",
       "                .geemap-dark {\n",
       "                    --jp-widgets-color: white;\n",
       "                    --jp-widgets-label-color: white;\n",
       "                    --jp-ui-font-color1: white;\n",
       "                    --jp-layout-color2: #454545;\n",
       "                    background-color: #383838;\n",
       "                }\n",
       "                    \n",
       "                .geemap-dark .jupyter-button {\n",
       "                    --jp-layout-color3: #383838;\n",
       "                }\n",
       "                \n",
       "                .geemap-colab {\n",
       "                    background-color: var(--colab-primary-surface-color, white);\n",
       "                }\n",
       "                    \n",
       "                .geemap-colab .jupyter-button {\n",
       "                    --jp-layout-color3: var(--colab-primary-surface-color, white);\n",
       "                }\n",
       "            </style>\n",
       "            "
      ],
      "text/plain": [
       "<IPython.core.display.HTML object>"
      ]
     },
     "metadata": {},
     "output_type": "display_data"
    },
    {
     "data": {
      "application/vnd.jupyter.widget-view+json": {
       "model_id": "bc4e303d716542e9809a6b25163eb1c4",
       "version_major": 2,
       "version_minor": 0
      },
      "text/plain": [
       "Map(center=[0, 0], controls=(WidgetControl(options=['position', 'transparent_bg'], widget=SearchDataGUI(childr…"
      ]
     },
     "execution_count": 42,
     "metadata": {},
     "output_type": "execute_result"
    }
   ],
   "source": [
    "Map = geemap.Map(basemap='HYBRID')\n",
    "Map"
   ]
  },
  {
   "cell_type": "code",
   "execution_count": 43,
   "metadata": {},
   "outputs": [
    {
     "data": {
      "text/html": [
       "\n",
       "            <style>\n",
       "                .geemap-dark {\n",
       "                    --jp-widgets-color: white;\n",
       "                    --jp-widgets-label-color: white;\n",
       "                    --jp-ui-font-color1: white;\n",
       "                    --jp-layout-color2: #454545;\n",
       "                    background-color: #383838;\n",
       "                }\n",
       "                    \n",
       "                .geemap-dark .jupyter-button {\n",
       "                    --jp-layout-color3: #383838;\n",
       "                }\n",
       "                \n",
       "                .geemap-colab {\n",
       "                    background-color: var(--colab-primary-surface-color, white);\n",
       "                }\n",
       "                    \n",
       "                .geemap-colab .jupyter-button {\n",
       "                    --jp-layout-color3: var(--colab-primary-surface-color, white);\n",
       "                }\n",
       "            </style>\n",
       "            "
      ],
      "text/plain": [
       "<IPython.core.display.HTML object>"
      ]
     },
     "metadata": {},
     "output_type": "display_data"
    }
   ],
   "source": [
    "Map.add_basemap('OpenTopoMap')"
   ]
  },
  {
   "cell_type": "code",
   "execution_count": 44,
   "metadata": {},
   "outputs": [
    {
     "data": {
      "text/html": [
       "\n",
       "            <style>\n",
       "                .geemap-dark {\n",
       "                    --jp-widgets-color: white;\n",
       "                    --jp-widgets-label-color: white;\n",
       "                    --jp-ui-font-color1: white;\n",
       "                    --jp-layout-color2: #454545;\n",
       "                    background-color: #383838;\n",
       "                }\n",
       "                    \n",
       "                .geemap-dark .jupyter-button {\n",
       "                    --jp-layout-color3: #383838;\n",
       "                }\n",
       "                \n",
       "                .geemap-colab {\n",
       "                    background-color: var(--colab-primary-surface-color, white);\n",
       "                }\n",
       "                    \n",
       "                .geemap-colab .jupyter-button {\n",
       "                    --jp-layout-color3: var(--colab-primary-surface-color, white);\n",
       "                }\n",
       "            </style>\n",
       "            "
      ],
      "text/plain": [
       "<IPython.core.display.HTML object>"
      ]
     },
     "metadata": {},
     "output_type": "display_data"
    },
    {
     "name": "stdout",
     "output_type": "stream",
     "text": [
      "OpenStreetMap\n",
      "Esri.WorldStreetMap\n",
      "Esri.WorldImagery\n",
      "Esri.WorldTopoMap\n",
      "FWS NWI Wetlands\n",
      "FWS NWI Wetlands Raster\n",
      "NLCD 2021 CONUS Land Cover\n",
      "NLCD 2019 CONUS Land Cover\n",
      "NLCD 2016 CONUS Land Cover\n",
      "NLCD 2013 CONUS Land Cover\n",
      "NLCD 2011 CONUS Land Cover\n",
      "NLCD 2008 CONUS Land Cover\n",
      "NLCD 2006 CONUS Land Cover\n",
      "NLCD 2004 CONUS Land Cover\n",
      "NLCD 2001 CONUS Land Cover\n",
      "USGS NAIP Imagery\n",
      "USGS NAIP Imagery False Color\n",
      "USGS NAIP Imagery NDVI\n",
      "USGS Hydrography\n",
      "USGS 3DEP Elevation\n",
      "ESA Worldcover 2020\n",
      "ESA Worldcover 2020 S2 FCC\n",
      "ESA Worldcover 2020 S2 TCC\n",
      "ESA Worldcover 2021\n",
      "ESA Worldcover 2021 S2 FCC\n",
      "ESA Worldcover 2021 S2 TCC\n",
      "BasemapAT.basemap\n",
      "BasemapAT.grau\n",
      "BasemapAT.highdpi\n",
      "BasemapAT.orthofoto\n",
      "BasemapAT.overlay\n",
      "BasemapAT.surface\n",
      "BasemapAT.terrain\n",
      "CartoDB.DarkMatter\n",
      "CartoDB.DarkMatterNoLabels\n",
      "CartoDB.DarkMatterOnlyLabels\n",
      "CartoDB.Positron\n",
      "CartoDB.PositronNoLabels\n",
      "CartoDB.PositronOnlyLabels\n",
      "CartoDB.Voyager\n",
      "CartoDB.VoyagerLabelsUnder\n",
      "CartoDB.VoyagerNoLabels\n",
      "CartoDB.VoyagerOnlyLabels\n",
      "CyclOSM\n",
      "Esri.AntarcticBasemap\n",
      "Esri.AntarcticImagery\n",
      "Esri.ArcticImagery\n",
      "Esri.ArcticOceanBase\n",
      "Esri.ArcticOceanReference\n",
      "Esri.DeLorme\n",
      "Esri.NatGeoWorldMap\n",
      "Esri.OceanBasemap\n",
      "Esri.WorldGrayCanvas\n",
      "Esri.WorldPhysical\n",
      "Esri.WorldShadedRelief\n",
      "Esri.WorldTerrain\n",
      "FreeMapSK\n",
      "Gaode.Normal\n",
      "Gaode.Satellite\n",
      "HikeBike.HikeBike\n",
      "HikeBike.HillShading\n",
      "JusticeMap.americanIndian\n",
      "JusticeMap.asian\n",
      "JusticeMap.black\n",
      "JusticeMap.hispanic\n",
      "JusticeMap.income\n",
      "JusticeMap.multi\n",
      "JusticeMap.nonWhite\n",
      "JusticeMap.plurality\n",
      "JusticeMap.white\n",
      "MtbMap\n",
      "NASAGIBS.ASTER_GDEM_Greyscale_Shaded_Relief\n",
      "NASAGIBS.BlueMarble\n",
      "NASAGIBS.BlueMarble3031\n",
      "NASAGIBS.BlueMarble3413\n",
      "NASAGIBS.ModisAquaBands721CR\n",
      "NASAGIBS.ModisAquaTrueColorCR\n",
      "NASAGIBS.ModisTerraAOD\n",
      "NASAGIBS.ModisTerraBands367CR\n",
      "NASAGIBS.ModisTerraBands721CR\n",
      "NASAGIBS.ModisTerraChlorophyll\n",
      "NASAGIBS.ModisTerraLSTDay\n",
      "NASAGIBS.ModisTerraSnowCover\n",
      "NASAGIBS.ModisTerraTrueColorCR\n",
      "NASAGIBS.ViirsEarthAtNight2012\n",
      "NASAGIBS.ViirsTrueColorCR\n",
      "NLS\n",
      "OPNVKarte\n",
      "OneMapSG.Default\n",
      "OneMapSG.Grey\n",
      "OneMapSG.LandLot\n",
      "OneMapSG.Night\n",
      "OneMapSG.Original\n",
      "OpenAIP\n",
      "OpenFireMap\n",
      "OpenRailwayMap\n",
      "OpenSeaMap\n",
      "OpenSnowMap.pistes\n",
      "OpenStreetMap.BZH\n",
      "OpenStreetMap.BlackAndWhite\n",
      "OpenStreetMap.CH\n",
      "OpenStreetMap.DE\n",
      "OpenStreetMap.HOT\n",
      "OpenStreetMap.Mapnik\n",
      "OpenTopoMap\n",
      "SafeCast\n",
      "Stadia.AlidadeSmooth\n",
      "Stadia.AlidadeSmoothDark\n",
      "Stadia.OSMBright\n",
      "Stadia.Outdoors\n",
      "Stadia.StamenTerrain\n",
      "Stadia.StamenTerrainBackground\n",
      "Stadia.StamenTerrainLabels\n",
      "Stadia.StamenTerrainLines\n",
      "Stadia.StamenToner\n",
      "Stadia.StamenTonerBackground\n",
      "Stadia.StamenTonerLabels\n",
      "Stadia.StamenTonerLines\n",
      "Stadia.StamenTonerLite\n",
      "Stadia.StamenWatercolor\n",
      "Strava.All\n",
      "Strava.Ride\n",
      "Strava.Run\n",
      "Strava.Water\n",
      "Strava.Winter\n",
      "SwissFederalGeoportal.JourneyThroughTime\n",
      "SwissFederalGeoportal.NationalMapColor\n",
      "SwissFederalGeoportal.NationalMapGrey\n",
      "SwissFederalGeoportal.SWISSIMAGE\n",
      "USGS.USImagery\n",
      "USGS.USImageryTopo\n",
      "USGS.USTopo\n",
      "WaymarkedTrails.cycling\n",
      "WaymarkedTrails.hiking\n",
      "WaymarkedTrails.mtb\n",
      "WaymarkedTrails.riding\n",
      "WaymarkedTrails.skating\n",
      "WaymarkedTrails.slopes\n",
      "nlmaps.grijs\n",
      "nlmaps.luchtfoto\n",
      "nlmaps.pastel\n",
      "nlmaps.standaard\n",
      "nlmaps.water\n"
     ]
    }
   ],
   "source": [
    "for basemap in geemap.basemaps.keys():\n",
    "    print(basemap)"
   ]
  },
  {
   "cell_type": "code",
   "execution_count": 45,
   "metadata": {},
   "outputs": [
    {
     "data": {
      "text/html": [
       "\n",
       "            <style>\n",
       "                .geemap-dark {\n",
       "                    --jp-widgets-color: white;\n",
       "                    --jp-widgets-label-color: white;\n",
       "                    --jp-ui-font-color1: white;\n",
       "                    --jp-layout-color2: #454545;\n",
       "                    background-color: #383838;\n",
       "                }\n",
       "                    \n",
       "                .geemap-dark .jupyter-button {\n",
       "                    --jp-layout-color3: #383838;\n",
       "                }\n",
       "                \n",
       "                .geemap-colab {\n",
       "                    background-color: var(--colab-primary-surface-color, white);\n",
       "                }\n",
       "                    \n",
       "                .geemap-colab .jupyter-button {\n",
       "                    --jp-layout-color3: var(--colab-primary-surface-color, white);\n",
       "                }\n",
       "            </style>\n",
       "            "
      ],
      "text/plain": [
       "<IPython.core.display.HTML object>"
      ]
     },
     "metadata": {},
     "output_type": "display_data"
    },
    {
     "data": {
      "text/plain": [
       "143"
      ]
     },
     "execution_count": 45,
     "metadata": {},
     "output_type": "execute_result"
    }
   ],
   "source": [
    "len(geemap.basemaps)"
   ]
  },
  {
   "cell_type": "markdown",
   "metadata": {},
   "source": [
    "### XYZ tiles"
   ]
  },
  {
   "cell_type": "code",
   "execution_count": 46,
   "metadata": {},
   "outputs": [
    {
     "data": {
      "text/html": [
       "\n",
       "            <style>\n",
       "                .geemap-dark {\n",
       "                    --jp-widgets-color: white;\n",
       "                    --jp-widgets-label-color: white;\n",
       "                    --jp-ui-font-color1: white;\n",
       "                    --jp-layout-color2: #454545;\n",
       "                    background-color: #383838;\n",
       "                }\n",
       "                    \n",
       "                .geemap-dark .jupyter-button {\n",
       "                    --jp-layout-color3: #383838;\n",
       "                }\n",
       "                \n",
       "                .geemap-colab {\n",
       "                    background-color: var(--colab-primary-surface-color, white);\n",
       "                }\n",
       "                    \n",
       "                .geemap-colab .jupyter-button {\n",
       "                    --jp-layout-color3: var(--colab-primary-surface-color, white);\n",
       "                }\n",
       "            </style>\n",
       "            "
      ],
      "text/plain": [
       "<IPython.core.display.HTML object>"
      ]
     },
     "metadata": {},
     "output_type": "display_data"
    },
    {
     "data": {
      "application/vnd.jupyter.widget-view+json": {
       "model_id": "21b5b0be85c442a4af02e5caa5a9b845",
       "version_major": 2,
       "version_minor": 0
      },
      "text/plain": [
       "Map(center=[0, 0], controls=(WidgetControl(options=['position', 'transparent_bg'], widget=SearchDataGUI(childr…"
      ]
     },
     "execution_count": 46,
     "metadata": {},
     "output_type": "execute_result"
    }
   ],
   "source": [
    "Map = geemap.Map()\n",
    "Map.add_tile_layer(\n",
    "    url=\"https://mt1.google.com/vt/lyrs=p&x={x}&y={y}&z={z}\",\n",
    "    name=\"Google Terrain\",\n",
    "    attribution=\"Google\",\n",
    ")\n",
    "Map"
   ]
  },
  {
   "cell_type": "markdown",
   "metadata": {},
   "source": [
    "### WMS tiles"
   ]
  },
  {
   "cell_type": "code",
   "execution_count": 47,
   "metadata": {},
   "outputs": [
    {
     "data": {
      "text/html": [
       "\n",
       "            <style>\n",
       "                .geemap-dark {\n",
       "                    --jp-widgets-color: white;\n",
       "                    --jp-widgets-label-color: white;\n",
       "                    --jp-ui-font-color1: white;\n",
       "                    --jp-layout-color2: #454545;\n",
       "                    background-color: #383838;\n",
       "                }\n",
       "                    \n",
       "                .geemap-dark .jupyter-button {\n",
       "                    --jp-layout-color3: #383838;\n",
       "                }\n",
       "                \n",
       "                .geemap-colab {\n",
       "                    background-color: var(--colab-primary-surface-color, white);\n",
       "                }\n",
       "                    \n",
       "                .geemap-colab .jupyter-button {\n",
       "                    --jp-layout-color3: var(--colab-primary-surface-color, white);\n",
       "                }\n",
       "            </style>\n",
       "            "
      ],
      "text/plain": [
       "<IPython.core.display.HTML object>"
      ]
     },
     "metadata": {},
     "output_type": "display_data"
    },
    {
     "data": {
      "application/vnd.jupyter.widget-view+json": {
       "model_id": "a619e9bec1d3431cbbffb2c1ab3a92e5",
       "version_major": 2,
       "version_minor": 0
      },
      "text/plain": [
       "Map(center=[40, -100], controls=(WidgetControl(options=['position', 'transparent_bg'], widget=SearchDataGUI(ch…"
      ]
     },
     "execution_count": 47,
     "metadata": {},
     "output_type": "execute_result"
    }
   ],
   "source": [
    "Map = geemap.Map(center=[40, -100], zoom=4)\n",
    "url = 'https://www.mrlc.gov/geoserver/mrlc_display/NLCD_2019_Land_Cover_L48/wms?'\n",
    "Map.add_wms_layer(\n",
    "    url=url,\n",
    "    layers='NLCD_2019_Land_Cover_L48',\n",
    "    name='NLCD 2019',\n",
    "    format='image/png',\n",
    "    attribution='MRLC',\n",
    "    transparent=True,\n",
    ")\n",
    "Map"
   ]
  },
  {
   "cell_type": "markdown",
   "metadata": {},
   "source": [
    "### Planet basemaps"
   ]
  },
  {
   "cell_type": "code",
   "execution_count": 48,
   "metadata": {},
   "outputs": [
    {
     "data": {
      "text/html": [
       "\n",
       "            <style>\n",
       "                .geemap-dark {\n",
       "                    --jp-widgets-color: white;\n",
       "                    --jp-widgets-label-color: white;\n",
       "                    --jp-ui-font-color1: white;\n",
       "                    --jp-layout-color2: #454545;\n",
       "                    background-color: #383838;\n",
       "                }\n",
       "                    \n",
       "                .geemap-dark .jupyter-button {\n",
       "                    --jp-layout-color3: #383838;\n",
       "                }\n",
       "                \n",
       "                .geemap-colab {\n",
       "                    background-color: var(--colab-primary-surface-color, white);\n",
       "                }\n",
       "                    \n",
       "                .geemap-colab .jupyter-button {\n",
       "                    --jp-layout-color3: var(--colab-primary-surface-color, white);\n",
       "                }\n",
       "            </style>\n",
       "            "
      ],
      "text/plain": [
       "<IPython.core.display.HTML object>"
      ]
     },
     "metadata": {},
     "output_type": "display_data"
    }
   ],
   "source": [
    "import os\n",
    "\n",
    "os.environ[\"PLANET_API_KEY\"] = \"YOUR_API_KEY\""
   ]
  },
  {
   "cell_type": "code",
   "execution_count": null,
   "metadata": {},
   "outputs": [],
   "source": [
    "quarterly_tiles = geemap.planet_quarterly_tiles()\n",
    "for tile in quarterly_tiles:\n",
    "    print(tile)"
   ]
  },
  {
   "cell_type": "code",
   "execution_count": null,
   "metadata": {},
   "outputs": [],
   "source": [
    "monthly_tiles = geemap.planet_monthly_tiles()\n",
    "for tile in monthly_tiles:\n",
    "    print(tile)"
   ]
  },
  {
   "cell_type": "code",
   "execution_count": null,
   "metadata": {},
   "outputs": [],
   "source": [
    "Map = geemap.Map()\n",
    "Map.add_planet_by_month(year=2020, month=8)\n",
    "Map"
   ]
  },
  {
   "cell_type": "code",
   "execution_count": null,
   "metadata": {},
   "outputs": [],
   "source": [
    "Map = geemap.Map()\n",
    "Map.add_planet_by_quarter(year=2019, quarter=2)\n",
    "Map"
   ]
  },
  {
   "cell_type": "markdown",
   "metadata": {},
   "source": [
    "### Basemap GUI"
   ]
  },
  {
   "cell_type": "code",
   "execution_count": null,
   "metadata": {},
   "outputs": [],
   "source": [
    "import os\n",
    "\n",
    "os.environ[\"PLANET_API_KEY\"] = \"YOUR_API_KEY\""
   ]
  },
  {
   "cell_type": "code",
   "execution_count": null,
   "metadata": {},
   "outputs": [],
   "source": [
    "Map = geemap.Map()\n",
    "Map"
   ]
  },
  {
   "cell_type": "markdown",
   "metadata": {},
   "source": [
    "## Summary"
   ]
  }
 ],
 "metadata": {
  "kernelspec": {
   "display_name": "Python 3",
   "language": "python",
   "name": "python3"
  },
  "language_info": {
   "codemirror_mode": {
    "name": "ipython",
    "version": 3
   },
   "file_extension": ".py",
   "mimetype": "text/x-python",
   "name": "python",
   "nbconvert_exporter": "python",
   "pygments_lexer": "ipython3",
   "version": "3.10.13"
  }
 },
 "nbformat": 4,
 "nbformat_minor": 5
}
