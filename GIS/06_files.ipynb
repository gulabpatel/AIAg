{
  "cells": [
    {
      "cell_type": "markdown",
      "metadata": {
        "id": "view-in-github",
        "colab_type": "text"
      },
      "source": [
        "<a href=\"https://colab.research.google.com/github/gulabpatel/AIAg/blob/main/GIS/06_files.ipynb\" target=\"_parent\"><img src=\"https://colab.research.google.com/assets/colab-badge.svg\" alt=\"Open In Colab\"/></a>"
      ]
    },
    {
      "cell_type": "markdown",
      "id": "0",
      "metadata": {
        "id": "0"
      },
      "source": [
        "# Files and Exception Handling\n",
        "\n",
        "## Overview\n",
        "\n",
        "This introduces techniques for working with files and handling exceptions in Python, focusing on their importance in geospatial programming. Managing files effectively is crucial when reading, writing, or processing geospatial data. Exception handling is equally important as it allows your programs to gracefully manage errors, ensuring that your code remains robust and reliable even in the face of unexpected issues.\n",
        "\n",
        "## Learning Objectives\n",
        "\n",
        "By the end of this, you should be able to:\n",
        "\n",
        "- Read from and write to files in Python, with a particular focus on handling geospatial data.\n",
        "- Implement exception handling using `try`, `except`, and `finally` blocks to manage errors that may occur during file operations.\n",
        "- Combine file handling and exception handling to create robust and reliable geospatial applications.\n",
        "- Develop the skills to identify and manage common issues in file processing, such as missing files, corrupt data, or formatting errors.\n",
        "- Ensure that your geospatial programs can handle real-world data scenarios effectively by using best practices for file and exception handling."
      ]
    },
    {
      "cell_type": "markdown",
      "id": "1",
      "metadata": {
        "id": "1"
      },
      "source": [
        "## Creating a Sample File\n",
        "\n",
        "Before working with files, it's essential to ensure that the files you intend to process actually exist. In this section, you'll learn how to create a sample `coordinates.txt` file programmatically. This file will be used in subsequent examples."
      ]
    },
    {
      "cell_type": "code",
      "execution_count": 1,
      "id": "2",
      "metadata": {
        "id": "2",
        "colab": {
          "base_uri": "https://localhost:8080/"
        },
        "outputId": "ceeff94e-782c-4894-c280-bceb6f462a5a"
      },
      "outputs": [
        {
          "output_type": "stream",
          "name": "stdout",
          "text": [
            "Sample file 'coordinates.txt' has been created successfully.\n"
          ]
        }
      ],
      "source": [
        "# Create a sample coordinates.txt file\n",
        "sample_data = \"\"\"35.6895,139.6917\n",
        "34.0522,-118.2437\n",
        "51.5074,-0.1278\n",
        "-33.8688,151.2093\n",
        "48.8566,2.3522\"\"\"\n",
        "\n",
        "output_file = \"coordinates.txt\"\n",
        "\n",
        "try:\n",
        "    with open(output_file, \"w\") as file:\n",
        "        file.write(sample_data)\n",
        "    print(f\"Sample file '{output_file}' has been created successfully.\")\n",
        "except Exception as e:\n",
        "    print(f\"An error occurred while creating the file: {e}\")"
      ]
    },
    {
      "cell_type": "markdown",
      "id": "3",
      "metadata": {
        "id": "3"
      },
      "source": [
        "In this code, we create a simple text file named `coordinates.txt` containing latitude and longitude pairs for several cities around the world. The file is written in the current working directory.\n",
        "\n",
        "After running this script, the `coordinates.txt` file will be available for use in the following examples. If any issues occur during the file creation process, the script will handle them and print an error message."
      ]
    },
    {
      "cell_type": "markdown",
      "id": "4",
      "metadata": {
        "id": "4"
      },
      "source": [
        "## Working with Files\n",
        "\n",
        "In geospatial programming, you often need to read from or write to files. Python provides built-in functions to handle these tasks. Let's start by reading from a text file containing coordinates and writing the results to a new file."
      ]
    },
    {
      "cell_type": "code",
      "execution_count": 2,
      "id": "5",
      "metadata": {
        "id": "5",
        "colab": {
          "base_uri": "https://localhost:8080/"
        },
        "outputId": "c943cf85-a9c2-433f-bee6-45eb6d0a4195"
      },
      "outputs": [
        {
          "output_type": "stream",
          "name": "stdout",
          "text": [
            "Coordinates have been written to output_coordinates.txt\n"
          ]
        }
      ],
      "source": [
        "# Example of reading coordinates from a file and writing to another file\n",
        "input_file = \"coordinates.txt\"\n",
        "output_file = \"output_coordinates.txt\"\n",
        "\n",
        "try:\n",
        "    with open(input_file, \"r\") as infile:\n",
        "        coordinates = infile.readlines()\n",
        "\n",
        "    with open(output_file, \"w\") as outfile:\n",
        "        for line in coordinates:\n",
        "            lat, lon = line.strip().split(\",\")\n",
        "            outfile.write(f\"Latitude: {lat}, Longitude: {lon}\\n\")\n",
        "\n",
        "    print(f\"Coordinates have been written to {output_file}\")\n",
        "except FileNotFoundError:\n",
        "    print(f\"Error: The file {input_file} was not found.\")"
      ]
    },
    {
      "cell_type": "markdown",
      "id": "6",
      "metadata": {
        "id": "6"
      },
      "source": [
        "## Exception Handling\n",
        "\n",
        "Exception handling allows you to handle errors that occur during the execution of your program. This is especially important in geospatial programming, where you may encounter issues such as missing files, corrupt data, or invalid input.\n",
        "\n",
        "Let's explore how to handle different types of exceptions using `try`, `except`, and `finally`."
      ]
    },
    {
      "cell_type": "code",
      "execution_count": 3,
      "id": "7",
      "metadata": {
        "id": "7",
        "colab": {
          "base_uri": "https://localhost:8080/"
        },
        "outputId": "85fe3289-5a41-4266-f923-e6cec87fce57"
      },
      "outputs": [
        {
          "output_type": "stream",
          "name": "stdout",
          "text": [
            "Error: not enough values to unpack (expected 2, got 1). Could not parse line: invalid data\n"
          ]
        }
      ],
      "source": [
        "# Example of exception handling when parsing coordinates\n",
        "def parse_coordinates(line):\n",
        "    try:\n",
        "        lat, lon = line.strip().split(\",\")\n",
        "        lat = float(lat)\n",
        "        lon = float(lon)\n",
        "        return lat, lon\n",
        "    except ValueError as e:\n",
        "        print(f\"Error: {e}. Could not parse line: {line.strip()}\")\n",
        "        return None\n",
        "    except Exception as e:\n",
        "        print(f\"An unexpected error occurred: {e}\")\n",
        "        return None\n",
        "\n",
        "\n",
        "# Example usage\n",
        "line = \"invalid data\"\n",
        "coordinates = parse_coordinates(line)\n",
        "if coordinates:\n",
        "    print(f\"Parsed coordinates: {coordinates}\")"
      ]
    },
    {
      "cell_type": "markdown",
      "id": "8",
      "metadata": {
        "id": "8"
      },
      "source": [
        "## Combining File Handling and Exception Handling\n",
        "\n",
        "You can combine file handling and exception handling to create robust geospatial applications. This allows you to ensure that files are properly handled even if errors occur during the process."
      ]
    },
    {
      "cell_type": "code",
      "execution_count": 4,
      "id": "9",
      "metadata": {
        "id": "9",
        "colab": {
          "base_uri": "https://localhost:8080/"
        },
        "outputId": "73a0d272-a2af-4025-fee8-6152bf5845ae"
      },
      "outputs": [
        {
          "output_type": "stream",
          "name": "stdout",
          "text": [
            "Processed coordinates: (35.6895, 139.6917)\n",
            "Processed coordinates: (34.0522, -118.2437)\n",
            "Processed coordinates: (51.5074, -0.1278)\n",
            "Processed coordinates: (-33.8688, 151.2093)\n",
            "Processed coordinates: (48.8566, 2.3522)\n",
            "Finished processing coordinates.txt\n"
          ]
        }
      ],
      "source": [
        "# Example of robust file handling with exceptions\n",
        "def process_geospatial_file(input_file):\n",
        "    try:\n",
        "        with open(input_file, \"r\") as infile:\n",
        "            for line in infile:\n",
        "                coordinates = parse_coordinates(line)\n",
        "                if coordinates:\n",
        "                    print(f\"Processed coordinates: {coordinates}\")\n",
        "    except FileNotFoundError:\n",
        "        print(f\"Error: The file {input_file} was not found.\")\n",
        "    except Exception as e:\n",
        "        print(f\"An unexpected error occurred while processing the file: {e}\")\n",
        "    finally:\n",
        "        print(f\"Finished processing {input_file}\")\n",
        "\n",
        "\n",
        "# Example usage\n",
        "process_geospatial_file(\"coordinates.txt\")"
      ]
    },
    {
      "cell_type": "markdown",
      "id": "10",
      "metadata": {
        "id": "10"
      },
      "source": [
        "## Reading GeoJSON Data from a URL\n",
        "\n",
        "In geospatial programming, it's common to access datasets hosted online. For instance, we may need to read GeoJSON data directly from a URL. Python's requests library makes it easy to retrieve such data. In this example, we'll read a GeoJSON file containing U.S. cities and handle any exceptions that may arise.\n"
      ]
    },
    {
      "cell_type": "code",
      "execution_count": 5,
      "id": "11",
      "metadata": {
        "id": "11"
      },
      "outputs": [],
      "source": [
        "!pip install requests"
      ]
    },
    {
      "cell_type": "markdown",
      "id": "12",
      "metadata": {
        "id": "12"
      },
      "source": [
        "Import the required libraries and read the GeoJSON data from the URL."
      ]
    },
    {
      "cell_type": "code",
      "execution_count": 6,
      "id": "13",
      "metadata": {
        "id": "13"
      },
      "outputs": [],
      "source": [
        "import requests"
      ]
    },
    {
      "cell_type": "markdown",
      "id": "14",
      "metadata": {
        "id": "14"
      },
      "source": [
        "In this case, we will read the GeoJSON data for world cities hosted at https://github.com/opengeos/datasets/releases/tag/world, and process it to extract the names and coordinates of the cities."
      ]
    },
    {
      "cell_type": "code",
      "execution_count": 7,
      "id": "15",
      "metadata": {
        "id": "15"
      },
      "outputs": [],
      "source": [
        "url = (\n",
        "    \"https://github.com/opengeos/datasets/releases/download/world/world_cities.geojson\"\n",
        ")"
      ]
    },
    {
      "cell_type": "markdown",
      "id": "16",
      "metadata": {
        "id": "16"
      },
      "source": [
        "Let's define a function to read the GeoJSON data from the URL and extract the city names and coordinates. We'll also handle any exceptions that may occur during the process."
      ]
    },
    {
      "cell_type": "code",
      "execution_count": 8,
      "id": "17",
      "metadata": {
        "id": "17"
      },
      "outputs": [],
      "source": [
        "def fetch_geojson(url):\n",
        "    try:\n",
        "        response = requests.get(url)\n",
        "        response.raise_for_status()  # Raises an exception for HTTP errors\n",
        "        geojson_data = response.json()  # Parse the JSON response\n",
        "        return geojson_data\n",
        "    except requests.exceptions.HTTPError as http_err:\n",
        "        print(f\"HTTP error occurred: {http_err}\")\n",
        "    except requests.exceptions.ConnectionError as conn_err:\n",
        "        print(f\"Error connecting to the server: {conn_err}\")\n",
        "    except Exception as err:\n",
        "        print(f\"An error occurred: {err}\")\n",
        "    return None\n",
        "\n",
        "\n",
        "# Fetch and print a summary of the data\n",
        "geojson_data = fetch_geojson(url)"
      ]
    },
    {
      "cell_type": "markdown",
      "id": "18",
      "metadata": {
        "id": "18"
      },
      "source": [
        "Uncomment and run the following code to display the data read from the URL."
      ]
    },
    {
      "cell_type": "code",
      "execution_count": null,
      "id": "19",
      "metadata": {
        "id": "19"
      },
      "outputs": [],
      "source": [
        "geojson_data"
      ]
    },
    {
      "cell_type": "markdown",
      "id": "20",
      "metadata": {
        "id": "20"
      },
      "source": [
        "The output above is lengthy, so we'll only display the first few cities. You can modify the code to display more cities if needed."
      ]
    },
    {
      "cell_type": "code",
      "execution_count": 10,
      "id": "21",
      "metadata": {
        "id": "21",
        "colab": {
          "base_uri": "https://localhost:8080/"
        },
        "outputId": "261dc442-8960-4d9c-d3c3-50237ab5d758"
      },
      "outputs": [
        {
          "output_type": "stream",
          "name": "stdout",
          "text": [
            "Number of cities: 1249\n",
            "Name: Bombo, Country: UGA, Coordinates: [32.5333, 0.5833]\n",
            "Name: Fort Portal, Country: UGA, Coordinates: [30.275, 0.671]\n",
            "Name: Potenza, Country: ITA, Coordinates: [15.799, 40.642]\n",
            "Name: Campobasso, Country: ITA, Coordinates: [14.656, 41.563]\n",
            "Name: Aosta, Country: ITA, Coordinates: [7.315, 45.737]\n"
          ]
        }
      ],
      "source": [
        "if geojson_data:\n",
        "    features = geojson_data.get(\"features\", [])\n",
        "    print(f\"Number of cities: {len(features)}\")\n",
        "\n",
        "    # Extract city ids and their coordinates\n",
        "    for feature in features[:5]:  # Display first 5 cities\n",
        "        city_name = feature[\"properties\"].get(\"name\")\n",
        "        country_name = feature[\"properties\"].get(\"country\")\n",
        "        coordinates = feature[\"geometry\"][\"coordinates\"]\n",
        "        print(f\"Name: {city_name}, Country: {country_name}, Coordinates: {coordinates}\")"
      ]
    },
    {
      "cell_type": "markdown",
      "id": "24",
      "metadata": {
        "id": "24"
      },
      "source": [
        "## Summary\n",
        "\n",
        "Working with files and handling exceptions are critical skills in geospatial programming. By mastering these techniques, you can create more reliable and efficient geospatial applications that handle real-world data gracefully."
      ]
    }
  ],
  "metadata": {
    "kernelspec": {
      "display_name": "Python 3 (ipykernel)",
      "language": "python",
      "name": "python3"
    },
    "language_info": {
      "codemirror_mode": {
        "name": "ipython",
        "version": 3
      },
      "file_extension": ".py",
      "mimetype": "text/x-python",
      "name": "python",
      "nbconvert_exporter": "python",
      "pygments_lexer": "ipython3",
      "version": "3.11.8"
    },
    "colab": {
      "provenance": [],
      "include_colab_link": true
    }
  },
  "nbformat": 4,
  "nbformat_minor": 5
}