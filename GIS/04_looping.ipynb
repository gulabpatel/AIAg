{
  "cells": [
    {
      "cell_type": "markdown",
      "metadata": {
        "id": "view-in-github",
        "colab_type": "text"
      },
      "source": [
        "<a href=\"https://colab.research.google.com/github/gulabpatel/AIAg/blob/main/GIS/04_looping.ipynb\" target=\"_parent\"><img src=\"https://colab.research.google.com/assets/colab-badge.svg\" alt=\"Open In Colab\"/></a>"
      ]
    },
    {
      "cell_type": "markdown",
      "id": "0",
      "metadata": {
        "id": "0"
      },
      "source": [
        "# Looping and Control Statements\n",
        "\n",
        "## Overview\n",
        "\n",
        "This introduces looping and control statements in Python, focusing on their applications in geospatial programming. Loops and control statements are essential tools for automating repetitive tasks, making decisions based on data conditions, and efficiently processing large geospatial datasets. By mastering these concepts, you will be able to handle complex geospatial analysis tasks with greater efficiency and precision.\n",
        "\n",
        "## Learning Objectives\n",
        "\n",
        "By the end of this, you should be able to:\n",
        "\n",
        "- Understand and implement `for` loops to iterate over sequences such as lists and tuples.\n",
        "- Use `while` loops to perform tasks until a specific condition is met.\n",
        "- Apply control statements (`if`, `elif`, `else`) to execute different blocks of code based on data conditions.\n",
        "- Combine loops and control statements to filter, process, and analyze geospatial data.\n",
        "- Develop the ability to automate repetitive geospatial tasks, making your data processing workflows more efficient.\n",
        "\n",
        "## For Loops\n",
        "\n",
        "For loops allow you to iterate over a sequence (such as a list, tuple, or string) and execute a block of code for each item in the sequence. This is particularly useful in geospatial programming when you need to process multiple features or coordinates."
      ]
    },
    {
      "cell_type": "code",
      "execution_count": 1,
      "id": "1",
      "metadata": {
        "id": "1",
        "colab": {
          "base_uri": "https://localhost:8080/"
        },
        "outputId": "6e7de450-141e-429d-e53c-41a7bae1a284"
      },
      "outputs": [
        {
          "output_type": "stream",
          "name": "stdout",
          "text": [
            "Latitude: 35.6895, Longitude: 139.6917\n",
            "Latitude: 34.0522, Longitude: -118.2437\n",
            "Latitude: 51.5074, Longitude: -0.1278\n"
          ]
        }
      ],
      "source": [
        "coordinates = [\n",
        "    (35.6895, 139.6917),\n",
        "    (34.0522, -118.2437),\n",
        "    (51.5074, -0.1278),\n",
        "]  # List of tuples representing coordinates\n",
        "\n",
        "for lat, lon in coordinates:\n",
        "    print(f\"Latitude: {lat}, Longitude: {lon}\")"
      ]
    },
    {
      "cell_type": "markdown",
      "id": "2",
      "metadata": {
        "id": "2"
      },
      "source": [
        "Assuming you have a function to calculate distances, you can use a loop to compute distances from a reference point."
      ]
    },
    {
      "cell_type": "code",
      "execution_count": 2,
      "id": "3",
      "metadata": {
        "id": "3",
        "colab": {
          "base_uri": "https://localhost:8080/"
        },
        "outputId": "a27f9045-9e20-4ab5-abab-a13aa01eb804"
      },
      "outputs": [
        {
          "output_type": "stream",
          "name": "stdout",
          "text": [
            "Distance from (0, 0) to (35.6895, 139.6917): 144.18\n",
            "Distance from (0, 0) to (34.0522, -118.2437): 123.05\n",
            "Distance from (0, 0) to (51.5074, -0.1278): 51.51\n"
          ]
        }
      ],
      "source": [
        "def calculate_distance(lat1, lon1, lat2, lon2):\n",
        "    # Placeholder for distance calculation logic\n",
        "    return ((lat2 - lat1) ** 2 + (lon2 - lon1) ** 2) ** 0.5\n",
        "\n",
        "\n",
        "reference_point = (0, 0)  # Reference point (latitude, longitude)\n",
        "\n",
        "for lat, lon in coordinates:\n",
        "    distance = calculate_distance(reference_point[0], reference_point[1], lat, lon)\n",
        "    print(f\"Distance from {reference_point} to ({lat}, {lon}): {distance:.2f}\")"
      ]
    },
    {
      "cell_type": "markdown",
      "id": "4",
      "metadata": {
        "id": "4"
      },
      "source": [
        "## While Loops\n",
        "\n",
        "While loops continue to execute a block of code as long as a specified condition is true. They are useful when the number of iterations is not known beforehand, such as when processing data until a certain condition is met."
      ]
    },
    {
      "cell_type": "code",
      "execution_count": 3,
      "id": "5",
      "metadata": {
        "id": "5",
        "colab": {
          "base_uri": "https://localhost:8080/"
        },
        "outputId": "68b65157-23e9-47b4-ac47-9953ec4518f8"
      },
      "outputs": [
        {
          "output_type": "stream",
          "name": "stdout",
          "text": [
            "Processing coordinate: (35.6895, 139.6917)\n",
            "Processing coordinate: (34.0522, -118.2437)\n",
            "Processing coordinate: (51.5074, -0.1278)\n"
          ]
        }
      ],
      "source": [
        "counter = 0\n",
        "while counter < len(coordinates):\n",
        "    lat, lon = coordinates[counter]\n",
        "    print(f\"Processing coordinate: ({lat}, {lon})\")\n",
        "    counter += 1"
      ]
    },
    {
      "cell_type": "markdown",
      "id": "6",
      "metadata": {
        "id": "6"
      },
      "source": [
        "## Control Statements: if, elif, else\n",
        "\n",
        "Control statements allow you to execute different blocks of code based on certain conditions. In geospatial programming, this is useful for handling different types of data or conditions."
      ]
    },
    {
      "cell_type": "code",
      "execution_count": 4,
      "id": "7",
      "metadata": {
        "id": "7",
        "colab": {
          "base_uri": "https://localhost:8080/"
        },
        "outputId": "7f121380-4241-4794-afc0-8d60ae3eeb8e"
      },
      "outputs": [
        {
          "output_type": "stream",
          "name": "stdout",
          "text": [
            "35.6895 is in the Northern Hemisphere\n",
            "34.0522 is in the Northern Hemisphere\n",
            "51.5074 is in the Northern Hemisphere\n"
          ]
        }
      ],
      "source": [
        "for lat, lon in coordinates:\n",
        "    if lat > 0:\n",
        "        print(f\"{lat} is in the Northern Hemisphere\")\n",
        "    elif lat < 0:\n",
        "        print(f\"{lat} is in the Southern Hemisphere\")\n",
        "    else:\n",
        "        print(f\"{lat} is near the equator\")"
      ]
    },
    {
      "cell_type": "markdown",
      "id": "8",
      "metadata": {
        "id": "8"
      },
      "source": [
        "You can further categorize based on longitude:"
      ]
    },
    {
      "cell_type": "code",
      "execution_count": 5,
      "id": "9",
      "metadata": {
        "id": "9",
        "colab": {
          "base_uri": "https://localhost:8080/"
        },
        "outputId": "11abf186-3956-43fe-9cd2-1db1abbad17e"
      },
      "outputs": [
        {
          "output_type": "stream",
          "name": "stdout",
          "text": [
            "The coordinate (35.6895, 139.6917) is in the Northern Hemisphere and Eastern Hemisphere.\n",
            "The coordinate (34.0522, -118.2437) is in the Northern Hemisphere and Western Hemisphere.\n",
            "The coordinate (51.5074, -0.1278) is in the Northern Hemisphere and Western Hemisphere.\n"
          ]
        }
      ],
      "source": [
        "for lat, lon in coordinates:\n",
        "    if lat > 0:\n",
        "        hemisphere = \"Northern\"\n",
        "    else:\n",
        "        hemisphere = \"Southern\"\n",
        "\n",
        "    if lon > 0:\n",
        "        direction = \"Eastern\"\n",
        "    else:\n",
        "        direction = \"Western\"\n",
        "\n",
        "    print(\n",
        "        f\"The coordinate ({lat}, {lon}) is in the {hemisphere} Hemisphere and {direction} Hemisphere.\"\n",
        "    )"
      ]
    },
    {
      "cell_type": "markdown",
      "id": "10",
      "metadata": {
        "id": "10"
      },
      "source": [
        "## Combining Loops and Control Statements\n",
        "\n",
        "You can combine loops and control statements to perform more complex operations, such as filtering data or applying conditions during iteration."
      ]
    },
    {
      "cell_type": "code",
      "execution_count": 6,
      "id": "11",
      "metadata": {
        "id": "11",
        "colab": {
          "base_uri": "https://localhost:8080/"
        },
        "outputId": "cf91eebd-69cf-433f-d55b-0022ee73091e"
      },
      "outputs": [
        {
          "output_type": "stream",
          "name": "stdout",
          "text": [
            "Filtered coordinates (only with positive longitude): [(35.6895, 139.6917)]\n"
          ]
        }
      ],
      "source": [
        "filtered_coordinates = []\n",
        "for lat, lon in coordinates:\n",
        "    if lon > 0:\n",
        "        filtered_coordinates.append((lat, lon))\n",
        "print(f\"Filtered coordinates (only with positive longitude): {filtered_coordinates}\")"
      ]
    },
    {
      "cell_type": "code",
      "execution_count": 7,
      "id": "12",
      "metadata": {
        "id": "12",
        "colab": {
          "base_uri": "https://localhost:8080/"
        },
        "outputId": "67c18979-e971-4baa-cdcc-e6d4e28e1d65"
      },
      "outputs": [
        {
          "output_type": "stream",
          "name": "stdout",
          "text": [
            "Number of coordinates in the Southern Hemisphere: 0\n"
          ]
        }
      ],
      "source": [
        "southern_count = 0\n",
        "for lat, lon in coordinates:\n",
        "    if lat < 0:\n",
        "        southern_count += 1\n",
        "print(f\"Number of coordinates in the Southern Hemisphere: {southern_count}\")"
      ]
    },
    {
      "cell_type": "markdown",
      "id": "15",
      "metadata": {
        "id": "15"
      },
      "source": [
        "## Summary\n",
        "\n",
        "Loops and control statements are fundamental tools in geospatial programming. They allow you to process and analyze geographic data efficiently by automating repetitive tasks and applying logic based on data conditions. Practice these concepts by applying them to your geospatial datasets and analyses."
      ]
    }
  ],
  "metadata": {
    "kernelspec": {
      "display_name": "Python 3",
      "language": "python",
      "name": "python3"
    },
    "language_info": {
      "codemirror_mode": {
        "name": "ipython",
        "version": 3
      },
      "file_extension": ".py",
      "mimetype": "text/x-python",
      "name": "python",
      "nbconvert_exporter": "python",
      "pygments_lexer": "ipython3",
      "version": "3.11.8"
    },
    "colab": {
      "provenance": [],
      "include_colab_link": true
    }
  },
  "nbformat": 4,
  "nbformat_minor": 5
}