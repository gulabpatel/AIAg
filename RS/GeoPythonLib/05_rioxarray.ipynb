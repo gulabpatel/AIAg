{
  "cells": [
    {
      "cell_type": "markdown",
      "metadata": {
        "id": "view-in-github",
        "colab_type": "text"
      },
      "source": [
        "<a href=\"https://colab.research.google.com/github/gulabpatel/AIAg/blob/main/RS/GeoPythonLib/05_rioxarray.ipynb\" target=\"_parent\"><img src=\"https://colab.research.google.com/assets/colab-badge.svg\" alt=\"Open In Colab\"/></a>"
      ]
    },
    {
      "cell_type": "markdown",
      "id": "0",
      "metadata": {
        "id": "0"
      },
      "source": [
        "# Rioxarray\n",
        "\n",
        "## Overview\n",
        "\n",
        "[`rioxarray`](https://corteva.github.io/rioxarray/) is an extension of the powerful Python library Xarray that focuses on geospatial raster data. It provides easy access to georeferencing information and geospatial transforms using Xarray’s labeled, multi-dimensional data structures, which makes it an ideal tool for working with geospatial data like satellite imagery or climate data.\n",
        "\n",
        "The key feature of `rioxarray` is its seamless integration of rasterio’s geospatial data handling capabilities (such as CRS and affine transforms) with Xarray’s efficient multi-dimensional array handling. This allows you to manipulate, analyze, and visualize raster data with ease.\n",
        "\n",
        "## Learning Objectives\n",
        "\n",
        "By the end of this lecture, you should be able to:\n",
        "- Understand how `rioxarray` extends Xarray for geospatial data handling.\n",
        "- Load and inspect georeferenced raster datasets using `rioxarray`.\n",
        "- Perform basic geospatial operations, such as clipping, reprojection, and masking, using `rioxarray`.\n",
        "- Use `rioxarray` to manage CRS and spatial dimensions in raster datasets.\n",
        "- Export and visualize geospatial raster datasets.\n",
        "\n",
        "## Installing rioxarray\n",
        "\n",
        "To use `rioxarray`, you'll need to install it along with `rasterio` and its dependencies. You can install it via pip by uncommenting the following line:"
      ]
    },
    {
      "cell_type": "code",
      "execution_count": null,
      "id": "1",
      "metadata": {
        "id": "1"
      },
      "outputs": [],
      "source": [
        "# %pip install rioxarray rasterio"
      ]
    },
    {
      "cell_type": "markdown",
      "id": "2",
      "metadata": {
        "id": "2"
      },
      "source": [
        "## Importing rioxarray\n",
        "\n",
        "You can start by importing `rioxarray` and other necessary libraries:"
      ]
    },
    {
      "cell_type": "code",
      "execution_count": null,
      "id": "3",
      "metadata": {
        "id": "3"
      },
      "outputs": [],
      "source": [
        "import rioxarray\n",
        "import numpy as np\n",
        "import xarray as xr\n",
        "import matplotlib.pyplot as plt\n",
        "\n",
        "xr.set_options(keep_attrs=True, display_expand_data=False)"
      ]
    },
    {
      "cell_type": "markdown",
      "id": "4",
      "metadata": {
        "id": "4"
      },
      "source": [
        "## Loading Georeferenced Raster Data\n",
        "\n",
        "One of the core functionalities of `rioxarray` is the ability to load georeferenced raster data, including its CRS and geospatial transformations. You can load a raster file (e.g., a GeoTIFF file) directly using `rioxarray`:"
      ]
    },
    {
      "cell_type": "code",
      "execution_count": null,
      "id": "5",
      "metadata": {
        "id": "5"
      },
      "outputs": [],
      "source": [
        "# Load a raster dataset using rioxarray\n",
        "url = \"https://github.com/opengeos/datasets/releases/download/raster/LC09_039035_20240708_90m.tif\"\n",
        "data = rioxarray.open_rasterio(url)\n",
        "data"
      ]
    },
    {
      "cell_type": "markdown",
      "id": "6",
      "metadata": {
        "id": "6"
      },
      "source": [
        "Here, `rioxarray.open_rasterio` loads the raster data into an Xarray `DataArray` and automatically attaches the geospatial metadata, including CRS, affine transformations, and spatial coordinates.\n",
        "\n",
        "### Inspecting the Dataset\n",
        "\n",
        "You can easily inspect the loaded dataset, including its dimensions, coordinates, and attributes:"
      ]
    },
    {
      "cell_type": "code",
      "execution_count": null,
      "id": "7",
      "metadata": {
        "id": "7"
      },
      "outputs": [],
      "source": [
        "# View the structure of the DataArray\n",
        "data.dims  # Dimensions (e.g., band, y, x)"
      ]
    },
    {
      "cell_type": "code",
      "execution_count": null,
      "id": "8",
      "metadata": {
        "id": "8"
      },
      "outputs": [],
      "source": [
        "data.coords  # Coordinates (e.g., y, x in geographic or projected CRS)"
      ]
    },
    {
      "cell_type": "code",
      "execution_count": null,
      "id": "9",
      "metadata": {
        "id": "9"
      },
      "outputs": [],
      "source": [
        "print(data.attrs)  # Metadata (including CRS)"
      ]
    },
    {
      "cell_type": "markdown",
      "id": "10",
      "metadata": {
        "id": "10"
      },
      "source": [
        "### Checking CRS and Transform Information\n",
        "\n",
        "`rioxarray` integrates CRS and affine transform metadata into the Xarray object:"
      ]
    },
    {
      "cell_type": "code",
      "execution_count": null,
      "id": "11",
      "metadata": {
        "id": "11"
      },
      "outputs": [],
      "source": [
        "# Check the CRS of the dataset\n",
        "data.rio.crs"
      ]
    },
    {
      "cell_type": "code",
      "execution_count": null,
      "id": "12",
      "metadata": {
        "id": "12"
      },
      "outputs": [],
      "source": [
        "# Check the affine transformation (mapping pixel coordinates to geographic coordinates)\n",
        "data.rio.transform()"
      ]
    },
    {
      "cell_type": "markdown",
      "id": "13",
      "metadata": {
        "id": "13"
      },
      "source": [
        "Sometimes, raster data may not have a CRS, or the CRS could be incorrect. You can assign a CRS manually if necessary:"
      ]
    },
    {
      "cell_type": "code",
      "execution_count": null,
      "id": "14",
      "metadata": {
        "id": "14"
      },
      "outputs": [],
      "source": [
        "# If the CRS is missing or incorrect, assign a CRS\n",
        "data = data.rio.write_crs(\"EPSG:32611\", inplace=True)"
      ]
    },
    {
      "cell_type": "markdown",
      "id": "15",
      "metadata": {
        "id": "15"
      },
      "source": [
        "## Basic Geospatial Operations\n",
        "\n",
        "### Reprojecting a Dataset\n",
        "\n",
        "Reprojecting raster data to another CRS is common in geospatial analysis. For example, you may want to reproject the dataset from its native projection to the WGS84 geographic coordinate system (EPSG:4326):"
      ]
    },
    {
      "cell_type": "code",
      "execution_count": null,
      "id": "16",
      "metadata": {
        "id": "16"
      },
      "outputs": [],
      "source": [
        "# Reproject the dataset to WGS84 (EPSG:4326)\n",
        "data_reprojected = data.rio.reproject(\"EPSG:4326\")\n",
        "print(data_reprojected.rio.crs)"
      ]
    },
    {
      "cell_type": "markdown",
      "id": "17",
      "metadata": {
        "id": "17"
      },
      "source": [
        "### Clipping a Raster\n",
        "\n",
        "Clipping a raster dataset is useful when you only want to focus on a specific geographic area. You can clip a dataset using a bounding box in the same CRS as the data:"
      ]
    },
    {
      "cell_type": "code",
      "execution_count": null,
      "id": "18",
      "metadata": {
        "id": "18"
      },
      "outputs": [],
      "source": [
        "# Define a bounding box (in the same CRS as the dataset)\n",
        "bbox = [-115.391, 35.982, -114.988, 36.425]\n",
        "\n",
        "# Clip the raster to the bounding box\n",
        "clipped_data = data_reprojected.rio.clip_box(*bbox)"
      ]
    },
    {
      "cell_type": "code",
      "execution_count": null,
      "id": "19",
      "metadata": {
        "id": "19"
      },
      "outputs": [],
      "source": [
        "clipped_data.shape"
      ]
    },
    {
      "cell_type": "markdown",
      "id": "20",
      "metadata": {
        "id": "20"
      },
      "source": [
        "Alternatively, you can clip the raster using a vector dataset containing polygon geometries:"
      ]
    },
    {
      "cell_type": "code",
      "execution_count": null,
      "id": "21",
      "metadata": {
        "id": "21"
      },
      "outputs": [],
      "source": [
        "import geopandas as gpd\n",
        "\n",
        "# Load a geojson with regions of interest\n",
        "geojson_path = \"https://github.com/opengeos/datasets/releases/download/places/las_vegas_bounds_utm.geojson\"\n",
        "bounds = gpd.read_file(geojson_path)\n",
        "\n",
        "# Clip the raster to the shape\n",
        "clipped_data2 = data.rio.clip(bounds.geometry, bounds.crs)"
      ]
    },
    {
      "cell_type": "code",
      "execution_count": null,
      "id": "22",
      "metadata": {
        "id": "22"
      },
      "outputs": [],
      "source": [
        "clipped_data2.shape"
      ]
    },
    {
      "cell_type": "markdown",
      "id": "23",
      "metadata": {
        "id": "23"
      },
      "source": [
        "## Working with Spatial Dimensions\n",
        "\n",
        "`rioxarray` supports operations on spatial dimensions (latitude/longitude or x/y coordinates) like resampling, reducing, or slicing.\n",
        "\n",
        "### Resampling\n",
        "\n",
        "To resample the raster dataset to a different resolution (e.g., 1 km), use the `rio.resample` method:"
      ]
    },
    {
      "cell_type": "code",
      "execution_count": null,
      "id": "24",
      "metadata": {
        "id": "24"
      },
      "outputs": [],
      "source": [
        "# Resample to 1km resolution (using an average resampling method)\n",
        "resampled_data = data.rio.reproject(data.rio.crs, resolution=(1000, 1000))"
      ]
    },
    {
      "cell_type": "code",
      "execution_count": null,
      "id": "25",
      "metadata": {
        "id": "25"
      },
      "outputs": [],
      "source": [
        "resampled_data.shape"
      ]
    },
    {
      "cell_type": "markdown",
      "id": "26",
      "metadata": {
        "id": "26"
      },
      "source": [
        "### Extracting Spatial Subsets\n",
        "\n",
        "You can extract spatial subsets of the dataset by selecting specific coordinate ranges:"
      ]
    },
    {
      "cell_type": "code",
      "execution_count": null,
      "id": "27",
      "metadata": {
        "id": "27"
      },
      "outputs": [],
      "source": [
        "# Select a subset of the data within a lat/lon range\n",
        "min_x, max_x = -115.391, -114.988\n",
        "min_y, max_y = 35.982, 36.425\n",
        "subset = data_reprojected.sel(\n",
        "    x=slice(min_x, max_x), y=slice(max_y, min_y)\n",
        ")  # Slice y in reverse order\n",
        "subset.shape"
      ]
    },
    {
      "cell_type": "markdown",
      "id": "28",
      "metadata": {
        "id": "28"
      },
      "source": [
        "## Visualization of Georeferenced Data\n",
        "\n",
        "Once you have performed operations on the data, you can visualize it using matplotlib. For example, to plot a multi-band image using bands 4, 3, and 2:"
      ]
    },
    {
      "cell_type": "code",
      "execution_count": null,
      "id": "29",
      "metadata": {
        "id": "29"
      },
      "outputs": [],
      "source": [
        "# Plot the raster data\n",
        "plt.figure(figsize=(8, 8))\n",
        "data_reprojected.sel(band=[4, 3, 2]).plot.imshow(vmin=0, vmax=0.3)\n",
        "plt.title(\"Landsat Image covering Las Vegas\")\n",
        "plt.xlabel(\"Longitude\")\n",
        "plt.ylabel(\"Latitude\")\n",
        "plt.show()"
      ]
    },
    {
      "cell_type": "markdown",
      "id": "30",
      "metadata": {
        "id": "30"
      },
      "source": [
        "You can also visualize clipped or masked data in the same way:"
      ]
    },
    {
      "cell_type": "code",
      "execution_count": null,
      "id": "31",
      "metadata": {
        "id": "31"
      },
      "outputs": [],
      "source": [
        "# Plot the raster data\n",
        "plt.figure(figsize=(8, 8))\n",
        "clipped_data.sel(band=[4, 3, 2]).plot.imshow(vmin=0, vmax=0.3)\n",
        "plt.title(\"Landsat Image covering Las Vegas\")\n",
        "plt.xlabel(\"Longitude\")\n",
        "plt.ylabel(\"Latitude\")\n",
        "plt.show()"
      ]
    },
    {
      "cell_type": "markdown",
      "id": "32",
      "metadata": {
        "id": "32"
      },
      "source": [
        "For more advanced plots, such as overlaying a vector dataset on the raster data, you can combine `rioxarray` with `geopandas` and `matplotlib`:"
      ]
    },
    {
      "cell_type": "code",
      "execution_count": null,
      "id": "33",
      "metadata": {
        "id": "33"
      },
      "outputs": [],
      "source": [
        "# Plot raster with GeoJSON overlay\n",
        "fig, ax = plt.subplots(figsize=(8, 8))\n",
        "data.attrs[\"long_name\"] = \"Surface Reflectance\"  # Update the long_name attribute\n",
        "data.sel(band=4).plot.imshow(ax=ax, vmin=0, vmax=0.4, cmap=\"gray\")\n",
        "bounds.boundary.plot(ax=ax, color=\"red\")\n",
        "plt.title(\"Raster with Vector Overlay\")\n",
        "plt.show()"
      ]
    },
    {
      "cell_type": "markdown",
      "id": "34",
      "metadata": {
        "id": "34"
      },
      "source": [
        "## Saving Data\n",
        "\n",
        "Just like loading data, you can export `rioxarray` datasets to disk. For example, you can save the modified or processed raster data as a GeoTIFF file:"
      ]
    },
    {
      "cell_type": "code",
      "execution_count": null,
      "id": "35",
      "metadata": {
        "id": "35"
      },
      "outputs": [],
      "source": [
        "# Save the DataArray as a GeoTIFF file\n",
        "data.rio.to_raster(\"output_raster.tif\")"
      ]
    },
    {
      "cell_type": "markdown",
      "id": "36",
      "metadata": {
        "id": "36"
      },
      "source": [
        "## Handling NoData Values\n",
        "\n",
        "If your dataset contains NoData values, you can manage them using the following functions:"
      ]
    },
    {
      "cell_type": "code",
      "execution_count": null,
      "id": "37",
      "metadata": {
        "id": "37"
      },
      "outputs": [],
      "source": [
        "# Assign NoData value\n",
        "data2 = data.rio.set_nodata(-9999)\n",
        "\n",
        "# Remove NoData values (mask them)\n",
        "data_clean = data2.rio.write_nodata(-9999, inplace=True)"
      ]
    },
    {
      "cell_type": "markdown",
      "id": "38",
      "metadata": {
        "id": "38"
      },
      "source": [
        "## Reproject to Multiple CRS\n",
        "\n",
        "You can reproject the dataset to multiple CRS and compare them. For instance:"
      ]
    },
    {
      "cell_type": "code",
      "execution_count": null,
      "id": "39",
      "metadata": {
        "id": "39"
      },
      "outputs": [],
      "source": [
        "# Reproject to WGS 84 (EPSG:4326)\n",
        "data = data.rio.reproject(\"EPSG:4326\")\n",
        "print(data.rio.crs)"
      ]
    },
    {
      "cell_type": "code",
      "execution_count": null,
      "id": "40",
      "metadata": {
        "id": "40"
      },
      "outputs": [],
      "source": [
        "# Reproject to EPSG:3857 (Web Mercator)\n",
        "mercator_data = data.rio.reproject(\"EPSG:3857\")\n",
        "print(mercator_data.rio.crs)"
      ]
    },
    {
      "cell_type": "code",
      "execution_count": null,
      "id": "41",
      "metadata": {
        "id": "41"
      },
      "outputs": [],
      "source": [
        "# Plot the raster data in WGS84\n",
        "plt.figure(figsize=(6, 6))\n",
        "data.sel(band=[4, 3, 2]).plot.imshow(vmin=0, vmax=0.3)\n",
        "plt.title(\"EPSG:4326\")\n",
        "plt.xlabel(\"Longitude\")\n",
        "plt.ylabel(\"Latitude\")\n",
        "plt.show()"
      ]
    },
    {
      "cell_type": "code",
      "execution_count": null,
      "id": "42",
      "metadata": {
        "id": "42"
      },
      "outputs": [],
      "source": [
        "# Plot the raster data in Web Mercator\n",
        "plt.figure(figsize=(6, 6))\n",
        "mercator_data.sel(band=[4, 3, 2]).plot.imshow(vmin=0, vmax=0.3)\n",
        "plt.title(\"EPSG:3857\")\n",
        "plt.xlabel(\"X\")\n",
        "plt.ylabel(\"Y\")\n",
        "plt.show()"
      ]
    },
    {
      "cell_type": "markdown",
      "id": "43",
      "metadata": {
        "id": "43"
      },
      "source": [
        "## Basic Band Math (NDVI Calculation)\n",
        "\n",
        "Band math enables us to perform computations across different bands. A common application is calculating the Normalized Difference Vegetation Index (NDVI), which is an indicator of vegetation health.\n",
        "\n",
        "NDVI is calculated as:\n",
        "\n",
        "NDVI = (NIR - Red) / (NIR + Red)\n",
        "\n",
        "We can compute and plot the NDVI as follows:"
      ]
    },
    {
      "cell_type": "code",
      "execution_count": null,
      "id": "44",
      "metadata": {
        "id": "44"
      },
      "outputs": [],
      "source": [
        "# Select the red (band 4) and NIR (band 5) bands\n",
        "red_band = data.sel(band=4)\n",
        "nir_band = data.sel(band=5)\n",
        "\n",
        "# Calculate NDVI\n",
        "ndvi = (nir_band - red_band) / (nir_band + red_band)\n",
        "ndvi = ndvi.clip(min=-1, max=1)  # Clip values to the range [-1, 1]\n",
        "ndvi.attrs[\"long_name\"] = \"NDVI\""
      ]
    },
    {
      "cell_type": "markdown",
      "id": "45",
      "metadata": {
        "id": "45"
      },
      "source": [
        "To visualize the NDVI, we can plot it using matplotlib:"
      ]
    },
    {
      "cell_type": "code",
      "execution_count": null,
      "id": "46",
      "metadata": {
        "id": "46"
      },
      "outputs": [],
      "source": [
        "# Plot the NDVI values\n",
        "ndvi.plot(cmap=\"RdYlGn\", vmin=-1, vmax=1)\n",
        "plt.title(\"NDVI of the Landsat Image\")\n",
        "plt.xlabel(\"Longitude\")\n",
        "plt.ylabel(\"Latitude\")\n",
        "plt.show()"
      ]
    },
    {
      "cell_type": "markdown",
      "id": "47",
      "metadata": {
        "id": "47"
      },
      "source": [
        "You can also mask out non-vegetated areas or areas with invalid NDVI values (such as water or urban regions) by applying a threshold:"
      ]
    },
    {
      "cell_type": "code",
      "execution_count": null,
      "id": "48",
      "metadata": {
        "id": "48"
      },
      "outputs": [],
      "source": [
        "# Mask out non-vegetated areas (NDVI < 0.2)\n",
        "ndvi_clean = ndvi.where(ndvi > 0.2)\n",
        "ndvi_clean.plot(cmap=\"Greens\", vmin=0.2, vmax=0.5)\n",
        "plt.title(\"Cleaned NDVI (non-vegetated areas masked)\")\n",
        "plt.xlabel(\"Longitude\")\n",
        "plt.ylabel(\"Latitude\")\n",
        "plt.show()"
      ]
    },
    {
      "cell_type": "markdown",
      "id": "49",
      "metadata": {
        "id": "49"
      },
      "source": [
        "## Exercises\n",
        "\n",
        "### Sample Dataset\n",
        "\n",
        "For the exercises, we will use a sample GeoTIFF raster dataset of Libya, which is available at the following URL:\n",
        "https://github.com/opengeos/datasets/releases/download/raster/Libya-2023-09-13.tif\n",
        "\n",
        "### Exercise 1: Load and Inspect a Raster Dataset\n",
        "\n",
        "1. Use `rioxarray` to load the GeoTIFF raster file.\n",
        "2. Inspect the dataset by printing its dimensions, coordinates, and attributes.\n",
        "3. Check and print the CRS and affine transformation of the dataset."
      ]
    },
    {
      "cell_type": "code",
      "execution_count": null,
      "id": "50",
      "metadata": {
        "id": "50"
      },
      "outputs": [],
      "source": []
    },
    {
      "cell_type": "markdown",
      "id": "51",
      "metadata": {
        "id": "51"
      },
      "source": [
        "### Exercise 2: Reproject the Raster to a New CRS\n",
        "\n",
        "1. Reproject the loaded raster dataset from its original CRS to EPSG:4326 (WGS84).\n",
        "2. Print the new CRS and check the dimensions and coordinates of the reprojected data.\n",
        "3. Plot the original and reprojected datasets for comparison."
      ]
    },
    {
      "cell_type": "code",
      "execution_count": null,
      "id": "52",
      "metadata": {
        "id": "52"
      },
      "outputs": [],
      "source": []
    },
    {
      "cell_type": "markdown",
      "id": "53",
      "metadata": {
        "id": "53"
      },
      "source": [
        "### Exercise 3: Clip the Raster Using a Bounding Box\n",
        "\n",
        "1. Define a bounding box (e.g., `xmin`, `ymin`, `xmax`, `ymax`) that covers the land area of Libya.\n",
        "2. Clip the raster dataset using this bounding box.\n",
        "3. Plot the clipped data to visualize the result."
      ]
    },
    {
      "cell_type": "code",
      "execution_count": null,
      "id": "54",
      "metadata": {
        "id": "54"
      },
      "outputs": [],
      "source": []
    },
    {
      "cell_type": "markdown",
      "id": "55",
      "metadata": {
        "id": "55"
      },
      "source": [
        "### Exercise 4: Mask the Raster Using a Vector Dataset\n",
        "\n",
        "1. Load the GeoJSON file at https://github.com/opengeos/datasets/releases/download/raster/Derna_Libya.geojson using `geopandas`.\n",
        "2. Use the GeoJSON to mask the raster dataset, keeping only the data within the GeoJSON boundaries.\n",
        "3. Plot the masked raster data."
      ]
    },
    {
      "cell_type": "code",
      "execution_count": null,
      "id": "56",
      "metadata": {
        "id": "56"
      },
      "outputs": [],
      "source": []
    },
    {
      "cell_type": "markdown",
      "id": "57",
      "metadata": {
        "id": "57"
      },
      "source": [
        "### Exercise 5: Resample the Raster to a Different Resolution\n",
        "\n",
        "1. Resample the raster dataset to a 3m resolution, using an average resampling method.\n",
        "2. Check the new dimensions and coordinates after resampling.\n",
        "3. Save the resampled raster dataset as a new GeoTIFF file."
      ]
    },
    {
      "cell_type": "code",
      "execution_count": null,
      "id": "58",
      "metadata": {
        "id": "58"
      },
      "outputs": [],
      "source": []
    },
    {
      "cell_type": "markdown",
      "id": "59",
      "metadata": {
        "id": "59"
      },
      "source": [
        "## Summary\n",
        "\n",
        "In this lecture, we have explored the basic functionality of `rioxarray`, a powerful extension of Xarray designed for geospatial raster data. Key points include:\n",
        "\n",
        "- Loading and inspecting geospatial raster data with CRS and transform metadata.\n",
        "- Performing essential geospatial operations, such as reprojection, clipping, and masking.\n",
        "- Visualizing and exporting raster data.\n",
        "- Working with spatial dimensions (x, y) using slicing, resampling, and other operations.\n",
        "\n",
        "By integrating Xarray’s multi-dimensional data handling capabilities with rasterio’s geospatial features, `rioxarray` makes it easier to manage and analyze geospatial raster datasets. It is a versatile tool for anyone working with geospatial data in scientific computing, environmental analysis, or remote sensing."
      ]
    }
  ],
  "metadata": {
    "kernelspec": {
      "display_name": "Python 3 (ipykernel)",
      "language": "python",
      "name": "python3"
    },
    "language_info": {
      "codemirror_mode": {
        "name": "ipython",
        "version": 3
      },
      "file_extension": ".py",
      "mimetype": "text/x-python",
      "name": "python",
      "nbconvert_exporter": "python",
      "pygments_lexer": "ipython3",
      "version": "3.12.2"
    },
    "colab": {
      "provenance": [],
      "include_colab_link": true
    }
  },
  "nbformat": 4,
  "nbformat_minor": 5
}