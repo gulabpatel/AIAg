{
  "cells": [
    {
      "cell_type": "markdown",
      "metadata": {
        "id": "view-in-github",
        "colab_type": "text"
      },
      "source": [
        "<a href=\"https://colab.research.google.com/github/gulabpatel/AIAg/blob/main/RS/GeoPythonLib/12_duckdb.ipynb\" target=\"_parent\"><img src=\"https://colab.research.google.com/assets/colab-badge.svg\" alt=\"Open In Colab\"/></a>"
      ]
    },
    {
      "cell_type": "markdown",
      "metadata": {
        "id": "nO_834I0_U7t"
      },
      "source": [
        "# DuckDB\n",
        "\n",
        "[![Open In Colab](https://colab.research.google.com/assets/colab-badge.svg)](https://colab.research.google.com/github/giswqs/geog-312/blob/main/book/geospatial/duckdb.ipynb)\n",
        "\n",
        "## Introduction\n",
        "\n",
        "This notebook shows how to import data into a DuckDB database. It uses the `duckdb` Python package to connect to a DuckDB database and import data from various formats, including CSV, JSON, DataFrame, parquet, GeoJSON, Shapefile, GeoParquet, and more.\n",
        "\n",
        "## Datasets\n",
        "\n",
        "The following datasets are used in this notebook. You don't need to download them, they can be accessed directly from the notebook.\n",
        "\n",
        "- [cities.csv](https://open.gishub.org/data/duckdb/cities.csv)\n",
        "- [countries.csv](https://open.gishub.org/data/duckdb/countries.csv)\n",
        "\n",
        "## Installation\n",
        "\n",
        "Uncomment the following cell to install the required packages if needed."
      ]
    },
    {
      "cell_type": "code",
      "execution_count": null,
      "metadata": {
        "id": "-f3hivC2_U70"
      },
      "outputs": [],
      "source": [
        "# %pip install duckdb leafmap"
      ]
    },
    {
      "cell_type": "markdown",
      "metadata": {
        "id": "GVVMpjr0_U74"
      },
      "source": [
        "## Library Import"
      ]
    },
    {
      "cell_type": "code",
      "execution_count": null,
      "metadata": {
        "id": "zbXqOqgO_U75"
      },
      "outputs": [],
      "source": [
        "import duckdb\n",
        "import leafmap\n",
        "import pandas as pd"
      ]
    },
    {
      "cell_type": "markdown",
      "metadata": {
        "id": "mtn5z3P-_U76"
      },
      "source": [
        "## Installing Extensions\n",
        "\n",
        "DuckDB’s Python API provides functions for installing and loading extensions, which perform the equivalent operations to running the `INSTALL` and `LOAD` SQL commands, respectively. An example that installs and loads the [httpfs extension](https://duckdb.org/docs/extensions/httpfs) looks like follows:"
      ]
    },
    {
      "cell_type": "code",
      "execution_count": null,
      "metadata": {
        "id": "BgBavAQB_U77"
      },
      "outputs": [],
      "source": [
        "con = duckdb.connect()"
      ]
    },
    {
      "cell_type": "code",
      "execution_count": null,
      "metadata": {
        "id": "7WaFIliA_U78"
      },
      "outputs": [],
      "source": [
        "con.install_extension(\"httpfs\")\n",
        "con.load_extension(\"httpfs\")"
      ]
    },
    {
      "cell_type": "code",
      "execution_count": null,
      "metadata": {
        "id": "l847Q9NP_U79"
      },
      "outputs": [],
      "source": [
        "con.install_extension(\"spatial\")\n",
        "con.load_extension(\"spatial\")"
      ]
    },
    {
      "cell_type": "markdown",
      "metadata": {
        "id": "FRCG4iDz_U7-"
      },
      "source": [
        "## Downloading Sample Data"
      ]
    },
    {
      "cell_type": "code",
      "execution_count": null,
      "metadata": {
        "id": "rc8wVasd_U8A"
      },
      "outputs": [],
      "source": [
        "url = \"https://open.gishub.org/data/duckdb/cities.zip\"\n",
        "leafmap.download_file(url, unzip=True)"
      ]
    },
    {
      "cell_type": "markdown",
      "metadata": {
        "id": "CXCC6FdY_U8B"
      },
      "source": [
        "## CSV Files\n",
        "\n",
        "CSV files can be read using the `read_csv` function, called either from within Python or directly from within SQL. By default, the `read_csv` function attempts to auto-detect the CSV settings by sampling from the provided file."
      ]
    },
    {
      "cell_type": "code",
      "execution_count": null,
      "metadata": {
        "id": "gFKgv8pH_U8C"
      },
      "outputs": [],
      "source": [
        "# read from a file using fully auto-detected settings\n",
        "con.read_csv(\"cities.csv\")"
      ]
    },
    {
      "cell_type": "code",
      "execution_count": null,
      "metadata": {
        "id": "8YxZ1B5w_U8C"
      },
      "outputs": [],
      "source": [
        "# specify options on how the CSV is formatted internally\n",
        "con.read_csv(\"cities.csv\", header=True, sep=\",\")"
      ]
    },
    {
      "cell_type": "code",
      "execution_count": null,
      "metadata": {
        "id": "5N7Z_05g_U8D"
      },
      "outputs": [],
      "source": [
        "# use the (experimental) parallel CSV reader\n",
        "con.read_csv(\"cities.csv\", parallel=True)"
      ]
    },
    {
      "cell_type": "code",
      "execution_count": null,
      "metadata": {
        "id": "FjsQGSwU_U8D"
      },
      "outputs": [],
      "source": [
        "# directly read a CSV file from within SQL\n",
        "con.sql(\"SELECT * FROM 'cities.csv'\")"
      ]
    },
    {
      "cell_type": "code",
      "execution_count": null,
      "metadata": {
        "id": "4nt4h7Cm_U8E"
      },
      "outputs": [],
      "source": [
        "# call read_csv from within SQL\n",
        "con.sql(\"SELECT * FROM read_csv_auto('cities.csv')\")"
      ]
    },
    {
      "cell_type": "markdown",
      "metadata": {
        "id": "qyj1SxWb_U8E"
      },
      "source": [
        "## JSON Files\n",
        "\n",
        "JSON files can be read using the `read_json` function, called either from within Python or directly from within SQL. By default, the `read_json` function will automatically detect if a file contains newline-delimited JSON or regular JSON, and will detect the schema of the objects stored within the JSON file."
      ]
    },
    {
      "cell_type": "code",
      "execution_count": null,
      "metadata": {
        "id": "9TcwPO71_U8E"
      },
      "outputs": [],
      "source": [
        "# read from a single JSON file\n",
        "con.read_json(\"cities.json\")"
      ]
    },
    {
      "cell_type": "code",
      "execution_count": null,
      "metadata": {
        "id": "vM2Fuyp1_U8E"
      },
      "outputs": [],
      "source": [
        "# directly read a JSON file from within SQL\n",
        "con.sql(\"SELECT * FROM 'cities.json'\")"
      ]
    },
    {
      "cell_type": "code",
      "execution_count": null,
      "metadata": {
        "id": "8gyTsW1a_U8F"
      },
      "outputs": [],
      "source": [
        "# call read_json from within SQL\n",
        "con.sql(\"SELECT * FROM read_json_auto('cities.json')\")"
      ]
    },
    {
      "cell_type": "markdown",
      "metadata": {
        "id": "51umLZLr_U8F"
      },
      "source": [
        "## DataFrames\n",
        "\n",
        "DuckDB is automatically able to query a Pandas DataFrame."
      ]
    },
    {
      "cell_type": "code",
      "execution_count": null,
      "metadata": {
        "id": "tQ1oBKXr_U8F"
      },
      "outputs": [],
      "source": [
        "df = pd.read_csv(\"cities.csv\")\n",
        "df"
      ]
    },
    {
      "cell_type": "code",
      "execution_count": null,
      "metadata": {
        "id": "i0kLIIKS_U8F"
      },
      "outputs": [],
      "source": [
        "con.sql(\"SELECT * FROM df\").fetchall()"
      ]
    },
    {
      "cell_type": "markdown",
      "metadata": {
        "id": "4jEc3-4w_U8F"
      },
      "source": [
        "## Parquet Files\n",
        "\n",
        "Parquet files can be read using the `read_parquet` function, called either from within Python or directly from within SQL."
      ]
    },
    {
      "cell_type": "code",
      "execution_count": null,
      "metadata": {
        "id": "xJDEZUmp_U8G"
      },
      "outputs": [],
      "source": [
        "# read from a single Parquet file\n",
        "con.read_parquet(\"cities.parquet\")"
      ]
    },
    {
      "cell_type": "code",
      "execution_count": null,
      "metadata": {
        "id": "peZ6qv4c_U8G"
      },
      "outputs": [],
      "source": [
        "# directly read a Parquet file from within SQL\n",
        "con.sql(\"SELECT * FROM 'cities.parquet'\")"
      ]
    },
    {
      "cell_type": "code",
      "execution_count": null,
      "metadata": {
        "id": "i7xOmsz3_U8G"
      },
      "outputs": [],
      "source": [
        "# call read_parquet from within SQL\n",
        "con.sql(\"SELECT * FROM read_parquet('cities.parquet')\")"
      ]
    },
    {
      "cell_type": "markdown",
      "metadata": {
        "id": "eonhFiYY_U8G"
      },
      "source": [
        "## GeoJSON Files"
      ]
    },
    {
      "cell_type": "code",
      "execution_count": null,
      "metadata": {
        "id": "XTzkY8M7_U8G"
      },
      "outputs": [],
      "source": [
        "con.sql(\"SELECT * FROM ST_Drivers()\")"
      ]
    },
    {
      "cell_type": "code",
      "execution_count": null,
      "metadata": {
        "id": "ahgMoYCL_U8H"
      },
      "outputs": [],
      "source": [
        "con.sql(\"SELECT * FROM ST_Read('cities.geojson')\")"
      ]
    },
    {
      "cell_type": "code",
      "execution_count": null,
      "metadata": {
        "id": "pyHcdJOf_U8H"
      },
      "outputs": [],
      "source": [
        "con.sql(\"FROM ST_Read('cities.geojson')\")"
      ]
    },
    {
      "cell_type": "code",
      "execution_count": null,
      "metadata": {
        "id": "H8lhZ9_4_U8H"
      },
      "outputs": [],
      "source": [
        "con.sql(\"CREATE TABLE cities AS SELECT * FROM ST_Read('cities.geojson')\")"
      ]
    },
    {
      "cell_type": "code",
      "execution_count": null,
      "metadata": {
        "id": "M8aUaWlL_U8H"
      },
      "outputs": [],
      "source": [
        "con.table(\"cities\")"
      ]
    },
    {
      "cell_type": "code",
      "execution_count": null,
      "metadata": {
        "id": "kdBuPpvs_U8H"
      },
      "outputs": [],
      "source": [
        "con.sql(\"SELECT * FROM cities\")"
      ]
    },
    {
      "cell_type": "markdown",
      "metadata": {
        "id": "Mra7Dqtp_U8I"
      },
      "source": [
        "## Shapefiles"
      ]
    },
    {
      "cell_type": "code",
      "execution_count": null,
      "metadata": {
        "id": "Po2MB4Ka_U8I"
      },
      "outputs": [],
      "source": [
        "con.sql(\"SELECT * FROM ST_Read('cities.shp')\")"
      ]
    },
    {
      "cell_type": "code",
      "execution_count": null,
      "metadata": {
        "id": "xjXQXoYh_U8I"
      },
      "outputs": [],
      "source": [
        "con.sql(\"FROM ST_Read('cities.shp')\")"
      ]
    },
    {
      "cell_type": "code",
      "execution_count": null,
      "metadata": {
        "id": "NupX1k6v_U8I"
      },
      "outputs": [],
      "source": [
        "con.sql(\n",
        "    \"\"\"\n",
        "        CREATE TABLE IF NOT EXISTS cities2 AS\n",
        "        SELECT * FROM ST_Read('cities.shp')\n",
        "        \"\"\"\n",
        ")"
      ]
    },
    {
      "cell_type": "code",
      "execution_count": null,
      "metadata": {
        "id": "_tsPPv4O_U8I"
      },
      "outputs": [],
      "source": [
        "con.table(\"cities2\")"
      ]
    },
    {
      "cell_type": "code",
      "execution_count": null,
      "metadata": {
        "id": "vmLKsdSC_U8W"
      },
      "outputs": [],
      "source": [
        "con.sql(\"SELECT * FROM cities2\")"
      ]
    },
    {
      "cell_type": "markdown",
      "metadata": {
        "id": "WO2SKhvl_U8W"
      },
      "source": [
        "## GeoParquet Files"
      ]
    },
    {
      "cell_type": "code",
      "execution_count": null,
      "metadata": {
        "id": "Magl_Dv5_U8W"
      },
      "outputs": [],
      "source": [
        "con.sql(\"SELECT * FROM 'cities.parquet'\")"
      ]
    },
    {
      "cell_type": "code",
      "execution_count": null,
      "metadata": {
        "id": "9bpVDile_U8W"
      },
      "outputs": [],
      "source": [
        "con.sql(\n",
        "    \"\"\"\n",
        "CREATE TABLE IF NOT EXISTS cities3 AS\n",
        "SELECT * EXCLUDE geometry, ST_GeomFromWKB(geometry)\n",
        "AS geometry FROM 'cities.parquet'\n",
        "\"\"\"\n",
        ")"
      ]
    },
    {
      "cell_type": "code",
      "execution_count": null,
      "metadata": {
        "id": "JJQCJmxr_U8X"
      },
      "outputs": [],
      "source": [
        "con.table(\"cities3\")"
      ]
    },
    {
      "cell_type": "code",
      "execution_count": null,
      "metadata": {
        "id": "HxhL5ui9_U8X"
      },
      "outputs": [],
      "source": [
        "con.sql(\n",
        "    \"\"\"\n",
        "CREATE TABLE IF NOT EXISTS country AS\n",
        "SELECT * EXCLUDE geometry, ST_GeomFromWKB(geometry) FROM\n",
        "        's3://us-west-2.opendata.source.coop/google-research-open-buildings/v2/geoparquet-admin1/country=SSD/*.parquet'\n",
        "\"\"\"\n",
        ")"
      ]
    },
    {
      "cell_type": "code",
      "execution_count": null,
      "metadata": {
        "id": "nhZdlxid_U8X"
      },
      "outputs": [],
      "source": [
        "con.table(\"country\")"
      ]
    },
    {
      "cell_type": "code",
      "execution_count": null,
      "metadata": {
        "id": "oRLA1Zvk_U8X"
      },
      "outputs": [],
      "source": [
        "con.sql(\"SELECT COUNT(*) FROM country\")"
      ]
    },
    {
      "cell_type": "markdown",
      "metadata": {
        "id": "lhtKCVx8_U8X"
      },
      "source": [
        "## References\n",
        "\n",
        "- [DuckDB Data Ingestion](https://duckdb.org/docs/api/python/data_ingestion)"
      ]
    }
  ],
  "metadata": {
    "kernelspec": {
      "display_name": "Python 3",
      "language": "python",
      "name": "python3"
    },
    "language_info": {
      "codemirror_mode": {
        "name": "ipython",
        "version": 3
      },
      "file_extension": ".py",
      "mimetype": "text/x-python",
      "name": "python",
      "nbconvert_exporter": "python",
      "pygments_lexer": "ipython3",
      "version": "3.11.8"
    },
    "colab": {
      "provenance": [],
      "include_colab_link": true
    }
  },
  "nbformat": 4,
  "nbformat_minor": 0
}