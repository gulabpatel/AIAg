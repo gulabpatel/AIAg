{
  "cells": [
    {
      "cell_type": "markdown",
      "metadata": {
        "id": "view-in-github",
        "colab_type": "text"
      },
      "source": [
        "<a href=\"https://colab.research.google.com/github/gulabpatel/AIAg/blob/main/RS/GeoPythonLib/11_hypercoast.ipynb\" target=\"_parent\"><img src=\"https://colab.research.google.com/assets/colab-badge.svg\" alt=\"Open In Colab\"/></a>"
      ]
    },
    {
      "cell_type": "markdown",
      "metadata": {
        "id": "RMWZACB44sNz"
      },
      "source": [
        "# HyperCoast\n",
        "\n",
        "[![Open In Colab](https://colab.research.google.com/assets/colab-badge.svg)](https://colab.research.google.com/github/giswqs/geog-312/blob/main/book/geospatial/hypercoast.ipynb)\n",
        "\n",
        "## Environment setup\n",
        "\n",
        "Uncomment and run the following cell to install the required packages."
      ]
    },
    {
      "cell_type": "code",
      "execution_count": null,
      "metadata": {
        "id": "ayBCvspA4sN2"
      },
      "outputs": [],
      "source": [
        "%pip install \"hypercoast[extra]\""
      ]
    },
    {
      "cell_type": "markdown",
      "metadata": {
        "id": "b0QTNoPN4sN3"
      },
      "source": [
        "Import library."
      ]
    },
    {
      "cell_type": "code",
      "execution_count": null,
      "metadata": {
        "id": "L2FJw4U_4sN4"
      },
      "outputs": [],
      "source": [
        "import hypercoast"
      ]
    },
    {
      "cell_type": "markdown",
      "metadata": {
        "id": "oMgNtPa04sN5"
      },
      "source": [
        "To download and access the data, you will need to create an Earthdata login. You can register for an account at [urs.earthdata.nasa.gov](https://urs.earthdata.nasa.gov). Once you have an account, run the following cell and enter your NASA Earthdata login credentials."
      ]
    },
    {
      "cell_type": "code",
      "execution_count": null,
      "metadata": {
        "id": "wgoJFbxg4sN5"
      },
      "outputs": [],
      "source": [
        "hypercoast.nasa_earth_login()"
      ]
    },
    {
      "cell_type": "markdown",
      "metadata": {
        "id": "sQUbLm-44sN6"
      },
      "source": [
        "## Search for EMIT data\n",
        "\n",
        "Search for EMIT data programmatically. Specify the bounding box and time range of interest. Set `count=-1` to return all results or set `count=10` to return the first 10 results."
      ]
    },
    {
      "cell_type": "code",
      "execution_count": null,
      "metadata": {
        "id": "pDdDyit24sN7"
      },
      "outputs": [],
      "source": [
        "results, gdf = hypercoast.search_emit(\n",
        "    bbox=(-83, 25, -81, 28),\n",
        "    temporal=(\"2024-04-01\", \"2024-05-16\"),\n",
        "    count=10,  # use -1 to return all datasets\n",
        "    return_gdf=True,\n",
        ")"
      ]
    },
    {
      "cell_type": "markdown",
      "metadata": {
        "id": "yyWcCeZz4sN8"
      },
      "source": [
        "Plot the footprints of the returned datasets on a map."
      ]
    },
    {
      "cell_type": "code",
      "execution_count": null,
      "metadata": {
        "id": "Fcljtzvo4sN9"
      },
      "outputs": [],
      "source": [
        "gdf.explore()"
      ]
    },
    {
      "cell_type": "markdown",
      "metadata": {
        "id": "NvJmtmjD4sN9"
      },
      "source": [
        "Uncomment the following cell to download the first dataset from the search results. Note that the download may take some time."
      ]
    },
    {
      "cell_type": "code",
      "execution_count": null,
      "metadata": {
        "id": "hsvNWvET4sN-"
      },
      "outputs": [],
      "source": [
        "# hypercoast.download_emit(results[:1], out_dir=\"data\")"
      ]
    },
    {
      "cell_type": "markdown",
      "metadata": {
        "id": "NWsCT1uB4sN-"
      },
      "source": [
        "Search for EMIT data interactively. Specify pan and zoom to the area of interest. Specify the time range of interest from the search dialog, then click on the Search button."
      ]
    },
    {
      "cell_type": "code",
      "execution_count": null,
      "metadata": {
        "id": "k7swDreY4sN-"
      },
      "outputs": [],
      "source": [
        "m = hypercoast.Map(center=[30.0262, -90.1345], zoom=8)\n",
        "m.search_emit()\n",
        "m"
      ]
    },
    {
      "cell_type": "markdown",
      "metadata": {
        "id": "Iq2-jaCp4sN_"
      },
      "source": [
        "Uncomment the following cell to display the GeoDataFrame of the search results."
      ]
    },
    {
      "cell_type": "code",
      "execution_count": null,
      "metadata": {
        "id": "UNV3siAR4sN_"
      },
      "outputs": [],
      "source": [
        "# m._NASA_DATA_GDF.head()"
      ]
    },
    {
      "cell_type": "markdown",
      "metadata": {
        "id": "0IzxyK1a4sN_"
      },
      "source": [
        "Similarly, you can download the first dataset from the search results by uncommenting the following cell."
      ]
    },
    {
      "cell_type": "code",
      "execution_count": null,
      "metadata": {
        "id": "kyNPXr0f4sN_"
      },
      "outputs": [],
      "source": [
        "# hypercoast.download_emit(results[:1], out_dir=\"data\")"
      ]
    },
    {
      "cell_type": "markdown",
      "metadata": {
        "id": "DLjYD7vK4sOA"
      },
      "source": [
        "## Download a sample EMIT dataset\n",
        "\n",
        "Let's download a sample EMIT dataset for the demonstration."
      ]
    },
    {
      "cell_type": "code",
      "execution_count": null,
      "metadata": {
        "id": "xMwpvXle4sOA"
      },
      "outputs": [],
      "source": [
        "url = \"https://github.com/opengeos/datasets/releases/download/hypercoast/EMIT_L2A_RFL_001_20240404T161230_2409511_009.nc\"\n",
        "filepath = \"../examples/data/EMIT_L2A_RFL_001_20240404T161230_2409511_009.nc\"\n",
        "hypercoast.download_file(url, filepath, quiet=True)"
      ]
    },
    {
      "cell_type": "markdown",
      "metadata": {
        "id": "yfnwdquJ4sOA"
      },
      "source": [
        "## Read EMIT data\n",
        "\n",
        "Read the downloaded EMIT data and process it as an `xarray.Dataset`. Note that the dataset has 285 bands."
      ]
    },
    {
      "cell_type": "code",
      "execution_count": null,
      "metadata": {
        "id": "P5KbvGYs4sOB"
      },
      "outputs": [],
      "source": [
        "dataset = hypercoast.read_emit(filepath)\n",
        "# dataset"
      ]
    },
    {
      "cell_type": "markdown",
      "metadata": {
        "id": "NAmFLgWi4sOB"
      },
      "source": [
        "![](https://i.imgur.com/qn0B4fb.png)"
      ]
    },
    {
      "cell_type": "markdown",
      "metadata": {
        "id": "z6iZDq9u4sOB"
      },
      "source": [
        "## Visualize EMIT data\n",
        "\n",
        "Visualize the EMIT data on an interactive map. You can change the band combination and extract spectral profiles interactively. You can also export the spectral profiles as a CSV file."
      ]
    },
    {
      "cell_type": "code",
      "execution_count": null,
      "metadata": {
        "id": "vNqUO1Hj4sOC"
      },
      "outputs": [],
      "source": [
        "m = hypercoast.Map()\n",
        "m.add_basemap(\"SATELLITE\")\n",
        "m.add_emit(dataset, wavelengths=[1000, 600, 500], vmin=0, vmax=0.3, layer_name=\"EMIT\")\n",
        "m.add(\"spectral\")\n",
        "m"
      ]
    },
    {
      "cell_type": "markdown",
      "metadata": {
        "id": "2EddwXtp4sOC"
      },
      "source": [
        "![](https://i.imgur.com/6pceRUz.gif)"
      ]
    },
    {
      "cell_type": "markdown",
      "metadata": {
        "id": "20OAijut4sOC"
      },
      "source": [
        "## Create an image cube\n",
        "\n",
        "First, select a subset of the data to avoid nodata areas."
      ]
    },
    {
      "cell_type": "code",
      "execution_count": null,
      "metadata": {
        "id": "xGlcPbbb4sOC"
      },
      "outputs": [],
      "source": [
        "ds = dataset.sel(longitude=slice(-90.1482, -89.7321), latitude=slice(30.0225, 29.7451))"
      ]
    },
    {
      "cell_type": "markdown",
      "metadata": {
        "id": "-cgykDmb4sOC"
      },
      "source": [
        "Visualize the EMIT data in 3D with an RGB image overlaid on top of the 3D plot."
      ]
    },
    {
      "cell_type": "code",
      "execution_count": null,
      "metadata": {
        "id": "h8Kda9P34sOD"
      },
      "outputs": [],
      "source": [
        "p = hypercoast.image_cube(\n",
        "    ds,\n",
        "    variable=\"reflectance\",\n",
        "    cmap=\"jet\",\n",
        "    clim=(0, 0.4),\n",
        "    rgb_wavelengths=[1000, 700, 500],\n",
        "    rgb_gamma=2,\n",
        "    title=\"EMIT Reflectance\",\n",
        ")"
      ]
    },
    {
      "cell_type": "markdown",
      "metadata": {
        "id": "ikmXgmlv4sOD"
      },
      "source": [
        "Uncomment the following cell to create an image cube. Note that this function does not work in the Google Colab environment."
      ]
    },
    {
      "cell_type": "code",
      "execution_count": null,
      "metadata": {
        "id": "gfAx4_rD4sOD"
      },
      "outputs": [],
      "source": [
        "# p.show()"
      ]
    },
    {
      "cell_type": "markdown",
      "metadata": {
        "id": "FiH7O9Xn4sOE"
      },
      "source": [
        "![](https://i.imgur.com/CvE9PN9.gif)"
      ]
    },
    {
      "cell_type": "markdown",
      "metadata": {
        "id": "fKmqqFCb4sOE"
      },
      "source": [
        "## Interactive slicing\n",
        "\n",
        "First, select a subset of the data for demonstration purposes."
      ]
    },
    {
      "cell_type": "code",
      "execution_count": null,
      "metadata": {
        "id": "32EYcHtc4sOE"
      },
      "outputs": [],
      "source": [
        "ds = dataset.sel(longitude=slice(-90.05, -89.99), latitude=slice(30.00, 29.93))"
      ]
    },
    {
      "cell_type": "markdown",
      "metadata": {
        "id": "jblUCYoY4sOE"
      },
      "source": [
        "Drag the plane up and down to slice the data in 3D."
      ]
    },
    {
      "cell_type": "code",
      "execution_count": null,
      "metadata": {
        "id": "aCPl73344sOF"
      },
      "outputs": [],
      "source": [
        "p = hypercoast.image_cube(\n",
        "    ds,\n",
        "    variable=\"reflectance\",\n",
        "    cmap=\"jet\",\n",
        "    clim=(0, 0.5),\n",
        "    rgb_wavelengths=[1000, 700, 500],\n",
        "    rgb_gamma=2,\n",
        "    title=\"EMIT Reflectance\",\n",
        "    widget=\"plane\",\n",
        ")\n",
        "p.add_text(\"Band slicing\", position=\"upper_right\", font_size=14)"
      ]
    },
    {
      "cell_type": "markdown",
      "metadata": {
        "id": "GO1LDOKY4sOF"
      },
      "source": [
        "Uncomment the following cell to display the interactive slicing widget. Note that this function does not work in the Google Colab environment."
      ]
    },
    {
      "cell_type": "code",
      "execution_count": null,
      "metadata": {
        "id": "qlsD26O44sOF"
      },
      "outputs": [],
      "source": [
        "# p.show()"
      ]
    },
    {
      "cell_type": "markdown",
      "metadata": {
        "id": "L3dAW_qm4sOM"
      },
      "source": [
        "![](https://i.imgur.com/msK1liO.gif)"
      ]
    },
    {
      "cell_type": "markdown",
      "metadata": {
        "id": "TeM3sfEm4sOM"
      },
      "source": [
        "## Interactive thresholding\n",
        "\n",
        "Drag the threshold slider to threshold the data in 3D."
      ]
    },
    {
      "cell_type": "code",
      "execution_count": null,
      "metadata": {
        "id": "2wWA2iwp4sOM"
      },
      "outputs": [],
      "source": [
        "p = hypercoast.image_cube(\n",
        "    ds,\n",
        "    variable=\"reflectance\",\n",
        "    cmap=\"jet\",\n",
        "    clim=(0, 0.5),\n",
        "    rgb_wavelengths=[1000, 700, 500],\n",
        "    rgb_gamma=2,\n",
        "    title=\"EMIT Reflectance\",\n",
        "    widget=\"threshold\",\n",
        ")\n",
        "p.add_text(\"Thresholding\", position=\"upper_right\", font_size=14)"
      ]
    },
    {
      "cell_type": "markdown",
      "metadata": {
        "id": "J3F6UFGN4sON"
      },
      "source": [
        "Uncomment the following cell to display the thresholded data. Note that this function does not work in the Google Colab environment."
      ]
    },
    {
      "cell_type": "code",
      "execution_count": null,
      "metadata": {
        "id": "4ELKRZT44sON"
      },
      "outputs": [],
      "source": [
        "p.show()"
      ]
    },
    {
      "cell_type": "markdown",
      "metadata": {
        "id": "DzaoiXWW4sON"
      },
      "source": [
        "![](https://i.imgur.com/TPd20Tn.gif)"
      ]
    }
  ],
  "metadata": {
    "kernelspec": {
      "display_name": "Python 3",
      "language": "python",
      "name": "python3"
    },
    "language_info": {
      "codemirror_mode": {
        "name": "ipython",
        "version": 3
      },
      "file_extension": ".py",
      "mimetype": "text/x-python",
      "name": "python",
      "nbconvert_exporter": "python",
      "pygments_lexer": "ipython3",
      "version": "3.11.8"
    },
    "colab": {
      "provenance": [],
      "include_colab_link": true
    }
  },
  "nbformat": 4,
  "nbformat_minor": 0
}